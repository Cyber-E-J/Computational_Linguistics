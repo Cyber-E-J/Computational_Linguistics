{
 "cells": [
  {
   "cell_type": "markdown",
   "id": "military-pathology",
   "metadata": {},
   "source": [
    "## HFST\n",
    "HFST is system in the family of languages and applications that include\n",
    "also XFST, Foma, and SFST.  HFST can be used in a nice command line interface, which uses\n",
    "Karttunen syntax for extended regular expressions.  In this mode it is similar to XFST and Foma.\n",
    "HFST in python allows us to create machines\n",
    "using Karttunen syntax, and manipulate them in Python.\n",
    "\n",
    "FST languages are used to describe the lexicons, sound systems, and spelling systems of natural languages.  "
   ]
  },
  {
   "cell_type": "markdown",
   "id": "identical-workplace",
   "metadata": {},
   "source": [
    "I had better luck with the `hfst_dev` branch than with `hfst`.  See the installation notes below. Start with `jupyter lab lecture9_2023.ipynb`."
   ]
  },
  {
   "cell_type": "markdown",
   "id": "c5e302f2-4cc1-4c01-a9d0-c65298181928",
   "metadata": {},
   "source": [
    "## Startup in my environment\n",
    "```\n",
    "cd /local/teach/cl23/L/L9\n",
    "source /local/sys/python/cl23/bin/activate\n",
    "jupyter lab hfst-howto.ipynb\n",
    "```"
   ]
  },
  {
   "cell_type": "code",
   "execution_count": 1,
   "id": "e5948271-62ad-484f-bed2-9de05ed4a00a",
   "metadata": {},
   "outputs": [],
   "source": [
    "import hfst_dev as hfst\n",
    "import graphviz"
   ]
  },
  {
   "cell_type": "code",
   "execution_count": 2,
   "id": "round-sampling",
   "metadata": {},
   "outputs": [
    {
     "name": "stdout",
     "output_type": "stream",
     "text": [
      "0\t1\ta\tc\t0\n",
      "1\t0\n",
      "\n"
     ]
    }
   ],
   "source": [
    "r1 = hfst.regex('a:b')\n",
    "r2 = hfst.regex('b:c')\n",
    "r1.compose(r2)\n",
    "print(r1)"
   ]
  },
  {
   "cell_type": "code",
   "execution_count": 12,
   "id": "5ba326f3",
   "metadata": {},
   "outputs": [],
   "source": [
    "import os\n",
    "os.environ[\"PATH\"] += os.pathsep + '/Users/erlich_jaso/opt/anaconda3/envs/CompLing/lib/python3.7/site-packages/graphviz/'"
   ]
  },
  {
   "cell_type": "code",
   "execution_count": 13,
   "id": "13ffadb4-ee99-480e-a967-8541ca9b884d",
   "metadata": {},
   "outputs": [
    {
     "ename": "ExecutableNotFound",
     "evalue": "failed to execute PosixPath('dot'), make sure the Graphviz executables are on your systems' PATH",
     "output_type": "error",
     "traceback": [
      "\u001b[0;31m---------------------------------------------------------------------------\u001b[0m",
      "\u001b[0;31mFileNotFoundError\u001b[0m                         Traceback (most recent call last)",
      "\u001b[0;32m~/opt/anaconda3/envs/CompLing/lib/python3.7/site-packages/graphviz/backend/execute.py\u001b[0m in \u001b[0;36mrun_check\u001b[0;34m(cmd, input_lines, encoding, quiet, **kwargs)\u001b[0m\n\u001b[1;32m     78\u001b[0m                 \u001b[0mkwargs\u001b[0m\u001b[0;34m[\u001b[0m\u001b[0;34m'stdout'\u001b[0m\u001b[0;34m]\u001b[0m \u001b[0;34m=\u001b[0m \u001b[0mkwargs\u001b[0m\u001b[0;34m[\u001b[0m\u001b[0;34m'stderr'\u001b[0m\u001b[0;34m]\u001b[0m \u001b[0;34m=\u001b[0m \u001b[0msubprocess\u001b[0m\u001b[0;34m.\u001b[0m\u001b[0mPIPE\u001b[0m\u001b[0;34m\u001b[0m\u001b[0;34m\u001b[0m\u001b[0m\n\u001b[0;32m---> 79\u001b[0;31m             \u001b[0mproc\u001b[0m \u001b[0;34m=\u001b[0m \u001b[0m_run_input_lines\u001b[0m\u001b[0;34m(\u001b[0m\u001b[0mcmd\u001b[0m\u001b[0;34m,\u001b[0m \u001b[0minput_lines\u001b[0m\u001b[0;34m,\u001b[0m \u001b[0mkwargs\u001b[0m\u001b[0;34m=\u001b[0m\u001b[0mkwargs\u001b[0m\u001b[0;34m)\u001b[0m\u001b[0;34m\u001b[0m\u001b[0;34m\u001b[0m\u001b[0m\n\u001b[0m\u001b[1;32m     80\u001b[0m         \u001b[0;32melse\u001b[0m\u001b[0;34m:\u001b[0m\u001b[0;34m\u001b[0m\u001b[0;34m\u001b[0m\u001b[0m\n",
      "\u001b[0;32m~/opt/anaconda3/envs/CompLing/lib/python3.7/site-packages/graphviz/backend/execute.py\u001b[0m in \u001b[0;36m_run_input_lines\u001b[0;34m(cmd, input_lines, kwargs)\u001b[0m\n\u001b[1;32m     98\u001b[0m \u001b[0;32mdef\u001b[0m \u001b[0m_run_input_lines\u001b[0m\u001b[0;34m(\u001b[0m\u001b[0mcmd\u001b[0m\u001b[0;34m,\u001b[0m \u001b[0minput_lines\u001b[0m\u001b[0;34m,\u001b[0m \u001b[0;34m*\u001b[0m\u001b[0;34m,\u001b[0m \u001b[0mkwargs\u001b[0m\u001b[0;34m)\u001b[0m\u001b[0;34m:\u001b[0m\u001b[0;34m\u001b[0m\u001b[0;34m\u001b[0m\u001b[0m\n\u001b[0;32m---> 99\u001b[0;31m     \u001b[0mpopen\u001b[0m \u001b[0;34m=\u001b[0m \u001b[0msubprocess\u001b[0m\u001b[0;34m.\u001b[0m\u001b[0mPopen\u001b[0m\u001b[0;34m(\u001b[0m\u001b[0mcmd\u001b[0m\u001b[0;34m,\u001b[0m \u001b[0mstdin\u001b[0m\u001b[0;34m=\u001b[0m\u001b[0msubprocess\u001b[0m\u001b[0;34m.\u001b[0m\u001b[0mPIPE\u001b[0m\u001b[0;34m,\u001b[0m \u001b[0;34m**\u001b[0m\u001b[0mkwargs\u001b[0m\u001b[0;34m)\u001b[0m\u001b[0;34m\u001b[0m\u001b[0;34m\u001b[0m\u001b[0m\n\u001b[0m\u001b[1;32m    100\u001b[0m \u001b[0;34m\u001b[0m\u001b[0m\n",
      "\u001b[0;32m~/opt/anaconda3/envs/CompLing/lib/python3.7/subprocess.py\u001b[0m in \u001b[0;36m__init__\u001b[0;34m(self, args, bufsize, executable, stdin, stdout, stderr, preexec_fn, close_fds, shell, cwd, env, universal_newlines, startupinfo, creationflags, restore_signals, start_new_session, pass_fds, encoding, errors, text)\u001b[0m\n\u001b[1;32m    799\u001b[0m                                 \u001b[0merrread\u001b[0m\u001b[0;34m,\u001b[0m \u001b[0merrwrite\u001b[0m\u001b[0;34m,\u001b[0m\u001b[0;34m\u001b[0m\u001b[0;34m\u001b[0m\u001b[0m\n\u001b[0;32m--> 800\u001b[0;31m                                 restore_signals, start_new_session)\n\u001b[0m\u001b[1;32m    801\u001b[0m         \u001b[0;32mexcept\u001b[0m\u001b[0;34m:\u001b[0m\u001b[0;34m\u001b[0m\u001b[0;34m\u001b[0m\u001b[0m\n",
      "\u001b[0;32m~/opt/anaconda3/envs/CompLing/lib/python3.7/subprocess.py\u001b[0m in \u001b[0;36m_execute_child\u001b[0;34m(self, args, executable, preexec_fn, close_fds, pass_fds, cwd, env, startupinfo, creationflags, shell, p2cread, p2cwrite, c2pread, c2pwrite, errread, errwrite, restore_signals, start_new_session)\u001b[0m\n\u001b[1;32m   1550\u001b[0m                             \u001b[0merr_msg\u001b[0m \u001b[0;34m+=\u001b[0m \u001b[0;34m': '\u001b[0m \u001b[0;34m+\u001b[0m \u001b[0mrepr\u001b[0m\u001b[0;34m(\u001b[0m\u001b[0merr_filename\u001b[0m\u001b[0;34m)\u001b[0m\u001b[0;34m\u001b[0m\u001b[0;34m\u001b[0m\u001b[0m\n\u001b[0;32m-> 1551\u001b[0;31m                     \u001b[0;32mraise\u001b[0m \u001b[0mchild_exception_type\u001b[0m\u001b[0;34m(\u001b[0m\u001b[0merrno_num\u001b[0m\u001b[0;34m,\u001b[0m \u001b[0merr_msg\u001b[0m\u001b[0;34m,\u001b[0m \u001b[0merr_filename\u001b[0m\u001b[0;34m)\u001b[0m\u001b[0;34m\u001b[0m\u001b[0;34m\u001b[0m\u001b[0m\n\u001b[0m\u001b[1;32m   1552\u001b[0m                 \u001b[0;32mraise\u001b[0m \u001b[0mchild_exception_type\u001b[0m\u001b[0;34m(\u001b[0m\u001b[0merr_msg\u001b[0m\u001b[0;34m)\u001b[0m\u001b[0;34m\u001b[0m\u001b[0;34m\u001b[0m\u001b[0m\n",
      "\u001b[0;31mFileNotFoundError\u001b[0m: [Errno 2] No such file or directory: PosixPath('dot'): PosixPath('dot')",
      "\nThe above exception was the direct cause of the following exception:\n",
      "\u001b[0;31mExecutableNotFound\u001b[0m                        Traceback (most recent call last)",
      "\u001b[0;32m~/opt/anaconda3/envs/CompLing/lib/python3.7/site-packages/IPython/core/formatters.py\u001b[0m in \u001b[0;36m__call__\u001b[0;34m(self, obj, include, exclude)\u001b[0m\n\u001b[1;32m    968\u001b[0m \u001b[0;34m\u001b[0m\u001b[0m\n\u001b[1;32m    969\u001b[0m             \u001b[0;32mif\u001b[0m \u001b[0mmethod\u001b[0m \u001b[0;32mis\u001b[0m \u001b[0;32mnot\u001b[0m \u001b[0;32mNone\u001b[0m\u001b[0;34m:\u001b[0m\u001b[0;34m\u001b[0m\u001b[0;34m\u001b[0m\u001b[0m\n\u001b[0;32m--> 970\u001b[0;31m                 \u001b[0;32mreturn\u001b[0m \u001b[0mmethod\u001b[0m\u001b[0;34m(\u001b[0m\u001b[0minclude\u001b[0m\u001b[0;34m=\u001b[0m\u001b[0minclude\u001b[0m\u001b[0;34m,\u001b[0m \u001b[0mexclude\u001b[0m\u001b[0;34m=\u001b[0m\u001b[0mexclude\u001b[0m\u001b[0;34m)\u001b[0m\u001b[0;34m\u001b[0m\u001b[0;34m\u001b[0m\u001b[0m\n\u001b[0m\u001b[1;32m    971\u001b[0m             \u001b[0;32mreturn\u001b[0m \u001b[0;32mNone\u001b[0m\u001b[0;34m\u001b[0m\u001b[0;34m\u001b[0m\u001b[0m\n\u001b[1;32m    972\u001b[0m         \u001b[0;32melse\u001b[0m\u001b[0;34m:\u001b[0m\u001b[0;34m\u001b[0m\u001b[0;34m\u001b[0m\u001b[0m\n",
      "\u001b[0;32m~/opt/anaconda3/envs/CompLing/lib/python3.7/site-packages/graphviz/jupyter_integration.py\u001b[0m in \u001b[0;36m_repr_mimebundle_\u001b[0;34m(self, include, exclude, **_)\u001b[0m\n\u001b[1;32m     97\u001b[0m         \u001b[0minclude\u001b[0m \u001b[0;34m-=\u001b[0m \u001b[0mset\u001b[0m\u001b[0;34m(\u001b[0m\u001b[0mexclude\u001b[0m \u001b[0;32mor\u001b[0m \u001b[0;34m[\u001b[0m\u001b[0;34m]\u001b[0m\u001b[0;34m)\u001b[0m\u001b[0;34m\u001b[0m\u001b[0;34m\u001b[0m\u001b[0m\n\u001b[1;32m     98\u001b[0m         return {mimetype: getattr(self, method_name)()\n\u001b[0;32m---> 99\u001b[0;31m                 \u001b[0;32mfor\u001b[0m \u001b[0mmimetype\u001b[0m\u001b[0;34m,\u001b[0m \u001b[0mmethod_name\u001b[0m \u001b[0;32min\u001b[0m \u001b[0mMIME_TYPES\u001b[0m\u001b[0;34m.\u001b[0m\u001b[0mitems\u001b[0m\u001b[0;34m(\u001b[0m\u001b[0;34m)\u001b[0m\u001b[0;34m\u001b[0m\u001b[0;34m\u001b[0m\u001b[0m\n\u001b[0m\u001b[1;32m    100\u001b[0m                 if mimetype in include}\n\u001b[1;32m    101\u001b[0m \u001b[0;34m\u001b[0m\u001b[0m\n",
      "\u001b[0;32m~/opt/anaconda3/envs/CompLing/lib/python3.7/site-packages/graphviz/jupyter_integration.py\u001b[0m in \u001b[0;36m<dictcomp>\u001b[0;34m(.0)\u001b[0m\n\u001b[1;32m     98\u001b[0m         return {mimetype: getattr(self, method_name)()\n\u001b[1;32m     99\u001b[0m                 \u001b[0;32mfor\u001b[0m \u001b[0mmimetype\u001b[0m\u001b[0;34m,\u001b[0m \u001b[0mmethod_name\u001b[0m \u001b[0;32min\u001b[0m \u001b[0mMIME_TYPES\u001b[0m\u001b[0;34m.\u001b[0m\u001b[0mitems\u001b[0m\u001b[0;34m(\u001b[0m\u001b[0;34m)\u001b[0m\u001b[0;34m\u001b[0m\u001b[0;34m\u001b[0m\u001b[0m\n\u001b[0;32m--> 100\u001b[0;31m                 if mimetype in include}\n\u001b[0m\u001b[1;32m    101\u001b[0m \u001b[0;34m\u001b[0m\u001b[0m\n\u001b[1;32m    102\u001b[0m     \u001b[0;32mdef\u001b[0m \u001b[0m_repr_image_jpeg\u001b[0m\u001b[0;34m(\u001b[0m\u001b[0mself\u001b[0m\u001b[0;34m)\u001b[0m \u001b[0;34m->\u001b[0m \u001b[0mbytes\u001b[0m\u001b[0;34m:\u001b[0m\u001b[0;34m\u001b[0m\u001b[0;34m\u001b[0m\u001b[0m\n",
      "\u001b[0;32m~/opt/anaconda3/envs/CompLing/lib/python3.7/site-packages/graphviz/jupyter_integration.py\u001b[0m in \u001b[0;36m_repr_image_svg_xml\u001b[0;34m(self)\u001b[0m\n\u001b[1;32m    110\u001b[0m     \u001b[0;32mdef\u001b[0m \u001b[0m_repr_image_svg_xml\u001b[0m\u001b[0;34m(\u001b[0m\u001b[0mself\u001b[0m\u001b[0;34m)\u001b[0m \u001b[0;34m->\u001b[0m \u001b[0mstr\u001b[0m\u001b[0;34m:\u001b[0m\u001b[0;34m\u001b[0m\u001b[0;34m\u001b[0m\u001b[0m\n\u001b[1;32m    111\u001b[0m         \u001b[0;34m\"\"\"Return the rendered graph as SVG string.\"\"\"\u001b[0m\u001b[0;34m\u001b[0m\u001b[0;34m\u001b[0m\u001b[0m\n\u001b[0;32m--> 112\u001b[0;31m         \u001b[0;32mreturn\u001b[0m \u001b[0mself\u001b[0m\u001b[0;34m.\u001b[0m\u001b[0mpipe\u001b[0m\u001b[0;34m(\u001b[0m\u001b[0mformat\u001b[0m\u001b[0;34m=\u001b[0m\u001b[0;34m'svg'\u001b[0m\u001b[0;34m,\u001b[0m \u001b[0mencoding\u001b[0m\u001b[0;34m=\u001b[0m\u001b[0mSVG_ENCODING\u001b[0m\u001b[0;34m)\u001b[0m\u001b[0;34m\u001b[0m\u001b[0;34m\u001b[0m\u001b[0m\n\u001b[0m",
      "\u001b[0;32m~/opt/anaconda3/envs/CompLing/lib/python3.7/site-packages/graphviz/piping.py\u001b[0m in \u001b[0;36mpipe\u001b[0;34m(self, format, renderer, formatter, neato_no_op, quiet, engine, encoding)\u001b[0m\n\u001b[1;32m    108\u001b[0m                                  \u001b[0mquiet\u001b[0m\u001b[0;34m=\u001b[0m\u001b[0mquiet\u001b[0m\u001b[0;34m,\u001b[0m\u001b[0;34m\u001b[0m\u001b[0;34m\u001b[0m\u001b[0m\n\u001b[1;32m    109\u001b[0m                                  \u001b[0mengine\u001b[0m\u001b[0;34m=\u001b[0m\u001b[0mengine\u001b[0m\u001b[0;34m,\u001b[0m\u001b[0;34m\u001b[0m\u001b[0;34m\u001b[0m\u001b[0m\n\u001b[0;32m--> 110\u001b[0;31m                                  encoding=encoding)\n\u001b[0m\u001b[1;32m    111\u001b[0m \u001b[0;34m\u001b[0m\u001b[0m\n\u001b[1;32m    112\u001b[0m     \u001b[0;34m@\u001b[0m\u001b[0m_tools\u001b[0m\u001b[0;34m.\u001b[0m\u001b[0mdeprecate_positional_args\u001b[0m\u001b[0;34m(\u001b[0m\u001b[0msupported_number\u001b[0m\u001b[0;34m=\u001b[0m\u001b[0;36m2\u001b[0m\u001b[0;34m)\u001b[0m\u001b[0;34m\u001b[0m\u001b[0;34m\u001b[0m\u001b[0m\n",
      "\u001b[0;32m~/opt/anaconda3/envs/CompLing/lib/python3.7/site-packages/graphviz/_tools.py\u001b[0m in \u001b[0;36mwrapper\u001b[0;34m(*args, **kwargs)\u001b[0m\n\u001b[1;32m    169\u001b[0m                               category=category)\n\u001b[1;32m    170\u001b[0m \u001b[0;34m\u001b[0m\u001b[0m\n\u001b[0;32m--> 171\u001b[0;31m             \u001b[0;32mreturn\u001b[0m \u001b[0mfunc\u001b[0m\u001b[0;34m(\u001b[0m\u001b[0;34m*\u001b[0m\u001b[0margs\u001b[0m\u001b[0;34m,\u001b[0m \u001b[0;34m**\u001b[0m\u001b[0mkwargs\u001b[0m\u001b[0;34m)\u001b[0m\u001b[0;34m\u001b[0m\u001b[0;34m\u001b[0m\u001b[0m\n\u001b[0m\u001b[1;32m    172\u001b[0m \u001b[0;34m\u001b[0m\u001b[0m\n\u001b[1;32m    173\u001b[0m         \u001b[0;32mreturn\u001b[0m \u001b[0mwrapper\u001b[0m\u001b[0;34m\u001b[0m\u001b[0;34m\u001b[0m\u001b[0m\n",
      "\u001b[0;32m~/opt/anaconda3/envs/CompLing/lib/python3.7/site-packages/graphviz/piping.py\u001b[0m in \u001b[0;36m_pipe_legacy\u001b[0;34m(self, format, renderer, formatter, neato_no_op, quiet, engine, encoding)\u001b[0m\n\u001b[1;32m    125\u001b[0m                                  \u001b[0mquiet\u001b[0m\u001b[0;34m=\u001b[0m\u001b[0mquiet\u001b[0m\u001b[0;34m,\u001b[0m\u001b[0;34m\u001b[0m\u001b[0;34m\u001b[0m\u001b[0m\n\u001b[1;32m    126\u001b[0m                                  \u001b[0mengine\u001b[0m\u001b[0;34m=\u001b[0m\u001b[0mengine\u001b[0m\u001b[0;34m,\u001b[0m\u001b[0;34m\u001b[0m\u001b[0;34m\u001b[0m\u001b[0m\n\u001b[0;32m--> 127\u001b[0;31m                                  encoding=encoding)\n\u001b[0m\u001b[1;32m    128\u001b[0m \u001b[0;34m\u001b[0m\u001b[0m\n\u001b[1;32m    129\u001b[0m     def _pipe_future(self, format: typing.Optional[str] = None, *,\n",
      "\u001b[0;32m~/opt/anaconda3/envs/CompLing/lib/python3.7/site-packages/graphviz/piping.py\u001b[0m in \u001b[0;36m_pipe_future\u001b[0;34m(self, format, renderer, formatter, neato_no_op, quiet, engine, encoding)\u001b[0m\n\u001b[1;32m    147\u001b[0m             \u001b[0;32mif\u001b[0m \u001b[0mcodecs\u001b[0m\u001b[0;34m.\u001b[0m\u001b[0mlookup\u001b[0m\u001b[0;34m(\u001b[0m\u001b[0mencoding\u001b[0m\u001b[0;34m)\u001b[0m \u001b[0;32mis\u001b[0m \u001b[0mcodecs\u001b[0m\u001b[0;34m.\u001b[0m\u001b[0mlookup\u001b[0m\u001b[0;34m(\u001b[0m\u001b[0mself\u001b[0m\u001b[0;34m.\u001b[0m\u001b[0mencoding\u001b[0m\u001b[0;34m)\u001b[0m\u001b[0;34m:\u001b[0m\u001b[0;34m\u001b[0m\u001b[0;34m\u001b[0m\u001b[0m\n\u001b[1;32m    148\u001b[0m                 \u001b[0;31m# common case: both stdin and stdout need the same encoding\u001b[0m\u001b[0;34m\u001b[0m\u001b[0;34m\u001b[0m\u001b[0;34m\u001b[0m\u001b[0m\n\u001b[0;32m--> 149\u001b[0;31m                 \u001b[0;32mreturn\u001b[0m \u001b[0mself\u001b[0m\u001b[0;34m.\u001b[0m\u001b[0m_pipe_lines_string\u001b[0m\u001b[0;34m(\u001b[0m\u001b[0;34m*\u001b[0m\u001b[0margs\u001b[0m\u001b[0;34m,\u001b[0m \u001b[0mencoding\u001b[0m\u001b[0;34m=\u001b[0m\u001b[0mencoding\u001b[0m\u001b[0;34m,\u001b[0m \u001b[0;34m**\u001b[0m\u001b[0mkwargs\u001b[0m\u001b[0;34m)\u001b[0m\u001b[0;34m\u001b[0m\u001b[0;34m\u001b[0m\u001b[0m\n\u001b[0m\u001b[1;32m    150\u001b[0m             \u001b[0;32mtry\u001b[0m\u001b[0;34m:\u001b[0m\u001b[0;34m\u001b[0m\u001b[0;34m\u001b[0m\u001b[0m\n\u001b[1;32m    151\u001b[0m                 \u001b[0mraw\u001b[0m \u001b[0;34m=\u001b[0m \u001b[0mself\u001b[0m\u001b[0;34m.\u001b[0m\u001b[0m_pipe_lines\u001b[0m\u001b[0;34m(\u001b[0m\u001b[0;34m*\u001b[0m\u001b[0margs\u001b[0m\u001b[0;34m,\u001b[0m \u001b[0minput_encoding\u001b[0m\u001b[0;34m=\u001b[0m\u001b[0mself\u001b[0m\u001b[0;34m.\u001b[0m\u001b[0mencoding\u001b[0m\u001b[0;34m,\u001b[0m \u001b[0;34m**\u001b[0m\u001b[0mkwargs\u001b[0m\u001b[0;34m)\u001b[0m\u001b[0;34m\u001b[0m\u001b[0;34m\u001b[0m\u001b[0m\n",
      "\u001b[0;32m~/opt/anaconda3/envs/CompLing/lib/python3.7/site-packages/graphviz/backend/piping.py\u001b[0m in \u001b[0;36mpipe_lines_string\u001b[0;34m(engine, format, input_lines, encoding, renderer, formatter, neato_no_op, quiet)\u001b[0m\n\u001b[1;32m    210\u001b[0m     \u001b[0mkwargs\u001b[0m \u001b[0;34m=\u001b[0m \u001b[0;34m{\u001b[0m\u001b[0;34m'input_lines'\u001b[0m\u001b[0;34m:\u001b[0m \u001b[0minput_lines\u001b[0m\u001b[0;34m,\u001b[0m \u001b[0;34m'encoding'\u001b[0m\u001b[0;34m:\u001b[0m \u001b[0mencoding\u001b[0m\u001b[0;34m}\u001b[0m\u001b[0;34m\u001b[0m\u001b[0;34m\u001b[0m\u001b[0m\n\u001b[1;32m    211\u001b[0m \u001b[0;34m\u001b[0m\u001b[0m\n\u001b[0;32m--> 212\u001b[0;31m     \u001b[0mproc\u001b[0m \u001b[0;34m=\u001b[0m \u001b[0mexecute\u001b[0m\u001b[0;34m.\u001b[0m\u001b[0mrun_check\u001b[0m\u001b[0;34m(\u001b[0m\u001b[0mcmd\u001b[0m\u001b[0;34m,\u001b[0m \u001b[0mcapture_output\u001b[0m\u001b[0;34m=\u001b[0m\u001b[0;32mTrue\u001b[0m\u001b[0;34m,\u001b[0m \u001b[0mquiet\u001b[0m\u001b[0;34m=\u001b[0m\u001b[0mquiet\u001b[0m\u001b[0;34m,\u001b[0m \u001b[0;34m**\u001b[0m\u001b[0mkwargs\u001b[0m\u001b[0;34m)\u001b[0m\u001b[0;34m\u001b[0m\u001b[0;34m\u001b[0m\u001b[0m\n\u001b[0m\u001b[1;32m    213\u001b[0m     \u001b[0;32mreturn\u001b[0m \u001b[0mproc\u001b[0m\u001b[0;34m.\u001b[0m\u001b[0mstdout\u001b[0m\u001b[0;34m\u001b[0m\u001b[0;34m\u001b[0m\u001b[0m\n",
      "\u001b[0;32m~/opt/anaconda3/envs/CompLing/lib/python3.7/site-packages/graphviz/backend/execute.py\u001b[0m in \u001b[0;36mrun_check\u001b[0;34m(cmd, input_lines, encoding, quiet, **kwargs)\u001b[0m\n\u001b[1;32m     82\u001b[0m     \u001b[0;32mexcept\u001b[0m \u001b[0mOSError\u001b[0m \u001b[0;32mas\u001b[0m \u001b[0me\u001b[0m\u001b[0;34m:\u001b[0m\u001b[0;34m\u001b[0m\u001b[0;34m\u001b[0m\u001b[0m\n\u001b[1;32m     83\u001b[0m         \u001b[0;32mif\u001b[0m \u001b[0me\u001b[0m\u001b[0;34m.\u001b[0m\u001b[0merrno\u001b[0m \u001b[0;34m==\u001b[0m \u001b[0merrno\u001b[0m\u001b[0;34m.\u001b[0m\u001b[0mENOENT\u001b[0m\u001b[0;34m:\u001b[0m\u001b[0;34m\u001b[0m\u001b[0;34m\u001b[0m\u001b[0m\n\u001b[0;32m---> 84\u001b[0;31m             \u001b[0;32mraise\u001b[0m \u001b[0mExecutableNotFound\u001b[0m\u001b[0;34m(\u001b[0m\u001b[0mcmd\u001b[0m\u001b[0;34m)\u001b[0m \u001b[0;32mfrom\u001b[0m \u001b[0me\u001b[0m\u001b[0;34m\u001b[0m\u001b[0;34m\u001b[0m\u001b[0m\n\u001b[0m\u001b[1;32m     85\u001b[0m         \u001b[0;32mraise\u001b[0m\u001b[0;34m\u001b[0m\u001b[0;34m\u001b[0m\u001b[0m\n\u001b[1;32m     86\u001b[0m \u001b[0;34m\u001b[0m\u001b[0m\n",
      "\u001b[0;31mExecutableNotFound\u001b[0m: failed to execute PosixPath('dot'), make sure the Graphviz executables are on your systems' PATH"
     ]
    },
    {
     "data": {
      "text/plain": [
       "<graphviz.sources.Source at 0x7fd488f73d90>"
      ]
     },
     "execution_count": 13,
     "metadata": {},
     "output_type": "execute_result"
    }
   ],
   "source": [
    "r1.view()"
   ]
  },
  {
   "cell_type": "code",
   "execution_count": 3,
   "id": "later-shoot",
   "metadata": {},
   "outputs": [
    {
     "name": "stdout",
     "output_type": "stream",
     "text": [
      "0\t1\ta\ta\t0\n",
      "1\t2\tb\tb\t0\n",
      "2\t0\n",
      "\n"
     ]
    }
   ],
   "source": [
    "x1 = hfst.regex('a b+')\n",
    "x2 = hfst.regex('a+ b')\n",
    "x1.intersect(x2)\n",
    "print(x1)"
   ]
  },
  {
   "cell_type": "code",
   "execution_count": 4,
   "id": "impaired-textbook",
   "metadata": {},
   "outputs": [
    {
     "data": {
      "text/plain": [
       "libhfst_dev.HfstTransducer"
      ]
     },
     "execution_count": 4,
     "metadata": {},
     "output_type": "execute_result"
    }
   ],
   "source": [
    "type(x1)"
   ]
  },
  {
   "cell_type": "code",
   "execution_count": 5,
   "id": "micro-banana",
   "metadata": {},
   "outputs": [
    {
     "data": {
      "image/svg+xml": "<?xml version=\"1.0\" encoding=\"UTF-8\" standalone=\"no\"?>\n<!DOCTYPE svg PUBLIC \"-//W3C//DTD SVG 1.1//EN\"\n \"http://www.w3.org/Graphics/SVG/1.1/DTD/svg11.dtd\">\n<!-- Generated by graphviz version 7.0.1 (20221109.1506)\n -->\n<!-- Title: H Pages: 1 -->\n<svg width=\"231pt\" height=\"60pt\"\n viewBox=\"0.00 0.00 231.19 60.20\" xmlns=\"http://www.w3.org/2000/svg\" xmlns:xlink=\"http://www.w3.org/1999/xlink\">\n<g id=\"graph0\" class=\"graph\" transform=\"scale(1 1) rotate(0) translate(4 56.2)\">\n<title>H</title>\n<polygon fill=\"white\" stroke=\"none\" points=\"-4,4 -4,-56.2 227.19,-56.2 227.19,4 -4,4\"/>\n<!-- q0 -->\n<g id=\"node1\" class=\"node\">\n<title>q0</title>\n<ellipse fill=\"yellow\" stroke=\"black\" cx=\"19.5\" cy=\"-26.1\" rx=\"19.5\" ry=\"19.5\"/>\n<text text-anchor=\"middle\" x=\"19.5\" y=\"-22.4\" font-family=\"Times,serif\" font-size=\"14.00\">q0</text>\n</g>\n<!-- q1 -->\n<g id=\"node2\" class=\"node\">\n<title>q1</title>\n<ellipse fill=\"yellow\" stroke=\"black\" cx=\"104.49\" cy=\"-26.1\" rx=\"19.5\" ry=\"19.5\"/>\n<text text-anchor=\"middle\" x=\"104.49\" y=\"-22.4\" font-family=\"Times,serif\" font-size=\"14.00\">q1</text>\n</g>\n<!-- q0&#45;&gt;q1 -->\n<g id=\"edge1\" class=\"edge\">\n<title>q0&#45;&gt;q1</title>\n<path fill=\"none\" stroke=\"black\" d=\"M39.33,-26.1C49.41,-26.1 62.07,-26.1 73.47,-26.1\"/>\n<polygon fill=\"black\" stroke=\"black\" points=\"73.22,-29.6 83.22,-26.1 73.22,-22.6 73.22,-29.6\"/>\n<text text-anchor=\"middle\" x=\"62\" y=\"-29.9\" font-family=\"Times,serif\" font-size=\"14.00\">a </text>\n</g>\n<!-- q2 -->\n<g id=\"node3\" class=\"node\">\n<title>q2</title>\n<ellipse fill=\"yellow\" stroke=\"black\" cx=\"197.09\" cy=\"-26.1\" rx=\"22.18\" ry=\"22.18\"/>\n<ellipse fill=\"none\" stroke=\"black\" cx=\"197.09\" cy=\"-26.1\" rx=\"26.2\" ry=\"26.2\"/>\n<text text-anchor=\"middle\" x=\"197.09\" y=\"-22.4\" font-family=\"Times,serif\" font-size=\"14.00\">q2 </text>\n</g>\n<!-- q1&#45;&gt;q2 -->\n<g id=\"edge2\" class=\"edge\">\n<title>q1&#45;&gt;q2</title>\n<path fill=\"none\" stroke=\"black\" d=\"M124.27,-26.1C134.4,-26.1 147.27,-26.1 159.3,-26.1\"/>\n<polygon fill=\"black\" stroke=\"black\" points=\"158.96,-29.6 168.96,-26.1 158.96,-22.6 158.96,-29.6\"/>\n<text text-anchor=\"middle\" x=\"147.49\" y=\"-29.9\" font-family=\"Times,serif\" font-size=\"14.00\">b </text>\n</g>\n</g>\n</svg>\n",
      "text/plain": [
       "<graphviz.sources.Source at 0x10be2d220>"
      ]
     },
     "execution_count": 5,
     "metadata": {},
     "output_type": "execute_result"
    }
   ],
   "source": [
    "x1.view()"
   ]
  },
  {
   "cell_type": "markdown",
   "id": "f484dee7-b485-46b4-a29d-392fffdec309",
   "metadata": {},
   "source": [
    "## Atomic symbols"
   ]
  },
  {
   "cell_type": "code",
   "execution_count": 6,
   "id": "0e82e882-70c9-4f6d-9376-ade3ca854d2b",
   "metadata": {},
   "outputs": [
    {
     "data": {
      "image/svg+xml": "<?xml version=\"1.0\" encoding=\"UTF-8\" standalone=\"no\"?>\n<!DOCTYPE svg PUBLIC \"-//W3C//DTD SVG 1.1//EN\"\n \"http://www.w3.org/Graphics/SVG/1.1/DTD/svg11.dtd\">\n<!-- Generated by graphviz version 7.0.1 (20221109.1506)\n -->\n<!-- Title: H Pages: 1 -->\n<svg width=\"145pt\" height=\"60pt\"\n viewBox=\"0.00 0.00 145.19 60.20\" xmlns=\"http://www.w3.org/2000/svg\" xmlns:xlink=\"http://www.w3.org/1999/xlink\">\n<g id=\"graph0\" class=\"graph\" transform=\"scale(1 1) rotate(0) translate(4 56.2)\">\n<title>H</title>\n<polygon fill=\"white\" stroke=\"none\" points=\"-4,4 -4,-56.2 141.19,-56.2 141.19,4 -4,4\"/>\n<!-- q0 -->\n<g id=\"node1\" class=\"node\">\n<title>q0</title>\n<ellipse fill=\"yellow\" stroke=\"black\" cx=\"19.5\" cy=\"-26.1\" rx=\"19.5\" ry=\"19.5\"/>\n<text text-anchor=\"middle\" x=\"19.5\" y=\"-22.4\" font-family=\"Times,serif\" font-size=\"14.00\">q0</text>\n</g>\n<!-- q1 -->\n<g id=\"node2\" class=\"node\">\n<title>q1</title>\n<ellipse fill=\"yellow\" stroke=\"black\" cx=\"111.09\" cy=\"-26.1\" rx=\"22.18\" ry=\"22.18\"/>\n<ellipse fill=\"none\" stroke=\"black\" cx=\"111.09\" cy=\"-26.1\" rx=\"26.2\" ry=\"26.2\"/>\n<text text-anchor=\"middle\" x=\"111.09\" y=\"-22.4\" font-family=\"Times,serif\" font-size=\"14.00\">q1 </text>\n</g>\n<!-- q0&#45;&gt;q1 -->\n<g id=\"edge1\" class=\"edge\">\n<title>q0&#45;&gt;q1</title>\n<path fill=\"none\" stroke=\"black\" d=\"M39.06,-26.1C48.9,-26.1 61.35,-26.1 73.07,-26.1\"/>\n<polygon fill=\"black\" stroke=\"black\" points=\"72.91,-29.6 82.91,-26.1 72.91,-22.6 72.91,-29.6\"/>\n<text text-anchor=\"middle\" x=\"62\" y=\"-29.9\" font-family=\"Times,serif\" font-size=\"14.00\">a </text>\n</g>\n</g>\n</svg>\n",
      "text/plain": [
       "<graphviz.sources.Source at 0x10be32430>"
      ]
     },
     "execution_count": 6,
     "metadata": {},
     "output_type": "execute_result"
    }
   ],
   "source": [
    "x1 = hfst.regex('a')\n",
    "x1.view()"
   ]
  },
  {
   "cell_type": "markdown",
   "id": "820f8a4b-a1f2-439f-a38e-377238a66174",
   "metadata": {},
   "source": [
    "Semantically this is $\\{a\\}$.\n",
    "### Multicharacter symbols"
   ]
  },
  {
   "cell_type": "code",
   "execution_count": 7,
   "id": "a3915aba-11cf-4d91-8f7f-cc2039768283",
   "metadata": {},
   "outputs": [
    {
     "data": {
      "image/svg+xml": "<?xml version=\"1.0\" encoding=\"UTF-8\" standalone=\"no\"?>\n<!DOCTYPE svg PUBLIC \"-//W3C//DTD SVG 1.1//EN\"\n \"http://www.w3.org/Graphics/SVG/1.1/DTD/svg11.dtd\">\n<!-- Generated by graphviz version 7.0.1 (20221109.1506)\n -->\n<!-- Title: H Pages: 1 -->\n<svg width=\"158pt\" height=\"60pt\"\n viewBox=\"0.00 0.00 158.19 60.20\" xmlns=\"http://www.w3.org/2000/svg\" xmlns:xlink=\"http://www.w3.org/1999/xlink\">\n<g id=\"graph0\" class=\"graph\" transform=\"scale(1 1) rotate(0) translate(4 56.2)\">\n<title>H</title>\n<polygon fill=\"white\" stroke=\"none\" points=\"-4,4 -4,-56.2 154.19,-56.2 154.19,4 -4,4\"/>\n<!-- q0 -->\n<g id=\"node1\" class=\"node\">\n<title>q0</title>\n<ellipse fill=\"yellow\" stroke=\"black\" cx=\"19.5\" cy=\"-26.1\" rx=\"19.5\" ry=\"19.5\"/>\n<text text-anchor=\"middle\" x=\"19.5\" y=\"-22.4\" font-family=\"Times,serif\" font-size=\"14.00\">q0</text>\n</g>\n<!-- q1 -->\n<g id=\"node2\" class=\"node\">\n<title>q1</title>\n<ellipse fill=\"yellow\" stroke=\"black\" cx=\"124.09\" cy=\"-26.1\" rx=\"22.18\" ry=\"22.18\"/>\n<ellipse fill=\"none\" stroke=\"black\" cx=\"124.09\" cy=\"-26.1\" rx=\"26.2\" ry=\"26.2\"/>\n<text text-anchor=\"middle\" x=\"124.09\" y=\"-22.4\" font-family=\"Times,serif\" font-size=\"14.00\">q1 </text>\n</g>\n<!-- q0&#45;&gt;q1 -->\n<g id=\"edge1\" class=\"edge\">\n<title>q0&#45;&gt;q1</title>\n<path fill=\"none\" stroke=\"black\" d=\"M39.32,-26.1C52.44,-26.1 70.39,-26.1 86.31,-26.1\"/>\n<polygon fill=\"black\" stroke=\"black\" points=\"85.93,-29.6 95.93,-26.1 85.93,-22.6 85.93,-29.6\"/>\n<text text-anchor=\"middle\" x=\"68.5\" y=\"-29.9\" font-family=\"Times,serif\" font-size=\"14.00\">abc </text>\n</g>\n</g>\n</svg>\n",
      "text/plain": [
       "<graphviz.sources.Source at 0x10be2d2e0>"
      ]
     },
     "execution_count": 7,
     "metadata": {},
     "output_type": "execute_result"
    }
   ],
   "source": [
    "x1 = hfst.regex('abc')\n",
    "x1.view()"
   ]
  },
  {
   "cell_type": "code",
   "execution_count": 8,
   "id": "0818a8b0-a314-4274-a68c-baa131302211",
   "metadata": {},
   "outputs": [
    {
     "data": {
      "image/svg+xml": "<?xml version=\"1.0\" encoding=\"UTF-8\" standalone=\"no\"?>\n<!DOCTYPE svg PUBLIC \"-//W3C//DTD SVG 1.1//EN\"\n \"http://www.w3.org/Graphics/SVG/1.1/DTD/svg11.dtd\">\n<!-- Generated by graphviz version 7.0.1 (20221109.1506)\n -->\n<!-- Title: H Pages: 1 -->\n<svg width=\"316pt\" height=\"60pt\"\n viewBox=\"0.00 0.00 316.19 60.20\" xmlns=\"http://www.w3.org/2000/svg\" xmlns:xlink=\"http://www.w3.org/1999/xlink\">\n<g id=\"graph0\" class=\"graph\" transform=\"scale(1 1) rotate(0) translate(4 56.2)\">\n<title>H</title>\n<polygon fill=\"white\" stroke=\"none\" points=\"-4,4 -4,-56.2 312.19,-56.2 312.19,4 -4,4\"/>\n<!-- q0 -->\n<g id=\"node1\" class=\"node\">\n<title>q0</title>\n<ellipse fill=\"yellow\" stroke=\"black\" cx=\"19.5\" cy=\"-26.1\" rx=\"19.5\" ry=\"19.5\"/>\n<text text-anchor=\"middle\" x=\"19.5\" y=\"-22.4\" font-family=\"Times,serif\" font-size=\"14.00\">q0</text>\n</g>\n<!-- q1 -->\n<g id=\"node2\" class=\"node\">\n<title>q1</title>\n<ellipse fill=\"yellow\" stroke=\"black\" cx=\"104.49\" cy=\"-26.1\" rx=\"19.5\" ry=\"19.5\"/>\n<text text-anchor=\"middle\" x=\"104.49\" y=\"-22.4\" font-family=\"Times,serif\" font-size=\"14.00\">q1</text>\n</g>\n<!-- q0&#45;&gt;q1 -->\n<g id=\"edge1\" class=\"edge\">\n<title>q0&#45;&gt;q1</title>\n<path fill=\"none\" stroke=\"black\" d=\"M39.33,-26.1C49.41,-26.1 62.07,-26.1 73.47,-26.1\"/>\n<polygon fill=\"black\" stroke=\"black\" points=\"73.22,-29.6 83.22,-26.1 73.22,-22.6 73.22,-29.6\"/>\n<text text-anchor=\"middle\" x=\"62\" y=\"-29.9\" font-family=\"Times,serif\" font-size=\"14.00\">a </text>\n</g>\n<!-- q2 -->\n<g id=\"node3\" class=\"node\">\n<title>q2</title>\n<ellipse fill=\"yellow\" stroke=\"black\" cx=\"190.49\" cy=\"-26.1\" rx=\"19.5\" ry=\"19.5\"/>\n<text text-anchor=\"middle\" x=\"190.49\" y=\"-22.4\" font-family=\"Times,serif\" font-size=\"14.00\">q2</text>\n</g>\n<!-- q1&#45;&gt;q2 -->\n<g id=\"edge2\" class=\"edge\">\n<title>q1&#45;&gt;q2</title>\n<path fill=\"none\" stroke=\"black\" d=\"M124.14,-26.1C134.5,-26.1 147.66,-26.1 159.44,-26.1\"/>\n<polygon fill=\"black\" stroke=\"black\" points=\"159.1,-29.6 169.1,-26.1 159.1,-22.6 159.1,-29.6\"/>\n<text text-anchor=\"middle\" x=\"147.49\" y=\"-29.9\" font-family=\"Times,serif\" font-size=\"14.00\">b </text>\n</g>\n<!-- q3 -->\n<g id=\"node4\" class=\"node\">\n<title>q3</title>\n<ellipse fill=\"yellow\" stroke=\"black\" cx=\"282.09\" cy=\"-26.1\" rx=\"22.18\" ry=\"22.18\"/>\n<ellipse fill=\"none\" stroke=\"black\" cx=\"282.09\" cy=\"-26.1\" rx=\"26.2\" ry=\"26.2\"/>\n<text text-anchor=\"middle\" x=\"282.09\" y=\"-22.4\" font-family=\"Times,serif\" font-size=\"14.00\">q3 </text>\n</g>\n<!-- q2&#45;&gt;q3 -->\n<g id=\"edge3\" class=\"edge\">\n<title>q2&#45;&gt;q3</title>\n<path fill=\"none\" stroke=\"black\" d=\"M210.06,-26.1C219.9,-26.1 232.35,-26.1 244.06,-26.1\"/>\n<polygon fill=\"black\" stroke=\"black\" points=\"243.9,-29.6 253.9,-26.1 243.9,-22.6 243.9,-29.6\"/>\n<text text-anchor=\"middle\" x=\"232.99\" y=\"-29.9\" font-family=\"Times,serif\" font-size=\"14.00\">c </text>\n</g>\n</g>\n</svg>\n",
      "text/plain": [
       "<graphviz.sources.Source at 0x10c032eb0>"
      ]
     },
     "execution_count": 8,
     "metadata": {},
     "output_type": "execute_result"
    }
   ],
   "source": [
    "x1 = hfst.regex('a b c')\n",
    "x1.view()"
   ]
  },
  {
   "cell_type": "markdown",
   "id": "2a9302a9-61f9-4bea-a40e-60b59ded9aed",
   "metadata": {},
   "source": [
    "### Empty string"
   ]
  },
  {
   "cell_type": "code",
   "execution_count": 9,
   "id": "bf740315-31b6-4dd2-8483-9a561deeb87e",
   "metadata": {},
   "outputs": [
    {
     "data": {
      "image/svg+xml": "<?xml version=\"1.0\" encoding=\"UTF-8\" standalone=\"no\"?>\n<!DOCTYPE svg PUBLIC \"-//W3C//DTD SVG 1.1//EN\"\n \"http://www.w3.org/Graphics/SVG/1.1/DTD/svg11.dtd\">\n<!-- Generated by graphviz version 7.0.1 (20221109.1506)\n -->\n<!-- Title: H Pages: 1 -->\n<svg width=\"60pt\" height=\"60pt\"\n viewBox=\"0.00 0.00 60.20 60.20\" xmlns=\"http://www.w3.org/2000/svg\" xmlns:xlink=\"http://www.w3.org/1999/xlink\">\n<g id=\"graph0\" class=\"graph\" transform=\"scale(1 1) rotate(0) translate(4 56.2)\">\n<title>H</title>\n<polygon fill=\"white\" stroke=\"none\" points=\"-4,4 -4,-56.2 56.2,-56.2 56.2,4 -4,4\"/>\n<!-- q0 -->\n<g id=\"node1\" class=\"node\">\n<title>q0</title>\n<ellipse fill=\"yellow\" stroke=\"black\" cx=\"26.1\" cy=\"-26.1\" rx=\"22.18\" ry=\"22.18\"/>\n<ellipse fill=\"none\" stroke=\"black\" cx=\"26.1\" cy=\"-26.1\" rx=\"26.2\" ry=\"26.2\"/>\n<text text-anchor=\"middle\" x=\"26.1\" y=\"-22.4\" font-family=\"Times,serif\" font-size=\"14.00\">q0 </text>\n</g>\n</g>\n</svg>\n",
      "text/plain": [
       "<graphviz.sources.Source at 0x10c032f40>"
      ]
     },
     "execution_count": 9,
     "metadata": {},
     "output_type": "execute_result"
    }
   ],
   "source": [
    "e1 = hfst.regex('0')\n",
    "e1.view()"
   ]
  },
  {
   "cell_type": "markdown",
   "id": "3e97eb3f-b38a-4b07-a89e-461ce2b2aabf",
   "metadata": {},
   "source": [
    "## Printing paths"
   ]
  },
  {
   "cell_type": "code",
   "execution_count": 14,
   "id": "df48d5fc-db90-40b3-80d5-977432d15d00",
   "metadata": {},
   "outputs": [],
   "source": [
    "x1 = hfst.regex('a b c')"
   ]
  },
  {
   "cell_type": "code",
   "execution_count": 15,
   "id": "de8f1122-313d-4308-9834-b538e9a21138",
   "metadata": {},
   "outputs": [
    {
     "data": {
      "text/plain": [
       "{'abc'}"
      ]
     },
     "execution_count": 15,
     "metadata": {},
     "output_type": "execute_result"
    }
   ],
   "source": [
    "set(x1.extract_paths(max_cycles=10).keys())"
   ]
  },
  {
   "cell_type": "code",
   "execution_count": 192,
   "id": "7835ca37-157a-4e26-bab5-6c6d07fb162e",
   "metadata": {},
   "outputs": [
    {
     "data": {
      "text/plain": [
       "{'abc': [('abc', 0.0)]}"
      ]
     },
     "execution_count": 192,
     "metadata": {},
     "output_type": "execute_result"
    }
   ],
   "source": [
    "x1.extract_paths(max_cycles=10)"
   ]
  },
  {
   "cell_type": "code",
   "execution_count": 193,
   "id": "2d873e02-579e-403c-ae23-85b79a532ac6",
   "metadata": {},
   "outputs": [
    {
     "data": {
      "text/plain": [
       "dict_keys(['abc'])"
      ]
     },
     "execution_count": 193,
     "metadata": {},
     "output_type": "execute_result"
    }
   ],
   "source": [
    "x1.extract_paths(max_cycles=10).keys()"
   ]
  },
  {
   "cell_type": "code",
   "execution_count": 194,
   "id": "b3fc8eb0-2a6f-4ac0-b7a9-15a6c0b14f52",
   "metadata": {},
   "outputs": [
    {
     "data": {
      "text/plain": [
       "{'abc'}"
      ]
     },
     "execution_count": 194,
     "metadata": {},
     "output_type": "execute_result"
    }
   ],
   "source": [
    "set(x1.extract_paths(max_cycles=10).keys())"
   ]
  },
  {
   "cell_type": "code",
   "execution_count": 27,
   "id": "ec51cb5c-dc75-4ef2-aa5a-7378aed78890",
   "metadata": {},
   "outputs": [
    {
     "data": {
      "text/plain": [
       "{'ka', 'ki', 'ku', 'pa', 'pi', 'pu', 'ta', 'ti', 'tu'}"
      ]
     },
     "execution_count": 27,
     "metadata": {},
     "output_type": "execute_result"
    }
   ],
   "source": [
    "x2 = hfst.regex('[p | t | k][i | u | a]')\n",
    "set(x2.extract_paths(max_cycles=2).keys())"
   ]
  },
  {
   "cell_type": "code",
   "execution_count": 20,
   "id": "31eed2e3-19bf-45ba-bdcf-0762f4e2c484",
   "metadata": {},
   "outputs": [
    {
     "data": {
      "text/plain": [
       "{'ka', 'ki', 'ku', 'pa', 'pi', 'pu', 'ta', 'ti', 'tu'}"
      ]
     },
     "execution_count": 20,
     "metadata": {},
     "output_type": "execute_result"
    }
   ],
   "source": [
    "x3 = hfst.regex('[p | t | k][i | u | a]+')\n",
    "set(x3.extract_paths(max_cycles=0\n",
    "                     ).keys())"
   ]
  },
  {
   "cell_type": "code",
   "execution_count": 21,
   "id": "47839b49-dc05-4fc0-9fdc-74de24d52e6a",
   "metadata": {},
   "outputs": [],
   "source": [
    "import random"
   ]
  },
  {
   "cell_type": "markdown",
   "id": "0b919c06-1048-44a7-b492-16a669c900fe",
   "metadata": {},
   "source": [
    "Random sample for larger set of paths"
   ]
  },
  {
   "cell_type": "code",
   "execution_count": 34,
   "id": "978581ef-751e-4396-8870-92883f37547c",
   "metadata": {},
   "outputs": [
    {
     "name": "stdout",
     "output_type": "stream",
     "text": [
      "['kuiuu', 'tuai', 'puuai', 'kauuu', 'kuaui', 'piui', 'tiaaa', 'taau', 'tuuia', 'kuiua']\n"
     ]
    }
   ],
   "source": [
    "print(random.sample(set(x3.extract_paths(max_cycles=3).keys()),10))"
   ]
  },
  {
   "cell_type": "code",
   "execution_count": 22,
   "id": "80910de7-4613-4499-8d86-b8be6689afaa",
   "metadata": {},
   "outputs": [],
   "source": [
    "def printrandom(m,n=10):\n",
    "    print(random.sample(set(m.extract_paths(max_cycles=3).keys()),10))"
   ]
  },
  {
   "cell_type": "code",
   "execution_count": 24,
   "id": "1f5cd331-ddfa-48e6-8bcc-2c90ce6937e7",
   "metadata": {},
   "outputs": [
    {
     "name": "stdout",
     "output_type": "stream",
     "text": [
      "['tuiiu', 'tiiii', 'tuuua', 'kuuiu', 'kiuu', 'pii', 'kaauu', 'kiiai', 'piuu', 'puiai']\n"
     ]
    }
   ],
   "source": [
    "printrandom(x3)"
   ]
  },
  {
   "cell_type": "code",
   "execution_count": 25,
   "id": "b8431121-71a2-40f3-8604-558b0e71c231",
   "metadata": {},
   "outputs": [],
   "source": [
    "def printall(m):\n",
    "    print(set(m.extract_paths(max_cycles=3).keys()))"
   ]
  },
  {
   "cell_type": "markdown",
   "id": "ee30f38c-cd9a-451c-9608-8b05176b715c",
   "metadata": {},
   "source": [
    "## Concatenation"
   ]
  },
  {
   "cell_type": "code",
   "execution_count": 70,
   "id": "10d32c71-f1e8-493e-a89a-ba8b9c753d88",
   "metadata": {},
   "outputs": [],
   "source": [
    "Cons = hfst.regex('[p | t | k]')\n",
    "Vow = hfst.regex('[i | u | a]')\n",
    "Syl = Cons.copy()\n",
    "Syl.concatenate(Vow)\n",
    "Syl.concatenate(Cons)"
   ]
  },
  {
   "cell_type": "code",
   "execution_count": 71,
   "id": "9bbff60f-8058-483b-a677-e6aa180bcf67",
   "metadata": {},
   "outputs": [
    {
     "data": {
      "image/svg+xml": "<?xml version=\"1.0\" encoding=\"UTF-8\" standalone=\"no\"?>\n<!DOCTYPE svg PUBLIC \"-//W3C//DTD SVG 1.1//EN\"\n \"http://www.w3.org/Graphics/SVG/1.1/DTD/svg11.dtd\">\n<!-- Generated by graphviz version 7.0.1 (20221109.1506)\n -->\n<!-- Title: H Pages: 1 -->\n<svg width=\"581pt\" height=\"60pt\"\n viewBox=\"0.00 0.00 581.18 60.20\" xmlns=\"http://www.w3.org/2000/svg\" xmlns:xlink=\"http://www.w3.org/1999/xlink\">\n<g id=\"graph0\" class=\"graph\" transform=\"scale(1 1) rotate(0) translate(4 56.2)\">\n<title>H</title>\n<polygon fill=\"white\" stroke=\"none\" points=\"-4,4 -4,-56.2 577.18,-56.2 577.18,4 -4,4\"/>\n<!-- q0 -->\n<g id=\"node1\" class=\"node\">\n<title>q0</title>\n<ellipse fill=\"yellow\" stroke=\"black\" cx=\"19.5\" cy=\"-26.1\" rx=\"19.5\" ry=\"19.5\"/>\n<text text-anchor=\"middle\" x=\"19.5\" y=\"-22.4\" font-family=\"Times,serif\" font-size=\"14.00\">q0</text>\n</g>\n<!-- q1 -->\n<g id=\"node2\" class=\"node\">\n<title>q1</title>\n<ellipse fill=\"yellow\" stroke=\"black\" cx=\"131.49\" cy=\"-26.1\" rx=\"19.5\" ry=\"19.5\"/>\n<text text-anchor=\"middle\" x=\"131.49\" y=\"-22.4\" font-family=\"Times,serif\" font-size=\"14.00\">q1</text>\n</g>\n<!-- q0&#45;&gt;q1 -->\n<g id=\"edge1\" class=\"edge\">\n<title>q0&#45;&gt;q1</title>\n<path fill=\"none\" stroke=\"black\" d=\"M39.16,-26.1C55.91,-26.1 80.8,-26.1 100.37,-26.1\"/>\n<polygon fill=\"black\" stroke=\"black\" points=\"100.23,-29.6 110.23,-26.1 100.23,-22.6 100.23,-29.6\"/>\n<text text-anchor=\"middle\" x=\"75.5\" y=\"-29.9\" font-family=\"Times,serif\" font-size=\"14.00\">t, k, p </text>\n</g>\n<!-- q2 -->\n<g id=\"node3\" class=\"node\">\n<title>q2</title>\n<ellipse fill=\"yellow\" stroke=\"black\" cx=\"224.49\" cy=\"-26.1\" rx=\"19.5\" ry=\"19.5\"/>\n<text text-anchor=\"middle\" x=\"224.49\" y=\"-22.4\" font-family=\"Times,serif\" font-size=\"14.00\">q2</text>\n</g>\n<!-- q1&#45;&gt;q2 -->\n<g id=\"edge2\" class=\"edge\">\n<title>q1&#45;&gt;q2</title>\n<path fill=\"none\" stroke=\"black\" d=\"M151.35,-26.1C163.43,-26.1 179.38,-26.1 193.2,-26.1\"/>\n<polygon fill=\"black\" stroke=\"black\" points=\"193.15,-29.6 203.15,-26.1 193.15,-22.6 193.15,-29.6\"/>\n<text text-anchor=\"middle\" x=\"177.99\" y=\"-29.9\" font-family=\"Times,serif\" font-size=\"14.00\">00 </text>\n</g>\n<!-- q3 -->\n<g id=\"node4\" class=\"node\">\n<title>q3</title>\n<ellipse fill=\"yellow\" stroke=\"black\" cx=\"335.49\" cy=\"-26.1\" rx=\"19.5\" ry=\"19.5\"/>\n<text text-anchor=\"middle\" x=\"335.49\" y=\"-22.4\" font-family=\"Times,serif\" font-size=\"14.00\">q3</text>\n</g>\n<!-- q2&#45;&gt;q3 -->\n<g id=\"edge3\" class=\"edge\">\n<title>q2&#45;&gt;q3</title>\n<path fill=\"none\" stroke=\"black\" d=\"M244.48,-26.1C260.97,-26.1 285.14,-26.1 304.28,-26.1\"/>\n<polygon fill=\"black\" stroke=\"black\" points=\"304.21,-29.6 314.21,-26.1 304.21,-22.6 304.21,-29.6\"/>\n<text text-anchor=\"middle\" x=\"279.99\" y=\"-29.9\" font-family=\"Times,serif\" font-size=\"14.00\">u, a, i </text>\n</g>\n<!-- q4 -->\n<g id=\"node5\" class=\"node\">\n<title>q4</title>\n<ellipse fill=\"yellow\" stroke=\"black\" cx=\"428.48\" cy=\"-26.1\" rx=\"19.5\" ry=\"19.5\"/>\n<text text-anchor=\"middle\" x=\"428.48\" y=\"-22.4\" font-family=\"Times,serif\" font-size=\"14.00\">q4</text>\n</g>\n<!-- q3&#45;&gt;q4 -->\n<g id=\"edge4\" class=\"edge\">\n<title>q3&#45;&gt;q4</title>\n<path fill=\"none\" stroke=\"black\" d=\"M355.34,-26.1C367.42,-26.1 383.37,-26.1 397.2,-26.1\"/>\n<polygon fill=\"black\" stroke=\"black\" points=\"397.14,-29.6 407.14,-26.1 397.14,-22.6 397.14,-29.6\"/>\n<text text-anchor=\"middle\" x=\"381.99\" y=\"-29.9\" font-family=\"Times,serif\" font-size=\"14.00\">00 </text>\n</g>\n<!-- q5 -->\n<g id=\"node6\" class=\"node\">\n<title>q5</title>\n<ellipse fill=\"yellow\" stroke=\"black\" cx=\"547.08\" cy=\"-26.1\" rx=\"22.18\" ry=\"22.18\"/>\n<ellipse fill=\"none\" stroke=\"black\" cx=\"547.08\" cy=\"-26.1\" rx=\"26.2\" ry=\"26.2\"/>\n<text text-anchor=\"middle\" x=\"547.08\" y=\"-22.4\" font-family=\"Times,serif\" font-size=\"14.00\">q5 </text>\n</g>\n<!-- q4&#45;&gt;q5 -->\n<g id=\"edge5\" class=\"edge\">\n<title>q4&#45;&gt;q5</title>\n<path fill=\"none\" stroke=\"black\" d=\"M448.48,-26.1C464.88,-26.1 489.04,-26.1 509.22,-26.1\"/>\n<polygon fill=\"black\" stroke=\"black\" points=\"509.04,-29.6 519.04,-26.1 509.04,-22.6 509.04,-29.6\"/>\n<text text-anchor=\"middle\" x=\"484.48\" y=\"-29.9\" font-family=\"Times,serif\" font-size=\"14.00\">t, k, p </text>\n</g>\n</g>\n</svg>\n",
      "text/plain": [
       "<graphviz.sources.Source at 0x10f958220>"
      ]
     },
     "execution_count": 71,
     "metadata": {},
     "output_type": "execute_result"
    }
   ],
   "source": [
    "Syl.view()"
   ]
  },
  {
   "cell_type": "code",
   "execution_count": 72,
   "id": "d9840f5a-0739-4bb2-9b6d-0d79e55a98be",
   "metadata": {},
   "outputs": [],
   "source": [
    "Syl.minimize()"
   ]
  },
  {
   "cell_type": "code",
   "execution_count": 73,
   "id": "5fdb3869-2163-4509-92bc-91213d2369a8",
   "metadata": {},
   "outputs": [
    {
     "data": {
      "image/svg+xml": "<?xml version=\"1.0\" encoding=\"UTF-8\" standalone=\"no\"?>\n<!DOCTYPE svg PUBLIC \"-//W3C//DTD SVG 1.1//EN\"\n \"http://www.w3.org/Graphics/SVG/1.1/DTD/svg11.dtd\">\n<!-- Generated by graphviz version 7.0.1 (20221109.1506)\n -->\n<!-- Title: H Pages: 1 -->\n<svg width=\"395pt\" height=\"60pt\"\n viewBox=\"0.00 0.00 395.19 60.20\" xmlns=\"http://www.w3.org/2000/svg\" xmlns:xlink=\"http://www.w3.org/1999/xlink\">\n<g id=\"graph0\" class=\"graph\" transform=\"scale(1 1) rotate(0) translate(4 56.2)\">\n<title>H</title>\n<polygon fill=\"white\" stroke=\"none\" points=\"-4,4 -4,-56.2 391.19,-56.2 391.19,4 -4,4\"/>\n<!-- q0 -->\n<g id=\"node1\" class=\"node\">\n<title>q0</title>\n<ellipse fill=\"yellow\" stroke=\"black\" cx=\"19.5\" cy=\"-26.1\" rx=\"19.5\" ry=\"19.5\"/>\n<text text-anchor=\"middle\" x=\"19.5\" y=\"-22.4\" font-family=\"Times,serif\" font-size=\"14.00\">q0</text>\n</g>\n<!-- q1 -->\n<g id=\"node2\" class=\"node\">\n<title>q1</title>\n<ellipse fill=\"yellow\" stroke=\"black\" cx=\"131.49\" cy=\"-26.1\" rx=\"19.5\" ry=\"19.5\"/>\n<text text-anchor=\"middle\" x=\"131.49\" y=\"-22.4\" font-family=\"Times,serif\" font-size=\"14.00\">q1</text>\n</g>\n<!-- q0&#45;&gt;q1 -->\n<g id=\"edge1\" class=\"edge\">\n<title>q0&#45;&gt;q1</title>\n<path fill=\"none\" stroke=\"black\" d=\"M39.16,-26.1C55.91,-26.1 80.8,-26.1 100.37,-26.1\"/>\n<polygon fill=\"black\" stroke=\"black\" points=\"100.23,-29.6 110.23,-26.1 100.23,-22.6 100.23,-29.6\"/>\n<text text-anchor=\"middle\" x=\"75.5\" y=\"-29.9\" font-family=\"Times,serif\" font-size=\"14.00\">p, k, t </text>\n</g>\n<!-- q2 -->\n<g id=\"node3\" class=\"node\">\n<title>q2</title>\n<ellipse fill=\"yellow\" stroke=\"black\" cx=\"242.49\" cy=\"-26.1\" rx=\"19.5\" ry=\"19.5\"/>\n<text text-anchor=\"middle\" x=\"242.49\" y=\"-22.4\" font-family=\"Times,serif\" font-size=\"14.00\">q2</text>\n</g>\n<!-- q1&#45;&gt;q2 -->\n<g id=\"edge2\" class=\"edge\">\n<title>q1&#45;&gt;q2</title>\n<path fill=\"none\" stroke=\"black\" d=\"M151.48,-26.1C167.97,-26.1 192.14,-26.1 211.28,-26.1\"/>\n<polygon fill=\"black\" stroke=\"black\" points=\"211.21,-29.6 221.21,-26.1 211.21,-22.6 211.21,-29.6\"/>\n<text text-anchor=\"middle\" x=\"186.99\" y=\"-29.9\" font-family=\"Times,serif\" font-size=\"14.00\">i, a, u </text>\n</g>\n<!-- q3 -->\n<g id=\"node4\" class=\"node\">\n<title>q3</title>\n<ellipse fill=\"yellow\" stroke=\"black\" cx=\"361.09\" cy=\"-26.1\" rx=\"22.18\" ry=\"22.18\"/>\n<ellipse fill=\"none\" stroke=\"black\" cx=\"361.09\" cy=\"-26.1\" rx=\"26.2\" ry=\"26.2\"/>\n<text text-anchor=\"middle\" x=\"361.09\" y=\"-22.4\" font-family=\"Times,serif\" font-size=\"14.00\">q3 </text>\n</g>\n<!-- q2&#45;&gt;q3 -->\n<g id=\"edge3\" class=\"edge\">\n<title>q2&#45;&gt;q3</title>\n<path fill=\"none\" stroke=\"black\" d=\"M262.48,-26.1C278.88,-26.1 303.05,-26.1 323.23,-26.1\"/>\n<polygon fill=\"black\" stroke=\"black\" points=\"323.05,-29.6 333.05,-26.1 323.05,-22.6 323.05,-29.6\"/>\n<text text-anchor=\"middle\" x=\"298.49\" y=\"-29.9\" font-family=\"Times,serif\" font-size=\"14.00\">p, k, t </text>\n</g>\n</g>\n</svg>\n",
      "text/plain": [
       "<graphviz.sources.Source at 0x10f823f70>"
      ]
     },
     "execution_count": 73,
     "metadata": {},
     "output_type": "execute_result"
    }
   ],
   "source": [
    "Syl.view()"
   ]
  },
  {
   "cell_type": "code",
   "execution_count": 74,
   "id": "163eced4-6c89-4da4-a310-1a4c13bbfb80",
   "metadata": {},
   "outputs": [
    {
     "name": "stdout",
     "output_type": "stream",
     "text": [
      "['kup', 'kat', 'pik', 'kut', 'tuk', 'kik', 'tip', 'kuk', 'put', 'tup']\n"
     ]
    }
   ],
   "source": [
    "printrandom(Syl)"
   ]
  },
  {
   "cell_type": "markdown",
   "id": "4405382d-e69e-4668-ae85-b84da32eb30e",
   "metadata": {},
   "source": [
    "*In the command line interface, minimization happens automatically.*\n",
    "In basic regular expressions, concatenation is a binary operation, but it is\n",
    "written implicitly."
   ]
  },
  {
   "cell_type": "markdown",
   "id": "f528a964-e135-4c9a-aeff-5a1a71e87ecd",
   "metadata": {},
   "source": [
    "## Boolean operations"
   ]
  },
  {
   "cell_type": "code",
   "execution_count": 26,
   "id": "23894573-0a97-4bef-b0f6-a7885e944012",
   "metadata": {},
   "outputs": [],
   "source": [
    "X = hfst.regex('a b+')\n",
    "Y = hfst.regex('a+ b')"
   ]
  },
  {
   "cell_type": "markdown",
   "id": "53a5d068-d1c6-43aa-8ae4-9b21ef271f56",
   "metadata": {},
   "source": [
    "#### Union"
   ]
  },
  {
   "cell_type": "code",
   "execution_count": 27,
   "id": "1a808806-0d1f-4ab1-9a9f-0fb2d84f52ce",
   "metadata": {},
   "outputs": [
    {
     "ename": "ExecutableNotFound",
     "evalue": "failed to execute PosixPath('dot'), make sure the Graphviz executables are on your systems' PATH",
     "output_type": "error",
     "traceback": [
      "\u001b[0;31m---------------------------------------------------------------------------\u001b[0m",
      "\u001b[0;31mFileNotFoundError\u001b[0m                         Traceback (most recent call last)",
      "\u001b[0;32m~/opt/anaconda3/envs/CompLing/lib/python3.7/site-packages/graphviz/backend/execute.py\u001b[0m in \u001b[0;36mrun_check\u001b[0;34m(cmd, input_lines, encoding, quiet, **kwargs)\u001b[0m\n\u001b[1;32m     78\u001b[0m                 \u001b[0mkwargs\u001b[0m\u001b[0;34m[\u001b[0m\u001b[0;34m'stdout'\u001b[0m\u001b[0;34m]\u001b[0m \u001b[0;34m=\u001b[0m \u001b[0mkwargs\u001b[0m\u001b[0;34m[\u001b[0m\u001b[0;34m'stderr'\u001b[0m\u001b[0;34m]\u001b[0m \u001b[0;34m=\u001b[0m \u001b[0msubprocess\u001b[0m\u001b[0;34m.\u001b[0m\u001b[0mPIPE\u001b[0m\u001b[0;34m\u001b[0m\u001b[0;34m\u001b[0m\u001b[0m\n\u001b[0;32m---> 79\u001b[0;31m             \u001b[0mproc\u001b[0m \u001b[0;34m=\u001b[0m \u001b[0m_run_input_lines\u001b[0m\u001b[0;34m(\u001b[0m\u001b[0mcmd\u001b[0m\u001b[0;34m,\u001b[0m \u001b[0minput_lines\u001b[0m\u001b[0;34m,\u001b[0m \u001b[0mkwargs\u001b[0m\u001b[0;34m=\u001b[0m\u001b[0mkwargs\u001b[0m\u001b[0;34m)\u001b[0m\u001b[0;34m\u001b[0m\u001b[0;34m\u001b[0m\u001b[0m\n\u001b[0m\u001b[1;32m     80\u001b[0m         \u001b[0;32melse\u001b[0m\u001b[0;34m:\u001b[0m\u001b[0;34m\u001b[0m\u001b[0;34m\u001b[0m\u001b[0m\n",
      "\u001b[0;32m~/opt/anaconda3/envs/CompLing/lib/python3.7/site-packages/graphviz/backend/execute.py\u001b[0m in \u001b[0;36m_run_input_lines\u001b[0;34m(cmd, input_lines, kwargs)\u001b[0m\n\u001b[1;32m     98\u001b[0m \u001b[0;32mdef\u001b[0m \u001b[0m_run_input_lines\u001b[0m\u001b[0;34m(\u001b[0m\u001b[0mcmd\u001b[0m\u001b[0;34m,\u001b[0m \u001b[0minput_lines\u001b[0m\u001b[0;34m,\u001b[0m \u001b[0;34m*\u001b[0m\u001b[0;34m,\u001b[0m \u001b[0mkwargs\u001b[0m\u001b[0;34m)\u001b[0m\u001b[0;34m:\u001b[0m\u001b[0;34m\u001b[0m\u001b[0;34m\u001b[0m\u001b[0m\n\u001b[0;32m---> 99\u001b[0;31m     \u001b[0mpopen\u001b[0m \u001b[0;34m=\u001b[0m \u001b[0msubprocess\u001b[0m\u001b[0;34m.\u001b[0m\u001b[0mPopen\u001b[0m\u001b[0;34m(\u001b[0m\u001b[0mcmd\u001b[0m\u001b[0;34m,\u001b[0m \u001b[0mstdin\u001b[0m\u001b[0;34m=\u001b[0m\u001b[0msubprocess\u001b[0m\u001b[0;34m.\u001b[0m\u001b[0mPIPE\u001b[0m\u001b[0;34m,\u001b[0m \u001b[0;34m**\u001b[0m\u001b[0mkwargs\u001b[0m\u001b[0;34m)\u001b[0m\u001b[0;34m\u001b[0m\u001b[0;34m\u001b[0m\u001b[0m\n\u001b[0m\u001b[1;32m    100\u001b[0m \u001b[0;34m\u001b[0m\u001b[0m\n",
      "\u001b[0;32m~/opt/anaconda3/envs/CompLing/lib/python3.7/subprocess.py\u001b[0m in \u001b[0;36m__init__\u001b[0;34m(self, args, bufsize, executable, stdin, stdout, stderr, preexec_fn, close_fds, shell, cwd, env, universal_newlines, startupinfo, creationflags, restore_signals, start_new_session, pass_fds, encoding, errors, text)\u001b[0m\n\u001b[1;32m    799\u001b[0m                                 \u001b[0merrread\u001b[0m\u001b[0;34m,\u001b[0m \u001b[0merrwrite\u001b[0m\u001b[0;34m,\u001b[0m\u001b[0;34m\u001b[0m\u001b[0;34m\u001b[0m\u001b[0m\n\u001b[0;32m--> 800\u001b[0;31m                                 restore_signals, start_new_session)\n\u001b[0m\u001b[1;32m    801\u001b[0m         \u001b[0;32mexcept\u001b[0m\u001b[0;34m:\u001b[0m\u001b[0;34m\u001b[0m\u001b[0;34m\u001b[0m\u001b[0m\n",
      "\u001b[0;32m~/opt/anaconda3/envs/CompLing/lib/python3.7/subprocess.py\u001b[0m in \u001b[0;36m_execute_child\u001b[0;34m(self, args, executable, preexec_fn, close_fds, pass_fds, cwd, env, startupinfo, creationflags, shell, p2cread, p2cwrite, c2pread, c2pwrite, errread, errwrite, restore_signals, start_new_session)\u001b[0m\n\u001b[1;32m   1550\u001b[0m                             \u001b[0merr_msg\u001b[0m \u001b[0;34m+=\u001b[0m \u001b[0;34m': '\u001b[0m \u001b[0;34m+\u001b[0m \u001b[0mrepr\u001b[0m\u001b[0;34m(\u001b[0m\u001b[0merr_filename\u001b[0m\u001b[0;34m)\u001b[0m\u001b[0;34m\u001b[0m\u001b[0;34m\u001b[0m\u001b[0m\n\u001b[0;32m-> 1551\u001b[0;31m                     \u001b[0;32mraise\u001b[0m \u001b[0mchild_exception_type\u001b[0m\u001b[0;34m(\u001b[0m\u001b[0merrno_num\u001b[0m\u001b[0;34m,\u001b[0m \u001b[0merr_msg\u001b[0m\u001b[0;34m,\u001b[0m \u001b[0merr_filename\u001b[0m\u001b[0;34m)\u001b[0m\u001b[0;34m\u001b[0m\u001b[0;34m\u001b[0m\u001b[0m\n\u001b[0m\u001b[1;32m   1552\u001b[0m                 \u001b[0;32mraise\u001b[0m \u001b[0mchild_exception_type\u001b[0m\u001b[0;34m(\u001b[0m\u001b[0merr_msg\u001b[0m\u001b[0;34m)\u001b[0m\u001b[0;34m\u001b[0m\u001b[0;34m\u001b[0m\u001b[0m\n",
      "\u001b[0;31mFileNotFoundError\u001b[0m: [Errno 2] No such file or directory: PosixPath('dot'): PosixPath('dot')",
      "\nThe above exception was the direct cause of the following exception:\n",
      "\u001b[0;31mExecutableNotFound\u001b[0m                        Traceback (most recent call last)",
      "\u001b[0;32m~/opt/anaconda3/envs/CompLing/lib/python3.7/site-packages/IPython/core/formatters.py\u001b[0m in \u001b[0;36m__call__\u001b[0;34m(self, obj, include, exclude)\u001b[0m\n\u001b[1;32m    968\u001b[0m \u001b[0;34m\u001b[0m\u001b[0m\n\u001b[1;32m    969\u001b[0m             \u001b[0;32mif\u001b[0m \u001b[0mmethod\u001b[0m \u001b[0;32mis\u001b[0m \u001b[0;32mnot\u001b[0m \u001b[0;32mNone\u001b[0m\u001b[0;34m:\u001b[0m\u001b[0;34m\u001b[0m\u001b[0;34m\u001b[0m\u001b[0m\n\u001b[0;32m--> 970\u001b[0;31m                 \u001b[0;32mreturn\u001b[0m \u001b[0mmethod\u001b[0m\u001b[0;34m(\u001b[0m\u001b[0minclude\u001b[0m\u001b[0;34m=\u001b[0m\u001b[0minclude\u001b[0m\u001b[0;34m,\u001b[0m \u001b[0mexclude\u001b[0m\u001b[0;34m=\u001b[0m\u001b[0mexclude\u001b[0m\u001b[0;34m)\u001b[0m\u001b[0;34m\u001b[0m\u001b[0;34m\u001b[0m\u001b[0m\n\u001b[0m\u001b[1;32m    971\u001b[0m             \u001b[0;32mreturn\u001b[0m \u001b[0;32mNone\u001b[0m\u001b[0;34m\u001b[0m\u001b[0;34m\u001b[0m\u001b[0m\n\u001b[1;32m    972\u001b[0m         \u001b[0;32melse\u001b[0m\u001b[0;34m:\u001b[0m\u001b[0;34m\u001b[0m\u001b[0;34m\u001b[0m\u001b[0m\n",
      "\u001b[0;32m~/opt/anaconda3/envs/CompLing/lib/python3.7/site-packages/graphviz/jupyter_integration.py\u001b[0m in \u001b[0;36m_repr_mimebundle_\u001b[0;34m(self, include, exclude, **_)\u001b[0m\n\u001b[1;32m     97\u001b[0m         \u001b[0minclude\u001b[0m \u001b[0;34m-=\u001b[0m \u001b[0mset\u001b[0m\u001b[0;34m(\u001b[0m\u001b[0mexclude\u001b[0m \u001b[0;32mor\u001b[0m \u001b[0;34m[\u001b[0m\u001b[0;34m]\u001b[0m\u001b[0;34m)\u001b[0m\u001b[0;34m\u001b[0m\u001b[0;34m\u001b[0m\u001b[0m\n\u001b[1;32m     98\u001b[0m         return {mimetype: getattr(self, method_name)()\n\u001b[0;32m---> 99\u001b[0;31m                 \u001b[0;32mfor\u001b[0m \u001b[0mmimetype\u001b[0m\u001b[0;34m,\u001b[0m \u001b[0mmethod_name\u001b[0m \u001b[0;32min\u001b[0m \u001b[0mMIME_TYPES\u001b[0m\u001b[0;34m.\u001b[0m\u001b[0mitems\u001b[0m\u001b[0;34m(\u001b[0m\u001b[0;34m)\u001b[0m\u001b[0;34m\u001b[0m\u001b[0;34m\u001b[0m\u001b[0m\n\u001b[0m\u001b[1;32m    100\u001b[0m                 if mimetype in include}\n\u001b[1;32m    101\u001b[0m \u001b[0;34m\u001b[0m\u001b[0m\n",
      "\u001b[0;32m~/opt/anaconda3/envs/CompLing/lib/python3.7/site-packages/graphviz/jupyter_integration.py\u001b[0m in \u001b[0;36m<dictcomp>\u001b[0;34m(.0)\u001b[0m\n\u001b[1;32m     98\u001b[0m         return {mimetype: getattr(self, method_name)()\n\u001b[1;32m     99\u001b[0m                 \u001b[0;32mfor\u001b[0m \u001b[0mmimetype\u001b[0m\u001b[0;34m,\u001b[0m \u001b[0mmethod_name\u001b[0m \u001b[0;32min\u001b[0m \u001b[0mMIME_TYPES\u001b[0m\u001b[0;34m.\u001b[0m\u001b[0mitems\u001b[0m\u001b[0;34m(\u001b[0m\u001b[0;34m)\u001b[0m\u001b[0;34m\u001b[0m\u001b[0;34m\u001b[0m\u001b[0m\n\u001b[0;32m--> 100\u001b[0;31m                 if mimetype in include}\n\u001b[0m\u001b[1;32m    101\u001b[0m \u001b[0;34m\u001b[0m\u001b[0m\n\u001b[1;32m    102\u001b[0m     \u001b[0;32mdef\u001b[0m \u001b[0m_repr_image_jpeg\u001b[0m\u001b[0;34m(\u001b[0m\u001b[0mself\u001b[0m\u001b[0;34m)\u001b[0m \u001b[0;34m->\u001b[0m \u001b[0mbytes\u001b[0m\u001b[0;34m:\u001b[0m\u001b[0;34m\u001b[0m\u001b[0;34m\u001b[0m\u001b[0m\n",
      "\u001b[0;32m~/opt/anaconda3/envs/CompLing/lib/python3.7/site-packages/graphviz/jupyter_integration.py\u001b[0m in \u001b[0;36m_repr_image_svg_xml\u001b[0;34m(self)\u001b[0m\n\u001b[1;32m    110\u001b[0m     \u001b[0;32mdef\u001b[0m \u001b[0m_repr_image_svg_xml\u001b[0m\u001b[0;34m(\u001b[0m\u001b[0mself\u001b[0m\u001b[0;34m)\u001b[0m \u001b[0;34m->\u001b[0m \u001b[0mstr\u001b[0m\u001b[0;34m:\u001b[0m\u001b[0;34m\u001b[0m\u001b[0;34m\u001b[0m\u001b[0m\n\u001b[1;32m    111\u001b[0m         \u001b[0;34m\"\"\"Return the rendered graph as SVG string.\"\"\"\u001b[0m\u001b[0;34m\u001b[0m\u001b[0;34m\u001b[0m\u001b[0m\n\u001b[0;32m--> 112\u001b[0;31m         \u001b[0;32mreturn\u001b[0m \u001b[0mself\u001b[0m\u001b[0;34m.\u001b[0m\u001b[0mpipe\u001b[0m\u001b[0;34m(\u001b[0m\u001b[0mformat\u001b[0m\u001b[0;34m=\u001b[0m\u001b[0;34m'svg'\u001b[0m\u001b[0;34m,\u001b[0m \u001b[0mencoding\u001b[0m\u001b[0;34m=\u001b[0m\u001b[0mSVG_ENCODING\u001b[0m\u001b[0;34m)\u001b[0m\u001b[0;34m\u001b[0m\u001b[0;34m\u001b[0m\u001b[0m\n\u001b[0m",
      "\u001b[0;32m~/opt/anaconda3/envs/CompLing/lib/python3.7/site-packages/graphviz/piping.py\u001b[0m in \u001b[0;36mpipe\u001b[0;34m(self, format, renderer, formatter, neato_no_op, quiet, engine, encoding)\u001b[0m\n\u001b[1;32m    108\u001b[0m                                  \u001b[0mquiet\u001b[0m\u001b[0;34m=\u001b[0m\u001b[0mquiet\u001b[0m\u001b[0;34m,\u001b[0m\u001b[0;34m\u001b[0m\u001b[0;34m\u001b[0m\u001b[0m\n\u001b[1;32m    109\u001b[0m                                  \u001b[0mengine\u001b[0m\u001b[0;34m=\u001b[0m\u001b[0mengine\u001b[0m\u001b[0;34m,\u001b[0m\u001b[0;34m\u001b[0m\u001b[0;34m\u001b[0m\u001b[0m\n\u001b[0;32m--> 110\u001b[0;31m                                  encoding=encoding)\n\u001b[0m\u001b[1;32m    111\u001b[0m \u001b[0;34m\u001b[0m\u001b[0m\n\u001b[1;32m    112\u001b[0m     \u001b[0;34m@\u001b[0m\u001b[0m_tools\u001b[0m\u001b[0;34m.\u001b[0m\u001b[0mdeprecate_positional_args\u001b[0m\u001b[0;34m(\u001b[0m\u001b[0msupported_number\u001b[0m\u001b[0;34m=\u001b[0m\u001b[0;36m2\u001b[0m\u001b[0;34m)\u001b[0m\u001b[0;34m\u001b[0m\u001b[0;34m\u001b[0m\u001b[0m\n",
      "\u001b[0;32m~/opt/anaconda3/envs/CompLing/lib/python3.7/site-packages/graphviz/_tools.py\u001b[0m in \u001b[0;36mwrapper\u001b[0;34m(*args, **kwargs)\u001b[0m\n\u001b[1;32m    169\u001b[0m                               category=category)\n\u001b[1;32m    170\u001b[0m \u001b[0;34m\u001b[0m\u001b[0m\n\u001b[0;32m--> 171\u001b[0;31m             \u001b[0;32mreturn\u001b[0m \u001b[0mfunc\u001b[0m\u001b[0;34m(\u001b[0m\u001b[0;34m*\u001b[0m\u001b[0margs\u001b[0m\u001b[0;34m,\u001b[0m \u001b[0;34m**\u001b[0m\u001b[0mkwargs\u001b[0m\u001b[0;34m)\u001b[0m\u001b[0;34m\u001b[0m\u001b[0;34m\u001b[0m\u001b[0m\n\u001b[0m\u001b[1;32m    172\u001b[0m \u001b[0;34m\u001b[0m\u001b[0m\n\u001b[1;32m    173\u001b[0m         \u001b[0;32mreturn\u001b[0m \u001b[0mwrapper\u001b[0m\u001b[0;34m\u001b[0m\u001b[0;34m\u001b[0m\u001b[0m\n",
      "\u001b[0;32m~/opt/anaconda3/envs/CompLing/lib/python3.7/site-packages/graphviz/piping.py\u001b[0m in \u001b[0;36m_pipe_legacy\u001b[0;34m(self, format, renderer, formatter, neato_no_op, quiet, engine, encoding)\u001b[0m\n\u001b[1;32m    125\u001b[0m                                  \u001b[0mquiet\u001b[0m\u001b[0;34m=\u001b[0m\u001b[0mquiet\u001b[0m\u001b[0;34m,\u001b[0m\u001b[0;34m\u001b[0m\u001b[0;34m\u001b[0m\u001b[0m\n\u001b[1;32m    126\u001b[0m                                  \u001b[0mengine\u001b[0m\u001b[0;34m=\u001b[0m\u001b[0mengine\u001b[0m\u001b[0;34m,\u001b[0m\u001b[0;34m\u001b[0m\u001b[0;34m\u001b[0m\u001b[0m\n\u001b[0;32m--> 127\u001b[0;31m                                  encoding=encoding)\n\u001b[0m\u001b[1;32m    128\u001b[0m \u001b[0;34m\u001b[0m\u001b[0m\n\u001b[1;32m    129\u001b[0m     def _pipe_future(self, format: typing.Optional[str] = None, *,\n",
      "\u001b[0;32m~/opt/anaconda3/envs/CompLing/lib/python3.7/site-packages/graphviz/piping.py\u001b[0m in \u001b[0;36m_pipe_future\u001b[0;34m(self, format, renderer, formatter, neato_no_op, quiet, engine, encoding)\u001b[0m\n\u001b[1;32m    147\u001b[0m             \u001b[0;32mif\u001b[0m \u001b[0mcodecs\u001b[0m\u001b[0;34m.\u001b[0m\u001b[0mlookup\u001b[0m\u001b[0;34m(\u001b[0m\u001b[0mencoding\u001b[0m\u001b[0;34m)\u001b[0m \u001b[0;32mis\u001b[0m \u001b[0mcodecs\u001b[0m\u001b[0;34m.\u001b[0m\u001b[0mlookup\u001b[0m\u001b[0;34m(\u001b[0m\u001b[0mself\u001b[0m\u001b[0;34m.\u001b[0m\u001b[0mencoding\u001b[0m\u001b[0;34m)\u001b[0m\u001b[0;34m:\u001b[0m\u001b[0;34m\u001b[0m\u001b[0;34m\u001b[0m\u001b[0m\n\u001b[1;32m    148\u001b[0m                 \u001b[0;31m# common case: both stdin and stdout need the same encoding\u001b[0m\u001b[0;34m\u001b[0m\u001b[0;34m\u001b[0m\u001b[0;34m\u001b[0m\u001b[0m\n\u001b[0;32m--> 149\u001b[0;31m                 \u001b[0;32mreturn\u001b[0m \u001b[0mself\u001b[0m\u001b[0;34m.\u001b[0m\u001b[0m_pipe_lines_string\u001b[0m\u001b[0;34m(\u001b[0m\u001b[0;34m*\u001b[0m\u001b[0margs\u001b[0m\u001b[0;34m,\u001b[0m \u001b[0mencoding\u001b[0m\u001b[0;34m=\u001b[0m\u001b[0mencoding\u001b[0m\u001b[0;34m,\u001b[0m \u001b[0;34m**\u001b[0m\u001b[0mkwargs\u001b[0m\u001b[0;34m)\u001b[0m\u001b[0;34m\u001b[0m\u001b[0;34m\u001b[0m\u001b[0m\n\u001b[0m\u001b[1;32m    150\u001b[0m             \u001b[0;32mtry\u001b[0m\u001b[0;34m:\u001b[0m\u001b[0;34m\u001b[0m\u001b[0;34m\u001b[0m\u001b[0m\n\u001b[1;32m    151\u001b[0m                 \u001b[0mraw\u001b[0m \u001b[0;34m=\u001b[0m \u001b[0mself\u001b[0m\u001b[0;34m.\u001b[0m\u001b[0m_pipe_lines\u001b[0m\u001b[0;34m(\u001b[0m\u001b[0;34m*\u001b[0m\u001b[0margs\u001b[0m\u001b[0;34m,\u001b[0m \u001b[0minput_encoding\u001b[0m\u001b[0;34m=\u001b[0m\u001b[0mself\u001b[0m\u001b[0;34m.\u001b[0m\u001b[0mencoding\u001b[0m\u001b[0;34m,\u001b[0m \u001b[0;34m**\u001b[0m\u001b[0mkwargs\u001b[0m\u001b[0;34m)\u001b[0m\u001b[0;34m\u001b[0m\u001b[0;34m\u001b[0m\u001b[0m\n",
      "\u001b[0;32m~/opt/anaconda3/envs/CompLing/lib/python3.7/site-packages/graphviz/backend/piping.py\u001b[0m in \u001b[0;36mpipe_lines_string\u001b[0;34m(engine, format, input_lines, encoding, renderer, formatter, neato_no_op, quiet)\u001b[0m\n\u001b[1;32m    210\u001b[0m     \u001b[0mkwargs\u001b[0m \u001b[0;34m=\u001b[0m \u001b[0;34m{\u001b[0m\u001b[0;34m'input_lines'\u001b[0m\u001b[0;34m:\u001b[0m \u001b[0minput_lines\u001b[0m\u001b[0;34m,\u001b[0m \u001b[0;34m'encoding'\u001b[0m\u001b[0;34m:\u001b[0m \u001b[0mencoding\u001b[0m\u001b[0;34m}\u001b[0m\u001b[0;34m\u001b[0m\u001b[0;34m\u001b[0m\u001b[0m\n\u001b[1;32m    211\u001b[0m \u001b[0;34m\u001b[0m\u001b[0m\n\u001b[0;32m--> 212\u001b[0;31m     \u001b[0mproc\u001b[0m \u001b[0;34m=\u001b[0m \u001b[0mexecute\u001b[0m\u001b[0;34m.\u001b[0m\u001b[0mrun_check\u001b[0m\u001b[0;34m(\u001b[0m\u001b[0mcmd\u001b[0m\u001b[0;34m,\u001b[0m \u001b[0mcapture_output\u001b[0m\u001b[0;34m=\u001b[0m\u001b[0;32mTrue\u001b[0m\u001b[0;34m,\u001b[0m \u001b[0mquiet\u001b[0m\u001b[0;34m=\u001b[0m\u001b[0mquiet\u001b[0m\u001b[0;34m,\u001b[0m \u001b[0;34m**\u001b[0m\u001b[0mkwargs\u001b[0m\u001b[0;34m)\u001b[0m\u001b[0;34m\u001b[0m\u001b[0;34m\u001b[0m\u001b[0m\n\u001b[0m\u001b[1;32m    213\u001b[0m     \u001b[0;32mreturn\u001b[0m \u001b[0mproc\u001b[0m\u001b[0;34m.\u001b[0m\u001b[0mstdout\u001b[0m\u001b[0;34m\u001b[0m\u001b[0;34m\u001b[0m\u001b[0m\n",
      "\u001b[0;32m~/opt/anaconda3/envs/CompLing/lib/python3.7/site-packages/graphviz/backend/execute.py\u001b[0m in \u001b[0;36mrun_check\u001b[0;34m(cmd, input_lines, encoding, quiet, **kwargs)\u001b[0m\n\u001b[1;32m     82\u001b[0m     \u001b[0;32mexcept\u001b[0m \u001b[0mOSError\u001b[0m \u001b[0;32mas\u001b[0m \u001b[0me\u001b[0m\u001b[0;34m:\u001b[0m\u001b[0;34m\u001b[0m\u001b[0;34m\u001b[0m\u001b[0m\n\u001b[1;32m     83\u001b[0m         \u001b[0;32mif\u001b[0m \u001b[0me\u001b[0m\u001b[0;34m.\u001b[0m\u001b[0merrno\u001b[0m \u001b[0;34m==\u001b[0m \u001b[0merrno\u001b[0m\u001b[0;34m.\u001b[0m\u001b[0mENOENT\u001b[0m\u001b[0;34m:\u001b[0m\u001b[0;34m\u001b[0m\u001b[0;34m\u001b[0m\u001b[0m\n\u001b[0;32m---> 84\u001b[0;31m             \u001b[0;32mraise\u001b[0m \u001b[0mExecutableNotFound\u001b[0m\u001b[0;34m(\u001b[0m\u001b[0mcmd\u001b[0m\u001b[0;34m)\u001b[0m \u001b[0;32mfrom\u001b[0m \u001b[0me\u001b[0m\u001b[0;34m\u001b[0m\u001b[0;34m\u001b[0m\u001b[0m\n\u001b[0m\u001b[1;32m     85\u001b[0m         \u001b[0;32mraise\u001b[0m\u001b[0;34m\u001b[0m\u001b[0;34m\u001b[0m\u001b[0m\n\u001b[1;32m     86\u001b[0m \u001b[0;34m\u001b[0m\u001b[0m\n",
      "\u001b[0;31mExecutableNotFound\u001b[0m: failed to execute PosixPath('dot'), make sure the Graphviz executables are on your systems' PATH"
     ]
    },
    {
     "data": {
      "text/plain": [
       "<graphviz.sources.Source at 0x7fd488f6a990>"
      ]
     },
     "execution_count": 27,
     "metadata": {},
     "output_type": "execute_result"
    }
   ],
   "source": [
    "Z = X.copy()\n",
    "Z.disjunct(Y)\n",
    "Z.minimize()\n",
    "Z.view()"
   ]
  },
  {
   "cell_type": "code",
   "execution_count": 28,
   "id": "4a9bbd01-fc61-442d-b52d-e4bdb99cb968",
   "metadata": {},
   "outputs": [
    {
     "data": {
      "text/plain": [
       "{'aaaaab', 'aaaab', 'aaab', 'aab', 'ab', 'abb', 'abbb', 'abbbb'}"
      ]
     },
     "execution_count": 28,
     "metadata": {},
     "output_type": "execute_result"
    }
   ],
   "source": [
    "set(Z.extract_paths(max_cycles=3).keys())"
   ]
  },
  {
   "cell_type": "markdown",
   "id": "4267f0b6-1891-4c5b-beca-38bf372c7c8a",
   "metadata": {},
   "source": [
    "*Union is an operation of basic regular expressions*\n",
    "### Intersection"
   ]
  },
  {
   "cell_type": "code",
   "execution_count": 29,
   "id": "3a524a60-d80d-445e-831e-06a2b2685af5",
   "metadata": {},
   "outputs": [
    {
     "ename": "ExecutableNotFound",
     "evalue": "failed to execute PosixPath('dot'), make sure the Graphviz executables are on your systems' PATH",
     "output_type": "error",
     "traceback": [
      "\u001b[0;31m---------------------------------------------------------------------------\u001b[0m",
      "\u001b[0;31mFileNotFoundError\u001b[0m                         Traceback (most recent call last)",
      "\u001b[0;32m~/opt/anaconda3/envs/CompLing/lib/python3.7/site-packages/graphviz/backend/execute.py\u001b[0m in \u001b[0;36mrun_check\u001b[0;34m(cmd, input_lines, encoding, quiet, **kwargs)\u001b[0m\n\u001b[1;32m     78\u001b[0m                 \u001b[0mkwargs\u001b[0m\u001b[0;34m[\u001b[0m\u001b[0;34m'stdout'\u001b[0m\u001b[0;34m]\u001b[0m \u001b[0;34m=\u001b[0m \u001b[0mkwargs\u001b[0m\u001b[0;34m[\u001b[0m\u001b[0;34m'stderr'\u001b[0m\u001b[0;34m]\u001b[0m \u001b[0;34m=\u001b[0m \u001b[0msubprocess\u001b[0m\u001b[0;34m.\u001b[0m\u001b[0mPIPE\u001b[0m\u001b[0;34m\u001b[0m\u001b[0;34m\u001b[0m\u001b[0m\n\u001b[0;32m---> 79\u001b[0;31m             \u001b[0mproc\u001b[0m \u001b[0;34m=\u001b[0m \u001b[0m_run_input_lines\u001b[0m\u001b[0;34m(\u001b[0m\u001b[0mcmd\u001b[0m\u001b[0;34m,\u001b[0m \u001b[0minput_lines\u001b[0m\u001b[0;34m,\u001b[0m \u001b[0mkwargs\u001b[0m\u001b[0;34m=\u001b[0m\u001b[0mkwargs\u001b[0m\u001b[0;34m)\u001b[0m\u001b[0;34m\u001b[0m\u001b[0;34m\u001b[0m\u001b[0m\n\u001b[0m\u001b[1;32m     80\u001b[0m         \u001b[0;32melse\u001b[0m\u001b[0;34m:\u001b[0m\u001b[0;34m\u001b[0m\u001b[0;34m\u001b[0m\u001b[0m\n",
      "\u001b[0;32m~/opt/anaconda3/envs/CompLing/lib/python3.7/site-packages/graphviz/backend/execute.py\u001b[0m in \u001b[0;36m_run_input_lines\u001b[0;34m(cmd, input_lines, kwargs)\u001b[0m\n\u001b[1;32m     98\u001b[0m \u001b[0;32mdef\u001b[0m \u001b[0m_run_input_lines\u001b[0m\u001b[0;34m(\u001b[0m\u001b[0mcmd\u001b[0m\u001b[0;34m,\u001b[0m \u001b[0minput_lines\u001b[0m\u001b[0;34m,\u001b[0m \u001b[0;34m*\u001b[0m\u001b[0;34m,\u001b[0m \u001b[0mkwargs\u001b[0m\u001b[0;34m)\u001b[0m\u001b[0;34m:\u001b[0m\u001b[0;34m\u001b[0m\u001b[0;34m\u001b[0m\u001b[0m\n\u001b[0;32m---> 99\u001b[0;31m     \u001b[0mpopen\u001b[0m \u001b[0;34m=\u001b[0m \u001b[0msubprocess\u001b[0m\u001b[0;34m.\u001b[0m\u001b[0mPopen\u001b[0m\u001b[0;34m(\u001b[0m\u001b[0mcmd\u001b[0m\u001b[0;34m,\u001b[0m \u001b[0mstdin\u001b[0m\u001b[0;34m=\u001b[0m\u001b[0msubprocess\u001b[0m\u001b[0;34m.\u001b[0m\u001b[0mPIPE\u001b[0m\u001b[0;34m,\u001b[0m \u001b[0;34m**\u001b[0m\u001b[0mkwargs\u001b[0m\u001b[0;34m)\u001b[0m\u001b[0;34m\u001b[0m\u001b[0;34m\u001b[0m\u001b[0m\n\u001b[0m\u001b[1;32m    100\u001b[0m \u001b[0;34m\u001b[0m\u001b[0m\n",
      "\u001b[0;32m~/opt/anaconda3/envs/CompLing/lib/python3.7/subprocess.py\u001b[0m in \u001b[0;36m__init__\u001b[0;34m(self, args, bufsize, executable, stdin, stdout, stderr, preexec_fn, close_fds, shell, cwd, env, universal_newlines, startupinfo, creationflags, restore_signals, start_new_session, pass_fds, encoding, errors, text)\u001b[0m\n\u001b[1;32m    799\u001b[0m                                 \u001b[0merrread\u001b[0m\u001b[0;34m,\u001b[0m \u001b[0merrwrite\u001b[0m\u001b[0;34m,\u001b[0m\u001b[0;34m\u001b[0m\u001b[0;34m\u001b[0m\u001b[0m\n\u001b[0;32m--> 800\u001b[0;31m                                 restore_signals, start_new_session)\n\u001b[0m\u001b[1;32m    801\u001b[0m         \u001b[0;32mexcept\u001b[0m\u001b[0;34m:\u001b[0m\u001b[0;34m\u001b[0m\u001b[0;34m\u001b[0m\u001b[0m\n",
      "\u001b[0;32m~/opt/anaconda3/envs/CompLing/lib/python3.7/subprocess.py\u001b[0m in \u001b[0;36m_execute_child\u001b[0;34m(self, args, executable, preexec_fn, close_fds, pass_fds, cwd, env, startupinfo, creationflags, shell, p2cread, p2cwrite, c2pread, c2pwrite, errread, errwrite, restore_signals, start_new_session)\u001b[0m\n\u001b[1;32m   1550\u001b[0m                             \u001b[0merr_msg\u001b[0m \u001b[0;34m+=\u001b[0m \u001b[0;34m': '\u001b[0m \u001b[0;34m+\u001b[0m \u001b[0mrepr\u001b[0m\u001b[0;34m(\u001b[0m\u001b[0merr_filename\u001b[0m\u001b[0;34m)\u001b[0m\u001b[0;34m\u001b[0m\u001b[0;34m\u001b[0m\u001b[0m\n\u001b[0;32m-> 1551\u001b[0;31m                     \u001b[0;32mraise\u001b[0m \u001b[0mchild_exception_type\u001b[0m\u001b[0;34m(\u001b[0m\u001b[0merrno_num\u001b[0m\u001b[0;34m,\u001b[0m \u001b[0merr_msg\u001b[0m\u001b[0;34m,\u001b[0m \u001b[0merr_filename\u001b[0m\u001b[0;34m)\u001b[0m\u001b[0;34m\u001b[0m\u001b[0;34m\u001b[0m\u001b[0m\n\u001b[0m\u001b[1;32m   1552\u001b[0m                 \u001b[0;32mraise\u001b[0m \u001b[0mchild_exception_type\u001b[0m\u001b[0;34m(\u001b[0m\u001b[0merr_msg\u001b[0m\u001b[0;34m)\u001b[0m\u001b[0;34m\u001b[0m\u001b[0;34m\u001b[0m\u001b[0m\n",
      "\u001b[0;31mFileNotFoundError\u001b[0m: [Errno 2] No such file or directory: PosixPath('dot'): PosixPath('dot')",
      "\nThe above exception was the direct cause of the following exception:\n",
      "\u001b[0;31mExecutableNotFound\u001b[0m                        Traceback (most recent call last)",
      "\u001b[0;32m~/opt/anaconda3/envs/CompLing/lib/python3.7/site-packages/IPython/core/formatters.py\u001b[0m in \u001b[0;36m__call__\u001b[0;34m(self, obj, include, exclude)\u001b[0m\n\u001b[1;32m    968\u001b[0m \u001b[0;34m\u001b[0m\u001b[0m\n\u001b[1;32m    969\u001b[0m             \u001b[0;32mif\u001b[0m \u001b[0mmethod\u001b[0m \u001b[0;32mis\u001b[0m \u001b[0;32mnot\u001b[0m \u001b[0;32mNone\u001b[0m\u001b[0;34m:\u001b[0m\u001b[0;34m\u001b[0m\u001b[0;34m\u001b[0m\u001b[0m\n\u001b[0;32m--> 970\u001b[0;31m                 \u001b[0;32mreturn\u001b[0m \u001b[0mmethod\u001b[0m\u001b[0;34m(\u001b[0m\u001b[0minclude\u001b[0m\u001b[0;34m=\u001b[0m\u001b[0minclude\u001b[0m\u001b[0;34m,\u001b[0m \u001b[0mexclude\u001b[0m\u001b[0;34m=\u001b[0m\u001b[0mexclude\u001b[0m\u001b[0;34m)\u001b[0m\u001b[0;34m\u001b[0m\u001b[0;34m\u001b[0m\u001b[0m\n\u001b[0m\u001b[1;32m    971\u001b[0m             \u001b[0;32mreturn\u001b[0m \u001b[0;32mNone\u001b[0m\u001b[0;34m\u001b[0m\u001b[0;34m\u001b[0m\u001b[0m\n\u001b[1;32m    972\u001b[0m         \u001b[0;32melse\u001b[0m\u001b[0;34m:\u001b[0m\u001b[0;34m\u001b[0m\u001b[0;34m\u001b[0m\u001b[0m\n",
      "\u001b[0;32m~/opt/anaconda3/envs/CompLing/lib/python3.7/site-packages/graphviz/jupyter_integration.py\u001b[0m in \u001b[0;36m_repr_mimebundle_\u001b[0;34m(self, include, exclude, **_)\u001b[0m\n\u001b[1;32m     97\u001b[0m         \u001b[0minclude\u001b[0m \u001b[0;34m-=\u001b[0m \u001b[0mset\u001b[0m\u001b[0;34m(\u001b[0m\u001b[0mexclude\u001b[0m \u001b[0;32mor\u001b[0m \u001b[0;34m[\u001b[0m\u001b[0;34m]\u001b[0m\u001b[0;34m)\u001b[0m\u001b[0;34m\u001b[0m\u001b[0;34m\u001b[0m\u001b[0m\n\u001b[1;32m     98\u001b[0m         return {mimetype: getattr(self, method_name)()\n\u001b[0;32m---> 99\u001b[0;31m                 \u001b[0;32mfor\u001b[0m \u001b[0mmimetype\u001b[0m\u001b[0;34m,\u001b[0m \u001b[0mmethod_name\u001b[0m \u001b[0;32min\u001b[0m \u001b[0mMIME_TYPES\u001b[0m\u001b[0;34m.\u001b[0m\u001b[0mitems\u001b[0m\u001b[0;34m(\u001b[0m\u001b[0;34m)\u001b[0m\u001b[0;34m\u001b[0m\u001b[0;34m\u001b[0m\u001b[0m\n\u001b[0m\u001b[1;32m    100\u001b[0m                 if mimetype in include}\n\u001b[1;32m    101\u001b[0m \u001b[0;34m\u001b[0m\u001b[0m\n",
      "\u001b[0;32m~/opt/anaconda3/envs/CompLing/lib/python3.7/site-packages/graphviz/jupyter_integration.py\u001b[0m in \u001b[0;36m<dictcomp>\u001b[0;34m(.0)\u001b[0m\n\u001b[1;32m     98\u001b[0m         return {mimetype: getattr(self, method_name)()\n\u001b[1;32m     99\u001b[0m                 \u001b[0;32mfor\u001b[0m \u001b[0mmimetype\u001b[0m\u001b[0;34m,\u001b[0m \u001b[0mmethod_name\u001b[0m \u001b[0;32min\u001b[0m \u001b[0mMIME_TYPES\u001b[0m\u001b[0;34m.\u001b[0m\u001b[0mitems\u001b[0m\u001b[0;34m(\u001b[0m\u001b[0;34m)\u001b[0m\u001b[0;34m\u001b[0m\u001b[0;34m\u001b[0m\u001b[0m\n\u001b[0;32m--> 100\u001b[0;31m                 if mimetype in include}\n\u001b[0m\u001b[1;32m    101\u001b[0m \u001b[0;34m\u001b[0m\u001b[0m\n\u001b[1;32m    102\u001b[0m     \u001b[0;32mdef\u001b[0m \u001b[0m_repr_image_jpeg\u001b[0m\u001b[0;34m(\u001b[0m\u001b[0mself\u001b[0m\u001b[0;34m)\u001b[0m \u001b[0;34m->\u001b[0m \u001b[0mbytes\u001b[0m\u001b[0;34m:\u001b[0m\u001b[0;34m\u001b[0m\u001b[0;34m\u001b[0m\u001b[0m\n",
      "\u001b[0;32m~/opt/anaconda3/envs/CompLing/lib/python3.7/site-packages/graphviz/jupyter_integration.py\u001b[0m in \u001b[0;36m_repr_image_svg_xml\u001b[0;34m(self)\u001b[0m\n\u001b[1;32m    110\u001b[0m     \u001b[0;32mdef\u001b[0m \u001b[0m_repr_image_svg_xml\u001b[0m\u001b[0;34m(\u001b[0m\u001b[0mself\u001b[0m\u001b[0;34m)\u001b[0m \u001b[0;34m->\u001b[0m \u001b[0mstr\u001b[0m\u001b[0;34m:\u001b[0m\u001b[0;34m\u001b[0m\u001b[0;34m\u001b[0m\u001b[0m\n\u001b[1;32m    111\u001b[0m         \u001b[0;34m\"\"\"Return the rendered graph as SVG string.\"\"\"\u001b[0m\u001b[0;34m\u001b[0m\u001b[0;34m\u001b[0m\u001b[0m\n\u001b[0;32m--> 112\u001b[0;31m         \u001b[0;32mreturn\u001b[0m \u001b[0mself\u001b[0m\u001b[0;34m.\u001b[0m\u001b[0mpipe\u001b[0m\u001b[0;34m(\u001b[0m\u001b[0mformat\u001b[0m\u001b[0;34m=\u001b[0m\u001b[0;34m'svg'\u001b[0m\u001b[0;34m,\u001b[0m \u001b[0mencoding\u001b[0m\u001b[0;34m=\u001b[0m\u001b[0mSVG_ENCODING\u001b[0m\u001b[0;34m)\u001b[0m\u001b[0;34m\u001b[0m\u001b[0;34m\u001b[0m\u001b[0m\n\u001b[0m",
      "\u001b[0;32m~/opt/anaconda3/envs/CompLing/lib/python3.7/site-packages/graphviz/piping.py\u001b[0m in \u001b[0;36mpipe\u001b[0;34m(self, format, renderer, formatter, neato_no_op, quiet, engine, encoding)\u001b[0m\n\u001b[1;32m    108\u001b[0m                                  \u001b[0mquiet\u001b[0m\u001b[0;34m=\u001b[0m\u001b[0mquiet\u001b[0m\u001b[0;34m,\u001b[0m\u001b[0;34m\u001b[0m\u001b[0;34m\u001b[0m\u001b[0m\n\u001b[1;32m    109\u001b[0m                                  \u001b[0mengine\u001b[0m\u001b[0;34m=\u001b[0m\u001b[0mengine\u001b[0m\u001b[0;34m,\u001b[0m\u001b[0;34m\u001b[0m\u001b[0;34m\u001b[0m\u001b[0m\n\u001b[0;32m--> 110\u001b[0;31m                                  encoding=encoding)\n\u001b[0m\u001b[1;32m    111\u001b[0m \u001b[0;34m\u001b[0m\u001b[0m\n\u001b[1;32m    112\u001b[0m     \u001b[0;34m@\u001b[0m\u001b[0m_tools\u001b[0m\u001b[0;34m.\u001b[0m\u001b[0mdeprecate_positional_args\u001b[0m\u001b[0;34m(\u001b[0m\u001b[0msupported_number\u001b[0m\u001b[0;34m=\u001b[0m\u001b[0;36m2\u001b[0m\u001b[0;34m)\u001b[0m\u001b[0;34m\u001b[0m\u001b[0;34m\u001b[0m\u001b[0m\n",
      "\u001b[0;32m~/opt/anaconda3/envs/CompLing/lib/python3.7/site-packages/graphviz/_tools.py\u001b[0m in \u001b[0;36mwrapper\u001b[0;34m(*args, **kwargs)\u001b[0m\n\u001b[1;32m    169\u001b[0m                               category=category)\n\u001b[1;32m    170\u001b[0m \u001b[0;34m\u001b[0m\u001b[0m\n\u001b[0;32m--> 171\u001b[0;31m             \u001b[0;32mreturn\u001b[0m \u001b[0mfunc\u001b[0m\u001b[0;34m(\u001b[0m\u001b[0;34m*\u001b[0m\u001b[0margs\u001b[0m\u001b[0;34m,\u001b[0m \u001b[0;34m**\u001b[0m\u001b[0mkwargs\u001b[0m\u001b[0;34m)\u001b[0m\u001b[0;34m\u001b[0m\u001b[0;34m\u001b[0m\u001b[0m\n\u001b[0m\u001b[1;32m    172\u001b[0m \u001b[0;34m\u001b[0m\u001b[0m\n\u001b[1;32m    173\u001b[0m         \u001b[0;32mreturn\u001b[0m \u001b[0mwrapper\u001b[0m\u001b[0;34m\u001b[0m\u001b[0;34m\u001b[0m\u001b[0m\n",
      "\u001b[0;32m~/opt/anaconda3/envs/CompLing/lib/python3.7/site-packages/graphviz/piping.py\u001b[0m in \u001b[0;36m_pipe_legacy\u001b[0;34m(self, format, renderer, formatter, neato_no_op, quiet, engine, encoding)\u001b[0m\n\u001b[1;32m    125\u001b[0m                                  \u001b[0mquiet\u001b[0m\u001b[0;34m=\u001b[0m\u001b[0mquiet\u001b[0m\u001b[0;34m,\u001b[0m\u001b[0;34m\u001b[0m\u001b[0;34m\u001b[0m\u001b[0m\n\u001b[1;32m    126\u001b[0m                                  \u001b[0mengine\u001b[0m\u001b[0;34m=\u001b[0m\u001b[0mengine\u001b[0m\u001b[0;34m,\u001b[0m\u001b[0;34m\u001b[0m\u001b[0;34m\u001b[0m\u001b[0m\n\u001b[0;32m--> 127\u001b[0;31m                                  encoding=encoding)\n\u001b[0m\u001b[1;32m    128\u001b[0m \u001b[0;34m\u001b[0m\u001b[0m\n\u001b[1;32m    129\u001b[0m     def _pipe_future(self, format: typing.Optional[str] = None, *,\n",
      "\u001b[0;32m~/opt/anaconda3/envs/CompLing/lib/python3.7/site-packages/graphviz/piping.py\u001b[0m in \u001b[0;36m_pipe_future\u001b[0;34m(self, format, renderer, formatter, neato_no_op, quiet, engine, encoding)\u001b[0m\n\u001b[1;32m    147\u001b[0m             \u001b[0;32mif\u001b[0m \u001b[0mcodecs\u001b[0m\u001b[0;34m.\u001b[0m\u001b[0mlookup\u001b[0m\u001b[0;34m(\u001b[0m\u001b[0mencoding\u001b[0m\u001b[0;34m)\u001b[0m \u001b[0;32mis\u001b[0m \u001b[0mcodecs\u001b[0m\u001b[0;34m.\u001b[0m\u001b[0mlookup\u001b[0m\u001b[0;34m(\u001b[0m\u001b[0mself\u001b[0m\u001b[0;34m.\u001b[0m\u001b[0mencoding\u001b[0m\u001b[0;34m)\u001b[0m\u001b[0;34m:\u001b[0m\u001b[0;34m\u001b[0m\u001b[0;34m\u001b[0m\u001b[0m\n\u001b[1;32m    148\u001b[0m                 \u001b[0;31m# common case: both stdin and stdout need the same encoding\u001b[0m\u001b[0;34m\u001b[0m\u001b[0;34m\u001b[0m\u001b[0;34m\u001b[0m\u001b[0m\n\u001b[0;32m--> 149\u001b[0;31m                 \u001b[0;32mreturn\u001b[0m \u001b[0mself\u001b[0m\u001b[0;34m.\u001b[0m\u001b[0m_pipe_lines_string\u001b[0m\u001b[0;34m(\u001b[0m\u001b[0;34m*\u001b[0m\u001b[0margs\u001b[0m\u001b[0;34m,\u001b[0m \u001b[0mencoding\u001b[0m\u001b[0;34m=\u001b[0m\u001b[0mencoding\u001b[0m\u001b[0;34m,\u001b[0m \u001b[0;34m**\u001b[0m\u001b[0mkwargs\u001b[0m\u001b[0;34m)\u001b[0m\u001b[0;34m\u001b[0m\u001b[0;34m\u001b[0m\u001b[0m\n\u001b[0m\u001b[1;32m    150\u001b[0m             \u001b[0;32mtry\u001b[0m\u001b[0;34m:\u001b[0m\u001b[0;34m\u001b[0m\u001b[0;34m\u001b[0m\u001b[0m\n\u001b[1;32m    151\u001b[0m                 \u001b[0mraw\u001b[0m \u001b[0;34m=\u001b[0m \u001b[0mself\u001b[0m\u001b[0;34m.\u001b[0m\u001b[0m_pipe_lines\u001b[0m\u001b[0;34m(\u001b[0m\u001b[0;34m*\u001b[0m\u001b[0margs\u001b[0m\u001b[0;34m,\u001b[0m \u001b[0minput_encoding\u001b[0m\u001b[0;34m=\u001b[0m\u001b[0mself\u001b[0m\u001b[0;34m.\u001b[0m\u001b[0mencoding\u001b[0m\u001b[0;34m,\u001b[0m \u001b[0;34m**\u001b[0m\u001b[0mkwargs\u001b[0m\u001b[0;34m)\u001b[0m\u001b[0;34m\u001b[0m\u001b[0;34m\u001b[0m\u001b[0m\n",
      "\u001b[0;32m~/opt/anaconda3/envs/CompLing/lib/python3.7/site-packages/graphviz/backend/piping.py\u001b[0m in \u001b[0;36mpipe_lines_string\u001b[0;34m(engine, format, input_lines, encoding, renderer, formatter, neato_no_op, quiet)\u001b[0m\n\u001b[1;32m    210\u001b[0m     \u001b[0mkwargs\u001b[0m \u001b[0;34m=\u001b[0m \u001b[0;34m{\u001b[0m\u001b[0;34m'input_lines'\u001b[0m\u001b[0;34m:\u001b[0m \u001b[0minput_lines\u001b[0m\u001b[0;34m,\u001b[0m \u001b[0;34m'encoding'\u001b[0m\u001b[0;34m:\u001b[0m \u001b[0mencoding\u001b[0m\u001b[0;34m}\u001b[0m\u001b[0;34m\u001b[0m\u001b[0;34m\u001b[0m\u001b[0m\n\u001b[1;32m    211\u001b[0m \u001b[0;34m\u001b[0m\u001b[0m\n\u001b[0;32m--> 212\u001b[0;31m     \u001b[0mproc\u001b[0m \u001b[0;34m=\u001b[0m \u001b[0mexecute\u001b[0m\u001b[0;34m.\u001b[0m\u001b[0mrun_check\u001b[0m\u001b[0;34m(\u001b[0m\u001b[0mcmd\u001b[0m\u001b[0;34m,\u001b[0m \u001b[0mcapture_output\u001b[0m\u001b[0;34m=\u001b[0m\u001b[0;32mTrue\u001b[0m\u001b[0;34m,\u001b[0m \u001b[0mquiet\u001b[0m\u001b[0;34m=\u001b[0m\u001b[0mquiet\u001b[0m\u001b[0;34m,\u001b[0m \u001b[0;34m**\u001b[0m\u001b[0mkwargs\u001b[0m\u001b[0;34m)\u001b[0m\u001b[0;34m\u001b[0m\u001b[0;34m\u001b[0m\u001b[0m\n\u001b[0m\u001b[1;32m    213\u001b[0m     \u001b[0;32mreturn\u001b[0m \u001b[0mproc\u001b[0m\u001b[0;34m.\u001b[0m\u001b[0mstdout\u001b[0m\u001b[0;34m\u001b[0m\u001b[0;34m\u001b[0m\u001b[0m\n",
      "\u001b[0;32m~/opt/anaconda3/envs/CompLing/lib/python3.7/site-packages/graphviz/backend/execute.py\u001b[0m in \u001b[0;36mrun_check\u001b[0;34m(cmd, input_lines, encoding, quiet, **kwargs)\u001b[0m\n\u001b[1;32m     82\u001b[0m     \u001b[0;32mexcept\u001b[0m \u001b[0mOSError\u001b[0m \u001b[0;32mas\u001b[0m \u001b[0me\u001b[0m\u001b[0;34m:\u001b[0m\u001b[0;34m\u001b[0m\u001b[0;34m\u001b[0m\u001b[0m\n\u001b[1;32m     83\u001b[0m         \u001b[0;32mif\u001b[0m \u001b[0me\u001b[0m\u001b[0;34m.\u001b[0m\u001b[0merrno\u001b[0m \u001b[0;34m==\u001b[0m \u001b[0merrno\u001b[0m\u001b[0;34m.\u001b[0m\u001b[0mENOENT\u001b[0m\u001b[0;34m:\u001b[0m\u001b[0;34m\u001b[0m\u001b[0;34m\u001b[0m\u001b[0m\n\u001b[0;32m---> 84\u001b[0;31m             \u001b[0;32mraise\u001b[0m \u001b[0mExecutableNotFound\u001b[0m\u001b[0;34m(\u001b[0m\u001b[0mcmd\u001b[0m\u001b[0;34m)\u001b[0m \u001b[0;32mfrom\u001b[0m \u001b[0me\u001b[0m\u001b[0;34m\u001b[0m\u001b[0;34m\u001b[0m\u001b[0m\n\u001b[0m\u001b[1;32m     85\u001b[0m         \u001b[0;32mraise\u001b[0m\u001b[0;34m\u001b[0m\u001b[0;34m\u001b[0m\u001b[0m\n\u001b[1;32m     86\u001b[0m \u001b[0;34m\u001b[0m\u001b[0m\n",
      "\u001b[0;31mExecutableNotFound\u001b[0m: failed to execute PosixPath('dot'), make sure the Graphviz executables are on your systems' PATH"
     ]
    },
    {
     "data": {
      "text/plain": [
       "<graphviz.sources.Source at 0x7fd488f78990>"
      ]
     },
     "execution_count": 29,
     "metadata": {},
     "output_type": "execute_result"
    }
   ],
   "source": [
    "W = X.copy()\n",
    "W.intersect(Y)\n",
    "W.minimize()\n",
    "W.view()"
   ]
  },
  {
   "cell_type": "code",
   "execution_count": 203,
   "id": "dff4fd7a-f347-4515-85cd-950328c1cd3d",
   "metadata": {},
   "outputs": [
    {
     "data": {
      "text/plain": [
       "{'ab'}"
      ]
     },
     "execution_count": 203,
     "metadata": {},
     "output_type": "execute_result"
    }
   ],
   "source": [
    "set(W.extract_paths().keys())"
   ]
  },
  {
   "cell_type": "markdown",
   "id": "1b7ecd22-e5de-421e-a0af-9f6756a3f869",
   "metadata": {},
   "source": [
    "Intersection is an operation of the language of extended regular expressions, and not of basic language of regular expressions.\n",
    "\n",
    "#### Set difference"
   ]
  },
  {
   "cell_type": "code",
   "execution_count": 206,
   "id": "37ef186a-6e68-4953-a57d-b42908a530d6",
   "metadata": {},
   "outputs": [
    {
     "data": {
      "image/svg+xml": "<?xml version=\"1.0\" encoding=\"UTF-8\" standalone=\"no\"?>\n<!DOCTYPE svg PUBLIC \"-//W3C//DTD SVG 1.1//EN\"\n \"http://www.w3.org/Graphics/SVG/1.1/DTD/svg11.dtd\">\n<!-- Generated by graphviz version 7.0.1 (20221109.1506)\n -->\n<!-- Title: H Pages: 1 -->\n<svg width=\"231pt\" height=\"60pt\"\n viewBox=\"0.00 0.00 231.19 60.20\" xmlns=\"http://www.w3.org/2000/svg\" xmlns:xlink=\"http://www.w3.org/1999/xlink\">\n<g id=\"graph0\" class=\"graph\" transform=\"scale(1 1) rotate(0) translate(4 56.2)\">\n<title>H</title>\n<polygon fill=\"white\" stroke=\"none\" points=\"-4,4 -4,-56.2 227.19,-56.2 227.19,4 -4,4\"/>\n<!-- q0 -->\n<g id=\"node1\" class=\"node\">\n<title>q0</title>\n<ellipse fill=\"yellow\" stroke=\"black\" cx=\"19.5\" cy=\"-26.1\" rx=\"19.5\" ry=\"19.5\"/>\n<text text-anchor=\"middle\" x=\"19.5\" y=\"-22.4\" font-family=\"Times,serif\" font-size=\"14.00\">q0</text>\n</g>\n<!-- q1 -->\n<g id=\"node2\" class=\"node\">\n<title>q1</title>\n<ellipse fill=\"yellow\" stroke=\"black\" cx=\"104.49\" cy=\"-26.1\" rx=\"19.5\" ry=\"19.5\"/>\n<text text-anchor=\"middle\" x=\"104.49\" y=\"-22.4\" font-family=\"Times,serif\" font-size=\"14.00\">q1</text>\n</g>\n<!-- q0&#45;&gt;q1 -->\n<g id=\"edge1\" class=\"edge\">\n<title>q0&#45;&gt;q1</title>\n<path fill=\"none\" stroke=\"black\" d=\"M39.33,-26.1C49.41,-26.1 62.07,-26.1 73.47,-26.1\"/>\n<polygon fill=\"black\" stroke=\"black\" points=\"73.22,-29.6 83.22,-26.1 73.22,-22.6 73.22,-29.6\"/>\n<text text-anchor=\"middle\" x=\"62\" y=\"-29.9\" font-family=\"Times,serif\" font-size=\"14.00\">a </text>\n</g>\n<!-- q2 -->\n<g id=\"node3\" class=\"node\">\n<title>q2</title>\n<ellipse fill=\"yellow\" stroke=\"black\" cx=\"197.09\" cy=\"-26.1\" rx=\"22.18\" ry=\"22.18\"/>\n<ellipse fill=\"none\" stroke=\"black\" cx=\"197.09\" cy=\"-26.1\" rx=\"26.2\" ry=\"26.2\"/>\n<text text-anchor=\"middle\" x=\"197.09\" y=\"-22.4\" font-family=\"Times,serif\" font-size=\"14.00\">q2 </text>\n</g>\n<!-- q1&#45;&gt;q2 -->\n<g id=\"edge2\" class=\"edge\">\n<title>q1&#45;&gt;q2</title>\n<path fill=\"none\" stroke=\"black\" d=\"M124.27,-26.1C134.4,-26.1 147.27,-26.1 159.3,-26.1\"/>\n<polygon fill=\"black\" stroke=\"black\" points=\"158.96,-29.6 168.96,-26.1 158.96,-22.6 158.96,-29.6\"/>\n<text text-anchor=\"middle\" x=\"147.49\" y=\"-29.9\" font-family=\"Times,serif\" font-size=\"14.00\">b </text>\n</g>\n</g>\n</svg>\n",
      "text/plain": [
       "<graphviz.sources.Source at 0x10fad3e80>"
      ]
     },
     "execution_count": 206,
     "metadata": {},
     "output_type": "execute_result"
    }
   ],
   "source": [
    "W2 = hfst.regex('[a b+] & [a+ b]')\n",
    "W2.view()"
   ]
  },
  {
   "cell_type": "code",
   "execution_count": 207,
   "id": "883a5440-2a5e-4c84-876c-a25ce9a6cb17",
   "metadata": {},
   "outputs": [],
   "source": [
    "A = hfst.regex('a+')\n",
    "Aeven =  hfst.regex('[a a]+')"
   ]
  },
  {
   "cell_type": "markdown",
   "id": "e1d244af-6464-496c-a150-041077c5721e",
   "metadata": {},
   "source": [
    "*Be sure to separate the a's.*"
   ]
  },
  {
   "cell_type": "code",
   "execution_count": 208,
   "id": "ce4dc74e-f0f9-468b-bb19-fbbab50f1d93",
   "metadata": {},
   "outputs": [
    {
     "data": {
      "text/plain": [
       "{'a', 'aa', 'aaa', 'aaaa', 'aaaaa', 'aaaaaa'}"
      ]
     },
     "execution_count": 208,
     "metadata": {},
     "output_type": "execute_result"
    }
   ],
   "source": [
    "set(A.extract_paths(max_cycles=5).keys())"
   ]
  },
  {
   "cell_type": "code",
   "execution_count": 130,
   "id": "35a3fa6f-4124-43e6-bb12-a81f26dac558",
   "metadata": {},
   "outputs": [
    {
     "data": {
      "text/plain": [
       "{'aa', 'aaaa', 'aaaaaa', 'aaaaaaaa', 'aaaaaaaaaa', 'aaaaaaaaaaaa'}"
      ]
     },
     "execution_count": 130,
     "metadata": {},
     "output_type": "execute_result"
    }
   ],
   "source": [
    "set(Aeven.extract_paths(max_cycles=5).keys())"
   ]
  },
  {
   "cell_type": "code",
   "execution_count": 131,
   "id": "22dae6a7-cea3-45e5-80cc-d28995ff9d4f",
   "metadata": {},
   "outputs": [
    {
     "data": {
      "text/plain": [
       "{'a', 'aaa', 'aaaaa', 'aaaaaaa', 'aaaaaaaaa', 'aaaaaaaaaaa'}"
      ]
     },
     "execution_count": 131,
     "metadata": {},
     "output_type": "execute_result"
    }
   ],
   "source": [
    "Aodd = A.copy()\n",
    "Aodd.subtract(Aeven)\n",
    "set(Aodd.extract_paths(max_cycles=5).keys())"
   ]
  },
  {
   "cell_type": "code",
   "execution_count": 132,
   "id": "b53411da-e6d8-4252-b1e6-1fbd7c75282d",
   "metadata": {},
   "outputs": [
    {
     "data": {
      "image/svg+xml": "<?xml version=\"1.0\" encoding=\"UTF-8\" standalone=\"no\"?>\n<!DOCTYPE svg PUBLIC \"-//W3C//DTD SVG 1.1//EN\"\n \"http://www.w3.org/Graphics/SVG/1.1/DTD/svg11.dtd\">\n<!-- Generated by graphviz version 7.0.1 (20221109.1506)\n -->\n<!-- Title: H Pages: 1 -->\n<svg width=\"230pt\" height=\"60pt\"\n viewBox=\"0.00 0.00 230.19 60.20\" xmlns=\"http://www.w3.org/2000/svg\" xmlns:xlink=\"http://www.w3.org/1999/xlink\">\n<g id=\"graph0\" class=\"graph\" transform=\"scale(1 1) rotate(0) translate(4 56.2)\">\n<title>H</title>\n<polygon fill=\"white\" stroke=\"none\" points=\"-4,4 -4,-56.2 226.19,-56.2 226.19,4 -4,4\"/>\n<!-- q0 -->\n<g id=\"node1\" class=\"node\">\n<title>q0</title>\n<ellipse fill=\"yellow\" stroke=\"black\" cx=\"19.5\" cy=\"-26.1\" rx=\"19.5\" ry=\"19.5\"/>\n<text text-anchor=\"middle\" x=\"19.5\" y=\"-22.4\" font-family=\"Times,serif\" font-size=\"14.00\">q0</text>\n</g>\n<!-- q1 -->\n<g id=\"node2\" class=\"node\">\n<title>q1</title>\n<ellipse fill=\"yellow\" stroke=\"black\" cx=\"111.09\" cy=\"-26.1\" rx=\"22.18\" ry=\"22.18\"/>\n<ellipse fill=\"none\" stroke=\"black\" cx=\"111.09\" cy=\"-26.1\" rx=\"26.2\" ry=\"26.2\"/>\n<text text-anchor=\"middle\" x=\"111.09\" y=\"-22.4\" font-family=\"Times,serif\" font-size=\"14.00\">q1 </text>\n</g>\n<!-- q0&#45;&gt;q1 -->\n<g id=\"edge1\" class=\"edge\">\n<title>q0&#45;&gt;q1</title>\n<path fill=\"none\" stroke=\"black\" d=\"M39.06,-26.1C48.9,-26.1 61.35,-26.1 73.07,-26.1\"/>\n<polygon fill=\"black\" stroke=\"black\" points=\"72.91,-29.6 82.91,-26.1 72.91,-22.6 72.91,-29.6\"/>\n<text text-anchor=\"middle\" x=\"62\" y=\"-29.9\" font-family=\"Times,serif\" font-size=\"14.00\">a </text>\n</g>\n<!-- q2 -->\n<g id=\"node3\" class=\"node\">\n<title>q2</title>\n<ellipse fill=\"yellow\" stroke=\"black\" cx=\"202.69\" cy=\"-26.1\" rx=\"19.5\" ry=\"19.5\"/>\n<text text-anchor=\"middle\" x=\"202.69\" y=\"-22.4\" font-family=\"Times,serif\" font-size=\"14.00\">q2</text>\n</g>\n<!-- q1&#45;&gt;q2 -->\n<g id=\"edge2\" class=\"edge\">\n<title>q1&#45;&gt;q2</title>\n<path fill=\"none\" stroke=\"black\" d=\"M137.53,-26.1C148.09,-26.1 160.43,-26.1 171.45,-26.1\"/>\n<polygon fill=\"black\" stroke=\"black\" points=\"171.23,-29.6 181.23,-26.1 171.23,-22.6 171.23,-29.6\"/>\n<text text-anchor=\"middle\" x=\"160.19\" y=\"-29.9\" font-family=\"Times,serif\" font-size=\"14.00\">a </text>\n</g>\n<!-- q2&#45;&gt;q1 -->\n<g id=\"edge3\" class=\"edge\">\n<title>q2&#45;&gt;q1</title>\n<path fill=\"none\" stroke=\"black\" d=\"M186,-15.83C179.79,-12.33 172.41,-8.86 165.19,-7.1 158.27,-5.4 150.98,-6.21 144.1,-8.23\"/>\n<polygon fill=\"black\" stroke=\"black\" points=\"143.22,-4.82 135.15,-11.69 145.74,-11.35 143.22,-4.82\"/>\n<text text-anchor=\"middle\" x=\"160.19\" y=\"-10.9\" font-family=\"Times,serif\" font-size=\"14.00\">a </text>\n</g>\n</g>\n</svg>\n",
      "text/plain": [
       "<graphviz.sources.Source at 0x10fa59730>"
      ]
     },
     "execution_count": 132,
     "metadata": {},
     "output_type": "execute_result"
    }
   ],
   "source": [
    "Aodd.view()"
   ]
  },
  {
   "cell_type": "markdown",
   "id": "951a92a7-7941-4a37-9e51-12814edfba1d",
   "metadata": {},
   "source": [
    "Set difference is not an operation in the basic language\n",
    "of regular expressions.\n",
    "\n",
    "## Kleene operations"
   ]
  },
  {
   "cell_type": "code",
   "execution_count": 136,
   "id": "12d2bcce-d7c9-4602-8a48-45c9bd55b424",
   "metadata": {},
   "outputs": [],
   "source": [
    "A = hfst.regex('a b c')"
   ]
  },
  {
   "cell_type": "markdown",
   "id": "fb029c0b-115f-40a4-bc51-f18571be46cc",
   "metadata": {},
   "source": [
    "#### Kleene plus"
   ]
  },
  {
   "cell_type": "code",
   "execution_count": 144,
   "id": "e5ad6979-c21d-45ab-b658-f0b981ede3f7",
   "metadata": {},
   "outputs": [
    {
     "data": {
      "text/plain": [
       "{'abc',\n",
       " 'abcabc',\n",
       " 'abcabcabc',\n",
       " 'abcabcabcabc',\n",
       " 'abcabcabcabcabc',\n",
       " 'abcabcabcabcabcabc'}"
      ]
     },
     "execution_count": 144,
     "metadata": {},
     "output_type": "execute_result"
    }
   ],
   "source": [
    "Aplus = A.copy()\n",
    "Aplus.repeat_plus()\n",
    "Aplus.minimize()\n",
    "set(Aplus.extract_paths(max_cycles=5).keys())"
   ]
  },
  {
   "cell_type": "code",
   "execution_count": 145,
   "id": "25f9f017-82dc-42ae-9996-da3c4b4baac4",
   "metadata": {},
   "outputs": [
    {
     "data": {
      "image/svg+xml": "<?xml version=\"1.0\" encoding=\"UTF-8\" standalone=\"no\"?>\n<!DOCTYPE svg PUBLIC \"-//W3C//DTD SVG 1.1//EN\"\n \"http://www.w3.org/Graphics/SVG/1.1/DTD/svg11.dtd\">\n<!-- Generated by graphviz version 7.0.1 (20221109.1506)\n -->\n<!-- Title: H Pages: 1 -->\n<svg width=\"316pt\" height=\"90pt\"\n viewBox=\"0.00 0.00 316.19 89.60\" xmlns=\"http://www.w3.org/2000/svg\" xmlns:xlink=\"http://www.w3.org/1999/xlink\">\n<g id=\"graph0\" class=\"graph\" transform=\"scale(1 1) rotate(0) translate(4 85.6)\">\n<title>H</title>\n<polygon fill=\"white\" stroke=\"none\" points=\"-4,4 -4,-85.6 312.19,-85.6 312.19,4 -4,4\"/>\n<!-- q0 -->\n<g id=\"node1\" class=\"node\">\n<title>q0</title>\n<ellipse fill=\"yellow\" stroke=\"black\" cx=\"19.5\" cy=\"-26.1\" rx=\"19.5\" ry=\"19.5\"/>\n<text text-anchor=\"middle\" x=\"19.5\" y=\"-22.4\" font-family=\"Times,serif\" font-size=\"14.00\">q0</text>\n</g>\n<!-- q1 -->\n<g id=\"node2\" class=\"node\">\n<title>q1</title>\n<ellipse fill=\"yellow\" stroke=\"black\" cx=\"104.49\" cy=\"-26.1\" rx=\"19.5\" ry=\"19.5\"/>\n<text text-anchor=\"middle\" x=\"104.49\" y=\"-22.4\" font-family=\"Times,serif\" font-size=\"14.00\">q1</text>\n</g>\n<!-- q0&#45;&gt;q1 -->\n<g id=\"edge1\" class=\"edge\">\n<title>q0&#45;&gt;q1</title>\n<path fill=\"none\" stroke=\"black\" d=\"M39.33,-26.1C49.41,-26.1 62.07,-26.1 73.47,-26.1\"/>\n<polygon fill=\"black\" stroke=\"black\" points=\"73.22,-29.6 83.22,-26.1 73.22,-22.6 73.22,-29.6\"/>\n<text text-anchor=\"middle\" x=\"62\" y=\"-29.9\" font-family=\"Times,serif\" font-size=\"14.00\">a </text>\n</g>\n<!-- q2 -->\n<g id=\"node3\" class=\"node\">\n<title>q2</title>\n<ellipse fill=\"yellow\" stroke=\"black\" cx=\"190.49\" cy=\"-62.1\" rx=\"19.5\" ry=\"19.5\"/>\n<text text-anchor=\"middle\" x=\"190.49\" y=\"-58.4\" font-family=\"Times,serif\" font-size=\"14.00\">q2</text>\n</g>\n<!-- q1&#45;&gt;q2 -->\n<g id=\"edge2\" class=\"edge\">\n<title>q1&#45;&gt;q2</title>\n<path fill=\"none\" stroke=\"black\" d=\"M122.9,-33.56C134.05,-38.34 148.77,-44.64 161.53,-50.12\"/>\n<polygon fill=\"black\" stroke=\"black\" points=\"160.15,-53.33 170.72,-54.05 162.91,-46.9 160.15,-53.33\"/>\n<text text-anchor=\"middle\" x=\"147.49\" y=\"-49.9\" font-family=\"Times,serif\" font-size=\"14.00\">b </text>\n</g>\n<!-- q3 -->\n<g id=\"node4\" class=\"node\">\n<title>q3</title>\n<ellipse fill=\"yellow\" stroke=\"black\" cx=\"282.09\" cy=\"-26.1\" rx=\"22.18\" ry=\"22.18\"/>\n<ellipse fill=\"none\" stroke=\"black\" cx=\"282.09\" cy=\"-26.1\" rx=\"26.2\" ry=\"26.2\"/>\n<text text-anchor=\"middle\" x=\"282.09\" y=\"-22.4\" font-family=\"Times,serif\" font-size=\"14.00\">q3 </text>\n</g>\n<!-- q2&#45;&gt;q3 -->\n<g id=\"edge3\" class=\"edge\">\n<title>q2&#45;&gt;q3</title>\n<path fill=\"none\" stroke=\"black\" d=\"M208.77,-55.16C219.57,-50.82 233.87,-45.07 246.89,-39.84\"/>\n<polygon fill=\"black\" stroke=\"black\" points=\"248.05,-43.14 256.03,-36.17 245.44,-36.65 248.05,-43.14\"/>\n<text text-anchor=\"middle\" x=\"232.99\" y=\"-50.9\" font-family=\"Times,serif\" font-size=\"14.00\">c </text>\n</g>\n<!-- q3&#45;&gt;q1 -->\n<g id=\"edge4\" class=\"edge\">\n<title>q3&#45;&gt;q1</title>\n<path fill=\"none\" stroke=\"black\" d=\"M255.8,-23C242.24,-21.49 225.23,-19.85 209.99,-19.1 192.68,-18.25 188.3,-18.18 170.99,-19.1 159.34,-19.72 146.56,-20.96 135.41,-22.22\"/>\n<polygon fill=\"black\" stroke=\"black\" points=\"135.1,-18.74 125.59,-23.4 135.93,-25.69 135.1,-18.74\"/>\n<text text-anchor=\"middle\" x=\"190.49\" y=\"-22.9\" font-family=\"Times,serif\" font-size=\"14.00\">a </text>\n</g>\n</g>\n</svg>\n",
      "text/plain": [
       "<graphviz.sources.Source at 0x10f9da940>"
      ]
     },
     "execution_count": 145,
     "metadata": {},
     "output_type": "execute_result"
    }
   ],
   "source": [
    "Aplus.view()"
   ]
  },
  {
   "cell_type": "code",
   "execution_count": 146,
   "id": "c91966d6-8e89-47f9-9c5d-7c36e36f780d",
   "metadata": {},
   "outputs": [
    {
     "data": {
      "text/plain": [
       "{'', 'abc', 'abcabc', 'abcabcabc', 'abcabcabcabc', 'abcabcabcabcabc'}"
      ]
     },
     "execution_count": 146,
     "metadata": {},
     "output_type": "execute_result"
    }
   ],
   "source": [
    "Astar = A.copy()\n",
    "Astar.repeat_star()\n",
    "Astar.minimize()\n",
    "set(Astar.extract_paths(max_cycles=5).keys())"
   ]
  },
  {
   "cell_type": "code",
   "execution_count": 147,
   "id": "bc0e7ecd-8cec-4d8e-882d-001724c62d5e",
   "metadata": {},
   "outputs": [
    {
     "data": {
      "image/svg+xml": "<?xml version=\"1.0\" encoding=\"UTF-8\" standalone=\"no\"?>\n<!DOCTYPE svg PUBLIC \"-//W3C//DTD SVG 1.1//EN\"\n \"http://www.w3.org/Graphics/SVG/1.1/DTD/svg11.dtd\">\n<!-- Generated by graphviz version 7.0.1 (20221109.1506)\n -->\n<!-- Title: H Pages: 1 -->\n<svg width=\"231pt\" height=\"90pt\"\n viewBox=\"0.00 0.00 231.19 89.60\" xmlns=\"http://www.w3.org/2000/svg\" xmlns:xlink=\"http://www.w3.org/1999/xlink\">\n<g id=\"graph0\" class=\"graph\" transform=\"scale(1 1) rotate(0) translate(4 85.6)\">\n<title>H</title>\n<polygon fill=\"white\" stroke=\"none\" points=\"-4,4 -4,-85.6 227.19,-85.6 227.19,4 -4,4\"/>\n<!-- q0 -->\n<g id=\"node1\" class=\"node\">\n<title>q0</title>\n<ellipse fill=\"yellow\" stroke=\"black\" cx=\"26.1\" cy=\"-26.1\" rx=\"22.18\" ry=\"22.18\"/>\n<ellipse fill=\"none\" stroke=\"black\" cx=\"26.1\" cy=\"-26.1\" rx=\"26.2\" ry=\"26.2\"/>\n<text text-anchor=\"middle\" x=\"26.1\" y=\"-22.4\" font-family=\"Times,serif\" font-size=\"14.00\">q0 </text>\n</g>\n<!-- q2 -->\n<g id=\"node3\" class=\"node\">\n<title>q2</title>\n<ellipse fill=\"yellow\" stroke=\"black\" cx=\"117.69\" cy=\"-62.1\" rx=\"19.5\" ry=\"19.5\"/>\n<text text-anchor=\"middle\" x=\"117.69\" y=\"-58.4\" font-family=\"Times,serif\" font-size=\"14.00\">q2</text>\n</g>\n<!-- q0&#45;&gt;q2 -->\n<g id=\"edge1\" class=\"edge\">\n<title>q0&#45;&gt;q2</title>\n<path fill=\"none\" stroke=\"black\" d=\"M50.64,-35.56C62.31,-40.25 76.49,-45.94 88.71,-50.85\"/>\n<polygon fill=\"black\" stroke=\"black\" points=\"87.27,-54.05 97.85,-54.53 89.88,-47.55 87.27,-54.05\"/>\n<text text-anchor=\"middle\" x=\"75.2\" y=\"-50.9\" font-family=\"Times,serif\" font-size=\"14.00\">a </text>\n</g>\n<!-- q1 -->\n<g id=\"node2\" class=\"node\">\n<title>q1</title>\n<ellipse fill=\"yellow\" stroke=\"black\" cx=\"203.69\" cy=\"-26.1\" rx=\"19.5\" ry=\"19.5\"/>\n<text text-anchor=\"middle\" x=\"203.69\" y=\"-22.4\" font-family=\"Times,serif\" font-size=\"14.00\">q1</text>\n</g>\n<!-- q1&#45;&gt;q0 -->\n<g id=\"edge2\" class=\"edge\">\n<title>q1&#45;&gt;q0</title>\n<path fill=\"none\" stroke=\"black\" d=\"M184.1,-23.58C171.01,-21.93 153.07,-19.94 137.19,-19.1 119.89,-18.18 115.51,-18.25 98.2,-19.1 87.01,-19.65 74.86,-20.68 63.83,-21.79\"/>\n<polygon fill=\"black\" stroke=\"black\" points=\"63.47,-18.31 53.9,-22.84 64.21,-25.27 63.47,-18.31\"/>\n<text text-anchor=\"middle\" x=\"117.69\" y=\"-22.9\" font-family=\"Times,serif\" font-size=\"14.00\">c </text>\n</g>\n<!-- q2&#45;&gt;q1 -->\n<g id=\"edge3\" class=\"edge\">\n<title>q2&#45;&gt;q1</title>\n<path fill=\"none\" stroke=\"black\" d=\"M136.1,-54.64C147.25,-49.86 161.97,-43.55 174.73,-38.08\"/>\n<polygon fill=\"black\" stroke=\"black\" points=\"176.11,-41.3 183.92,-34.14 173.35,-34.87 176.11,-41.3\"/>\n<text text-anchor=\"middle\" x=\"160.69\" y=\"-49.9\" font-family=\"Times,serif\" font-size=\"14.00\">b </text>\n</g>\n</g>\n</svg>\n",
      "text/plain": [
       "<graphviz.sources.Source at 0x10f9da310>"
      ]
     },
     "execution_count": 147,
     "metadata": {},
     "output_type": "execute_result"
    }
   ],
   "source": [
    "Astar.view()"
   ]
  },
  {
   "cell_type": "markdown",
   "id": "2a118e9b-139b-479d-8d5b-c6ade7e79043",
   "metadata": {},
   "source": [
    "### Universal set of strings"
   ]
  },
  {
   "cell_type": "code",
   "execution_count": 153,
   "id": "8fd099c2-040b-4679-8cd8-44dc990bf245",
   "metadata": {},
   "outputs": [
    {
     "data": {
      "image/svg+xml": "<?xml version=\"1.0\" encoding=\"UTF-8\" standalone=\"no\"?>\n<!DOCTYPE svg PUBLIC \"-//W3C//DTD SVG 1.1//EN\"\n \"http://www.w3.org/Graphics/SVG/1.1/DTD/svg11.dtd\">\n<!-- Generated by graphviz version 7.0.1 (20221109.1506)\n -->\n<!-- Title: H Pages: 1 -->\n<svg width=\"60pt\" height=\"93pt\"\n viewBox=\"0.00 0.00 60.20 93.20\" xmlns=\"http://www.w3.org/2000/svg\" xmlns:xlink=\"http://www.w3.org/1999/xlink\">\n<g id=\"graph0\" class=\"graph\" transform=\"scale(1 1) rotate(0) translate(4 89.2)\">\n<title>H</title>\n<polygon fill=\"white\" stroke=\"none\" points=\"-4,4 -4,-89.2 56.2,-89.2 56.2,4 -4,4\"/>\n<!-- q0 -->\n<g id=\"node1\" class=\"node\">\n<title>q0</title>\n<ellipse fill=\"yellow\" stroke=\"black\" cx=\"26.1\" cy=\"-26.1\" rx=\"22.18\" ry=\"22.18\"/>\n<ellipse fill=\"none\" stroke=\"black\" cx=\"26.1\" cy=\"-26.1\" rx=\"26.2\" ry=\"26.2\"/>\n<text text-anchor=\"middle\" x=\"26.1\" y=\"-22.4\" font-family=\"Times,serif\" font-size=\"14.00\">q0 </text>\n</g>\n<!-- q0&#45;&gt;q0 -->\n<g id=\"edge1\" class=\"edge\">\n<title>q0&#45;&gt;q0</title>\n<path fill=\"none\" stroke=\"black\" d=\"M16.43,-50.59C15.64,-61.15 18.86,-70.2 26.1,-70.2 30.51,-70.2 33.43,-66.84 34.86,-61.82\"/>\n<polygon fill=\"black\" stroke=\"black\" points=\"38.33,-62.34 35.65,-52.09 31.35,-61.78 38.33,-62.34\"/>\n<text text-anchor=\"middle\" x=\"26.1\" y=\"-74\" font-family=\"Times,serif\" font-size=\"14.00\">?? </text>\n</g>\n</g>\n</svg>\n",
      "text/plain": [
       "<graphviz.sources.Source at 0x10fab1a00>"
      ]
     },
     "execution_count": 153,
     "metadata": {},
     "output_type": "execute_result"
    }
   ],
   "source": [
    "Any = hfst.regex('?')\n",
    "U = Any.copy()\n",
    "U.repeat_star()\n",
    "U.minimize()\n",
    "U.view()"
   ]
  },
  {
   "cell_type": "code",
   "execution_count": 209,
   "id": "45814706-8dd9-4e4c-a588-9afaa78082c5",
   "metadata": {},
   "outputs": [
    {
     "data": {
      "image/svg+xml": "<?xml version=\"1.0\" encoding=\"UTF-8\" standalone=\"no\"?>\n<!DOCTYPE svg PUBLIC \"-//W3C//DTD SVG 1.1//EN\"\n \"http://www.w3.org/Graphics/SVG/1.1/DTD/svg11.dtd\">\n<!-- Generated by graphviz version 7.0.1 (20221109.1506)\n -->\n<!-- Title: H Pages: 1 -->\n<svg width=\"179pt\" height=\"60pt\"\n viewBox=\"0.00 0.00 179.19 60.20\" xmlns=\"http://www.w3.org/2000/svg\" xmlns:xlink=\"http://www.w3.org/1999/xlink\">\n<g id=\"graph0\" class=\"graph\" transform=\"scale(1 1) rotate(0) translate(4 56.2)\">\n<title>H</title>\n<polygon fill=\"white\" stroke=\"none\" points=\"-4,4 -4,-56.2 175.19,-56.2 175.19,4 -4,4\"/>\n<!-- q0 -->\n<g id=\"node1\" class=\"node\">\n<title>q0</title>\n<ellipse fill=\"yellow\" stroke=\"black\" cx=\"19.5\" cy=\"-26.1\" rx=\"19.5\" ry=\"19.5\"/>\n<text text-anchor=\"middle\" x=\"19.5\" y=\"-22.4\" font-family=\"Times,serif\" font-size=\"14.00\">q0</text>\n</g>\n<!-- q1 -->\n<g id=\"node2\" class=\"node\">\n<title>q1</title>\n<ellipse fill=\"yellow\" stroke=\"black\" cx=\"145.09\" cy=\"-26.1\" rx=\"22.18\" ry=\"22.18\"/>\n<ellipse fill=\"none\" stroke=\"black\" cx=\"145.09\" cy=\"-26.1\" rx=\"26.2\" ry=\"26.2\"/>\n<text text-anchor=\"middle\" x=\"145.09\" y=\"-22.4\" font-family=\"Times,serif\" font-size=\"14.00\">q1 </text>\n</g>\n<!-- q0&#45;&gt;q1 -->\n<g id=\"edge1\" class=\"edge\">\n<title>q0&#45;&gt;q1</title>\n<path fill=\"none\" stroke=\"black\" d=\"M39.27,-26.1C57.24,-26.1 84.86,-26.1 107.23,-26.1\"/>\n<polygon fill=\"black\" stroke=\"black\" points=\"107.19,-29.6 117.19,-26.1 107.19,-22.6 107.19,-29.6\"/>\n<text text-anchor=\"middle\" x=\"79\" y=\"-29.9\" font-family=\"Times,serif\" font-size=\"14.00\">himom </text>\n</g>\n</g>\n</svg>\n",
      "text/plain": [
       "<graphviz.sources.Source at 0x10fb095b0>"
      ]
     },
     "execution_count": 209,
     "metadata": {},
     "output_type": "execute_result"
    }
   ],
   "source": [
    "himom = hfst.regex('himom')\n",
    "himom.view()"
   ]
  },
  {
   "cell_type": "code",
   "execution_count": 210,
   "id": "761caaad-4784-4648-b7b0-e84cd9565058",
   "metadata": {},
   "outputs": [
    {
     "data": {
      "image/svg+xml": "<?xml version=\"1.0\" encoding=\"UTF-8\" standalone=\"no\"?>\n<!DOCTYPE svg PUBLIC \"-//W3C//DTD SVG 1.1//EN\"\n \"http://www.w3.org/Graphics/SVG/1.1/DTD/svg11.dtd\">\n<!-- Generated by graphviz version 7.0.1 (20221109.1506)\n -->\n<!-- Title: H Pages: 1 -->\n<svg width=\"179pt\" height=\"60pt\"\n viewBox=\"0.00 0.00 179.19 60.20\" xmlns=\"http://www.w3.org/2000/svg\" xmlns:xlink=\"http://www.w3.org/1999/xlink\">\n<g id=\"graph0\" class=\"graph\" transform=\"scale(1 1) rotate(0) translate(4 56.2)\">\n<title>H</title>\n<polygon fill=\"white\" stroke=\"none\" points=\"-4,4 -4,-56.2 175.19,-56.2 175.19,4 -4,4\"/>\n<!-- q0 -->\n<g id=\"node1\" class=\"node\">\n<title>q0</title>\n<ellipse fill=\"yellow\" stroke=\"black\" cx=\"19.5\" cy=\"-26.1\" rx=\"19.5\" ry=\"19.5\"/>\n<text text-anchor=\"middle\" x=\"19.5\" y=\"-22.4\" font-family=\"Times,serif\" font-size=\"14.00\">q0</text>\n</g>\n<!-- q1 -->\n<g id=\"node2\" class=\"node\">\n<title>q1</title>\n<ellipse fill=\"yellow\" stroke=\"black\" cx=\"145.09\" cy=\"-26.1\" rx=\"22.18\" ry=\"22.18\"/>\n<ellipse fill=\"none\" stroke=\"black\" cx=\"145.09\" cy=\"-26.1\" rx=\"26.2\" ry=\"26.2\"/>\n<text text-anchor=\"middle\" x=\"145.09\" y=\"-22.4\" font-family=\"Times,serif\" font-size=\"14.00\">q1 </text>\n</g>\n<!-- q0&#45;&gt;q1 -->\n<g id=\"edge1\" class=\"edge\">\n<title>q0&#45;&gt;q1</title>\n<path fill=\"none\" stroke=\"black\" d=\"M39.27,-26.1C57.24,-26.1 84.86,-26.1 107.23,-26.1\"/>\n<polygon fill=\"black\" stroke=\"black\" points=\"107.19,-29.6 117.19,-26.1 107.19,-22.6 107.19,-29.6\"/>\n<text text-anchor=\"middle\" x=\"79\" y=\"-29.9\" font-family=\"Times,serif\" font-size=\"14.00\">himom </text>\n</g>\n</g>\n</svg>\n",
      "text/plain": [
       "<graphviz.sources.Source at 0x10fab1190>"
      ]
     },
     "execution_count": 210,
     "metadata": {},
     "output_type": "execute_result"
    }
   ],
   "source": [
    "RES = U.copy()\n",
    "RES.intersect(himom)\n",
    "RES.view()"
   ]
  },
  {
   "cell_type": "code",
   "execution_count": 154,
   "id": "08e1240d-5eb0-46f4-aee9-72994858abcf",
   "metadata": {},
   "outputs": [
    {
     "data": {
      "image/svg+xml": "<?xml version=\"1.0\" encoding=\"UTF-8\" standalone=\"no\"?>\n<!DOCTYPE svg PUBLIC \"-//W3C//DTD SVG 1.1//EN\"\n \"http://www.w3.org/Graphics/SVG/1.1/DTD/svg11.dtd\">\n<!-- Generated by graphviz version 7.0.1 (20221109.1506)\n -->\n<!-- Title: H Pages: 1 -->\n<svg width=\"516pt\" height=\"186pt\"\n viewBox=\"0.00 0.00 515.69 186.50\" xmlns=\"http://www.w3.org/2000/svg\" xmlns:xlink=\"http://www.w3.org/1999/xlink\">\n<g id=\"graph0\" class=\"graph\" transform=\"scale(1 1) rotate(0) translate(4 182.5)\">\n<title>H</title>\n<polygon fill=\"white\" stroke=\"none\" points=\"-4,4 -4,-182.5 511.69,-182.5 511.69,4 -4,4\"/>\n<!-- q0 -->\n<g id=\"node1\" class=\"node\">\n<title>q0</title>\n<ellipse fill=\"yellow\" stroke=\"black\" cx=\"26.1\" cy=\"-136.5\" rx=\"22.18\" ry=\"22.18\"/>\n<ellipse fill=\"none\" stroke=\"black\" cx=\"26.1\" cy=\"-136.5\" rx=\"26.2\" ry=\"26.2\"/>\n<text text-anchor=\"middle\" x=\"26.1\" y=\"-132.8\" font-family=\"Times,serif\" font-size=\"14.00\">q0 </text>\n</g>\n<!-- q1 -->\n<g id=\"node2\" class=\"node\">\n<title>q1</title>\n<ellipse fill=\"yellow\" stroke=\"black\" cx=\"478.69\" cy=\"-95.5\" rx=\"22.18\" ry=\"22.18\"/>\n<ellipse fill=\"none\" stroke=\"black\" cx=\"478.69\" cy=\"-95.5\" rx=\"26.2\" ry=\"26.2\"/>\n<text text-anchor=\"middle\" x=\"478.69\" y=\"-91.8\" font-family=\"Times,serif\" font-size=\"14.00\">q1 </text>\n</g>\n<!-- q0&#45;&gt;q1 -->\n<g id=\"edge1\" class=\"edge\">\n<title>q0&#45;&gt;q1</title>\n<path fill=\"none\" stroke=\"black\" d=\"M50.31,-146.86C69.48,-154.47 97.62,-163.5 123.29,-163.5 123.29,-163.5 123.29,-163.5 351.59,-163.5 389.08,-163.5 426.14,-139.92 450.28,-120.53\"/>\n<polygon fill=\"black\" stroke=\"black\" points=\"452.27,-123.43 457.71,-114.33 447.79,-118.05 452.27,-123.43\"/>\n<text text-anchor=\"middle\" x=\"223.49\" y=\"-167.3\" font-family=\"Times,serif\" font-size=\"14.00\">??, b, c </text>\n</g>\n<!-- q2 -->\n<g id=\"node3\" class=\"node\">\n<title>q2</title>\n<ellipse fill=\"yellow\" stroke=\"black\" cx=\"124.29\" cy=\"-92.5\" rx=\"22.18\" ry=\"22.18\"/>\n<ellipse fill=\"none\" stroke=\"black\" cx=\"124.29\" cy=\"-92.5\" rx=\"26.2\" ry=\"26.2\"/>\n<text text-anchor=\"middle\" x=\"124.29\" y=\"-88.8\" font-family=\"Times,serif\" font-size=\"14.00\">q2 </text>\n</g>\n<!-- q0&#45;&gt;q2 -->\n<g id=\"edge2\" class=\"edge\">\n<title>q0&#45;&gt;q2</title>\n<path fill=\"none\" stroke=\"black\" d=\"M50.38,-125.85C62.11,-120.48 76.55,-113.88 89.48,-107.97\"/>\n<polygon fill=\"black\" stroke=\"black\" points=\"90.87,-111.18 98.51,-103.83 87.96,-104.81 90.87,-111.18\"/>\n<text text-anchor=\"middle\" x=\"75.2\" y=\"-119.3\" font-family=\"Times,serif\" font-size=\"14.00\">a </text>\n</g>\n<!-- q1&#45;&gt;q1 -->\n<g id=\"edge3\" class=\"edge\">\n<title>q1&#45;&gt;q1</title>\n<path fill=\"none\" stroke=\"black\" d=\"M466.54,-119.09C465.21,-130.03 469.26,-139.6 478.69,-139.6 484.58,-139.6 488.37,-135.86 490.06,-130.39\"/>\n<polygon fill=\"black\" stroke=\"black\" points=\"493.54,-130.82 490.73,-120.6 486.55,-130.34 493.54,-130.82\"/>\n<text text-anchor=\"middle\" x=\"478.69\" y=\"-143.4\" font-family=\"Times,serif\" font-size=\"14.00\">??, a, b, c </text>\n</g>\n<!-- q2&#45;&gt;q1 -->\n<g id=\"edge4\" class=\"edge\">\n<title>q2&#45;&gt;q1</title>\n<path fill=\"none\" stroke=\"black\" d=\"M150.31,-96.5C156.22,-97.3 162.52,-98.04 168.39,-98.5 286.34,-107.78 316.55,-109.68 434.59,-101.5 436.79,-101.35 439.06,-101.15 441.34,-100.92\"/>\n<polygon fill=\"black\" stroke=\"black\" points=\"441.66,-104.41 451.18,-99.75 440.83,-97.46 441.66,-104.41\"/>\n<text text-anchor=\"middle\" x=\"289.09\" y=\"-110.3\" font-family=\"Times,serif\" font-size=\"14.00\">??, a, c </text>\n</g>\n<!-- q3 -->\n<g id=\"node4\" class=\"node\">\n<title>q3</title>\n<ellipse fill=\"yellow\" stroke=\"black\" cx=\"223.49\" cy=\"-63.5\" rx=\"22.18\" ry=\"22.18\"/>\n<ellipse fill=\"none\" stroke=\"black\" cx=\"223.49\" cy=\"-63.5\" rx=\"26.2\" ry=\"26.2\"/>\n<text text-anchor=\"middle\" x=\"223.49\" y=\"-59.8\" font-family=\"Times,serif\" font-size=\"14.00\">q3 </text>\n</g>\n<!-- q2&#45;&gt;q3 -->\n<g id=\"edge5\" class=\"edge\">\n<title>q2&#45;&gt;q3</title>\n<path fill=\"none\" stroke=\"black\" d=\"M149.82,-85.18C161.1,-81.81 174.7,-77.76 187.06,-74.07\"/>\n<polygon fill=\"black\" stroke=\"black\" points=\"187.94,-77.46 196.52,-71.25 185.94,-70.75 187.94,-77.46\"/>\n<text text-anchor=\"middle\" x=\"173.89\" y=\"-83.3\" font-family=\"Times,serif\" font-size=\"14.00\">b </text>\n</g>\n<!-- q3&#45;&gt;q1 -->\n<g id=\"edge6\" class=\"edge\">\n<title>q3&#45;&gt;q1</title>\n<path fill=\"none\" stroke=\"black\" d=\"M249.69,-66.68C294.6,-72.36 388.64,-84.24 440.82,-90.84\"/>\n<polygon fill=\"black\" stroke=\"black\" points=\"440.35,-94.31 450.71,-92.09 441.23,-87.36 440.35,-94.31\"/>\n<text text-anchor=\"middle\" x=\"350.59\" y=\"-86.3\" font-family=\"Times,serif\" font-size=\"14.00\">??, a, b </text>\n</g>\n<!-- q4 -->\n<g id=\"node5\" class=\"node\">\n<title>q4</title>\n<ellipse fill=\"yellow\" stroke=\"black\" cx=\"350.59\" cy=\"-19.5\" rx=\"19.5\" ry=\"19.5\"/>\n<text text-anchor=\"middle\" x=\"350.59\" y=\"-15.8\" font-family=\"Times,serif\" font-size=\"14.00\">q4</text>\n</g>\n<!-- q3&#45;&gt;q4 -->\n<g id=\"edge7\" class=\"edge\">\n<title>q3&#45;&gt;q4</title>\n<path fill=\"none\" stroke=\"black\" d=\"M248.05,-53.21C254.35,-50.59 261.19,-47.84 267.59,-45.5 285.08,-39.09 304.99,-32.75 320.81,-27.94\"/>\n<polygon fill=\"black\" stroke=\"black\" points=\"321.5,-31.39 330.07,-25.16 319.48,-24.68 321.5,-31.39\"/>\n<text text-anchor=\"middle\" x=\"289.09\" y=\"-49.3\" font-family=\"Times,serif\" font-size=\"14.00\">c </text>\n</g>\n<!-- q4&#45;&gt;q1 -->\n<g id=\"edge8\" class=\"edge\">\n<title>q4&#45;&gt;q1</title>\n<path fill=\"none\" stroke=\"black\" d=\"M370.34,-22.31C388.05,-25.65 414.78,-32.48 434.59,-45.5 442.64,-50.79 450.05,-58 456.38,-65.3\"/>\n<polygon fill=\"black\" stroke=\"black\" points=\"453.3,-67.06 462.32,-72.62 458.74,-62.65 453.3,-67.06\"/>\n<text text-anchor=\"middle\" x=\"412.59\" y=\"-49.3\" font-family=\"Times,serif\" font-size=\"14.00\">??, b, c </text>\n</g>\n<!-- q4&#45;&gt;q2 -->\n<g id=\"edge9\" class=\"edge\">\n<title>q4&#45;&gt;q2</title>\n<path fill=\"none\" stroke=\"black\" d=\"M331.77,-13.94C302.34,-5.81 242.39,6.36 197.39,-13.5 175.46,-23.17 157.31,-43.18 144.71,-60.64\"/>\n<polygon fill=\"black\" stroke=\"black\" points=\"141.92,-58.52 139.15,-68.74 147.69,-62.48 141.92,-58.52\"/>\n<text text-anchor=\"middle\" x=\"223.49\" y=\"-17.3\" font-family=\"Times,serif\" font-size=\"14.00\">a </text>\n</g>\n</g>\n</svg>\n",
      "text/plain": [
       "<graphviz.sources.Source at 0x10fa9fca0>"
      ]
     },
     "execution_count": 154,
     "metadata": {},
     "output_type": "execute_result"
    }
   ],
   "source": [
    "V = U.copy()\n",
    "V.minus(Aplus)\n",
    "V.view()"
   ]
  },
  {
   "cell_type": "markdown",
   "id": "a7eecc7a-a005-4db2-8541-d71252c831a4",
   "metadata": {},
   "source": [
    "## Regular relations\n",
    "Ordinary regular expressions (basic or extended) describe sets of strings.\n",
    "Extended regular expressions can also describe *relations* between strings. This is useful for phonology, where an underlying form is mapped to a surface form."
   ]
  },
  {
   "cell_type": "code",
   "execution_count": 159,
   "id": "4e21b163-e16a-43fa-9dc3-80e2711127c0",
   "metadata": {},
   "outputs": [
    {
     "data": {
      "image/svg+xml": "<?xml version=\"1.0\" encoding=\"UTF-8\" standalone=\"no\"?>\n<!DOCTYPE svg PUBLIC \"-//W3C//DTD SVG 1.1//EN\"\n \"http://www.w3.org/Graphics/SVG/1.1/DTD/svg11.dtd\">\n<!-- Generated by graphviz version 7.0.1 (20221109.1506)\n -->\n<!-- Title: H Pages: 1 -->\n<svg width=\"211pt\" height=\"60pt\"\n viewBox=\"0.00 0.00 211.19 60.20\" xmlns=\"http://www.w3.org/2000/svg\" xmlns:xlink=\"http://www.w3.org/1999/xlink\">\n<g id=\"graph0\" class=\"graph\" transform=\"scale(1 1) rotate(0) translate(4 56.2)\">\n<title>H</title>\n<polygon fill=\"white\" stroke=\"none\" points=\"-4,4 -4,-56.2 207.19,-56.2 207.19,4 -4,4\"/>\n<!-- q0 -->\n<g id=\"node1\" class=\"node\">\n<title>q0</title>\n<ellipse fill=\"yellow\" stroke=\"black\" cx=\"19.5\" cy=\"-26.1\" rx=\"19.5\" ry=\"19.5\"/>\n<text text-anchor=\"middle\" x=\"19.5\" y=\"-22.4\" font-family=\"Times,serif\" font-size=\"14.00\">q0</text>\n</g>\n<!-- q1 -->\n<g id=\"node2\" class=\"node\">\n<title>q1</title>\n<ellipse fill=\"yellow\" stroke=\"black\" cx=\"177.09\" cy=\"-26.1\" rx=\"22.18\" ry=\"22.18\"/>\n<ellipse fill=\"none\" stroke=\"black\" cx=\"177.09\" cy=\"-26.1\" rx=\"26.2\" ry=\"26.2\"/>\n<text text-anchor=\"middle\" x=\"177.09\" y=\"-22.4\" font-family=\"Times,serif\" font-size=\"14.00\">q1 </text>\n</g>\n<!-- q0&#45;&gt;q1 -->\n<g id=\"edge1\" class=\"edge\">\n<title>q0&#45;&gt;q1</title>\n<path fill=\"none\" stroke=\"black\" d=\"M39.27,-26.1C63.92,-26.1 107.76,-26.1 139.18,-26.1\"/>\n<polygon fill=\"black\" stroke=\"black\" points=\"139.03,-29.6 149.03,-26.1 139.03,-22.6 139.03,-29.6\"/>\n<text text-anchor=\"middle\" x=\"95\" y=\"-29.9\" font-family=\"Times,serif\" font-size=\"14.00\">b:B, c:C, a:A </text>\n</g>\n</g>\n</svg>\n",
      "text/plain": [
       "<graphviz.sources.Source at 0x10fad3100>"
      ]
     },
     "execution_count": 159,
     "metadata": {},
     "output_type": "execute_result"
    }
   ],
   "source": [
    "cap0 = hfst.regex(\"a:A | b:B | c:C\")\n",
    "cap0.view()"
   ]
  },
  {
   "cell_type": "code",
   "execution_count": 162,
   "id": "03495b1f-5dfb-47b6-8cea-5b4a61b14f0b",
   "metadata": {},
   "outputs": [
    {
     "data": {
      "image/svg+xml": "<?xml version=\"1.0\" encoding=\"UTF-8\" standalone=\"no\"?>\n<!DOCTYPE svg PUBLIC \"-//W3C//DTD SVG 1.1//EN\"\n \"http://www.w3.org/Graphics/SVG/1.1/DTD/svg11.dtd\">\n<!-- Generated by graphviz version 7.0.1 (20221109.1506)\n -->\n<!-- Title: H Pages: 1 -->\n<svg width=\"225pt\" height=\"93pt\"\n viewBox=\"0.00 0.00 224.59 93.20\" xmlns=\"http://www.w3.org/2000/svg\" xmlns:xlink=\"http://www.w3.org/1999/xlink\">\n<g id=\"graph0\" class=\"graph\" transform=\"scale(1 1) rotate(0) translate(4 89.2)\">\n<title>H</title>\n<polygon fill=\"white\" stroke=\"none\" points=\"-4,4 -4,-89.2 220.59,-89.2 220.59,4 -4,4\"/>\n<!-- q0 -->\n<g id=\"node1\" class=\"node\">\n<title>q0</title>\n<ellipse fill=\"yellow\" stroke=\"black\" cx=\"19.5\" cy=\"-26.1\" rx=\"19.5\" ry=\"19.5\"/>\n<text text-anchor=\"middle\" x=\"19.5\" y=\"-22.4\" font-family=\"Times,serif\" font-size=\"14.00\">q0</text>\n</g>\n<!-- q1 -->\n<g id=\"node2\" class=\"node\">\n<title>q1</title>\n<ellipse fill=\"yellow\" stroke=\"black\" cx=\"178.09\" cy=\"-26.1\" rx=\"22.18\" ry=\"22.18\"/>\n<ellipse fill=\"none\" stroke=\"black\" cx=\"178.09\" cy=\"-26.1\" rx=\"26.2\" ry=\"26.2\"/>\n<text text-anchor=\"middle\" x=\"178.09\" y=\"-22.4\" font-family=\"Times,serif\" font-size=\"14.00\">q1 </text>\n</g>\n<!-- q0&#45;&gt;q1 -->\n<g id=\"edge1\" class=\"edge\">\n<title>q0&#45;&gt;q1</title>\n<path fill=\"none\" stroke=\"black\" d=\"M39.39,-26.1C64.27,-26.1 108.58,-26.1 140.22,-26.1\"/>\n<polygon fill=\"black\" stroke=\"black\" points=\"140.14,-29.6 150.14,-26.1 140.14,-22.6 140.14,-29.6\"/>\n<text text-anchor=\"middle\" x=\"95.5\" y=\"-29.9\" font-family=\"Times,serif\" font-size=\"14.00\">a:A, c:C, b:B </text>\n</g>\n<!-- q1&#45;&gt;q1 -->\n<g id=\"edge2\" class=\"edge\">\n<title>q1&#45;&gt;q1</title>\n<path fill=\"none\" stroke=\"black\" d=\"M163.25,-47.88C160.72,-59.56 165.67,-70.2 178.09,-70.2 186.25,-70.2 191.18,-65.61 192.9,-59.16\"/>\n<polygon fill=\"black\" stroke=\"black\" points=\"196.39,-59.41 192.94,-49.39 189.39,-59.38 196.39,-59.41\"/>\n<text text-anchor=\"middle\" x=\"178.09\" y=\"-74\" font-family=\"Times,serif\" font-size=\"14.00\">a:A, c:C, b:B </text>\n</g>\n</g>\n</svg>\n",
      "text/plain": [
       "<graphviz.sources.Source at 0x10fb09d00>"
      ]
     },
     "execution_count": 162,
     "metadata": {},
     "output_type": "execute_result"
    }
   ],
   "source": [
    "cap = cap0.copy()\n",
    "cap.repeat_plus()\n",
    "cap.minimize()\n",
    "cap.view()"
   ]
  },
  {
   "cell_type": "code",
   "execution_count": 163,
   "id": "4e19f2b2-3abe-47ed-9d21-80a0ae5aa284",
   "metadata": {},
   "outputs": [],
   "source": [
    "X1 = hfst.regex(\"c c b\")"
   ]
  },
  {
   "cell_type": "code",
   "execution_count": 164,
   "id": "6077000d-82f2-4633-870d-3f8142299d9d",
   "metadata": {},
   "outputs": [
    {
     "data": {
      "image/svg+xml": "<?xml version=\"1.0\" encoding=\"UTF-8\" standalone=\"no\"?>\n<!DOCTYPE svg PUBLIC \"-//W3C//DTD SVG 1.1//EN\"\n \"http://www.w3.org/Graphics/SVG/1.1/DTD/svg11.dtd\">\n<!-- Generated by graphviz version 7.0.1 (20221109.1506)\n -->\n<!-- Title: H Pages: 1 -->\n<svg width=\"355pt\" height=\"60pt\"\n viewBox=\"0.00 0.00 355.19 60.20\" xmlns=\"http://www.w3.org/2000/svg\" xmlns:xlink=\"http://www.w3.org/1999/xlink\">\n<g id=\"graph0\" class=\"graph\" transform=\"scale(1 1) rotate(0) translate(4 56.2)\">\n<title>H</title>\n<polygon fill=\"white\" stroke=\"none\" points=\"-4,4 -4,-56.2 351.19,-56.2 351.19,4 -4,4\"/>\n<!-- q0 -->\n<g id=\"node1\" class=\"node\">\n<title>q0</title>\n<ellipse fill=\"yellow\" stroke=\"black\" cx=\"19.5\" cy=\"-26.1\" rx=\"19.5\" ry=\"19.5\"/>\n<text text-anchor=\"middle\" x=\"19.5\" y=\"-22.4\" font-family=\"Times,serif\" font-size=\"14.00\">q0</text>\n</g>\n<!-- q1 -->\n<g id=\"node2\" class=\"node\">\n<title>q1</title>\n<ellipse fill=\"yellow\" stroke=\"black\" cx=\"117.49\" cy=\"-26.1\" rx=\"19.5\" ry=\"19.5\"/>\n<text text-anchor=\"middle\" x=\"117.49\" y=\"-22.4\" font-family=\"Times,serif\" font-size=\"14.00\">q1</text>\n</g>\n<!-- q0&#45;&gt;q1 -->\n<g id=\"edge1\" class=\"edge\">\n<title>q0&#45;&gt;q1</title>\n<path fill=\"none\" stroke=\"black\" d=\"M39.46,-26.1C52.88,-26.1 71.13,-26.1 86.5,-26.1\"/>\n<polygon fill=\"black\" stroke=\"black\" points=\"86.05,-29.6 96.05,-26.1 86.05,-22.6 86.05,-29.6\"/>\n<text text-anchor=\"middle\" x=\"68.5\" y=\"-29.9\" font-family=\"Times,serif\" font-size=\"14.00\">c:C </text>\n</g>\n<!-- q2 -->\n<g id=\"node3\" class=\"node\">\n<title>q2</title>\n<ellipse fill=\"yellow\" stroke=\"black\" cx=\"215.49\" cy=\"-26.1\" rx=\"19.5\" ry=\"19.5\"/>\n<text text-anchor=\"middle\" x=\"215.49\" y=\"-22.4\" font-family=\"Times,serif\" font-size=\"14.00\">q2</text>\n</g>\n<!-- q1&#45;&gt;q2 -->\n<g id=\"edge2\" class=\"edge\">\n<title>q1&#45;&gt;q2</title>\n<path fill=\"none\" stroke=\"black\" d=\"M137.46,-26.1C150.87,-26.1 169.13,-26.1 184.5,-26.1\"/>\n<polygon fill=\"black\" stroke=\"black\" points=\"184.05,-29.6 194.05,-26.1 184.05,-22.6 184.05,-29.6\"/>\n<text text-anchor=\"middle\" x=\"166.49\" y=\"-29.9\" font-family=\"Times,serif\" font-size=\"14.00\">c:C </text>\n</g>\n<!-- q3 -->\n<g id=\"node4\" class=\"node\">\n<title>q3</title>\n<ellipse fill=\"yellow\" stroke=\"black\" cx=\"321.09\" cy=\"-26.1\" rx=\"22.18\" ry=\"22.18\"/>\n<ellipse fill=\"none\" stroke=\"black\" cx=\"321.09\" cy=\"-26.1\" rx=\"26.2\" ry=\"26.2\"/>\n<text text-anchor=\"middle\" x=\"321.09\" y=\"-22.4\" font-family=\"Times,serif\" font-size=\"14.00\">q3 </text>\n</g>\n<!-- q2&#45;&gt;q3 -->\n<g id=\"edge3\" class=\"edge\">\n<title>q2&#45;&gt;q3</title>\n<path fill=\"none\" stroke=\"black\" d=\"M235.01,-26.1C248.41,-26.1 266.95,-26.1 283.3,-26.1\"/>\n<polygon fill=\"black\" stroke=\"black\" points=\"283.21,-29.6 293.21,-26.1 283.21,-22.6 283.21,-29.6\"/>\n<text text-anchor=\"middle\" x=\"264.99\" y=\"-29.9\" font-family=\"Times,serif\" font-size=\"14.00\">b:B </text>\n</g>\n</g>\n</svg>\n",
      "text/plain": [
       "<graphviz.sources.Source at 0x10fb09520>"
      ]
     },
     "execution_count": 164,
     "metadata": {},
     "output_type": "execute_result"
    }
   ],
   "source": [
    "R1 = X1.copy()\n",
    "R1.compose(cap)\n",
    "R1.view()"
   ]
  },
  {
   "cell_type": "code",
   "execution_count": 166,
   "id": "bb75b922-0e03-4687-b622-93d4dc31077c",
   "metadata": {},
   "outputs": [
    {
     "data": {
      "image/svg+xml": "<?xml version=\"1.0\" encoding=\"UTF-8\" standalone=\"no\"?>\n<!DOCTYPE svg PUBLIC \"-//W3C//DTD SVG 1.1//EN\"\n \"http://www.w3.org/Graphics/SVG/1.1/DTD/svg11.dtd\">\n<!-- Generated by graphviz version 7.0.1 (20221109.1506)\n -->\n<!-- Title: H Pages: 1 -->\n<svg width=\"324pt\" height=\"60pt\"\n viewBox=\"0.00 0.00 324.19 60.20\" xmlns=\"http://www.w3.org/2000/svg\" xmlns:xlink=\"http://www.w3.org/1999/xlink\">\n<g id=\"graph0\" class=\"graph\" transform=\"scale(1 1) rotate(0) translate(4 56.2)\">\n<title>H</title>\n<polygon fill=\"white\" stroke=\"none\" points=\"-4,4 -4,-56.2 320.19,-56.2 320.19,4 -4,4\"/>\n<!-- q0 -->\n<g id=\"node1\" class=\"node\">\n<title>q0</title>\n<ellipse fill=\"yellow\" stroke=\"black\" cx=\"19.5\" cy=\"-26.1\" rx=\"19.5\" ry=\"19.5\"/>\n<text text-anchor=\"middle\" x=\"19.5\" y=\"-22.4\" font-family=\"Times,serif\" font-size=\"14.00\">q0</text>\n</g>\n<!-- q1 -->\n<g id=\"node2\" class=\"node\">\n<title>q1</title>\n<ellipse fill=\"yellow\" stroke=\"black\" cx=\"107.49\" cy=\"-26.1\" rx=\"19.5\" ry=\"19.5\"/>\n<text text-anchor=\"middle\" x=\"107.49\" y=\"-22.4\" font-family=\"Times,serif\" font-size=\"14.00\">q1</text>\n</g>\n<!-- q0&#45;&gt;q1 -->\n<g id=\"edge1\" class=\"edge\">\n<title>q0&#45;&gt;q1</title>\n<path fill=\"none\" stroke=\"black\" d=\"M39.16,-26.1C50.01,-26.1 63.96,-26.1 76.34,-26.1\"/>\n<polygon fill=\"black\" stroke=\"black\" points=\"76.06,-29.6 86.06,-26.1 76.06,-22.6 76.06,-29.6\"/>\n<text text-anchor=\"middle\" x=\"63.5\" y=\"-29.9\" font-family=\"Times,serif\" font-size=\"14.00\">C </text>\n</g>\n<!-- q2 -->\n<g id=\"node3\" class=\"node\">\n<title>q2</title>\n<ellipse fill=\"yellow\" stroke=\"black\" cx=\"195.49\" cy=\"-26.1\" rx=\"19.5\" ry=\"19.5\"/>\n<text text-anchor=\"middle\" x=\"195.49\" y=\"-22.4\" font-family=\"Times,serif\" font-size=\"14.00\">q2</text>\n</g>\n<!-- q1&#45;&gt;q2 -->\n<g id=\"edge2\" class=\"edge\">\n<title>q1&#45;&gt;q2</title>\n<path fill=\"none\" stroke=\"black\" d=\"M127.15,-26.1C138.01,-26.1 151.95,-26.1 164.33,-26.1\"/>\n<polygon fill=\"black\" stroke=\"black\" points=\"164.06,-29.6 174.06,-26.1 164.06,-22.6 164.06,-29.6\"/>\n<text text-anchor=\"middle\" x=\"151.49\" y=\"-29.9\" font-family=\"Times,serif\" font-size=\"14.00\">C </text>\n</g>\n<!-- q3 -->\n<g id=\"node4\" class=\"node\">\n<title>q3</title>\n<ellipse fill=\"yellow\" stroke=\"black\" cx=\"290.09\" cy=\"-26.1\" rx=\"22.18\" ry=\"22.18\"/>\n<ellipse fill=\"none\" stroke=\"black\" cx=\"290.09\" cy=\"-26.1\" rx=\"26.2\" ry=\"26.2\"/>\n<text text-anchor=\"middle\" x=\"290.09\" y=\"-22.4\" font-family=\"Times,serif\" font-size=\"14.00\">q3 </text>\n</g>\n<!-- q2&#45;&gt;q3 -->\n<g id=\"edge3\" class=\"edge\">\n<title>q2&#45;&gt;q3</title>\n<path fill=\"none\" stroke=\"black\" d=\"M215.23,-26.1C225.91,-26.1 239.67,-26.1 252.41,-26.1\"/>\n<polygon fill=\"black\" stroke=\"black\" points=\"252.2,-29.6 262.2,-26.1 252.2,-22.6 252.2,-29.6\"/>\n<text text-anchor=\"middle\" x=\"239.49\" y=\"-29.9\" font-family=\"Times,serif\" font-size=\"14.00\">B </text>\n</g>\n</g>\n</svg>\n",
      "text/plain": [
       "<graphviz.sources.Source at 0x10fb09d90>"
      ]
     },
     "execution_count": 166,
     "metadata": {},
     "output_type": "execute_result"
    }
   ],
   "source": [
    "Y1 = R1.copy()\n",
    "Y1.output_project()\n",
    "Y1.view()"
   ]
  },
  {
   "cell_type": "code",
   "execution_count": 167,
   "id": "45e73e76-d577-4096-a6f0-d0774b5b8f0f",
   "metadata": {},
   "outputs": [
    {
     "data": {
      "text/plain": [
       "{'CCB'}"
      ]
     },
     "execution_count": 167,
     "metadata": {},
     "output_type": "execute_result"
    }
   ],
   "source": [
    "set(Y1.extract_paths())"
   ]
  },
  {
   "cell_type": "markdown",
   "id": "398d524c-29ce-46ce-99f9-7e048aa173f0",
   "metadata": {},
   "source": [
    "### Cartesian product"
   ]
  },
  {
   "cell_type": "code",
   "execution_count": 171,
   "id": "57bef462-67f2-4f5b-991f-ff2dea6b5fa9",
   "metadata": {},
   "outputs": [
    {
     "data": {
      "image/svg+xml": "<?xml version=\"1.0\" encoding=\"UTF-8\" standalone=\"no\"?>\n<!DOCTYPE svg PUBLIC \"-//W3C//DTD SVG 1.1//EN\"\n \"http://www.w3.org/Graphics/SVG/1.1/DTD/svg11.dtd\">\n<!-- Generated by graphviz version 7.0.1 (20221109.1506)\n -->\n<!-- Title: H Pages: 1 -->\n<svg width=\"372pt\" height=\"60pt\"\n viewBox=\"0.00 0.00 372.19 60.20\" xmlns=\"http://www.w3.org/2000/svg\" xmlns:xlink=\"http://www.w3.org/1999/xlink\">\n<g id=\"graph0\" class=\"graph\" transform=\"scale(1 1) rotate(0) translate(4 56.2)\">\n<title>H</title>\n<polygon fill=\"white\" stroke=\"none\" points=\"-4,4 -4,-56.2 368.19,-56.2 368.19,4 -4,4\"/>\n<!-- q0 -->\n<g id=\"node1\" class=\"node\">\n<title>q0</title>\n<ellipse fill=\"yellow\" stroke=\"black\" cx=\"19.5\" cy=\"-26.1\" rx=\"19.5\" ry=\"19.5\"/>\n<text text-anchor=\"middle\" x=\"19.5\" y=\"-22.4\" font-family=\"Times,serif\" font-size=\"14.00\">q0</text>\n</g>\n<!-- q1 -->\n<g id=\"node2\" class=\"node\">\n<title>q1</title>\n<ellipse fill=\"yellow\" stroke=\"black\" cx=\"338.09\" cy=\"-26.1\" rx=\"22.18\" ry=\"22.18\"/>\n<ellipse fill=\"none\" stroke=\"black\" cx=\"338.09\" cy=\"-26.1\" rx=\"26.2\" ry=\"26.2\"/>\n<text text-anchor=\"middle\" x=\"338.09\" y=\"-22.4\" font-family=\"Times,serif\" font-size=\"14.00\">q1 </text>\n</g>\n<!-- q0&#45;&gt;q1 -->\n<g id=\"edge1\" class=\"edge\">\n<title>q0&#45;&gt;q1</title>\n<path fill=\"none\" stroke=\"black\" d=\"M39.35,-26.1C90.47,-26.1 232.35,-26.1 300.13,-26.1\"/>\n<polygon fill=\"black\" stroke=\"black\" points=\"299.99,-29.6 309.99,-26.1 299.99,-22.6 299.99,-29.6\"/>\n<text text-anchor=\"middle\" x=\"175.5\" y=\"-29.9\" font-family=\"Times,serif\" font-size=\"14.00\">c:C, c:B, c:A, b:C, b:B, b:A, a:C, a:B, a:A </text>\n</g>\n</g>\n</svg>\n",
      "text/plain": [
       "<graphviz.sources.Source at 0x10fa9f490>"
      ]
     },
     "execution_count": 171,
     "metadata": {},
     "output_type": "execute_result"
    }
   ],
   "source": [
    "Xl = hfst.regex(\"a | b | c\")\n",
    "Xr = hfst.regex(\"A | B | C\")\n",
    "R = Xl.copy()\n",
    "R.cross_product(Xr)\n",
    "R.view()"
   ]
  },
  {
   "cell_type": "code",
   "execution_count": 177,
   "id": "9101a02b-151a-41e0-b701-81f19558d4a0",
   "metadata": {},
   "outputs": [],
   "source": [
    "R.repeat_star()\n",
    "R.view()\n",
    "R.minimize()"
   ]
  },
  {
   "cell_type": "code",
   "execution_count": 182,
   "id": "01b00b59-9cb2-4c7f-b741-9550d50728bb",
   "metadata": {},
   "outputs": [
    {
     "data": {
      "image/svg+xml": "<?xml version=\"1.0\" encoding=\"UTF-8\" standalone=\"no\"?>\n<!DOCTYPE svg PUBLIC \"-//W3C//DTD SVG 1.1//EN\"\n \"http://www.w3.org/Graphics/SVG/1.1/DTD/svg11.dtd\">\n<!-- Generated by graphviz version 7.0.1 (20221109.1506)\n -->\n<!-- Title: H Pages: 1 -->\n<svg width=\"516pt\" height=\"60pt\"\n viewBox=\"0.00 0.00 516.19 60.20\" xmlns=\"http://www.w3.org/2000/svg\" xmlns:xlink=\"http://www.w3.org/1999/xlink\">\n<g id=\"graph0\" class=\"graph\" transform=\"scale(1 1) rotate(0) translate(4 56.2)\">\n<title>H</title>\n<polygon fill=\"white\" stroke=\"none\" points=\"-4,4 -4,-56.2 512.19,-56.2 512.19,4 -4,4\"/>\n<!-- q0 -->\n<g id=\"node1\" class=\"node\">\n<title>q0</title>\n<ellipse fill=\"yellow\" stroke=\"black\" cx=\"19.5\" cy=\"-26.1\" rx=\"19.5\" ry=\"19.5\"/>\n<text text-anchor=\"middle\" x=\"19.5\" y=\"-22.4\" font-family=\"Times,serif\" font-size=\"14.00\">q0</text>\n</g>\n<!-- q1 -->\n<g id=\"node2\" class=\"node\">\n<title>q1</title>\n<ellipse fill=\"yellow\" stroke=\"black\" cx=\"170.49\" cy=\"-26.1\" rx=\"19.5\" ry=\"19.5\"/>\n<text text-anchor=\"middle\" x=\"170.49\" y=\"-22.4\" font-family=\"Times,serif\" font-size=\"14.00\">q1</text>\n</g>\n<!-- q0&#45;&gt;q1 -->\n<g id=\"edge1\" class=\"edge\">\n<title>q0&#45;&gt;q1</title>\n<path fill=\"none\" stroke=\"black\" d=\"M39.37,-26.1C64.56,-26.1 109.46,-26.1 139.36,-26.1\"/>\n<polygon fill=\"black\" stroke=\"black\" points=\"139.26,-29.6 149.26,-26.1 139.26,-22.6 139.26,-29.6\"/>\n<text text-anchor=\"middle\" x=\"95\" y=\"-29.9\" font-family=\"Times,serif\" font-size=\"14.00\">c:A, c:B, c:C </text>\n</g>\n<!-- q2 -->\n<g id=\"node3\" class=\"node\">\n<title>q2</title>\n<ellipse fill=\"yellow\" stroke=\"black\" cx=\"321.49\" cy=\"-26.1\" rx=\"19.5\" ry=\"19.5\"/>\n<text text-anchor=\"middle\" x=\"321.49\" y=\"-22.4\" font-family=\"Times,serif\" font-size=\"14.00\">q2</text>\n</g>\n<!-- q1&#45;&gt;q2 -->\n<g id=\"edge2\" class=\"edge\">\n<title>q1&#45;&gt;q2</title>\n<path fill=\"none\" stroke=\"black\" d=\"M190.37,-26.1C215.55,-26.1 260.46,-26.1 290.36,-26.1\"/>\n<polygon fill=\"black\" stroke=\"black\" points=\"290.26,-29.6 300.26,-26.1 290.26,-22.6 290.26,-29.6\"/>\n<text text-anchor=\"middle\" x=\"245.99\" y=\"-29.9\" font-family=\"Times,serif\" font-size=\"14.00\">c:A, c:B, c:C </text>\n</g>\n<!-- q3 -->\n<g id=\"node4\" class=\"node\">\n<title>q3</title>\n<ellipse fill=\"yellow\" stroke=\"black\" cx=\"482.09\" cy=\"-26.1\" rx=\"22.18\" ry=\"22.18\"/>\n<ellipse fill=\"none\" stroke=\"black\" cx=\"482.09\" cy=\"-26.1\" rx=\"26.2\" ry=\"26.2\"/>\n<text text-anchor=\"middle\" x=\"482.09\" y=\"-22.4\" font-family=\"Times,serif\" font-size=\"14.00\">q3 </text>\n</g>\n<!-- q2&#45;&gt;q3 -->\n<g id=\"edge3\" class=\"edge\">\n<title>q2&#45;&gt;q3</title>\n<path fill=\"none\" stroke=\"black\" d=\"M341.31,-26.1C366.59,-26.1 412.08,-26.1 444.28,-26.1\"/>\n<polygon fill=\"black\" stroke=\"black\" points=\"443.97,-29.6 453.97,-26.1 443.97,-22.6 443.97,-29.6\"/>\n<text text-anchor=\"middle\" x=\"398.49\" y=\"-29.9\" font-family=\"Times,serif\" font-size=\"14.00\">b:A, b:B, b:C </text>\n</g>\n</g>\n</svg>\n",
      "text/plain": [
       "<graphviz.sources.Source at 0x10fa592e0>"
      ]
     },
     "execution_count": 182,
     "metadata": {},
     "output_type": "execute_result"
    }
   ],
   "source": [
    "X1 = hfst.regex(\"c c b\")\n",
    "Y1 = X1.copy()\n",
    "Y1.compose(R)\n",
    "Y1.view()"
   ]
  },
  {
   "cell_type": "code",
   "execution_count": 183,
   "id": "0def1b38-922d-4c2d-868c-df8b8b39c970",
   "metadata": {},
   "outputs": [],
   "source": [
    "Y1.output_project()"
   ]
  },
  {
   "cell_type": "code",
   "execution_count": 185,
   "id": "d4ab9842-b129-4175-9afd-1ffeb29f4c42",
   "metadata": {},
   "outputs": [
    {
     "data": {
      "text/plain": [
       "{'AAA',\n",
       " 'AAB',\n",
       " 'AAC',\n",
       " 'ABA',\n",
       " 'ABB',\n",
       " 'ABC',\n",
       " 'ACA',\n",
       " 'ACB',\n",
       " 'ACC',\n",
       " 'BAA',\n",
       " 'BAB',\n",
       " 'BAC',\n",
       " 'BBA',\n",
       " 'BBB',\n",
       " 'BBC',\n",
       " 'BCA',\n",
       " 'BCB',\n",
       " 'BCC',\n",
       " 'CAA',\n",
       " 'CAB',\n",
       " 'CAC',\n",
       " 'CBA',\n",
       " 'CBB',\n",
       " 'CBC',\n",
       " 'CCA',\n",
       " 'CCB',\n",
       " 'CCC'}"
      ]
     },
     "execution_count": 185,
     "metadata": {},
     "output_type": "execute_result"
    }
   ],
   "source": [
    "set(Y1.extract_paths().keys())"
   ]
  },
  {
   "cell_type": "markdown",
   "id": "50401554-1069-443b-b632-27c5f5b731f6",
   "metadata": {},
   "source": [
    "The input *ccb* was mapped to a non-singleton set of outputs, not a singleton set of one output."
   ]
  },
  {
   "cell_type": "markdown",
   "id": "federal-newman",
   "metadata": {},
   "source": [
    "# Setup\n",
    "### Starting a notebook\n",
    "```\n",
    "virtualenv vhfst\n",
    "source vhfst/bin/activate\n",
    "jupyter hfst-howto.ipynb\n",
    "```\n",
    "\n",
    "### Modules\n",
    "\n",
    "```\n",
    "import pip\n",
    "pip.main(['install','--upgrade','hfst-dev'])\n",
    "pip.main(['install','--upgrade','graphviz'])\n",
    "```\n",
    "\n",
    "### Python version\n",
    "I tried various versions of Python and of hfst.  On OSX and Ubuntu, I had success with python38 and hfst-dev.\n",
    "Here is the setup on OSX.\n",
    "\n",
    "```\n",
    "sudo port install python38\n",
    "sudo port select --set python python38\n",
    "sudo port select --set python3 python38\n",
    "sudo port install py38-virtualenv\n",
    "sudo port select --set virtualenv virtualenv38\n",
    "```\n",
    "\n",
    "This was needed to make pip work.\n",
    "```\n",
    "python -m ensurepip --upgrade\n",
    "```"
   ]
  },
  {
   "cell_type": "code",
   "execution_count": 4,
   "id": "ec1e929d",
   "metadata": {},
   "outputs": [
    {
     "name": "stderr",
     "output_type": "stream",
     "text": [
      "/Users/erlich_jaso/opt/anaconda3/envs/CompLing/lib/python3.7/site-packages/_distutils_hack/__init__.py:33: UserWarning: Setuptools is replacing distutils.\n",
      "  warnings.warn(\"Setuptools is replacing distutils.\")\n",
      "WARNING: pip is being invoked by an old script wrapper. This will fail in a future version of pip.\n",
      "Please see https://github.com/pypa/pip/issues/5599 for advice on fixing the underlying issue.\n",
      "To avoid this problem you can invoke Python with '-m pip' instead of running pip directly.\n"
     ]
    },
    {
     "data": {
      "text/html": [
       "<pre style=\"white-space:pre;overflow-x:auto;line-height:normal;font-family:Menlo,'DejaVu Sans Mono',consolas,'Courier New',monospace\">Requirement already satisfied: hfst-dev in /Users/erlich_jaso/opt/anaconda3/envs/CompLing/lib/python3.7/site-packages (3.15.0.10b0)\n",
       "</pre>\n"
      ],
      "text/plain": [
       "Requirement already satisfied: hfst-dev in /Users/erlich_jaso/opt/anaconda3/envs/CompLing/lib/python3.7/site-packages (3.15.0.10b0)\n"
      ]
     },
     "metadata": {},
     "output_type": "display_data"
    },
    {
     "name": "stderr",
     "output_type": "stream",
     "text": [
      "WARNING: pip is being invoked by an old script wrapper. This will fail in a future version of pip.\n",
      "Please see https://github.com/pypa/pip/issues/5599 for advice on fixing the underlying issue.\n",
      "To avoid this problem you can invoke Python with '-m pip' instead of running pip directly.\n"
     ]
    },
    {
     "data": {
      "text/html": [
       "<pre style=\"white-space:pre;overflow-x:auto;line-height:normal;font-family:Menlo,'DejaVu Sans Mono',consolas,'Courier New',monospace\">Requirement already satisfied: graphviz in /Users/erlich_jaso/opt/anaconda3/envs/CompLing/lib/python3.7/site-packages (0.20.1)\n",
       "</pre>\n"
      ],
      "text/plain": [
       "Requirement already satisfied: graphviz in /Users/erlich_jaso/opt/anaconda3/envs/CompLing/lib/python3.7/site-packages (0.20.1)\n"
      ]
     },
     "metadata": {},
     "output_type": "display_data"
    },
    {
     "data": {
      "text/plain": [
       "0"
      ]
     },
     "execution_count": 4,
     "metadata": {},
     "output_type": "execute_result"
    }
   ],
   "source": [
    "import pip\n",
    "pip.main(['install','--upgrade','hfst-dev'])\n",
    "pip.main(['install','--upgrade','graphviz'])"
   ]
  },
  {
   "cell_type": "markdown",
   "id": "encouraging-canada",
   "metadata": {},
   "source": [
    "## Methods\n",
    "This lists the methods of a Python HFST transducer.  Some of them are indicative of an OpenFst backend."
   ]
  },
  {
   "cell_type": "code",
   "execution_count": 10,
   "id": "intense-swing",
   "metadata": {},
   "outputs": [
    {
     "name": "stdout",
     "output_type": "stream",
     "text": [
      "Help on class HfstTransducer in module libhfst_dev:\n",
      "\n",
      "class HfstTransducer(builtins.object)\n",
      " |  HfstTransducer(*args)\n",
      " |  \n",
      " |  A synchronous finite-state transducer.\n",
      " |  \n",
      " |  Methods defined here:\n",
      " |  \n",
      " |  __del__ lambda self\n",
      " |  \n",
      " |  __getattr__ lambda self, name\n",
      " |  \n",
      " |  __init__(self, *args)\n",
      " |      Initialize self.  See help(type(self)) for accurate signature.\n",
      " |  \n",
      " |  __repr__ = _swig_repr(self)\n",
      " |  \n",
      " |  __setattr__ lambda self, name, value\n",
      " |  \n",
      " |  __str__(self)\n",
      " |      An AT&T representation of the transducer.\n",
      " |      \n",
      " |      Defined for print command. An example:\n",
      " |      \n",
      " |           >>> print(hfst.regex('[foo:bar::2]+'))\n",
      " |           0       1       foo     bar     2.000000\n",
      " |           1       1       foo     bar     2.000000\n",
      " |           1       0.000000 Todo\n",
      " |      Works only for small transducers.\n",
      " |  \n",
      " |  compare(self, arg2, harmonize=True)\n",
      " |      Whether this transducer and *another* are equivalent.\n",
      " |      \n",
      " |      Parameters\n",
      " |      ----------\n",
      " |      * `another` :\n",
      " |          The compared transducer.\n",
      " |      \n",
      " |      pre: *self* and *another* must have the same implementation type.\n",
      " |      \n",
      " |      Two transducers are equivalent iff they accept the same input/output string\n",
      " |      pairs with the same weights and the same alignments.\n",
      " |      \n",
      " |      note: For weighted transducers, the function often returns false negatives due\n",
      " |          to weight precision issues.\n",
      " |  \n",
      " |  compose(self, tr, harmonize=True)\n",
      " |      Compose this transducer with *another*.\n",
      " |      \n",
      " |      Parameters\n",
      " |      ----------\n",
      " |      * `another` :\n",
      " |          The second argument in the composition. Not modified.\n",
      " |  \n",
      " |  compose_intersect(self, v, invert=False, harmonize=True)\n",
      " |      Compose this transducer with the intersection of transducers in *v*.\n",
      " |      \n",
      " |      If *invert* is true, then compose the intersection of the transducers in *v*\n",
      " |      with this transducer.\n",
      " |      \n",
      " |      The algorithm used by this function is faster than intersecting all transducers\n",
      " |      one by one and then composing this transducer with the intersection.\n",
      " |      \n",
      " |      pre: The transducers in *v* are deterministic and epsilon-free.\n",
      " |      \n",
      " |      Parameters\n",
      " |      ----------\n",
      " |      * `v` :\n",
      " |          A tuple of transducers.\n",
      " |      * `invert` :\n",
      " |          Whether the intersection of the transducers in *v* is composed with this\n",
      " |          transducer.\n",
      " |  \n",
      " |  concatenate(self, tr, harmonize=True)\n",
      " |      Concatenate this transducer with *another*.\n",
      " |  \n",
      " |  conjunct(self, t, harmonize=True)\n",
      " |      Alias for intersect.\n",
      " |      \n",
      " |      See also: hfst.HfstTransducer.intersect\n",
      " |  \n",
      " |  convert(self, impl)\n",
      " |      Convert the transducer into an equivalent transducer in format *type*.\n",
      " |      \n",
      " |      If a weighted transducer is converted into an unweighted one, all weights are\n",
      " |      lost. In the reverse case, all weights are initialized to the semiring's one.\n",
      " |      \n",
      " |      A transducer of type hfst.ImplementationType.SFST_TYPE, hfst.ImplementationType.TROPICAL_OPENFST_TYPE,\n",
      " |      hfst.ImplementationType.LOG_OPENFST_TYPE or hfst.ImplementationType.FOMA_TYPE can be converted into an\n",
      " |      hfst.ImplementationType.HFST_OL_TYPE or hfst.ImplementationType.HFST_OLW_TYPE transducer, but an\n",
      " |      hfst.ImplementationType.HFST_OL_TYPE or hfst.ImplementationType.HFST_OLW_TYPE transducer cannot be\n",
      " |      converted to any other type.\n",
      " |      \n",
      " |      note: For conversion between HfstIterableTransducer and HfstTransducer, see\n",
      " |          hfst.HfstTransducer.__init__ and hfst.HfstIterableTransducer.__init__\n",
      " |  \n",
      " |  copy(self)\n",
      " |      Return a deep copy of the transducer.\n",
      " |  \n",
      " |  cross_product(self, another, harmonize=True)\n",
      " |      Make cross product of this transducer with *another*.\n",
      " |      \n",
      " |      It pairs every string of this with every string of *another*. If strings are not\n",
      " |      the same length, epsilon padding will be added in the end of the shorter string.\n",
      " |      \n",
      " |      pre: Both transducers must be automata, i.e. map strings onto themselves.\n",
      " |  \n",
      " |  determinize(self)\n",
      " |      Determinize the transducer.\n",
      " |      \n",
      " |      Determinizing a transducer yields an equivalent transducer that has no state\n",
      " |      with two or more transitions whose input:output symbol pairs are the same.\n",
      " |  \n",
      " |  disjunct(self, tr, harmonize=True)\n",
      " |      Disjunct this transducer with *another*.\n",
      " |  \n",
      " |  eliminate_flag(self, f)\n",
      " |      Eliminate flag diacritic *symbol* from the transducer.\n",
      " |      \n",
      " |      Parameters\n",
      " |      ----------\n",
      " |      * `symbol` :\n",
      " |          The flag to be eliminated. TODO: explain more.\n",
      " |      \n",
      " |      An equivalent transducer with no flags *symbol*.\n",
      " |  \n",
      " |  eliminate_flags(self)\n",
      " |      Eliminate flag diacritics listed in *symbols* from the transducer.\n",
      " |      \n",
      " |      Parameters\n",
      " |      ----------\n",
      " |      * `symbols` :\n",
      " |          The flags to be eliminated. TODO: explain more.\n",
      " |      \n",
      " |      An equivalent transducer with no flags listed in *symbols*.\n",
      " |  \n",
      " |  extract_longest_paths(self, **kwargs)\n",
      " |      Extract longest paths of the transducer.\n",
      " |      \n",
      " |      Parameters\n",
      " |      ----------\n",
      " |      * `kwargs` :\n",
      " |          Possible parameters and their default values are: obey_flags=True,\n",
      " |          output='dict'\n",
      " |      * `obey_flags` :\n",
      " |          Whether flag diacritics are obeyed. The default is True.\n",
      " |      * `output` :\n",
      " |          Possible values are 'dict', 'text' and 'raw', 'dict' being the default.\n",
      " |  \n",
      " |  extract_paths(self, **kwargs)\n",
      " |      Extract paths that are recognized by the transducer.\n",
      " |      \n",
      " |      Parameters\n",
      " |      ----------\n",
      " |      * `kwargs` :\n",
      " |          Arguments recognized are filter_flags, max_cycles, max_number, obey_flags,\n",
      " |          output, random.\n",
      " |      * `filter_flags` :\n",
      " |          Whether flags diacritics are filtered out from the result (default True).\n",
      " |      * `max_cycles` :\n",
      " |          Indicates how many times a cycle will be followed, with negative numbers\n",
      " |          indicating unlimited (default -1 i.e. unlimited).\n",
      " |      * `max_number` :\n",
      " |          The total number of resulting strings is capped at this value, with 0 or\n",
      " |          negative indicating unlimited (default -1 i.e. unlimited).\n",
      " |      * `obey_flags` :\n",
      " |          Whether flag diacritics are validated (default True).\n",
      " |      * `output` :\n",
      " |          Output format. Values recognized: 'text' (as a string, separated by\n",
      " |          newlines), 'raw' (a dictionary that maps each input string into a list of\n",
      " |          tuples of an output string and a weight), 'dict' (a dictionary that maps\n",
      " |          each input string into a tuple of tuples of an output string and a weight,\n",
      " |          the default).\n",
      " |      * `random` :\n",
      " |          Whether result strings are fetched randomly (default False).\n",
      " |      \n",
      " |      Returns\n",
      " |      -------\n",
      " |      The extracted strings. *output* controls how they are represented.\n",
      " |      \n",
      " |      pre: The transducer must be acyclic, if both *max_number* and *max_cycles* have\n",
      " |      unlimited values. Else a hfst.exceptions.TransducerIsCyclicException will be\n",
      " |      thrown.\n",
      " |      \n",
      " |      An example:\n",
      " |      \n",
      " |      >>> tr = hfst.regex('a:b+ (a:c+)')\n",
      " |      >>> print(tr)\n",
      " |      0       1       a       b       0.000000\n",
      " |      1       1       a       b       0.000000\n",
      " |      1       2       a       c       0.000000\n",
      " |      1       0.000000\n",
      " |      2       2       a       c       0.000000\n",
      " |      2       0.000000\n",
      " |      \n",
      " |      >>> print(tr.extract_paths(max_cycles=1, output='text'))\n",
      " |      a:b     0\n",
      " |      aa:bb   0\n",
      " |      aaa:bbc 0\n",
      " |      aaaa:bbcc       0\n",
      " |      aa:bc   0\n",
      " |      aaa:bcc 0\n",
      " |      \n",
      " |      >>> print(tr.extract_paths(max_number=4, output='text'))\n",
      " |      a:b     0\n",
      " |      aa:bc   0\n",
      " |      aaa:bcc 0\n",
      " |      aaaa:bccc       0\n",
      " |      \n",
      " |      >>> print(tr.extract_paths(max_cycles=1, max_number=4, output='text'))\n",
      " |      a:b     0\n",
      " |      aa:bb   0\n",
      " |      aa:bc   0\n",
      " |      aaa:bcc 0\n",
      " |      \n",
      " |      Exceptions\n",
      " |      ----------\n",
      " |      * `TransducerIsCyclicException` :\n",
      " |      \n",
      " |      See also: hfst.HfstTransducer.n_best\n",
      " |  \n",
      " |  extract_shortest_paths(self, **kwargs)\n",
      " |      Extract shortest paths of the transducer.\n",
      " |      \n",
      " |      Parameters\n",
      " |      ----------\n",
      " |      * `kwargs` :\n",
      " |          Possible parameters and their default values are: obey_flags=True.\n",
      " |      * `output` :\n",
      " |          Possible values are 'dict', 'text' and 'raw', 'dict' being the default.\n",
      " |  \n",
      " |  get_alphabet(self)\n",
      " |      Get the alphabet of the transducer.\n",
      " |      \n",
      " |      The alphabet is defined as the set of symbols known to the transducer.\n",
      " |      \n",
      " |      Returns\n",
      " |      -------\n",
      " |      A tuple of strings.\n",
      " |  \n",
      " |  get_name(self)\n",
      " |      Get the name of the transducer.\n",
      " |      \n",
      " |      See also: set_name\n",
      " |  \n",
      " |  get_properties(self)\n",
      " |      Get all properties from the transducer.\n",
      " |      \n",
      " |      Returns\n",
      " |      -------\n",
      " |      A dictionary whose keys are properties and whose values are the values of those\n",
      " |      properties.\n",
      " |  \n",
      " |  get_property(self, property)\n",
      " |      Get arbitrary string propert *property*.\n",
      " |      \n",
      " |      Parameters\n",
      " |      ----------\n",
      " |      * `property` :\n",
      " |          The name of the property whose value is returned. get_property('name') works\n",
      " |          like get_name().\n",
      " |  \n",
      " |  get_type(self)\n",
      " |      The implementation type of the transducer.\n",
      " |      \n",
      " |      Returns\n",
      " |      -------\n",
      " |      hfst.ImplementationType\n",
      " |  \n",
      " |  has_flag_diacritics(self)\n",
      " |      Whether the transducer has flag diacritics in its transitions.\n",
      " |  \n",
      " |  input_project(self)\n",
      " |      Extract the input language of the transducer.\n",
      " |      \n",
      " |      All transition symbol pairs *isymbol:osymbol* are changed to *isymbol:isymbol*.\n",
      " |  \n",
      " |  insert_freely(self, *args)\n",
      " |      Freely insert a transition or a transducer into the transducer.\n",
      " |      \n",
      " |      Parameters\n",
      " |      ----------\n",
      " |      * `ins` :\n",
      " |          The transition or transducer to be inserted.\n",
      " |      \n",
      " |      If *ins* is a transition, i.e. a 2-tuple of strings: A transition is added to\n",
      " |      each state in this transducer. The transition leads from that state to itself\n",
      " |      with input and output symbols defined by *ins*. The weight of the transition is\n",
      " |      zero.\n",
      " |      \n",
      " |      If *ins* is an hfst.HfstTransducer: A copy of *ins* is attached with epsilon\n",
      " |      transitions to each state of this transducer. After the operation, for each\n",
      " |      state S in this transducer, there is an epsilon transition that leads from state\n",
      " |      S to the initial state of *ins*, and for each final state of *ins*, there is an\n",
      " |      epsilon transition that leads from that final state to state S in this\n",
      " |      transducer. The weights of the final states in *ins* are copied to the epsilon\n",
      " |      transitions leading to state S.\n",
      " |  \n",
      " |  insert_to_alphabet(self, arg2)\n",
      " |      Explicitly insert *symbol* to the alphabet of the transducer.\n",
      " |      \n",
      " |      Parameters\n",
      " |      ----------\n",
      " |      * `symbol` :\n",
      " |          The symbol (string) to be inserted.\n",
      " |      \n",
      " |      note: Usually this function is not needed since new symbols are added to the\n",
      " |          alphabet by default.\n",
      " |  \n",
      " |  intersect(self, tr, harmonize=True)\n",
      " |      Intersect this transducer with *another*.\n",
      " |  \n",
      " |  invert(self)\n",
      " |      Swap the input and output symbols of each transition in the transducer.\n",
      " |  \n",
      " |  is_automaton(self)\n",
      " |      Whether each transition in the transducer has equivalent input and output\n",
      " |      symbols.\n",
      " |      \n",
      " |      note: Transition with hfst.UNKNOWN on both sides IS NOT a transition with\n",
      " |          equivalent input and output symbols.\n",
      " |      \n",
      " |      note: Transition with hfst.IDENTITY on both sides IS a transition with\n",
      " |          equivalent input and output symbols.\n",
      " |  \n",
      " |  is_cyclic(self)\n",
      " |      Whether the transducer is cyclic.\n",
      " |  \n",
      " |  is_infinitely_ambiguous(self)\n",
      " |      Whether the transducer is infinitely ambiguous.\n",
      " |      \n",
      " |      A transducer is infinitely ambiguous if there exists an input that will yield\n",
      " |      infinitely many results, i.e. there are input epsilon loops that are traversed\n",
      " |      with that input.\n",
      " |  \n",
      " |  is_lookup_infinitely_ambiguous(self, arg2)\n",
      " |      Whether lookup of path *input* will have infinite results.\n",
      " |      \n",
      " |      Currently, this function will return whether the transducer is infinitely\n",
      " |      ambiguous on any lookup path found in the transducer, i.e. the argument *input*\n",
      " |      is ignored.\n",
      " |      \n",
      " |      Todo\n",
      " |      Do not ignore the argument *input*\n",
      " |  \n",
      " |  lenient_composition(self, another, harmonize=True)\n",
      " |      Perform a lenient composition on this transducer and *another*.\n",
      " |      \n",
      " |      TODO: explain more.\n",
      " |  \n",
      " |  longest_path_size(self, obey_flags=True)\n",
      " |      Get length of longest path of the transducer.\n",
      " |  \n",
      " |  lookup(self, input, **kwargs)\n",
      " |      Lookup string *input*.\n",
      " |      \n",
      " |      Parameters\n",
      " |      ----------\n",
      " |      * `input` :\n",
      " |          The input. A string or a pre-tokenized tuple of symbols (i.e. a tuple of strings).\n",
      " |      * `kwargs` :\n",
      " |          Possible parameters and their default values are: obey_flags=True,\n",
      " |          max_number=-1, time_cutoff=0.0, output='tuple'\n",
      " |      * `obey_flags` :\n",
      " |          Whether flag diacritics are obeyed. Always True for HFST_OL(W)_TYPE transducers.\n",
      " |      * `show_flags` :\n",
      " |          Whether flag diacritics are shown when output is 'text' or 'tuple'. Defaults to False.\n",
      " |      * `max_number` :\n",
      " |          Maximum number of results returned, defaults to -1, i.e. infinity.\n",
      " |      * `time_cutoff` :\n",
      " |          How long the function can search for results before returning, expressed in\n",
      " |          seconds. Defaults to 0.0, i.e. infinitely. Always 0.0 for transducers that are\n",
      " |          not of HFST_OL(W)_TYPE.\n",
      " |      * `output` :\n",
      " |          Possible values are 'tuple', 'text' and 'raw', 'tuple' being the default.\n",
      " |      \n",
      " |      Note: This function has an efficient implementation only for optimized lookup format\n",
      " |      (hfst.ImplementationType.HFST_OL_TYPE or hfst.ImplementationType.HFST_OLW_TYPE). Other formats perform the\n",
      " |      lookup via composition. Consider converting the transducer to optimized lookup format\n",
      " |      or to a HfstIterableTransducer. Conversion to HFST_OL(W)_TYPE might take a while but the\n",
      " |      lookup is fast. Conversion to HfstIterableTransducer is quick but lookup is slower.\n",
      " |  \n",
      " |  lookup_optimize(self)\n",
      " |      Optimize the transducer for lookup.\n",
      " |      \n",
      " |      This effectively converts the transducer into hfst.ImplementationType.HFST_OL_TYPE.\n",
      " |  \n",
      " |  minimize(self)\n",
      " |      Minimize the transducer.\n",
      " |      \n",
      " |      Minimizing a transducer yields an equivalent transducer with the smallest number\n",
      " |      of states.\n",
      " |      \n",
      " |      Bug\n",
      " |      OpenFst's minimization algorithm seems to add epsilon transitions to weighted\n",
      " |      transducers?\n",
      " |  \n",
      " |  minus(self, t, harmonize=True)\n",
      " |      Alias for subtract.\n",
      " |      \n",
      " |      See also: hfst.HfstTransducer.subtract\n",
      " |  \n",
      " |  n_best(self, n)\n",
      " |      Extract *n* best paths of the transducer.\n",
      " |      \n",
      " |      In the case of a weighted transducer (hfst.ImplementationType.TROPICAL_OPENFST_TYPE or\n",
      " |      hfst.ImplementationType.LOG_OPENFST_TYPE), best paths are defined as paths with the lowest\n",
      " |      weight. In the case of an unweighted transducer (hfst.ImplementationType.SFST_TYPE or\n",
      " |      hfst.ImplementationType.FOMA_TYPE), the function returns random paths.\n",
      " |      \n",
      " |      This function is not implemented for hfst.ImplementationType.FOMA_TYPE or\n",
      " |      hfst.ImplementationType.SFST_TYPE. If this function is called by an HfstTransducer of type\n",
      " |      hfst.ImplementationType.FOMA_TYPE or hfst.ImplementationType.SFST_TYPE, it is converted to\n",
      " |      hfst.ImplementationType.TROPICAL_OPENFST_TYPE, paths are extracted and it is converted back\n",
      " |      to hfst.ImplementationType.FOMA_TYPE or hfst.ImplementationType.SFST_TYPE. If HFST is not linked to\n",
      " |      OpenFst library, an hfst.exceptions.ImplementationTypeNotAvailableException is\n",
      " |      thrown.\n",
      " |  \n",
      " |  number_of_arcs(self)\n",
      " |      The number of transitions in the transducer.\n",
      " |  \n",
      " |  number_of_states(self)\n",
      " |      The number of states in the transducer.\n",
      " |  \n",
      " |  optionalize(self)\n",
      " |      Disjunct the transducer with an epsilon transducer.\n",
      " |  \n",
      " |  output_project(self)\n",
      " |      Extract the output language of the transducer.\n",
      " |      \n",
      " |      All transition symbol pairs *isymbol:osymbol* are changed to *osymbol:osymbol*.\n",
      " |  \n",
      " |  priority_union(self, another)\n",
      " |      Make priority union of this transducer with *another*.\n",
      " |      \n",
      " |      For the operation t1.priority_union(t2), the result is a union of t1 and t2,\n",
      " |      except that whenever t1 and t2 have the same string on left side, the path in t2\n",
      " |      overrides the path in t1.\n",
      " |      \n",
      " |      Example\n",
      " |      \n",
      " |           Transducer 1 (t1):\n",
      " |           a : a\n",
      " |           b : b\n",
      " |      \n",
      " |           Transducer 2 (t2):\n",
      " |           b : B\n",
      " |           c : C\n",
      " |      \n",
      " |           Result ( t1.priority_union(t2) ):\n",
      " |           a : a\n",
      " |           b : B\n",
      " |           c : C For more information, read fsmbook.\n",
      " |  \n",
      " |  prune(self)\n",
      " |      Make transducer coaccessible.\n",
      " |      \n",
      " |      A transducer is coaccessible iff there is a path from every state to a final\n",
      " |      state.\n",
      " |  \n",
      " |  push_weights_to_end(self)\n",
      " |      Push weights towards final state(s).\n",
      " |      \n",
      " |      If the HfstTransducer is of unweighted type (hfst.ImplementationType.SFST_TYPE or\n",
      " |      hfst.ImplementationType.FOMA_TYPE), nothing is done.\n",
      " |      \n",
      " |      An example:\n",
      " |      \n",
      " |           >>> import hfst\n",
      " |           >>> tr = hfst.regex('[a::1 a:b::0.3 (b::0)]::0.7;')\n",
      " |           >>> tr.push_weights_to_end()\n",
      " |           >>> print(tr)\n",
      " |           0       1       a       a       0.000000\n",
      " |           1       2       a       b       0.000000\n",
      " |           2       3       b       b       0.000000\n",
      " |           2       2.000000\n",
      " |           3       2.000000\n",
      " |      \n",
      " |      See also: hfst.HfstTransducer.push_weights_to_start\n",
      " |  \n",
      " |  push_weights_to_start(self)\n",
      " |      Push weights towards initial state.\n",
      " |      \n",
      " |      If the HfstTransducer is of unweighted type (hfst.ImplementationType.SFST_TYPE or\n",
      " |      hfst.ImplementationType.FOMA_TYPE), nothing is done.\n",
      " |      \n",
      " |      An example:\n",
      " |      \n",
      " |           >>> import hfst\n",
      " |           >>> tr = hfst.regex('[a::1 a:b::0.3 (b::0)]::0.7;')\n",
      " |           >>> tr.push_weights_to_start()\n",
      " |           >>> print(tr)\n",
      " |           0       1       a       a       2.000000\n",
      " |           1       2       a       b       0.000000\n",
      " |           2       3       b       b       0.000000\n",
      " |           2       0.000000\n",
      " |           3       0.000000\n",
      " |      \n",
      " |      See also: hfst.HfstTransducer.push_weights_to_end\n",
      " |  \n",
      " |  read_all_from_file(filename_)\n",
      " |      Read all binary transducers from file *filename_*.\n",
      " |  \n",
      " |  read_from_file(filename_)\n",
      " |      Read a binary transducer from file *filename_*.\n",
      " |  \n",
      " |  remove_epsilons(self)\n",
      " |      Remove all *epsilon:epsilon* transitions from the transducer so that the\n",
      " |      resulting transducer is equivalent to the original one.\n",
      " |  \n",
      " |  remove_from_alphabet(self, arg2)\n",
      " |      Remove *symbol* from the alphabet of the transducer.\n",
      " |      \n",
      " |      Parameters\n",
      " |      ----------\n",
      " |      * `symbol` :\n",
      " |          The symbol (string) to be removed.\n",
      " |      \n",
      " |      pre: *symbol* does not occur in any transition of the transducer.\n",
      " |      \n",
      " |      note: Use with care, removing a symbol that occurs in a transition of the\n",
      " |          transducer can have unexpected results.\n",
      " |  \n",
      " |  remove_optimization(self)\n",
      " |      Remove lookup optimization.\n",
      " |      \n",
      " |      This effectively converts transducer (back) into default fst type.\n",
      " |  \n",
      " |  repeat_n(self, n)\n",
      " |      A concatenation of *n* transducers.\n",
      " |  \n",
      " |  repeat_n_minus(self, n)\n",
      " |      A concatenation of N transducers where N is any number from zero to *n*,\n",
      " |      inclusive.\n",
      " |  \n",
      " |  repeat_n_plus(self, n)\n",
      " |      A concatenation of N transducers where N is any number from *n* to infinity,\n",
      " |      inclusive.\n",
      " |  \n",
      " |  repeat_n_to_k(self, n, k)\n",
      " |      A concatenation of N transducers where N is any number from *n* to *k*,\n",
      " |      inclusive.\n",
      " |  \n",
      " |  repeat_plus(self)\n",
      " |      A concatenation of N transducers where N is any number from one to infinity.\n",
      " |  \n",
      " |  repeat_star(self)\n",
      " |      A concatenation of N transducers where N is any number from zero to infinity.\n",
      " |  \n",
      " |  reverse(self)\n",
      " |      Reverse the transducer.\n",
      " |      \n",
      " |      A reverted transducer accepts the string 'n(0) n(1) ... n(N)' iff the original\n",
      " |      transducer accepts the string 'n(N) n(N-1) ... n(0)'\n",
      " |  \n",
      " |  set_final_weights(self, weight, increment=False)\n",
      " |      Set the weights of all final states to *weight*.\n",
      " |      \n",
      " |      If the HfstTransducer is of unweighted type (hfst.ImplementationType.SFST_TYPE or\n",
      " |      hfst.ImplementationType.FOMA_TYPE), nothing is done.\n",
      " |  \n",
      " |  set_name(self, name)\n",
      " |      Rename the transducer *name*.\n",
      " |      \n",
      " |      Parameters\n",
      " |      ----------\n",
      " |      * `name` :\n",
      " |          The name of the transducer.\n",
      " |      \n",
      " |      See also: get_name\n",
      " |  \n",
      " |  set_property(self, property, value)\n",
      " |      Set arbitrary string property *property* to *value*.\n",
      " |      \n",
      " |      Parameters\n",
      " |      ----------\n",
      " |      * `property` :\n",
      " |          A string naming the property.\n",
      " |      * `value` :\n",
      " |          A string expressing the value of *property*.\n",
      " |      \n",
      " |      set_property('name', 'name of the transducer') equals set_name('name of the\n",
      " |      transducer').\n",
      " |      \n",
      " |      note: While this function is capable of creating endless amounts of arbitrary\n",
      " |          metadata, it is suggested that property names are drawn from central\n",
      " |          repository, or prefixed with \"x-\". A property that does not follow this\n",
      " |          convention may affect the behavior of transducer in future releases.\n",
      " |  \n",
      " |  shuffle(self, another, harmonize=True)\n",
      " |      Shuffle this transducer with transducer *another*.\n",
      " |      \n",
      " |      If transducer A accepts string 'foo' and transducer B string 'bar', the\n",
      " |      transducer that results from shuffling A and B accepts all strings\n",
      " |      [(f|b)(o|a)(o|r)].\n",
      " |      \n",
      " |      pre: Both transducers must be automata, i.e. map strings onto themselves.\n",
      " |  \n",
      " |  substitute(self, s, S=None, **kwargs)\n",
      " |      Substitute symbols or transitions in the transducer.\n",
      " |      \n",
      " |      Parameters\n",
      " |      ----------\n",
      " |      * `s` :\n",
      " |          The symbol or transition to be substituted. Can also be a dictionary of\n",
      " |          substitutions, if S == None.\n",
      " |      * `S` :\n",
      " |          The symbol, transition, a tuple of transitions or a transducer\n",
      " |          (hfst.HfstTransducer) that substitutes *s*.\n",
      " |      * `kwargs` :\n",
      " |          Arguments recognized are 'input' and 'output', their values can be False or\n",
      " |          True, True being the default. These arguments are valid only if *s* and *S*\n",
      " |          are strings, else they are ignored.\n",
      " |      * `input` :\n",
      " |          Whether substitution is performed on input side, defaults to True. Valid\n",
      " |          only if *s* and *S* are strings.\n",
      " |      * `output` :\n",
      " |          Whether substitution is performed on output side, defaults to True. Valid\n",
      " |          only if *s* and \\ S are strings.\n",
      " |      \n",
      " |      For more information, see hfst.HfstIterableTransducer.substitute. The function\n",
      " |      works similarly, with the exception of argument *S*, which must be\n",
      " |      hfst.HfstTransducer instead of hfst.HfstIterableTransducer.\n",
      " |      \n",
      " |      See also: hfst.HfstIterableTransducer.substitute\n",
      " |  \n",
      " |  subtract(self, tr, harmonize=True)\n",
      " |      Subtract transducer *another* from this transducer.\n",
      " |  \n",
      " |  view(self)\n",
      " |      Return a dot Digraph representation of the transducer as a graphviz.Source object.\n",
      " |      \n",
      " |      Inside a Jupyter notebook, the return value will be automatically\n",
      " |      rendered to an svg image and displayed on the console.\n",
      " |      \n",
      " |      Examples:\n",
      " |      \n",
      " |      tr = hfst_dev.regex('foo:bar')\n",
      " |      tr.view()\n",
      " |      \n",
      " |      If inside an intended block, 'display' must be called:\n",
      " |      \n",
      " |      if (Foo):\n",
      " |          tr = hfst_dev.regex('foo:bar')\n",
      " |          display(tr.view())\n",
      " |      \n",
      " |      Note: The function requires graphviz package.\n",
      " |  \n",
      " |  write(self, os)\n",
      " |      Write the transducer in binary format to *ostr*.\n",
      " |      \n",
      " |      Parameters\n",
      " |      ----------\n",
      " |      * `ostr` :\n",
      " |          A hfst.HfstOutputStream where the transducer is written.\n",
      " |  \n",
      " |  write_att(self, f, write_weights=True)\n",
      " |      Write the transducer in AT&T format to file *f*, *write_weights* defined whether\n",
      " |      weights are written.\n",
      " |      \n",
      " |      Parameters\n",
      " |      ----------\n",
      " |      * `f` :\n",
      " |          A python file where transducer is written.\n",
      " |      * `write_weights` :\n",
      " |          Whether weights are written.\n",
      " |  \n",
      " |  write_prolog(self, f, write_weights=True)\n",
      " |      Write the transducer in prolog format with name *name* to file *f*,\n",
      " |      *write_weights* defined whether weights are written.\n",
      " |      \n",
      " |      Parameters\n",
      " |      ----------\n",
      " |      * `f` :\n",
      " |          A python file where the transducer is written.\n",
      " |      * `write_weights` :\n",
      " |          Whether weights are written.\n",
      " |  \n",
      " |  write_to_file(self, filename_)\n",
      " |      Write the transducer in binary format to file *filename_*.\n",
      " |  \n",
      " |  write_xfst(self, f, write_weights=True)\n",
      " |      Write the transducer in xfst format to file *f*, *write_weights* defined whether\n",
      " |      weights are written.\n",
      " |      \n",
      " |      Parameters\n",
      " |      ----------\n",
      " |      * `f` :\n",
      " |          A python file where transducer is written.\n",
      " |      * `write_weights` :\n",
      " |          Whether weights are written.\n",
      " |  \n",
      " |  ----------------------------------------------------------------------\n",
      " |  Static methods defined here:\n",
      " |  \n",
      " |  __swig_destroy__ = delete_HfstTransducer(...)\n",
      " |  \n",
      " |  is_implementation_type_available(type)\n",
      " |      Whether HFST is linked to the transducer library needed by implementation type\n",
      " |      *type*.\n",
      " |  \n",
      " |  ----------------------------------------------------------------------\n",
      " |  Data descriptors defined here:\n",
      " |  \n",
      " |  __dict__\n",
      " |      dictionary for instance variables (if defined)\n",
      " |  \n",
      " |  __weakref__\n",
      " |      list of weak references to the object (if defined)\n",
      " |  \n",
      " |  ----------------------------------------------------------------------\n",
      " |  Data and other attributes defined here:\n",
      " |  \n",
      " |  __swig_getmethods__ = {'is_implementation_type_available': <function H...\n",
      " |  \n",
      " |  __swig_setmethods__ = {}\n",
      "\n"
     ]
    }
   ],
   "source": [
    "help(hfst.HfstTransducer)"
   ]
  },
  {
   "cell_type": "code",
   "execution_count": null,
   "id": "prime-updating",
   "metadata": {},
   "outputs": [],
   "source": []
  }
 ],
 "metadata": {
  "kernelspec": {
   "display_name": "Python 3 (ipykernel)",
   "language": "python",
   "name": "python3"
  },
  "language_info": {
   "codemirror_mode": {
    "name": "ipython",
    "version": 3
   },
   "file_extension": ".py",
   "mimetype": "text/x-python",
   "name": "python",
   "nbconvert_exporter": "python",
   "pygments_lexer": "ipython3",
   "version": "3.7.16"
  }
 },
 "nbformat": 4,
 "nbformat_minor": 5
}
