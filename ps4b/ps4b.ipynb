{
 "cells": [
  {
   "attachments": {},
   "cell_type": "markdown",
   "metadata": {},
   "source": [
    "5. Programming\n",
    "\n",
    "a. Write a program which given a grammar and a number n returns an\n",
    "iterator over word strings that are licensed by the grammar and have\n",
    "length exactly n. \n",
    "\n",
    "b. Add functionality for including a words string with a given\n",
    "probability p. For instance if p is 0.01, sentences are included with\n",
    "1% probability.\n",
    "\n",
    "c. Add functionality for computing a frequency distribution on pairs\n",
    "of adjacent words pairs in sentences of length n. Come to an agreement\n",
    "on the forum about what this function should return.\n",
    "\n",
    "Illustrate your solution with a grammar that has sentences of unbounded length.\n",
    "\n",
    "Hint: This might be a starting point for part a.\n",
    "\n",
    "  from nltk.parse.generate import generate\n",
    "\n",
    "Post questions of clarification on the forum.\n"
   ]
  },
  {
   "cell_type": "code",
   "execution_count": 1,
   "metadata": {},
   "outputs": [],
   "source": [
    "from nltk.parse.generate import generate"
   ]
  },
  {
   "cell_type": "code",
   "execution_count": null,
   "metadata": {},
   "outputs": [],
   "source": []
  }
 ],
 "metadata": {
  "kernelspec": {
   "display_name": "CompLing",
   "language": "python",
   "name": "python3"
  },
  "language_info": {
   "codemirror_mode": {
    "name": "ipython",
    "version": 3
   },
   "file_extension": ".py",
   "mimetype": "text/x-python",
   "name": "python",
   "nbconvert_exporter": "python",
   "pygments_lexer": "ipython3",
   "version": "3.7.16"
  },
  "orig_nbformat": 4
 },
 "nbformat": 4,
 "nbformat_minor": 2
}
