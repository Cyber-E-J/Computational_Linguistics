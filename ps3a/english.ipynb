{
 "cells": [
  {
   "cell_type": "markdown",
   "id": "military-pathology",
   "metadata": {},
   "source": [
    "## English pronunciation dictionary\n",
    "\n",
    "This demos the aligned English pronunciation dictionary\n",
    "English."
   ]
  },
  {
   "cell_type": "markdown",
   "id": "c5e302f2-4cc1-4c01-a9d0-c65298181928",
   "metadata": {},
   "source": [
    "## Startup in my environment\n",
    "```\n",
    "cd /local/teach/cl23/H/H3\n",
    "source /local/sys/python/vhfst/bin/activate\n",
    "jupyter lab english.ipynb\n",
    "```"
   ]
  },
  {
   "cell_type": "code",
   "execution_count": 1,
   "id": "e5948271-62ad-484f-bed2-9de05ed4a00a",
   "metadata": {},
   "outputs": [],
   "source": [
    "import hfst_dev as hfst\n",
    "import graphviz\n",
    "import random"
   ]
  },
  {
   "cell_type": "markdown",
   "id": "49bc1591-b20a-4224-b2a9-d78df9f1d370",
   "metadata": {},
   "source": [
    "Code for random samples"
   ]
  },
  {
   "cell_type": "code",
   "execution_count": 2,
   "id": "0dff5643-49dd-46cc-80f9-eb67aa08f9c1",
   "metadata": {},
   "outputs": [],
   "source": [
    "def sample_input(x,n=8,cycles=3):\n",
    "        x2 = x.copy()\n",
    "        x2.input_project()\n",
    "        x2.minimize()\n",
    "        return(random.sample(set(x2.extract_paths(max_cycles=3).keys()),n))\n",
    "def sample_output(x,n=8,cycles=3):\n",
    "        x2 = x.copy()\n",
    "        x2.output_project()\n",
    "        x2.minimize()\n",
    "        return(random.sample(set(x2.extract_paths(max_cycles=3).keys()),n))"
   ]
  },
  {
   "cell_type": "markdown",
   "id": "91554b5a-3f77-45e1-a132-64e2f2152629",
   "metadata": {},
   "source": [
    "Read the lexicon machine"
   ]
  },
  {
   "cell_type": "code",
   "execution_count": 6,
   "id": "fd091d8e-63ae-4b3c-97ef-c41da7dfffb1",
   "metadata": {},
   "outputs": [],
   "source": [
    "istream = hfst.HfstInputStream('./English')"
   ]
  },
  {
   "cell_type": "code",
   "execution_count": 21,
   "id": "c922bf78-e9e4-458e-83de-8499290510c6",
   "metadata": {},
   "outputs": [
    {
     "data": {
      "text/plain": [
       "True"
      ]
     },
     "execution_count": 21,
     "metadata": {},
     "output_type": "execute_result"
    }
   ],
   "source": [
    "istream.is_good()"
   ]
  },
  {
   "cell_type": "code",
   "execution_count": 22,
   "id": "1136dacc-85b4-4f46-abcb-e81c71699e40",
   "metadata": {},
   "outputs": [],
   "source": [
    "English = istream.read()\n",
    "istream.close()"
   ]
  },
  {
   "cell_type": "code",
   "execution_count": 23,
   "id": "87ec8ad5-b912-4f8e-895f-201bfa52700e",
   "metadata": {},
   "outputs": [
    {
     "data": {
      "text/plain": [
       "['cot|hron',\n",
       " 'cement',\n",
       " 'mu|rmu|r',\n",
       " 'com|me|rc|ials',\n",
       " 'armstead',\n",
       " 'wo|rs|hipful',\n",
       " 'pol|linate',\n",
       " 'polan']"
      ]
     },
     "execution_count": 23,
     "metadata": {},
     "output_type": "execute_result"
    }
   ],
   "source": [
    "sample_input(English)"
   ]
  },
  {
   "cell_type": "markdown",
   "id": "6bb92821-1e87-418b-a7e1-8eabcf99cc53",
   "metadata": {},
   "source": [
    "#### Demo the lexicon machine\n",
    "It does not print with spaces."
   ]
  },
  {
   "cell_type": "code",
   "execution_count": 8,
   "id": "1540609f-5b69-4ee2-b6d5-8404510fc43b",
   "metadata": {},
   "outputs": [
    {
     "data": {
      "text/plain": [
       "['IH0K|SPREH1SWEY2',\n",
       " 'SAA1ROW0S',\n",
       " 'PIY1NOW0Z',\n",
       " 'FIH1KS',\n",
       " 'MIH1DLAY2N',\n",
       " 'AA1RSAH0NAH0STS',\n",
       " 'SIY1WEY2',\n",
       " 'LAO1NIY0']"
      ]
     },
     "execution_count": 8,
     "metadata": {},
     "output_type": "execute_result"
    }
   ],
   "source": [
    "sample_output(English)"
   ]
  },
  {
   "cell_type": "markdown",
   "id": "19a9e8ab-9d8e-4c71-8276-c7b75e269f61",
   "metadata": {},
   "source": [
    "#### Upper side"
   ]
  },
  {
   "cell_type": "code",
   "execution_count": 24,
   "id": "a52c3bc9-82c0-4e34-be66-e8a7c490fcdd",
   "metadata": {},
   "outputs": [
    {
     "data": {
      "text/plain": [
       "[\"honolulu'|s\",\n",
       " 'punctate',\n",
       " \"disney'|s\",\n",
       " 'k|nipfe|r',\n",
       " 'o|utnumbe|rs',\n",
       " 'sprake|r',\n",
       " 'extens|ion',\n",
       " 'vil|lafana']"
      ]
     },
     "execution_count": 24,
     "metadata": {},
     "output_type": "execute_result"
    }
   ],
   "source": [
    "Eup = English.copy()\n",
    "Eup.input_project()\n",
    "Eup.minimize()\n",
    "sample_input(Eup)"
   ]
  },
  {
   "cell_type": "markdown",
   "id": "a5a1d7ae-a2b4-46c5-9681-5b36d3a54364",
   "metadata": {},
   "source": [
    "## Examples similar to ps3av2"
   ]
  },
  {
   "cell_type": "markdown",
   "id": "e23e7b6b-b4b0-4626-a889-2aef0697380f",
   "metadata": {},
   "source": [
    "#### Example 1\n",
    "Find the set of words that contain *dog* on the orthographic side.  The answer is the machine *dog*.\n",
    "\n",
    "Use definitional style."
   ]
  },
  {
   "cell_type": "code",
   "execution_count": 37,
   "id": "75a1d0b4-4b40-4d12-922c-1da236e443b4",
   "metadata": {},
   "outputs": [],
   "source": [
    "defs = {'English':English}"
   ]
  },
  {
   "cell_type": "code",
   "execution_count": 55,
   "id": "b6dfa5d4-2976-4283-8923-6ec84c603d76",
   "metadata": {},
   "outputs": [
    {
     "data": {
      "text/plain": [
       "['redoglia',\n",
       " 'bul|ldog',\n",
       " 'dogs',\n",
       " 'wolf-dog',\n",
       " \"dogs'\",\n",
       " 'bi|rddog',\n",
       " 'bul|ldogs',\n",
       " 'dogho|uses']"
      ]
     },
     "execution_count": 55,
     "metadata": {},
     "output_type": "execute_result"
    }
   ],
   "source": [
    "expr = 'English.u & ${dog}'\n",
    "dog = hfst.regex(expr, definitions=defs)\n",
    "sample_input(dog)"
   ]
  },
  {
   "cell_type": "markdown",
   "id": "f3289639-254b-4011-9638-2f54599932aa",
   "metadata": {},
   "source": [
    "Note: it is okay to leave the vertical bars."
   ]
  },
  {
   "cell_type": "markdown",
   "id": "e022f0f9-d4e8-4311-8c1f-70f9e8201106",
   "metadata": {},
   "source": [
    "#### Example 2\n",
    "Find the set of orthographic words, the phonetic form\n",
    "of which contains the phonetic form of *plan*."
   ]
  },
  {
   "cell_type": "code",
   "execution_count": 65,
   "id": "bb9ef8a2-a18d-4c14-a034-f0e229bda791",
   "metadata": {},
   "outputs": [],
   "source": [
    "expr = '[English .o. $[{plan} .o. English].l].u'\n",
    "e2 = hfst.regex(expr, definitions=defs)"
   ]
  },
  {
   "cell_type": "code",
   "execution_count": 66,
   "id": "7a4ba8b1-cf32-4a10-947a-f52c4f35b0b4",
   "metadata": {},
   "outputs": [
    {
     "data": {
      "text/plain": [
       "['transplant',\n",
       " 'plan|ne|rs',\n",
       " 'plante|r',\n",
       " 'replantin|g',\n",
       " 'plantlike',\n",
       " 'implantin|g',\n",
       " 'transplants',\n",
       " 'sup|plant']"
      ]
     },
     "execution_count": 66,
     "metadata": {},
     "output_type": "execute_result"
    }
   ],
   "source": [
    "sample_input(e2)"
   ]
  },
  {
   "cell_type": "markdown",
   "id": "b33290d3-25b9-4142-a57a-5d99eca70d95",
   "metadata": {},
   "source": [
    "#### Example 3\n",
    "Find the set of orthographic words, the phonetic form\n",
    "of which contains the phonetic form of *plane*."
   ]
  },
  {
   "cell_type": "code",
   "execution_count": 62,
   "id": "a667ba0c-8a5e-4791-9e3f-ad3ab731b53c",
   "metadata": {},
   "outputs": [],
   "source": [
    "expr = '[English .o. $[{plane} .o. English].l].u'\n",
    "e3 = hfst.regex(expr, definitions=defs)"
   ]
  },
  {
   "cell_type": "code",
   "execution_count": 63,
   "id": "55514259-f789-4cd3-99f1-15d11190e997",
   "metadata": {},
   "outputs": [
    {
     "data": {
      "text/plain": [
       "['nonplana|r',\n",
       " 'expla|ins',\n",
       " 'pla|inson|g',\n",
       " 'compla|ints',\n",
       " 'plano',\n",
       " 'pla|intively',\n",
       " 'plane|rs',\n",
       " 'plana|r']"
      ]
     },
     "execution_count": 63,
     "metadata": {},
     "output_type": "execute_result"
    }
   ],
   "source": [
    "sample_input(e3)"
   ]
  },
  {
   "cell_type": "code",
   "execution_count": null,
   "id": "a09313f0-c39d-4067-bf36-3e6858f73d57",
   "metadata": {},
   "outputs": [],
   "source": []
  },
  {
   "cell_type": "code",
   "execution_count": null,
   "id": "3c7d7a47-c84f-4c1c-a078-1862bbc297d5",
   "metadata": {},
   "outputs": [],
   "source": []
  }
 ],
 "metadata": {
  "kernelspec": {
   "display_name": "Python 3 (ipykernel)",
   "language": "python",
   "name": "python3"
  },
  "language_info": {
   "codemirror_mode": {
    "name": "ipython",
    "version": 3
   },
   "file_extension": ".py",
   "mimetype": "text/x-python",
   "name": "python",
   "nbconvert_exporter": "python",
   "pygments_lexer": "ipython3",
   "version": "3.7.16"
  }
 },
 "nbformat": 4,
 "nbformat_minor": 5
}
