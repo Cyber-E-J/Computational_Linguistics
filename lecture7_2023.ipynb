{
 "cells": [
  {
   "cell_type": "markdown",
   "metadata": {},
   "source": [
    "# Lecture 7: Feature grammars continued\n",
    "\n",
    "Some examples and example grammars come from Chapter 9 of the NLTK book.\n",
    "\n",
    "**Use Python 3.6 for graphics to work!**\n",
    "\n",
    "### From Lecture 6 -- grammar with number agreement"
   ]
  },
  {
   "cell_type": "code",
   "execution_count": 2,
   "metadata": {},
   "outputs": [],
   "source": [
    "import nltk\n",
    "from nltk import grammar, parse, load_parser\n",
    "from nltk.parse.generate import generate"
   ]
  },
  {
   "cell_type": "code",
   "execution_count": 3,
   "metadata": {},
   "outputs": [
    {
     "name": "stdout",
     "output_type": "stream",
     "text": [
      "% start S\n",
      "# ###################\n",
      "# Grammar Productions\n",
      "# ###################\n",
      "# S expansion productions\n",
      "S -> NP[NUM=?n] VP[NUM=?n]\n",
      "# NP expansion productions\n",
      "NP[NUM=?n] -> N[NUM=?n] \n",
      "NP[NUM=?n] -> PropN[NUM=?n] \n",
      "NP[NUM=?n] -> Det[NUM=?n] N[NUM=?n]\n",
      "NP[NUM=pl] -> N[NUM=pl] \n",
      "# VP expansion productions\n",
      "VP[TENSE=?t, NUM=?n] -> IV[TENSE=?t, NUM=?n]\n",
      "VP[TENSE=?t, NUM=?n] -> TV[TENSE=?t, NUM=?n] NP\n",
      "# ###################\n",
      "# Lexical Productions\n",
      "# ###################\n",
      "Det[NUM=sg] -> 'this' | 'every'\n",
      "Det[NUM=pl] -> 'these' | 'all'\n",
      "Det -> 'the' | 'some' | 'several'\n",
      "PropN[NUM=sg]-> 'Kim' | 'Jody'\n",
      "N[NUM=sg] -> 'dog' | 'girl' | 'car' | 'child'\n",
      "N[NUM=pl] -> 'dogs' | 'girls' | 'cars' | 'children' \n",
      "IV[TENSE=pres,  NUM=sg] -> 'disappears' | 'walks'\n",
      "TV[TENSE=pres, NUM=sg] -> 'sees' | 'likes'\n",
      "IV[TENSE=pres,  NUM=pl] -> 'disappear' | 'walk'\n",
      "TV[TENSE=pres, NUM=pl] -> 'see' | 'like'\n",
      "IV[TENSE=past] -> 'disappeared' | 'walked'\n",
      "TV[TENSE=past] -> 'saw' | 'liked'\n"
     ]
    }
   ],
   "source": [
    " nltk.data.show_cfg('grammars/book_grammars/feat0.fcfg')"
   ]
  },
  {
   "cell_type": "code",
   "execution_count": 4,
   "metadata": {},
   "outputs": [],
   "source": [
    "pagr = load_parser('grammars/book_grammars/feat0.fcfg', trace=0)\n",
    "gagr = pagr.grammar()"
   ]
  },
  {
   "cell_type": "markdown",
   "metadata": {},
   "source": [
    "### Number agreement\n",
    "Number is expressed in the determiner (this/these), the noun (dog/dogs) and the verb (like/likes). These productions match number using a variable over the feature value."
   ]
  },
  {
   "cell_type": "code",
   "execution_count": 5,
   "metadata": {},
   "outputs": [
    {
     "data": {
      "text/plain": [
       "S[] -> NP[NUM=?n] VP[NUM=?n]"
      ]
     },
     "execution_count": 5,
     "metadata": {},
     "output_type": "execute_result"
    }
   ],
   "source": [
    "gagr.productions()[0]"
   ]
  },
  {
   "cell_type": "code",
   "execution_count": 6,
   "metadata": {},
   "outputs": [],
   "source": [
    "tp = list(gagr.productions()[0].rhs()[0].keys())[0]"
   ]
  },
  {
   "cell_type": "code",
   "execution_count": 7,
   "metadata": {},
   "outputs": [
    {
     "data": {
      "text/plain": [
       "'NP'"
      ]
     },
     "execution_count": 7,
     "metadata": {},
     "output_type": "execute_result"
    }
   ],
   "source": [
    "gagr.productions()[0].rhs()[0][tp]"
   ]
  },
  {
   "cell_type": "markdown",
   "metadata": {},
   "source": [
    "#### S enforces matching of the number of NP and VP"
   ]
  },
  {
   "cell_type": "code",
   "execution_count": 8,
   "metadata": {},
   "outputs": [
    {
     "name": "stdout",
     "output_type": "stream",
     "text": [
      "S[] -> NP[NUM=?n] VP[NUM=?n]\n"
     ]
    }
   ],
   "source": [
    "for p in gagr.productions():\n",
    "    if p.lhs()[tp] == 'S':\n",
    "        print(p)"
   ]
  },
  {
   "cell_type": "code",
   "execution_count": 9,
   "metadata": {},
   "outputs": [],
   "source": [
    "def prods(x):\n",
    "    for p in gagr.productions():\n",
    "        if p.lhs()[tp] == x:\n",
    "            print(p)"
   ]
  },
  {
   "cell_type": "markdown",
   "metadata": {},
   "source": [
    "#### NP enforces matching of the number of parent and children\n",
    "The last production looks redundant."
   ]
  },
  {
   "cell_type": "code",
   "execution_count": 10,
   "metadata": {},
   "outputs": [
    {
     "name": "stdout",
     "output_type": "stream",
     "text": [
      "NP[NUM=?n] -> N[NUM=?n]\n",
      "NP[NUM=?n] -> PropN[NUM=?n]\n",
      "NP[NUM=?n] -> Det[NUM=?n] N[NUM=?n]\n",
      "NP[NUM='pl'] -> N[NUM='pl']\n"
     ]
    }
   ],
   "source": [
    "prods('NP')"
   ]
  },
  {
   "cell_type": "markdown",
   "metadata": {},
   "source": [
    "#### Lexical entries often have constant feature values"
   ]
  },
  {
   "cell_type": "code",
   "execution_count": 11,
   "metadata": {},
   "outputs": [
    {
     "name": "stdout",
     "output_type": "stream",
     "text": [
      "Det[NUM='sg'] -> 'this'\n",
      "Det[NUM='sg'] -> 'every'\n",
      "Det[NUM='pl'] -> 'these'\n",
      "Det[NUM='pl'] -> 'all'\n",
      "Det[] -> 'the'\n",
      "Det[] -> 'some'\n",
      "Det[] -> 'several'\n"
     ]
    }
   ],
   "source": [
    "prods('Det')"
   ]
  },
  {
   "cell_type": "code",
   "execution_count": 12,
   "metadata": {},
   "outputs": [
    {
     "name": "stdout",
     "output_type": "stream",
     "text": [
      "N[NUM='sg'] -> 'dog'\n",
      "N[NUM='sg'] -> 'girl'\n",
      "N[NUM='sg'] -> 'car'\n",
      "N[NUM='sg'] -> 'child'\n",
      "N[NUM='pl'] -> 'dogs'\n",
      "N[NUM='pl'] -> 'girls'\n",
      "N[NUM='pl'] -> 'cars'\n",
      "N[NUM='pl'] -> 'children'\n"
     ]
    }
   ],
   "source": [
    "prods('N')"
   ]
  },
  {
   "cell_type": "code",
   "execution_count": 13,
   "metadata": {},
   "outputs": [
    {
     "name": "stdout",
     "output_type": "stream",
     "text": [
      "IV[NUM='sg', TENSE='pres'] -> 'disappears'\n",
      "IV[NUM='sg', TENSE='pres'] -> 'walks'\n",
      "IV[NUM='pl', TENSE='pres'] -> 'disappear'\n",
      "IV[NUM='pl', TENSE='pres'] -> 'walk'\n",
      "IV[TENSE='past'] -> 'disappeared'\n",
      "IV[TENSE='past'] -> 'walked'\n"
     ]
    }
   ],
   "source": [
    "prods('IV')"
   ]
  },
  {
   "cell_type": "code",
   "execution_count": 14,
   "metadata": {},
   "outputs": [
    {
     "name": "stdout",
     "output_type": "stream",
     "text": [
      "TV[NUM='sg', TENSE='pres'] -> 'sees'\n",
      "TV[NUM='sg', TENSE='pres'] -> 'likes'\n",
      "TV[NUM='pl', TENSE='pres'] -> 'see'\n",
      "TV[NUM='pl', TENSE='pres'] -> 'like'\n",
      "TV[TENSE='past'] -> 'saw'\n",
      "TV[TENSE='past'] -> 'liked'\n"
     ]
    }
   ],
   "source": [
    "prods('TV')"
   ]
  },
  {
   "cell_type": "code",
   "execution_count": 15,
   "metadata": {},
   "outputs": [
    {
     "name": "stdout",
     "output_type": "stream",
     "text": [
      "(S[]\n",
      "  (NP[NUM='sg'] (Det[NUM='sg'] this) (N[NUM='sg'] dog))\n",
      "  (VP[NUM='sg', TENSE='pres']\n",
      "    (TV[NUM='sg', TENSE='pres'] likes)\n",
      "    (NP[NUM='pl'] (N[NUM='pl'] children))))\n"
     ]
    }
   ],
   "source": [
    "cp = load_parser('grammars/book_grammars/feat0.fcfg', trace=0)\n",
    "dog_sg_sg_sg = 'this dog likes children'.split()\n",
    "for tree in cp.parse(dog_sg_sg_sg): print(tree)"
   ]
  },
  {
   "cell_type": "markdown",
   "metadata": {},
   "source": [
    "#### Tree with features"
   ]
  },
  {
   "cell_type": "code",
   "execution_count": 16,
   "metadata": {},
   "outputs": [
    {
     "data": {
      "image/png": "[encoded data removed]",
      "text/plain": [
       "Tree(S[], [Tree(NP[NUM='sg'], [Tree(Det[NUM='sg'], ['this']), Tree(N[NUM='sg'], ['dog'])]), Tree(VP[NUM='sg', TENSE='pres'], [Tree(TV[NUM='sg', TENSE='pres'], ['likes']), Tree(NP[NUM='pl'], [Tree(N[NUM='pl'], ['children'])])])])"
      ]
     },
     "execution_count": 16,
     "metadata": {},
     "output_type": "execute_result"
    }
   ],
   "source": [
    "t1 = next(cp.parse(dog_sg_sg_sg))\n",
    "t1"
   ]
  },
  {
   "cell_type": "code",
   "execution_count": 17,
   "metadata": {},
   "outputs": [
    {
     "data": {
      "image/png": "[encoded data removed]",
      "text/plain": [
       "Tree(S[], [Tree(NP[NUM='pl'], [Tree(Det[NUM='pl'], ['these']), Tree(N[NUM='pl'], ['dogs'])]), Tree(VP[NUM='pl', TENSE='pres'], [Tree(TV[NUM='pl', TENSE='pres'], ['like']), Tree(NP[NUM='pl'], [Tree(N[NUM='pl'], ['children'])])])])"
      ]
     },
     "execution_count": 17,
     "metadata": {},
     "output_type": "execute_result"
    }
   ],
   "source": [
    "dog_pl_pl_pl = 'these dogs like children'.split()\n",
    "t2 = next(cp.parse(dog_pl_pl_pl))\n",
    "t2"
   ]
  },
  {
   "cell_type": "markdown",
   "metadata": {},
   "source": [
    "## Tense agreement\n",
    "Tense agrees between VP and the IV or TV head verb"
   ]
  },
  {
   "cell_type": "code",
   "execution_count": 20,
   "metadata": {},
   "outputs": [
    {
     "name": "stdout",
     "output_type": "stream",
     "text": [
      "VP[NUM=?n, TENSE=?t] -> IV[NUM=?n, TENSE=?t]\n",
      "VP[NUM=?n, TENSE=?t] -> TV[NUM=?n, TENSE=?t] NP[]\n"
     ]
    }
   ],
   "source": [
    "prods('VP')"
   ]
  },
  {
   "cell_type": "code",
   "execution_count": 21,
   "metadata": {},
   "outputs": [
    {
     "data": {
      "image/png": "[encoded data removed]",
      "text/plain": [
       "Tree(S[], [Tree(NP[NUM='pl'], [Tree(Det[NUM='pl'], ['these']), Tree(N[NUM='pl'], ['dogs'])]), Tree(VP[NUM='pl', TENSE='pres'], [Tree(TV[NUM='pl', TENSE='pres'], ['like']), Tree(NP[NUM='pl'], [Tree(N[NUM='pl'], ['children'])])])])"
      ]
     },
     "execution_count": 21,
     "metadata": {},
     "output_type": "execute_result"
    }
   ],
   "source": [
    "t2"
   ]
  },
  {
   "cell_type": "markdown",
   "metadata": {},
   "source": [
    "## Feature data structures\n",
    "Examples are from the NLTK book, Chapter 9"
   ]
  },
  {
   "cell_type": "code",
   "execution_count": 24,
   "metadata": {},
   "outputs": [
    {
     "name": "stdout",
     "output_type": "stream",
     "text": [
      "[ NUM   = 'sg'   ]\n",
      "[ TENSE = 'past' ]\n"
     ]
    }
   ],
   "source": [
    "fs1 = nltk.FeatStruct(TENSE='past', NUM='sg')\n",
    "print(fs1)"
   ]
  },
  {
   "cell_type": "code",
   "execution_count": 25,
   "metadata": {},
   "outputs": [
    {
     "name": "stdout",
     "output_type": "stream",
     "text": [
      "sg\n",
      "past\n"
     ]
    }
   ],
   "source": [
    "print(fs1['NUM'])\n",
    "print(fs1['TENSE'])"
   ]
  },
  {
   "cell_type": "markdown",
   "metadata": {},
   "source": [
    "#### Complex values"
   ]
  },
  {
   "cell_type": "code",
   "execution_count": 27,
   "metadata": {},
   "outputs": [
    {
     "name": "stdout",
     "output_type": "stream",
     "text": [
      "[ AGR = [ NUM   = 'sg'   ] ]\n",
      "[       [ TENSE = 'past' ] ]\n",
      "[                          ]\n",
      "[ POS = 'N'                ]\n"
     ]
    }
   ],
   "source": [
    "fs2 = nltk.FeatStruct(POS='N', AGR=fs1)\n",
    "print(fs2)"
   ]
  },
  {
   "cell_type": "markdown",
   "metadata": {},
   "source": [
    "#### Feature structure from string"
   ]
  },
  {
   "cell_type": "code",
   "execution_count": 28,
   "metadata": {},
   "outputs": [
    {
     "name": "stdout",
     "output_type": "stream",
     "text": [
      "[       [ GND = 'fem' ] ]\n",
      "[ AGR = [ NUM = 'pl'  ] ]\n",
      "[       [ PER = 3     ] ]\n",
      "[                       ]\n",
      "[ POS = 'N'             ]\n"
     ]
    }
   ],
   "source": [
    "print(nltk.FeatStruct(\"[POS='N', AGR=[PER=3, NUM='pl', GND='fem']]\"))"
   ]
  },
  {
   "cell_type": "markdown",
   "metadata": {},
   "source": [
    "#### Values can have various types"
   ]
  },
  {
   "cell_type": "code",
   "execution_count": 31,
   "metadata": {},
   "outputs": [
    {
     "name": "stdout",
     "output_type": "stream",
     "text": [
      "[ AGE    = 33               ]\n",
      "[ NAME   = 'Lee'            ]\n",
      "[ SINGLE = True             ]\n",
      "[ TELNO  = '01 27 86 42 96' ]\n"
     ]
    }
   ],
   "source": [
    "fs3 = nltk.FeatStruct(NAME='Lee', \n",
    "                      TELNO='01 27 86 42 96', \n",
    "                      AGE=33,\n",
    "                      SINGLE=True)\n",
    "print(fs3)"
   ]
  },
  {
   "cell_type": "markdown",
   "metadata": {},
   "source": [
    "#### Re-entrancy and graph shapes for feature structures"
   ]
  },
  {
   "cell_type": "code",
   "execution_count": 36,
   "metadata": {},
   "outputs": [
    {
     "name": "stdout",
     "output_type": "stream",
     "text": [
      "[ A = 'a'             ]\n",
      "[                     ]\n",
      "[ B = (1) [ C = 'c' ] ]\n",
      "[                     ]\n",
      "[ D -> (1)            ]\n",
      "[ E -> (1)            ]\n"
     ]
    }
   ],
   "source": [
    "print(nltk.FeatStruct(\"[A='a', B=(1)[C='c'], D->(1), E->(1)]\"))"
   ]
  },
  {
   "cell_type": "code",
   "execution_count": 39,
   "metadata": {},
   "outputs": [
    {
     "name": "stdout",
     "output_type": "stream",
     "text": [
      "[ ADDRESS = (1) [ NUMBER = 74           ] ]\n",
      "[               [ STREET = 'rue Pascal' ] ]\n",
      "[                                         ]\n",
      "[ NAME    = 'Lee'                         ]\n",
      "[                                         ]\n",
      "[ SPOUSE  = [ ADDRESS -> (1)  ]           ]\n",
      "[           [ NAME    = 'Kim' ]           ]\n"
     ]
    }
   ],
   "source": [
    "str4 = \"[NAME='Lee', \\\n",
    "         ADDRESS=(1)[NUMBER=74, STREET='rue Pascal'],\\\n",
    "         SPOUSE=[NAME='Kim', ADDRESS->(1)]]\"\n",
    "fs4 =  nltk.FeatStruct(str4)\n",
    "print(fs4)"
   ]
  },
  {
   "cell_type": "markdown",
   "metadata": {},
   "source": [
    " ## Unification"
   ]
  },
  {
   "cell_type": "code",
   "execution_count": 19,
   "metadata": {},
   "outputs": [],
   "source": [
    "fs1 = nltk.FeatStruct(\"[a = 1]\")\n",
    "fs2 = nltk.FeatStruct(\"[b = 2]\")\n",
    "fs3 = fs2.unify(fs1)"
   ]
  },
  {
   "cell_type": "code",
   "execution_count": 20,
   "metadata": {},
   "outputs": [
    {
     "name": "stdout",
     "output_type": "stream",
     "text": [
      "[ a = 1 ]\n",
      "[ b = 2 ]\n"
     ]
    }
   ],
   "source": [
    "print(fs3)"
   ]
  },
  {
   "cell_type": "code",
   "execution_count": 21,
   "metadata": {},
   "outputs": [
    {
     "name": "stdout",
     "output_type": "stream",
     "text": [
      "[ b = 2 ]\n"
     ]
    }
   ],
   "source": [
    "print(fs2)"
   ]
  },
  {
   "cell_type": "code",
   "execution_count": 22,
   "metadata": {},
   "outputs": [
    {
     "name": "stdout",
     "output_type": "stream",
     "text": [
      "[ b = 2 ]\n",
      "[ b = 3 ]\n"
     ]
    }
   ],
   "source": [
    "fs4 = nltk.FeatStruct(\"[b = 3]\")\n",
    "fs5 = fs2.unify(fs4)\n",
    "print(fs2)\n",
    "print(fs4)"
   ]
  },
  {
   "cell_type": "code",
   "execution_count": 24,
   "metadata": {},
   "outputs": [
    {
     "name": "stdout",
     "output_type": "stream",
     "text": [
      "None\n"
     ]
    }
   ],
   "source": [
    "print(fs5)"
   ]
  },
  {
   "cell_type": "code",
   "execution_count": 25,
   "metadata": {},
   "outputs": [
    {
     "name": "stdout",
     "output_type": "stream",
     "text": [
      "[]\n"
     ]
    }
   ],
   "source": [
    "fs6 = nltk.FeatStruct(\"[]\")\n",
    "print(fs6)"
   ]
  },
  {
   "cell_type": "markdown",
   "metadata": {},
   "source": [
    "## Subsumption\n",
    "Subsumption is the information ordering on feature structures.\n",
    "```\n",
    " |  subsumes(self, other)\n",
    " |      Return True if ``self`` subsumes ``other``.  I.e., return true\n",
    " |      If unifying ``self`` with ``other`` would result in a feature\n",
    " |      structure equal to ``other``.\n",
    "```"
   ]
  },
  {
   "cell_type": "code",
   "execution_count": 27,
   "metadata": {},
   "outputs": [
    {
     "name": "stdout",
     "output_type": "stream",
     "text": [
      "[ a = 1 ]\n",
      "---\n",
      "[ a = 1 ]\n",
      "[ b = 2 ]\n",
      "---\n"
     ]
    },
    {
     "data": {
      "text/plain": [
       "True"
      ]
     },
     "execution_count": 27,
     "metadata": {},
     "output_type": "execute_result"
    }
   ],
   "source": [
    "print(fs1)\n",
    "print('---')\n",
    "print(fs3)\n",
    "print('---')\n",
    "fs1.subsumes(fs3)"
   ]
  },
  {
   "cell_type": "code",
   "execution_count": 28,
   "metadata": {},
   "outputs": [
    {
     "name": "stdout",
     "output_type": "stream",
     "text": [
      "[ b = 2 ]\n",
      "---\n",
      "[ a = 1 ]\n",
      "[ b = 2 ]\n",
      "---\n"
     ]
    },
    {
     "data": {
      "text/plain": [
       "True"
      ]
     },
     "execution_count": 28,
     "metadata": {},
     "output_type": "execute_result"
    }
   ],
   "source": [
    "print(fs2)\n",
    "print('---')\n",
    "print(fs3)\n",
    "print('---')\n",
    "fs2.subsumes(fs3)"
   ]
  },
  {
   "cell_type": "code",
   "execution_count": 29,
   "metadata": {},
   "outputs": [
    {
     "name": "stdout",
     "output_type": "stream",
     "text": [
      "[ a = 1 ]\n",
      "---\n",
      "[ b = 2 ]\n",
      "---\n"
     ]
    },
    {
     "data": {
      "text/plain": [
       "False"
      ]
     },
     "execution_count": 29,
     "metadata": {},
     "output_type": "execute_result"
    }
   ],
   "source": [
    "print(fs1)\n",
    "print('---')\n",
    "print(fs2)\n",
    "print('---')\n",
    "fs1.subsumes(fs2)"
   ]
  },
  {
   "cell_type": "code",
   "execution_count": 31,
   "metadata": {},
   "outputs": [
    {
     "name": "stdout",
     "output_type": "stream",
     "text": [
      "[ a = 1 ]\n",
      "[ b = 2 ]\n",
      "---\n",
      "[ b = 2 ]\n",
      "---\n"
     ]
    },
    {
     "data": {
      "text/plain": [
       "False"
      ]
     },
     "execution_count": 31,
     "metadata": {},
     "output_type": "execute_result"
    }
   ],
   "source": [
    "print(fs3)\n",
    "print('---')\n",
    "print(fs2)\n",
    "print('---')\n",
    "fs3.subsumes(fs2)"
   ]
  },
  {
   "cell_type": "markdown",
   "metadata": {},
   "source": [
    "Information ordering\n",
    "\n",
    "`fs1` is sub-information of `fs3` \n",
    "\n",
    "`fs2` is sub-information of `fs3`\n",
    "\n",
    "`fs3` is not sub-information of `fs2`, because `fs3` has extra information"
   ]
  },
  {
   "cell_type": "markdown",
   "metadata": {},
   "source": [
    "$f_1 \\sqsubseteq f_3$ \n",
    "\n",
    "$f_2 \\sqsubseteq f_3$\n",
    "\n",
    "$f_1 \\sqcup f_2 = f_3$\n",
    "\n",
    "$f_1 \\sqcup f_3 = f_3$"
   ]
  },
  {
   "cell_type": "markdown",
   "metadata": {},
   "source": [
    "#### Empty information"
   ]
  },
  {
   "cell_type": "code",
   "execution_count": 53,
   "metadata": {},
   "outputs": [
    {
     "data": {
      "text/plain": [
       "[]"
      ]
     },
     "execution_count": 53,
     "metadata": {},
     "output_type": "execute_result"
    }
   ],
   "source": [
    "fs0 = nltk.FeatStruct(\"[]\")\n",
    "fs0"
   ]
  },
  {
   "cell_type": "markdown",
   "metadata": {},
   "source": [
    "## Slash features"
   ]
  },
  {
   "cell_type": "code",
   "execution_count": 34,
   "metadata": {},
   "outputs": [],
   "source": [
    "pslash = load_parser('grammars/book_grammars/feat1.fcfg', trace=0)\n",
    "gslash = pslash.grammar()"
   ]
  },
  {
   "cell_type": "code",
   "execution_count": 35,
   "metadata": {},
   "outputs": [
    {
     "data": {
      "image/png": "[encoded data removed]",
      "text/plain": [
       "Tree(S[-INV], [Tree(NP[+WH], ['who']), Tree(S[+INV]/NP[], [Tree(V[+AUX], ['do']), Tree(NP[-WH], ['you']), Tree(VP[]/NP[], [Tree(V[-AUX, SUBCAT='clause'], ['claim']), Tree(SBar[]/NP[], [Tree(Comp[], ['that']), Tree(S[-INV]/NP[], [Tree(NP[-WH], ['you']), Tree(VP[]/NP[], [Tree(V[-AUX, SUBCAT='trans'], ['like']), Tree(NP[]/NP[], [])])])])])])])"
      ]
     },
     "execution_count": 35,
     "metadata": {},
     "output_type": "execute_result"
    }
   ],
   "source": [
    "s1 = 'who do you claim that you like'.split()\n",
    "t1 = next(pslash.parse(s1))\n",
    "t1"
   ]
  },
  {
   "cell_type": "code",
   "execution_count": 36,
   "metadata": {},
   "outputs": [
    {
     "data": {
      "text/plain": [
       "VP[]/NP[]"
      ]
     },
     "execution_count": 36,
     "metadata": {},
     "output_type": "execute_result"
    }
   ],
   "source": [
    "t1[1][2].label()"
   ]
  },
  {
   "cell_type": "code",
   "execution_count": 37,
   "metadata": {},
   "outputs": [
    {
     "name": "stdout",
     "output_type": "stream",
     "text": [
      "[ *type*  = 'VP'              ]\n",
      "[                             ]\n",
      "[ *slash* = [ *type* = 'NP' ] ]\n"
     ]
    }
   ],
   "source": [
    "print(t1[1][2].label())"
   ]
  },
  {
   "cell_type": "markdown",
   "metadata": {},
   "source": [
    "The verb *like* is transitive, and in this tree *it has an object*, but an empty one.\n",
    "`VP/NP` is conceived as a VP with a missing NP, or with an NP moved out."
   ]
  },
  {
   "cell_type": "code",
   "execution_count": 38,
   "metadata": {},
   "outputs": [
    {
     "data": {
      "text/plain": [
       "S[-INV]/?x[] -> NP[] VP[]/?x[]"
      ]
     },
     "execution_count": 38,
     "metadata": {},
     "output_type": "execute_result"
    }
   ],
   "source": [
    "gslash.productions()[1]"
   ]
  },
  {
   "cell_type": "code",
   "execution_count": 40,
   "metadata": {},
   "outputs": [
    {
     "data": {
      "text/plain": [
       "[S[-INV] -> NP[] VP[],\n",
       " S[-INV]/?x[] -> NP[] VP[]/?x[],\n",
       " S[-INV] -> NP[] S[]/NP[],\n",
       " S[-INV] -> Adv[+NEG] S[+INV],\n",
       " S[+INV] -> V[+AUX] NP[] VP[],\n",
       " S[+INV]/?x[] -> V[+AUX] NP[] VP[]/?x[],\n",
       " SBar[] -> Comp[] S[-INV],\n",
       " SBar[]/?x[] -> Comp[] S[-INV]/?x[],\n",
       " VP[] -> V[-AUX, SUBCAT='intrans'],\n",
       " VP[] -> V[-AUX, SUBCAT='trans'] NP[],\n",
       " VP[]/?x[] -> V[-AUX, SUBCAT='trans'] NP[]/?x[],\n",
       " VP[] -> V[-AUX, SUBCAT='clause'] SBar[],\n",
       " VP[]/?x[] -> V[-AUX, SUBCAT='clause'] SBar[]/?x[],\n",
       " VP[] -> V[+AUX] VP[],\n",
       " VP[]/?x[] -> V[+AUX] VP[]/?x[],\n",
       " V[-AUX, SUBCAT='intrans'] -> 'walk',\n",
       " V[-AUX, SUBCAT='intrans'] -> 'sing',\n",
       " V[-AUX, SUBCAT='trans'] -> 'see',\n",
       " V[-AUX, SUBCAT='trans'] -> 'like',\n",
       " V[-AUX, SUBCAT='clause'] -> 'say',\n",
       " V[-AUX, SUBCAT='clause'] -> 'claim',\n",
       " V[+AUX] -> 'do',\n",
       " V[+AUX] -> 'can',\n",
       " NP[-WH] -> 'you',\n",
       " NP[-WH] -> 'cats',\n",
       " NP[+WH] -> 'who',\n",
       " Adv[+NEG] -> 'rarely',\n",
       " Adv[+NEG] -> 'never',\n",
       " NP[]/NP[] -> ,\n",
       " Comp[] -> 'that']"
      ]
     },
     "execution_count": 40,
     "metadata": {},
     "output_type": "execute_result"
    }
   ],
   "source": [
    "gslash.productions()"
   ]
  },
  {
   "cell_type": "code",
   "execution_count": 43,
   "metadata": {},
   "outputs": [
    {
     "name": "stdout",
     "output_type": "stream",
     "text": [
      "VP[]/?x[] -> V[-AUX, SUBCAT='trans'] NP[]/?x[]\n"
     ]
    }
   ],
   "source": [
    "print(gslash.productions()[10])"
   ]
  },
  {
   "cell_type": "code",
   "execution_count": 45,
   "metadata": {},
   "outputs": [
    {
     "data": {
      "text/plain": [
       "S[-INV]/?x[] -> NP[] VP[]/?x[]"
      ]
     },
     "execution_count": 45,
     "metadata": {},
     "output_type": "execute_result"
    }
   ],
   "source": [
    "gslash.productions()[1]"
   ]
  },
  {
   "cell_type": "code",
   "execution_count": 33,
   "metadata": {},
   "outputs": [
    {
     "ename": "NameError",
     "evalue": "name 'gslash' is not defined",
     "output_type": "error",
     "traceback": [
      "\u001b[0;31m---------------------------------------------------------------------------\u001b[0m",
      "\u001b[0;31mNameError\u001b[0m                                 Traceback (most recent call last)",
      "\u001b[0;32m<ipython-input-33-8d4f3ff3ac66>\u001b[0m in \u001b[0;36m<module>\u001b[0;34m\u001b[0m\n\u001b[0;32m----> 1\u001b[0;31m \u001b[0mgslash\u001b[0m\u001b[0;34m.\u001b[0m\u001b[0mproductions\u001b[0m\u001b[0;34m(\u001b[0m\u001b[0;34m)\u001b[0m\u001b[0;34m\u001b[0m\u001b[0;34m\u001b[0m\u001b[0m\n\u001b[0m",
      "\u001b[0;31mNameError\u001b[0m: name 'gslash' is not defined"
     ]
    }
   ],
   "source": [
    "gslash.productions()"
   ]
  },
  {
   "cell_type": "code",
   "execution_count": null,
   "metadata": {},
   "outputs": [],
   "source": []
  }
 ],
 "metadata": {
  "kernelspec": {
   "display_name": "Python 3",
   "language": "python",
   "name": "python3"
  },
  "language_info": {
   "codemirror_mode": {
    "name": "ipython",
    "version": 3
   },
   "file_extension": ".py",
   "mimetype": "text/x-python",
   "name": "python",
   "nbconvert_exporter": "python",
   "pygments_lexer": "ipython3",
   "version": "3.6.15"
  }
 },
 "nbformat": 4,
 "nbformat_minor": 4
}
