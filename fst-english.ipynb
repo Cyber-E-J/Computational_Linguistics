{
 "cells": [
  {
   "cell_type": "markdown",
   "id": "military-pathology",
   "metadata": {},
   "source": [
    "## Fst English\n",
    "   "
   ]
  },
  {
   "cell_type": "code",
   "execution_count": 1,
   "id": "e5948271-62ad-484f-bed2-9de05ed4a00a",
   "metadata": {},
   "outputs": [],
   "source": [
    "import hfst_dev as hfst\n",
    "import graphviz\n",
    "import random"
   ]
  },
  {
   "cell_type": "markdown",
   "id": "d78bf8f0-2b0e-4623-b80e-7742cfa4287b",
   "metadata": {},
   "source": [
    "### Load English"
   ]
  },
  {
   "cell_type": "code",
   "execution_count": 63,
   "id": "d2286185-62c8-4fdd-a694-78dba4ef36a0",
   "metadata": {},
   "outputs": [],
   "source": [
    "istream = hfst.HfstInputStream('/local/teach/cl23/H/H3/English')\n",
    "English = istream.read()\n",
    "istream.close()"
   ]
  },
  {
   "cell_type": "code",
   "execution_count": 64,
   "id": "b93302d4-bfb5-4e60-a76a-323b6b23cabf",
   "metadata": {},
   "outputs": [],
   "source": [
    "defs = {}\n",
    "defs['English'] = English"
   ]
  },
  {
   "cell_type": "code",
   "execution_count": 65,
   "id": "8ac79e1e-21f3-4d2e-904d-f7fd4d68f50a",
   "metadata": {},
   "outputs": [],
   "source": [
    "def sample_input(x,n=8,cycles=3):\n",
    "        x2 = x.copy()\n",
    "        x2.input_project()\n",
    "        x2.minimize()\n",
    "        return(random.sample(set(x2.extract_paths(max_cycles=3).keys()),n))\n",
    "def sample_output(x,n=8,cycles=3):\n",
    "        x2 = x.copy()\n",
    "        x2.output_project()\n",
    "        x2.minimize()\n",
    "        return(random.sample(set(x2.extract_paths(max_cycles=3).keys()),n))"
   ]
  },
  {
   "cell_type": "code",
   "execution_count": 66,
   "id": "2d6797c3-bc97-40e8-9a1c-398929efc5d0",
   "metadata": {},
   "outputs": [],
   "source": [
    "Vow0 = hfst.regex('[AH0| IH0| ER0| IY0| OW0| AA0| EH0| UW0| AE0| AO0| AY0| EY0| AW0| UH0| OY0]')\n",
    "Vow1 = hfst.regex('[EH1| AE1| AA1| IH1| IY1| EY1| OW1| AO1| AY1| AH1| UW1| ER1| AW1| UH1| OY1]')\n",
    "Vow2 = hfst.regex('[EH2| EY2| AE2| AY2| AA2| IH2| OW2| IY2| AO2| UW2| AH2| AW2| ER2| UH2| OY2]')\n",
    "Gli = hfst.regex('[R| W| Y]')\n",
    "Nas = hfst.regex('[N| M| NG]')\n",
    "Obs = hfst.regex('[S| L| T| K| D| Z| B| P| F| G| V| HH| SH| JH| CH| TH| DH| ZH]')\n",
    "Phone = hfst.regex('[AH0| N| S| L| T| R| K| D| IH0| M| Z| ER0| IY0| B| EH1| P| AE1| AA1| IH1| F| G| V| IY1| NG| HH| EY1| W| SH| OW1| OW0| AO1| AY1| AH1| UW1| JH| Y| CH| AA0| ER1| EH2| EY2| AE2| AY2| AA2| EH0| IH2| TH| AW1| OW2| UW0| IY2| AO2| AE0| UH1| AO0| AY0| UW2| AH2| EY0| OY1| AW2| DH| ZH| ER2| UH2| AW0| UH0| OY2| OY0]')\n",
    "defs[\"Vow0\"]=Vow0\n",
    "defs[\"Vow1\"]=Vow1\n",
    "defs[\"Vow2\"]=Vow2\n",
    "defs[\"Gli\"]=Gli\n",
    "defs[\"Nas\"]=Nas\n",
    "defs[\"Obs\"]=Obs\n",
    "defs[\"Phone\"]=Phone\n",
    "\n"
   ]
  },
  {
   "cell_type": "code",
   "execution_count": 67,
   "id": "d98096df-f4d8-4827-869b-0af84101ad15",
   "metadata": {},
   "outputs": [],
   "source": [
    "Vow = hfst.regex('[Vow0 | Vow1 | Vow2]',\n",
    "                         definitions=defs)\n",
    "defs[\"Vow\"] = Vow"
   ]
  },
  {
   "cell_type": "code",
   "execution_count": 68,
   "id": "8d91e003-abc4-4fc4-86d0-bec64276dff1",
   "metadata": {},
   "outputs": [
    {
     "data": {
      "text/plain": [
       "['fa|us|s',\n",
       " 's|hul|l',\n",
       " 'le|ag|ue',\n",
       " 'leg|ge',\n",
       " 'gic|k',\n",
       " 'vig',\n",
       " 'bal|l',\n",
       " 'piet|sc|h']"
      ]
     },
     "execution_count": 68,
     "metadata": {},
     "output_type": "execute_result"
    }
   ],
   "source": [
    "cvc = hfst.regex('English .o. [Obs Vow1 Obs]',\n",
    "                         definitions=defs)\n",
    "sample_input(cvc)"
   ]
  },
  {
   "cell_type": "code",
   "execution_count": 69,
   "id": "e68d15d3-821f-42ba-905e-29f44cd0dd30",
   "metadata": {},
   "outputs": [
    {
     "data": {
      "text/plain": [
       "['be|ac|h', 'hoes', 'fo|od', 'giese', 's|chab', 'cob', 'vag|ue', 'pa|ige']"
      ]
     },
     "execution_count": 69,
     "metadata": {},
     "output_type": "execute_result"
    }
   ],
   "source": [
    "sample_input(cvc)"
   ]
  },
  {
   "cell_type": "code",
   "execution_count": 70,
   "id": "754c473d-bdbb-40f1-a640-3c55418fe240",
   "metadata": {},
   "outputs": [
    {
     "data": {
      "text/plain": [
       "['HHEY1Z', 'LAY1F', 'CHAO1K', 'VAW1D', 'GIY1Z', 'DEH1P', 'ZEH1D', 'HHIY1SH']"
      ]
     },
     "execution_count": 70,
     "metadata": {},
     "output_type": "execute_result"
    }
   ],
   "source": [
    "sample_output(cvc)"
   ]
  },
  {
   "cell_type": "code",
   "execution_count": null,
   "id": "1f58412a-5a1b-4840-b276-7e9aed0cc9e9",
   "metadata": {},
   "outputs": [],
   "source": []
  },
  {
   "cell_type": "code",
   "execution_count": 71,
   "id": "e6373928-54b5-4477-a5d4-6173680bdffc",
   "metadata": {},
   "outputs": [],
   "source": [
    "Vow = hfst.regex('[Vow0 | Vow1 | Vow2]')\n",
    "defs['Vow'] = Vow"
   ]
  },
  {
   "cell_type": "code",
   "execution_count": 72,
   "id": "866ecd2e-c35e-4196-9a29-c1098fa2646e",
   "metadata": {},
   "outputs": [],
   "source": [
    "VowAA = hfst.regex('[AA0 | AA1 | AA2]')\n",
    "VowAE = hfst.regex('[AE0 | AE1 | AE2]')\n",
    "VowAH = hfst.regex('[AH0 | AH1 | AH2]')\n",
    "VowAO = hfst.regex('[AO0 | AO1 | AO2]')\n",
    "VowAW = hfst.regex('[AW0 | AW1 | AW2]')\n",
    "VowAY = hfst.regex('[AY0 | AY1 | AY2]')\n",
    "VowEH = hfst.regex('[EH0 | EH1 | EH2]')\n",
    "VowER = hfst.regex('[ER0 | ER1 | ER2]')\n",
    "VowEY = hfst.regex('[EY0 | EY1 | EY2]')\n",
    "VowIH = hfst.regex('[IH0 | IH1 | IH2]')\n",
    "VowIY = hfst.regex('[IY0 | IY1 | IY2]')\n",
    "VowOW = hfst.regex('[OW0 | OW1 | OW2]')\n",
    "VowOY = hfst.regex('[OY0 | OY1 | OY2]')\n",
    "VowUH = hfst.regex('[UH0 | UH1 | UH2]')\n",
    "VowUW = hfst.regex('[UW0 | UW1 | UW2]')"
   ]
  },
  {
   "cell_type": "code",
   "execution_count": 73,
   "id": "c03baf9e-f8a0-4293-9e06-650e968616f1",
   "metadata": {},
   "outputs": [],
   "source": [
    "defs[\"Vow0\"]=Vow0\n",
    "defs[\"Vow1\"]=Vow1\n",
    "defs[\"Vow2\"]=Vow2\n",
    "defs[\"Vow\"]=Vow\n",
    "defs[\"Gli\"]=Gli\n",
    "defs[\"Nas\"]=Nas\n",
    "defs[\"Obs\"]=Obs\n",
    "defs[\"Phone\"]=Phone\n",
    "defs[\"VowAA\"]=VowAA\n",
    "defs[\"VowAE\"]=VowAE\n",
    "defs[\"VowAH\"]=VowAH\n",
    "defs[\"VowAO\"]=VowAO\n",
    "defs[\"VowAW\"]=VowAW\n",
    "defs[\"VowAY\"]=VowAY\n",
    "defs[\"VowEH\"]=VowEH\n",
    "defs[\"VowER\"]=VowER\n",
    "defs[\"VowEY\"]=VowEY\n",
    "defs[\"VowIH\"]=VowIH\n",
    "defs[\"VowIY\"]=VowIY\n",
    "defs[\"VowOW\"]=VowOW\n",
    "defs[\"VowOY\"]=VowOY\n",
    "defs[\"VowUH\"]=VowUH\n",
    "defs[\"VowUW\"]=VowUW"
   ]
  },
  {
   "cell_type": "code",
   "execution_count": 74,
   "id": "6ce8363d-5358-44db-a554-56b9525a7b30",
   "metadata": {},
   "outputs": [],
   "source": [
    "cic = hfst.regex('English .o. [Obs VowIH Obs]',\n",
    "                         definitions=defs)"
   ]
  },
  {
   "cell_type": "code",
   "execution_count": 76,
   "id": "2ee513ce-88b5-4714-ab78-9b4c20afcc17",
   "metadata": {},
   "outputs": [
    {
     "data": {
      "text/plain": [
       "['vig', 'vik', 'c|hic|k', 'kil|l', 'pik', 'sieve', 'lit|t', 'tis']"
      ]
     },
     "execution_count": 76,
     "metadata": {},
     "output_type": "execute_result"
    }
   ],
   "source": [
    "sample_input(cic)"
   ]
  },
  {
   "cell_type": "code",
   "execution_count": 77,
   "id": "73c77668-c5ac-4725-99de-092257bd6c56",
   "metadata": {},
   "outputs": [],
   "source": [
    "cvc = hfst.regex('English .o. [Obs Vow1 Obs]',\n",
    "                         definitions=defs)"
   ]
  },
  {
   "cell_type": "code",
   "execution_count": 78,
   "id": "be3f33af-185a-47f4-b73f-331eb4bcf1a3",
   "metadata": {},
   "outputs": [
    {
     "data": {
      "text/plain": [
       "['s|hit', 'c|hose', 's|hupe', 'tiede', 'seoul', 'tit', \"w|ho'l|l\", 'ho|yt']"
      ]
     },
     "execution_count": 78,
     "metadata": {},
     "output_type": "execute_result"
    }
   ],
   "source": [
    "sample_input(cic)"
   ]
  },
  {
   "cell_type": "code",
   "execution_count": 81,
   "id": "6d8515ba-83cc-4fae-91d4-a6f74241656d",
   "metadata": {},
   "outputs": [
    {
     "data": {
      "text/plain": [
       "((0.0, ((\"'\", '@_EPSILON_SYMBOL_@'), ('t', 'T'), ('i', 'IH1'), ('l', 'L'))),\n",
       " (0.0, ((\"'\", '@_EPSILON_SYMBOL_@'), ('t', 'T'), ('i', 'IH1'), ('s', 'Z'))),\n",
       " (0.0, (('b', 'B'), ('i', 'IH1'), ('c', 'K'))),\n",
       " (0.0, (('b', 'B'), ('i', 'IH1'), ('c|k', 'K'))),\n",
       " (0.0, (('b', 'B'), ('i', 'IH1'), ('p', 'P'))),\n",
       " (0.0,\n",
       "  (('b', 'B'),\n",
       "   ('u', '@_EPSILON_SYMBOL_@'),\n",
       "   ('i', 'IH1'),\n",
       "   ('c', 'S'),\n",
       "   ('e', '@_EPSILON_SYMBOL_@'))),\n",
       " (0.0, (('c', 'S'), ('i', 'IH1'), ('d', 'D'))),\n",
       " (0.0, (('c|h', 'CH'), ('i', 'IH1'), ('c|k', 'K'))),\n",
       " (0.0, (('c|z', 'CH'), ('y', 'IH1'), ('z', 'Z'))),\n",
       " (0.0, (('d', 'D'), ('i', 'IH1'), ('b|b', 'B'))),\n",
       " (0.0, (('d', 'D'), ('i', 'IH1'), ('f|f', 'F'))),\n",
       " (0.0, (('d', 'D'), ('i', 'IH1'), ('l|l', 'L'))))"
      ]
     },
     "execution_count": 81,
     "metadata": {},
     "output_type": "execute_result"
    }
   ],
   "source": [
    "cic.extract_paths(max_number=12,output='raw',random=True)"
   ]
  },
  {
   "cell_type": "code",
   "execution_count": 84,
   "id": "25599292",
   "metadata": {},
   "outputs": [],
   "source": [
    "ch = hfst.regex('[\"c|h\" ?*] .o. English ',\n",
    "                         definitions=defs)"
   ]
  },
  {
   "cell_type": "code",
   "execution_count": 85,
   "id": "96b193a5-516c-470a-9b73-bb762383bca1",
   "metadata": {},
   "outputs": [
    {
     "data": {
      "text/plain": [
       "((0.0,\n",
       "  (('c|h', 'CH'),\n",
       "   ('a', 'AA0'),\n",
       "   ('i', 'IY1'),\n",
       "   ('d', 'D'),\n",
       "   ('e', 'EH0'),\n",
       "   ('z', 'Z'))),\n",
       " (0.0,\n",
       "  (('c|h', 'CH'),\n",
       "   ('a', 'AA2'),\n",
       "   ('r', 'R'),\n",
       "   ('a', 'AH0'),\n",
       "   ('l', 'L'),\n",
       "   ('a', 'AA1'),\n",
       "   ('m', 'M'),\n",
       "   ('b', 'B'),\n",
       "   ('o', 'OW0'),\n",
       "   ('s', 'S'))),\n",
       " (0.0,\n",
       "  (('c|h', 'CH'),\n",
       "   ('a', 'AE0'),\n",
       "   ('m', 'M'),\n",
       "   ('p', 'P'),\n",
       "   ('a|i', 'EY1'),\n",
       "   ('g', '@_EPSILON_SYMBOL_@'),\n",
       "   ('n', 'N'))),\n",
       " (0.0,\n",
       "  (('c|h', 'CH'),\n",
       "   ('a', 'AE0'),\n",
       "   ('n', 'N'),\n",
       "   ('d', 'D'),\n",
       "   ('r', 'R'),\n",
       "   ('o', 'AO1'),\n",
       "   ('s|s', 'S'))),\n",
       " (0.0,\n",
       "  (('c|h', 'CH'),\n",
       "   ('a', 'AH0'),\n",
       "   ('l', 'L'),\n",
       "   ('o|u', 'UW1'),\n",
       "   ('p', 'P'),\n",
       "   ('k', 'K'),\n",
       "   ('a', 'AH0'))),\n",
       " (0.0,\n",
       "  (('c|h', 'CH'),\n",
       "   ('a', 'EH1'),\n",
       "   ('r', 'R'),\n",
       "   ('i', 'AH0'),\n",
       "   ('t', 'T'),\n",
       "   ('a', 'AH0'),\n",
       "   ('b', 'B'),\n",
       "   ('l', 'AH0|L'),\n",
       "   ('e', '@_EPSILON_SYMBOL_@'))),\n",
       " (0.0,\n",
       "  (('c|h', 'CH'), ('a|u', 'AO1'), ('c', 'S'), ('e|r', 'ER0'), (\"'|s\", 'Z'))),\n",
       " (0.0, (('c|h', 'CH'), ('a|y', 'EY1'), ('o', 'AH0'), ('n', 'N'))),\n",
       " (0.0, (('c|h', 'CH'), ('e', '@_EPSILON_SYMBOL_@'), ('i', 'AY1'), ('l', 'L'))),\n",
       " (0.0,\n",
       "  (('c|h', 'CH'),\n",
       "   ('e', '@_EPSILON_SYMBOL_@'),\n",
       "   ('u', 'UW1'),\n",
       "   ('s', 'S'),\n",
       "   ('e', '@_EPSILON_SYMBOL_@'))),\n",
       " (0.0,\n",
       "  (('c|h', 'CH'),\n",
       "   ('e', 'IH1'),\n",
       "   ('e', '@_EPSILON_SYMBOL_@'),\n",
       "   ('r', 'R'),\n",
       "   ('f', 'F'),\n",
       "   ('u', 'AH0'),\n",
       "   ('l', 'L'),\n",
       "   ('n', 'N'),\n",
       "   ('e', 'AH0'),\n",
       "   ('s|s', 'S'))),\n",
       " (0.0,\n",
       "  (('c|h', 'CH'),\n",
       "   ('e|y', 'EY1'),\n",
       "   ('n', 'N'),\n",
       "   ('e', '@_EPSILON_SYMBOL_@'),\n",
       "   ('y', 'IY2'))))"
      ]
     },
     "execution_count": 85,
     "metadata": {},
     "output_type": "execute_result"
    }
   ],
   "source": [
    "ch.extract_paths(max_number=12,output='raw',random=True)"
   ]
  },
  {
   "cell_type": "code",
   "execution_count": 86,
   "id": "91622ee9-bf93-414a-b062-5520240dd8aa",
   "metadata": {},
   "outputs": [],
   "source": [
    "both = hfst.regex('[English.u & [English.u].r] ',\n",
    "                         definitions=defs)"
   ]
  },
  {
   "cell_type": "code",
   "execution_count": null,
   "id": "5e671ea1-2a3e-49fe-aa66-75fee46dc76d",
   "metadata": {},
   "outputs": [],
   "source": [
    "can = hfst.regex('${can} .o. English ',\n",
    "                         definitions=defs)"
   ]
  },
  {
   "cell_type": "code",
   "execution_count": 87,
   "id": "f5ce14b8-9538-48e9-a961-a75508cbeda8",
   "metadata": {},
   "outputs": [
    {
     "data": {
      "text/plain": [
       "((0.0, (('a', 'a'),)),\n",
       " (0.0, (('a', 'a'), ('n', 'n'), ('d', 'd'))),\n",
       " (0.0, (('a|u', 'a|u'), ('c|h', 'c|h'))),\n",
       " (0.0, (('a|u', 'a|u'), ('l', 'l'))),\n",
       " (0.0, (('a|w', 'a|w'),)),\n",
       " (0.0, (('a|y', 'a|y'), ('n', 'n'))),\n",
       " (0.0, (('b', 'b'),)),\n",
       " (0.0, (('c', 'c'), ('d', 'd'), ('c', 'c'))),\n",
       " (0.0, (('c', 'c'), ('u|r', 'u|r'), ('t', 't'), ('s', 's'))),\n",
       " (0.0, (('c|h', 'c|h'), ('e|a', 'e|a'), ('p', 'p'))),\n",
       " (0.0, (('c|h', 'c|h'), ('e|a', 'e|a'), ('t', 't'))),\n",
       " (0.0, (('c|h', 'c|h'), ('i', 'i'), ('v', 'v'), ('a', 'a'), ('s', 's'))))"
      ]
     },
     "execution_count": 87,
     "metadata": {},
     "output_type": "execute_result"
    }
   ],
   "source": [
    "both.extract_paths(max_number=12,output='raw',random=True)"
   ]
  },
  {
   "cell_type": "code",
   "execution_count": 46,
   "id": "17c967be-9ea3-46cd-8007-986ba98a8689",
   "metadata": {},
   "outputs": [],
   "source": [
    "canAE = hfst.regex('${can} .o. English .o. $[K VowAE N]',\n",
    "                         definitions=defs)"
   ]
  },
  {
   "cell_type": "code",
   "execution_count": 47,
   "id": "9324fced-3693-4616-8b82-bd05b9ff6874",
   "metadata": {},
   "outputs": [
    {
     "data": {
      "text/plain": [
       "((0.0,\n",
       "  (('a', 'AA0'),\n",
       "   ('r', 'R'),\n",
       "   ('c', 'K'),\n",
       "   ('a', 'AE1'),\n",
       "   ('n', 'N'),\n",
       "   ('a', 'AH0'))),\n",
       " (0.0, (('a', 'AE1'), ('l', 'L'), ('c', 'K'), ('a', 'AE2'), ('n', 'N'))),\n",
       " (0.0,\n",
       "  (('a', 'AE1'),\n",
       "   ('l', 'L'),\n",
       "   ('c', 'K'),\n",
       "   ('a', 'AE2'),\n",
       "   ('n', 'N'),\n",
       "   (\"'|s\", 'Z'))),\n",
       " (0.0,\n",
       "  (('a', 'AE2'),\n",
       "   ('l', 'L'),\n",
       "   ('c', 'K'),\n",
       "   ('a', 'AE1'),\n",
       "   ('n', 'N'),\n",
       "   ('t', 'T'),\n",
       "   ('a|r', 'ER0'))),\n",
       " (0.0,\n",
       "  (('a', 'AE2'),\n",
       "   ('n', 'N'),\n",
       "   ('t', 'T'),\n",
       "   ('i', 'AY2'),\n",
       "   ('c', 'K'),\n",
       "   ('a', 'AE1'),\n",
       "   ('n', 'N'),\n",
       "   ('c', 'S'),\n",
       "   ('e|r', 'ER0'))),\n",
       " (0.0,\n",
       "  (('a', 'AH0'),\n",
       "   ('d', 'D'),\n",
       "   ('e', 'EH1'),\n",
       "   ('n', 'N'),\n",
       "   ('o', 'AH0'),\n",
       "   ('s', 'S'),\n",
       "   ('c', 'K'),\n",
       "   ('a', 'AE2'),\n",
       "   ('n', 'N'))),\n",
       " (0.0,\n",
       "  (('a', 'AH0'),\n",
       "   ('m', 'M'),\n",
       "   ('e', 'EH2'),\n",
       "   ('r', 'R'),\n",
       "   ('i', 'AH0'),\n",
       "   ('c', 'K'),\n",
       "   ('a', 'AE1'),\n",
       "   ('n', 'N'),\n",
       "   ('a', 'AH0'))),\n",
       " (0.0,\n",
       "  (('a', 'AH0'),\n",
       "   ('m', 'M'),\n",
       "   ('e', 'EH2'),\n",
       "   ('r', 'R'),\n",
       "   ('i', 'AH0'),\n",
       "   ('c', 'K'),\n",
       "   ('a', 'AE1'),\n",
       "   ('n', 'N'),\n",
       "   ('a', 'AH0'),\n",
       "   (\"'|s\", 'Z'))),\n",
       " (0.0,\n",
       "  (('a', 'AH0'),\n",
       "   ('m', 'M'),\n",
       "   ('e', 'EH2'),\n",
       "   ('r', 'R'),\n",
       "   ('i', 'AH0'),\n",
       "   ('c', 'K'),\n",
       "   ('a', 'AE1'),\n",
       "   ('n', 'N'),\n",
       "   ('a', 'AH0'),\n",
       "   ('s', 'Z'))),\n",
       " (0.0,\n",
       "  (('c', 'K'),\n",
       "   ('a', 'AE0'),\n",
       "   ('n', 'N'),\n",
       "   ('t', 'T'),\n",
       "   ('e', 'IY1'),\n",
       "   ('e', '@_EPSILON_SYMBOL_@'),\n",
       "   ('n', 'N'),\n",
       "   ('s', 'Z'))),\n",
       " (0.0,\n",
       "  (('c', 'K'),\n",
       "   ('a', 'AE0'),\n",
       "   ('n', 'N'),\n",
       "   ('t', 'T'),\n",
       "   ('r', 'R'),\n",
       "   ('e', 'EH1'),\n",
       "   ('l|l', 'L'))),\n",
       " (0.0, (('c', 'K'), ('a', 'AE1'), ('n', 'N'))))"
      ]
     },
     "execution_count": 47,
     "metadata": {},
     "output_type": "execute_result"
    }
   ],
   "source": [
    "canAE.extract_paths(max_number=12,output='raw',random=True)"
   ]
  },
  {
   "cell_type": "code",
   "execution_count": 48,
   "id": "348c7ffd-abe4-4e26-a4a1-1e94f42a026d",
   "metadata": {},
   "outputs": [],
   "source": [
    "canAH = hfst.regex('${can} .o. English .o. $[K VowAH N]',\n",
    "                         definitions=defs)\n"
   ]
  },
  {
   "cell_type": "code",
   "execution_count": 49,
   "id": "16c39593-2211-4fe7-b5f2-b1bd2e0de9b0",
   "metadata": {},
   "outputs": [
    {
     "data": {
      "text/plain": [
       "((0.0,\n",
       "  (('a', 'AA1'),\n",
       "   ('r', 'R'),\n",
       "   ('c', 'K'),\n",
       "   ('a', 'AH0'),\n",
       "   ('n', 'N'),\n",
       "   ('d', 'D'))),\n",
       " (0.0,\n",
       "  (('a', 'AA1'),\n",
       "   ('r', 'R'),\n",
       "   ('c', 'K'),\n",
       "   ('a', 'AH0'),\n",
       "   ('n', 'N'),\n",
       "   ('u', 'AH0'),\n",
       "   ('m', 'M'))),\n",
       " (0.0,\n",
       "  (('a', 'AA1'),\n",
       "   ('r', 'R'),\n",
       "   ('c', 'K'),\n",
       "   ('a', 'AH0'),\n",
       "   ('n', 'N'),\n",
       "   ('u', 'AH0'),\n",
       "   ('m', 'M'),\n",
       "   (\"'|s\", 'Z'))),\n",
       " (0.0,\n",
       "  (('a', 'AE1'),\n",
       "   ('n', 'NG'),\n",
       "   ('g', 'G'),\n",
       "   ('l', 'L'),\n",
       "   ('i', 'AH0'),\n",
       "   ('c', 'K'),\n",
       "   ('a', 'AH0'),\n",
       "   ('n', 'N'))),\n",
       " (0.0,\n",
       "  (('a', 'AE1'),\n",
       "   ('n', 'NG'),\n",
       "   ('g', 'G'),\n",
       "   ('l', 'L'),\n",
       "   ('i', 'IH0'),\n",
       "   ('c', 'K'),\n",
       "   ('a', 'AH0'),\n",
       "   ('n', 'N'),\n",
       "   ('s', 'Z'))),\n",
       " (0.0,\n",
       "  (('a', 'AE1'),\n",
       "   ('p|p', 'P'),\n",
       "   ('l', 'L'),\n",
       "   ('i', 'IH0'),\n",
       "   ('c', 'K'),\n",
       "   ('a', 'AH0'),\n",
       "   ('n', 'N'),\n",
       "   ('t', 'T'))),\n",
       " (0.0,\n",
       "  (('a', 'AH0'),\n",
       "   ('m', 'M'),\n",
       "   ('e', 'EH1'),\n",
       "   ('r', 'R'),\n",
       "   ('i', 'IH0'),\n",
       "   ('c', 'K'),\n",
       "   ('a', 'AH0'),\n",
       "   ('n', 'N'))),\n",
       " (0.0,\n",
       "  (('a', 'AH0'),\n",
       "   ('m', 'M'),\n",
       "   ('e', 'EH2'),\n",
       "   ('r', 'R'),\n",
       "   ('i', 'AH0'),\n",
       "   ('c', 'K'),\n",
       "   ('a', 'AH0'),\n",
       "   ('n', 'N'),\n",
       "   ('i', 'AH0'),\n",
       "   ('z', 'Z'),\n",
       "   ('a', 'EY1'),\n",
       "   ('t|i', 'SH'),\n",
       "   ('o', 'AH0'),\n",
       "   ('n', 'N'))),\n",
       " (0.0,\n",
       "  (('b', 'B'),\n",
       "   ('o', 'OW2'),\n",
       "   ('c', 'K'),\n",
       "   ('a', 'AH0'),\n",
       "   ('n', 'N'),\n",
       "   ('e', 'EH1'),\n",
       "   ('g', 'G'),\n",
       "   ('r', 'R'),\n",
       "   ('a', 'AH0'))),\n",
       " (0.0, (('b', 'B'), ('o|w', 'OW1'), ('c', 'K'), ('a', 'AH0'), ('n', 'N'))),\n",
       " (0.0,\n",
       "  (('b', 'B'),\n",
       "   ('r', 'R'),\n",
       "   ('a', 'AE1'),\n",
       "   ('s', 'S'),\n",
       "   ('c', 'K'),\n",
       "   ('a', 'AH0'),\n",
       "   ('n', 'N'))),\n",
       " (0.0,\n",
       "  (('c', 'K'),\n",
       "   ('a', 'AE1'),\n",
       "   ('n', 'NG'),\n",
       "   ('c', 'K'),\n",
       "   ('u', 'AH0'),\n",
       "   ('n', 'N'))))"
      ]
     },
     "execution_count": 49,
     "metadata": {},
     "output_type": "execute_result"
    }
   ],
   "source": [
    "canAH.extract_paths(max_number=12,output='raw',random=True)"
   ]
  },
  {
   "cell_type": "code",
   "execution_count": 50,
   "id": "f9b19dc9-c803-4445-9dd0-99e664bb90c9",
   "metadata": {},
   "outputs": [],
   "source": [
    "defs['canAH'] = canAH\n",
    "defs['canAH'] = canAH\n"
   ]
  },
  {
   "cell_type": "code",
   "execution_count": 57,
   "id": "80956b68-daae-476c-ba38-2ff704393c30",
   "metadata": {},
   "outputs": [],
   "source": [
    "can2 = hfst.regex('canAE.i .o. canAH',\n",
    "                         definitions=defs)"
   ]
  },
  {
   "cell_type": "code",
   "execution_count": 58,
   "id": "ebccc645-fe0b-4944-8d10-236e35e3d9a4",
   "metadata": {},
   "outputs": [
    {
     "data": {
      "text/plain": [
       "()"
      ]
     },
     "execution_count": 58,
     "metadata": {},
     "output_type": "execute_result"
    }
   ],
   "source": [
    "can2.extract_paths(max_number=12,output='raw',random=True)"
   ]
  },
  {
   "cell_type": "code",
   "execution_count": 61,
   "id": "9e551f52-2e28-4721-b34b-3b18ca6703ab",
   "metadata": {},
   "outputs": [],
   "source": [
    "expert = hfst.regex('{cancun} .o. English',\n",
    "                         definitions=defs)"
   ]
  },
  {
   "cell_type": "code",
   "execution_count": 62,
   "id": "bf7e4482-f90b-4e30-a71b-6c90c52af0c9",
   "metadata": {},
   "outputs": [
    {
     "data": {
      "text/plain": [
       "((0.0,\n",
       "  (('c', 'K'),\n",
       "   ('a', 'AA2'),\n",
       "   ('n', 'NG'),\n",
       "   ('c', 'K'),\n",
       "   ('u', 'UW1'),\n",
       "   ('n', 'N'))),\n",
       " (0.0,\n",
       "  (('c', 'K'),\n",
       "   ('a', 'AE1'),\n",
       "   ('n', 'NG'),\n",
       "   ('c', 'K'),\n",
       "   ('u', 'AH0'),\n",
       "   ('n', 'N'))))"
      ]
     },
     "execution_count": 62,
     "metadata": {},
     "output_type": "execute_result"
    }
   ],
   "source": [
    "expert.extract_paths(max_number=12,output='raw',random=True)"
   ]
  },
  {
   "cell_type": "code",
   "execution_count": null,
   "id": "7fe116df-ac01-4500-92c6-a0110e5f56bf",
   "metadata": {},
   "outputs": [],
   "source": []
  }
 ],
 "metadata": {
  "kernelspec": {
   "display_name": "Python 3 (ipykernel)",
   "language": "python",
   "name": "python3"
  },
  "language_info": {
   "codemirror_mode": {
    "name": "ipython",
    "version": 3
   },
   "file_extension": ".py",
   "mimetype": "text/x-python",
   "name": "python",
   "nbconvert_exporter": "python",
   "pygments_lexer": "ipython3",
   "version": "3.8.15"
  }
 },
 "nbformat": 4,
 "nbformat_minor": 5
}
