{
 "cells": [
  {
   "cell_type": "markdown",
   "id": "4e76d797-63f4-424b-8aaf-085385b05a9d",
   "metadata": {},
   "source": [
    "# Top down CF parsing\n",
    "following Stabler lecture notes, Chapter 1\n",
    "### To start this notebook \n",
    "```\n",
    "source /local/sys/python/cl23/bin/activate\n",
    "jupyter lab td.ipynb\n",
    "```"
   ]
  },
  {
   "cell_type": "code",
   "execution_count": 3,
   "id": "82e9e3d6-f7b3-473f-bd01-8342d3d104ec",
   "metadata": {},
   "outputs": [],
   "source": [
    "from td import *\n",
    "# from g1 import *"
   ]
  },
  {
   "cell_type": "markdown",
   "id": "577da583-2991-4967-8ef2-c8737df5c27e",
   "metadata": {},
   "source": [
    "## The Fromkin grammar\n",
    "This version has left recurstion eliminated."
   ]
  },
  {
   "cell_type": "code",
   "execution_count": 4,
   "id": "cb436128-c633-47dc-86e1-b6280c367ac7",
   "metadata": {},
   "outputs": [
    {
     "ename": "NameError",
     "evalue": "name 'showGrammar' is not defined",
     "output_type": "error",
     "traceback": [
      "\u001b[0;31m---------------------------------------------------------------------------\u001b[0m",
      "\u001b[0;31mNameError\u001b[0m                                 Traceback (most recent call last)",
      "Cell \u001b[0;32mIn[4], line 1\u001b[0m\n\u001b[0;32m----> 1\u001b[0m showGrammar(g1)\n",
      "\u001b[0;31mNameError\u001b[0m: name 'showGrammar' is not defined"
     ]
    }
   ],
   "source": [
    "showGrammar(g1)"
   ]
  },
  {
   "cell_type": "markdown",
   "id": "f7d52952-695e-4380-9b50-92bcfcc39511",
   "metadata": {},
   "source": [
    "It returns the list of results."
   ]
  },
  {
   "cell_type": "markdown",
   "id": "c5537c70-b119-40ec-a157-bf98894684d9",
   "metadata": {},
   "source": [
    "There are four expansions for DP, and the list of resulting analyses \n",
    "is returned.\n",
    "\n",
    "Expand steps do not pay attention input."
   ]
  },
  {
   "cell_type": "code",
   "execution_count": null,
   "id": "f6fcc7d9-d377-47c8-89ce-a56d55960022",
   "metadata": {},
   "outputs": [],
   "source": []
  },
  {
   "cell_type": "markdown",
   "id": "225bca1c-1204-49ce-82a3-8b7a2a7e0d16",
   "metadata": {},
   "source": [
    "## Guided left derivation\n",
    "Work on the input \"Maria criticizes Bill\"."
   ]
  },
  {
   "cell_type": "code",
   "execution_count": 5,
   "id": "8e7ef05f-2cbe-4fa1-9c96-3716aa6beb4c",
   "metadata": {},
   "outputs": [
    {
     "data": {
      "text/plain": [
       "['Maria', 'criticizes', 'Bill']"
      ]
     },
     "execution_count": 5,
     "metadata": {},
     "output_type": "execute_result"
    }
   ],
   "source": [
    "i1 = \"Maria criticizes Bill\".split()\n",
    "i1"
   ]
  },
  {
   "cell_type": "markdown",
   "id": "b0d8afaf-ec32-4c6c-9d45-552d8b8784b1",
   "metadata": {},
   "source": [
    "## Examples of tdstep\n",
    "`tdstep` maps a parser state to a list of parser states.  A parser state is a pair of a list of input strings, and a list of symbols that are the target for parsing."
   ]
  },
  {
   "cell_type": "markdown",
   "id": "169a2f3b-3e62-4534-b8c3-06b78bc618ad",
   "metadata": {},
   "source": [
    "Construct an analysis pair for recognizing this input as an S."
   ]
  },
  {
   "cell_type": "code",
   "execution_count": 6,
   "id": "251ba973-9cfe-48bb-ae76-f584cf3a2e26",
   "metadata": {},
   "outputs": [
    {
     "data": {
      "text/plain": [
       "(['Maria', 'criticizes', 'Bill'], ['S'])"
      ]
     },
     "execution_count": 6,
     "metadata": {},
     "output_type": "execute_result"
    }
   ],
   "source": [
    "a0 = (i1,['S'])\n",
    "a0"
   ]
  },
  {
   "cell_type": "markdown",
   "id": "43dcf863-320b-49da-9c1a-a09c8907d26a",
   "metadata": {},
   "source": [
    "Starting from `ics0`, what analyses result from one td step?"
   ]
  },
  {
   "cell_type": "code",
   "execution_count": 18,
   "id": "da37f907-70c8-411a-934b-4dc11f4a3001",
   "metadata": {},
   "outputs": [
    {
     "name": "stdout",
     "output_type": "stream",
     "text": [
      "expand S -> ['DP', 'VP']\n"
     ]
    },
    {
     "data": {
      "text/plain": [
       "[(['Maria', 'criticizes', 'Bill'], ['DP', 'VP'])]"
      ]
     },
     "execution_count": 18,
     "metadata": {},
     "output_type": "execute_result"
    }
   ],
   "source": [
    "b0 = tdstep(g1,a0)\n",
    "b0"
   ]
  },
  {
   "cell_type": "markdown",
   "id": "3b990668-8c03-439f-a8f8-4502fb00eef6",
   "metadata": {},
   "source": [
    "Since the result is unique, pursue that possibility."
   ]
  },
  {
   "cell_type": "code",
   "execution_count": 20,
   "id": "fec1c405-a4ae-4e86-b07e-05ebc4735373",
   "metadata": {},
   "outputs": [
    {
     "data": {
      "text/plain": [
       "(['Maria', 'criticizes', 'Bill'], ['DP', 'VP'])"
      ]
     },
     "execution_count": 20,
     "metadata": {},
     "output_type": "execute_result"
    }
   ],
   "source": [
    "a1 = b0[0]\n",
    "a1"
   ]
  },
  {
   "cell_type": "markdown",
   "id": "7b95f59b-1e6a-4915-9642-1bf58f36821a",
   "metadata": {},
   "source": [
    "Starting from `a1`, what analyses result from one td step?"
   ]
  },
  {
   "cell_type": "code",
   "execution_count": 22,
   "id": "4837636c-0121-4acd-b229-eb2abec3e43c",
   "metadata": {},
   "outputs": [
    {
     "name": "stdout",
     "output_type": "stream",
     "text": [
      "expand DP -> ['D', 'NP']\n",
      "expand DP -> ['NP']\n",
      "expand DP -> ['Name']\n",
      "expand DP -> ['Pronoun']\n"
     ]
    },
    {
     "data": {
      "text/plain": [
       "[(['Maria', 'criticizes', 'Bill'], ['D', 'NP', 'VP']),\n",
       " (['Maria', 'criticizes', 'Bill'], ['NP', 'VP']),\n",
       " (['Maria', 'criticizes', 'Bill'], ['Name', 'VP']),\n",
       " (['Maria', 'criticizes', 'Bill'], ['Pronoun', 'VP'])]"
      ]
     },
     "execution_count": 22,
     "metadata": {},
     "output_type": "execute_result"
    }
   ],
   "source": [
    "b1 = tdstep(g1,a1)\n",
    "b1"
   ]
  },
  {
   "cell_type": "markdown",
   "id": "b05467f7-3ef4-404d-9a04-0824dae32a82",
   "metadata": {},
   "source": [
    "`b1` contains four possibilities. Decide to pursue the third of them, by setting `a2` to the third element of the list `b1`."
   ]
  },
  {
   "cell_type": "code",
   "execution_count": 23,
   "id": "607561a8-23f7-4b72-8b9e-35069afd4515",
   "metadata": {},
   "outputs": [
    {
     "data": {
      "text/plain": [
       "(['Maria', 'criticizes', 'Bill'], ['Name', 'VP'])"
      ]
     },
     "execution_count": 23,
     "metadata": {},
     "output_type": "execute_result"
    }
   ],
   "source": [
    "a2 = b1[2]\n",
    "a2"
   ]
  },
  {
   "cell_type": "markdown",
   "id": "971b118c-da30-4bc3-ac2e-04d9c4c17045",
   "metadata": {},
   "source": [
    "What can be obtained from `ics2` in oned td step?"
   ]
  },
  {
   "cell_type": "code",
   "execution_count": 24,
   "id": "0d5b4ec4-274d-42f1-a95d-413b9d2539b8",
   "metadata": {},
   "outputs": [
    {
     "name": "stdout",
     "output_type": "stream",
     "text": [
      "expand Name -> ['Bill']\n",
      "expand Name -> ['Sue']\n",
      "expand Name -> ['Jose']\n",
      "expand Name -> ['Maria']\n",
      "expand Name -> ['Presidents', 'Day']\n",
      "expand Name -> ['Tuesday']\n"
     ]
    },
    {
     "data": {
      "text/plain": [
       "[(['Maria', 'criticizes', 'Bill'], ['Bill', 'VP']),\n",
       " (['Maria', 'criticizes', 'Bill'], ['Sue', 'VP']),\n",
       " (['Maria', 'criticizes', 'Bill'], ['Jose', 'VP']),\n",
       " (['Maria', 'criticizes', 'Bill'], ['Maria', 'VP']),\n",
       " (['Maria', 'criticizes', 'Bill'], ['Presidents', 'Day', 'VP']),\n",
       " (['Maria', 'criticizes', 'Bill'], ['Tuesday', 'VP'])]"
      ]
     },
     "execution_count": 24,
     "metadata": {},
     "output_type": "execute_result"
    }
   ],
   "source": [
    "b2 = tdstep(g1,a2)\n",
    "b2"
   ]
  },
  {
   "cell_type": "markdown",
   "id": "f9145377-8bac-4945-a0fb-1b482297c01b",
   "metadata": {},
   "source": [
    "Decide to pursue the fourth of them."
   ]
  },
  {
   "cell_type": "code",
   "execution_count": 26,
   "id": "e1bbeb2f-8197-4c92-a5b7-4159d378821e",
   "metadata": {},
   "outputs": [
    {
     "data": {
      "text/plain": [
       "(['Maria', 'criticizes', 'Bill'], ['Maria', 'VP'])"
      ]
     },
     "execution_count": 26,
     "metadata": {},
     "output_type": "execute_result"
    }
   ],
   "source": [
    "a3 = b2[3]\n",
    "a3"
   ]
  },
  {
   "cell_type": "markdown",
   "id": "70f39e5c-52bb-4b3f-952f-9c389c6be9a6",
   "metadata": {},
   "source": [
    "What can we get from `a3` in one td step? "
   ]
  },
  {
   "cell_type": "code",
   "execution_count": 27,
   "id": "0c516408-4ed6-42ac-a426-a4087f35f4ef",
   "metadata": {},
   "outputs": [
    {
     "name": "stdout",
     "output_type": "stream",
     "text": [
      "scan Maria\n"
     ]
    },
    {
     "data": {
      "text/plain": [
       "[(['criticizes', 'Bill'], ['VP'])]"
      ]
     },
     "execution_count": 27,
     "metadata": {},
     "output_type": "execute_result"
    }
   ],
   "source": [
    "b3 = tdstep(g1,a3)\n",
    "b3"
   ]
  },
  {
   "cell_type": "markdown",
   "id": "6c529ad9-4cc0-4e3e-a5d1-2dc7c1ce54cb",
   "metadata": {},
   "source": [
    "There is one option, scanning 'Maria'."
   ]
  },
  {
   "cell_type": "code",
   "execution_count": 29,
   "id": "035bf378-9c5a-47d0-b087-0204049a3e5f",
   "metadata": {},
   "outputs": [
    {
     "data": {
      "text/plain": [
       "(['criticizes', 'Bill'], ['VP'])"
      ]
     },
     "execution_count": 29,
     "metadata": {},
     "output_type": "execute_result"
    }
   ],
   "source": [
    "a4 = b3[0]\n",
    "a4"
   ]
  },
  {
   "cell_type": "code",
   "execution_count": 30,
   "id": "fa4b39c6-7f6a-40b9-9afe-5bb1650260d0",
   "metadata": {},
   "outputs": [
    {
     "name": "stdout",
     "output_type": "stream",
     "text": [
      "expand VP -> ['V']\n",
      "expand VP -> ['V', 'PP']\n",
      "expand VP -> ['V', 'CP']\n",
      "expand VP -> ['V', 'VP']\n",
      "expand VP -> ['V', 'DP', 'PP']\n",
      "expand VP -> ['V', 'DP', 'CP']\n",
      "expand VP -> ['V', 'DP', 'VP']\n",
      "expand VP -> ['V', 'DP']\n",
      "expand VP -> ['AdvP', 'VP']\n"
     ]
    }
   ],
   "source": [
    "b4 = tdstep(g1,a4)"
   ]
  },
  {
   "cell_type": "markdown",
   "id": "3ea5d376-7b8e-4785-8dda-da76290354bc",
   "metadata": {},
   "source": [
    "With the benefit of foresight, decide to pursue the 8th of them."
   ]
  },
  {
   "cell_type": "code",
   "execution_count": 31,
   "id": "d5475914-bea3-4d10-a965-3905f10a52ea",
   "metadata": {},
   "outputs": [
    {
     "data": {
      "text/plain": [
       "(['criticizes', 'Bill'], ['V', 'DP'])"
      ]
     },
     "execution_count": 31,
     "metadata": {},
     "output_type": "execute_result"
    }
   ],
   "source": [
    "a5=b4[7]\n",
    "a5"
   ]
  },
  {
   "cell_type": "code",
   "execution_count": 32,
   "id": "791bd4af-8662-4c5c-8cd6-8686b13c4348",
   "metadata": {},
   "outputs": [
    {
     "name": "stdout",
     "output_type": "stream",
     "text": [
      "expand V -> ['laughs']\n",
      "expand V -> ['cries']\n",
      "expand V -> ['praises']\n",
      "expand V -> ['criticizes']\n",
      "expand V -> ['says']\n",
      "expand V -> ['knows']\n"
     ]
    },
    {
     "data": {
      "text/plain": [
       "[(['criticizes', 'Bill'], ['laughs', 'DP']),\n",
       " (['criticizes', 'Bill'], ['cries', 'DP']),\n",
       " (['criticizes', 'Bill'], ['praises', 'DP']),\n",
       " (['criticizes', 'Bill'], ['criticizes', 'DP']),\n",
       " (['criticizes', 'Bill'], ['says', 'DP']),\n",
       " (['criticizes', 'Bill'], ['knows', 'DP'])]"
      ]
     },
     "execution_count": 32,
     "metadata": {},
     "output_type": "execute_result"
    }
   ],
   "source": [
    "b5 = tdstep(g1,a5)\n",
    "b5"
   ]
  },
  {
   "cell_type": "code",
   "execution_count": 33,
   "id": "6877906f-f749-4d08-a8bf-53139209d392",
   "metadata": {},
   "outputs": [
    {
     "data": {
      "text/plain": [
       "(['criticizes', 'Bill'], ['criticizes', 'DP'])"
      ]
     },
     "execution_count": 33,
     "metadata": {},
     "output_type": "execute_result"
    }
   ],
   "source": [
    "a6 = b5[3]\n",
    "a6"
   ]
  },
  {
   "cell_type": "code",
   "execution_count": 34,
   "id": "89e80f08-d5e1-49c2-822d-025a4dfa8a1d",
   "metadata": {},
   "outputs": [
    {
     "name": "stdout",
     "output_type": "stream",
     "text": [
      "scan criticizes\n"
     ]
    },
    {
     "data": {
      "text/plain": [
       "[(['Bill'], ['DP'])]"
      ]
     },
     "execution_count": 34,
     "metadata": {},
     "output_type": "execute_result"
    }
   ],
   "source": [
    "b6 = tdstep(g1,a6)\n",
    "b6"
   ]
  },
  {
   "cell_type": "code",
   "execution_count": 35,
   "id": "2631da78-b2c1-43ec-a4f6-90f8cce6feb2",
   "metadata": {},
   "outputs": [
    {
     "data": {
      "text/plain": [
       "(['Bill'], ['DP'])"
      ]
     },
     "execution_count": 35,
     "metadata": {},
     "output_type": "execute_result"
    }
   ],
   "source": [
    "a7 = b6[0]\n",
    "a7"
   ]
  },
  {
   "cell_type": "code",
   "execution_count": 36,
   "id": "3f220d28-ffb9-4e74-8215-28d5783d1079",
   "metadata": {},
   "outputs": [
    {
     "name": "stdout",
     "output_type": "stream",
     "text": [
      "expand DP -> ['D', 'NP']\n",
      "expand DP -> ['NP']\n",
      "expand DP -> ['Name']\n",
      "expand DP -> ['Pronoun']\n"
     ]
    },
    {
     "data": {
      "text/plain": [
       "[(['Bill'], ['D', 'NP']),\n",
       " (['Bill'], ['NP']),\n",
       " (['Bill'], ['Name']),\n",
       " (['Bill'], ['Pronoun'])]"
      ]
     },
     "execution_count": 36,
     "metadata": {},
     "output_type": "execute_result"
    }
   ],
   "source": [
    "b7 = tdstep(g1,a7)\n",
    "b7"
   ]
  },
  {
   "cell_type": "code",
   "execution_count": 37,
   "id": "919ce623-3f78-4a35-94f0-985df387dd58",
   "metadata": {},
   "outputs": [
    {
     "data": {
      "text/plain": [
       "(['Bill'], ['Name'])"
      ]
     },
     "execution_count": 37,
     "metadata": {},
     "output_type": "execute_result"
    }
   ],
   "source": [
    "a8 = b7[2]\n",
    "a8"
   ]
  },
  {
   "cell_type": "code",
   "execution_count": 38,
   "id": "f29388d0-5e62-42eb-8e35-1d9be027a93e",
   "metadata": {},
   "outputs": [
    {
     "name": "stdout",
     "output_type": "stream",
     "text": [
      "expand Name -> ['Bill']\n",
      "expand Name -> ['Sue']\n",
      "expand Name -> ['Jose']\n",
      "expand Name -> ['Maria']\n",
      "expand Name -> ['Presidents', 'Day']\n",
      "expand Name -> ['Tuesday']\n"
     ]
    },
    {
     "data": {
      "text/plain": [
       "[(['Bill'], ['Bill']),\n",
       " (['Bill'], ['Sue']),\n",
       " (['Bill'], ['Jose']),\n",
       " (['Bill'], ['Maria']),\n",
       " (['Bill'], ['Presidents', 'Day']),\n",
       " (['Bill'], ['Tuesday'])]"
      ]
     },
     "execution_count": 38,
     "metadata": {},
     "output_type": "execute_result"
    }
   ],
   "source": [
    "b8 = tdstep(g1,a8)\n",
    "b8"
   ]
  },
  {
   "cell_type": "code",
   "execution_count": 39,
   "id": "7a6c7284-cbe8-43c7-b2c6-96c9e823c5c5",
   "metadata": {},
   "outputs": [
    {
     "data": {
      "text/plain": [
       "(['Bill'], ['Name'])"
      ]
     },
     "execution_count": 39,
     "metadata": {},
     "output_type": "execute_result"
    }
   ],
   "source": [
    "a9 = b8[0]\n",
    "a8"
   ]
  },
  {
   "cell_type": "code",
   "execution_count": 40,
   "id": "b725a1e6-3361-4542-b29f-f64d65d88934",
   "metadata": {},
   "outputs": [
    {
     "name": "stdout",
     "output_type": "stream",
     "text": [
      "scan Bill\n"
     ]
    },
    {
     "data": {
      "text/plain": [
       "[([], [])]"
      ]
     },
     "execution_count": 40,
     "metadata": {},
     "output_type": "execute_result"
    }
   ],
   "source": [
    "b9 = tdstep(g1,a9)\n",
    "b9"
   ]
  },
  {
   "cell_type": "code",
   "execution_count": 41,
   "id": "49c6c5e6-fbd1-415d-a2dc-bb7cf26cc008",
   "metadata": {},
   "outputs": [
    {
     "data": {
      "text/plain": [
       "([], [])"
      ]
     },
     "execution_count": 41,
     "metadata": {},
     "output_type": "execute_result"
    }
   ],
   "source": [
    "a10 = b9[0]\n",
    "a10"
   ]
  },
  {
   "cell_type": "markdown",
   "id": "11ba8d05-8e9d-4dca-a996-f7e91e39aac8",
   "metadata": {},
   "source": [
    "Done, 'Maria criticizes Bill' was recognized as an S."
   ]
  },
  {
   "cell_type": "markdown",
   "id": "a794f9b3-bd58-4f2f-bd19-b40b30eb86b0",
   "metadata": {},
   "source": [
    "#### Summary of the guided left derivation"
   ]
  },
  {
   "cell_type": "code",
   "execution_count": 42,
   "id": "82449ce9-15bb-4c11-8fcf-7fbdd3fcffbc",
   "metadata": {},
   "outputs": [
    {
     "data": {
      "text/plain": [
       "[(['Maria', 'criticizes', 'Bill'], ['S']),\n",
       " (['Maria', 'criticizes', 'Bill'], ['DP', 'VP']),\n",
       " (['Maria', 'criticizes', 'Bill'], ['Name', 'VP']),\n",
       " (['Maria', 'criticizes', 'Bill'], ['Maria', 'VP']),\n",
       " (['criticizes', 'Bill'], ['VP']),\n",
       " (['criticizes', 'Bill'], ['V', 'DP']),\n",
       " (['criticizes', 'Bill'], ['criticizes', 'DP']),\n",
       " (['Bill'], ['DP']),\n",
       " (['Bill'], ['Name']),\n",
       " (['Bill'], ['Bill']),\n",
       " ([], [])]"
      ]
     },
     "execution_count": 42,
     "metadata": {},
     "output_type": "execute_result"
    }
   ],
   "source": [
    "[a0,a1,a2,a3,a4,a5,a6,a7,a8,a9,a10]"
   ]
  },
  {
   "cell_type": "markdown",
   "id": "d6be2ed2-b9e6-4e1e-9a6d-41cf9b6b1603",
   "metadata": {},
   "source": [
    "If the scanned part had been stored ..."
   ]
  },
  {
   "cell_type": "code",
   "execution_count": 44,
   "id": "23fcf1b8-d772-469d-821c-2d56a4d50371",
   "metadata": {},
   "outputs": [],
   "source": [
    "def add(x,ics):\n",
    "    (i,cs) = ics\n",
    "    return (x,i,cs)"
   ]
  },
  {
   "cell_type": "code",
   "execution_count": 45,
   "id": "ba95a422-611b-4280-a2d3-d50544be0467",
   "metadata": {},
   "outputs": [
    {
     "data": {
      "text/plain": [
       "[([], ['Maria', 'criticizes', 'Bill'], ['S']),\n",
       " ([], ['Maria', 'criticizes', 'Bill'], ['DP', 'VP']),\n",
       " ([], ['Maria', 'criticizes', 'Bill'], ['Name', 'VP']),\n",
       " ([], ['Maria', 'criticizes', 'Bill'], ['Maria', 'VP']),\n",
       " ([], ['criticizes', 'Bill'], ['VP']),\n",
       " (['Maria'], ['criticizes', 'Bill'], ['V', 'DP']),\n",
       " (['Maria'], ['criticizes', 'Bill'], ['criticizes', 'DP']),\n",
       " (['Maria'], ['Bill'], ['DP']),\n",
       " (['Maria', 'criticizes'], ['Bill'], ['Name']),\n",
       " (['Maria', 'criticizes'], ['Bill'], ['Bill']),\n",
       " (['Maria', 'criticizes'], [], [])]"
      ]
     },
     "execution_count": 45,
     "metadata": {},
     "output_type": "execute_result"
    }
   ],
   "source": [
    "ld = [add([],a0),add([],a1),add([],a2),add([],a3),add([],a4),\n",
    " add(['Maria'],a5),add(['Maria'],a6),add(['Maria'],a7),\n",
    " add(['Maria','criticizes'],a8),add(['Maria','criticizes'],a9),\n",
    " add(['Maria','criticizes'],a10)]\n",
    "ld"
   ]
  },
  {
   "cell_type": "code",
   "execution_count": 46,
   "id": "067711fa-f50e-4af6-88bb-1638f84441b0",
   "metadata": {},
   "outputs": [],
   "source": [
    "def add(x,ics,comment):\n",
    "    (i,cs) = ics\n",
    "    return (x,i,cs,comment)"
   ]
  },
  {
   "cell_type": "code",
   "execution_count": 47,
   "id": "c2f3b5b9-1ec5-47b4-81e3-942dbd7c5369",
   "metadata": {},
   "outputs": [
    {
     "data": {
      "text/plain": [
       "[([], ['Maria', 'criticizes', 'Bill'], ['S'], 'init'),\n",
       " ([], ['Maria', 'criticizes', 'Bill'], ['DP', 'VP'], 'expand'),\n",
       " ([], ['Maria', 'criticizes', 'Bill'], ['Name', 'VP'], 'expand'),\n",
       " ([], ['Maria', 'criticizes', 'Bill'], ['Maria', 'VP'], 'expand'),\n",
       " (['Maria'], ['criticizes', 'Bill'], ['VP'], 'scan'),\n",
       " (['Maria'], ['criticizes', 'Bill'], ['V', 'DP'], 'expand'),\n",
       " (['Maria'], ['criticizes', 'Bill'], ['criticizes', 'DP'], 'expand'),\n",
       " (['Maria', 'criticizes'], ['Bill'], ['DP'], 'scan'),\n",
       " (['Maria', 'criticizes'], ['Bill'], ['Name'], 'expand'),\n",
       " (['Maria', 'criticizes'], ['Bill'], ['Bill'], 'expand'),\n",
       " (['Maria', 'criticizes', 'Bill'], [], [], 'scan')]"
      ]
     },
     "execution_count": 47,
     "metadata": {},
     "output_type": "execute_result"
    }
   ],
   "source": [
    "ld0 = [add([],a0,'init'),\n",
    "      add([],a1,'expand'),\n",
    "      add([],a2,'expand'),\n",
    "      add([],a3,'expand'),\n",
    "      add(['Maria'],a4,'scan'),\n",
    "      add(['Maria'],a5,'expand'),\n",
    "      add(['Maria'],a6,'expand'),\n",
    "      add(['Maria','criticizes'],a7,'scan'),\n",
    "      add(['Maria','criticizes'],a8,'expand'),\n",
    "      add(['Maria','criticizes'],a9,'expand'),\n",
    "      add(['Maria','criticizes','Bill'],a10,'scan')]\n",
    "ld0"
   ]
  },
  {
   "cell_type": "markdown",
   "id": "dcf73e80-2e7e-41ff-a7f6-be616bf6fc5c",
   "metadata": {},
   "source": [
    "Collect a left derivation as follows."
   ]
  },
  {
   "cell_type": "code",
   "execution_count": 48,
   "id": "ea82ccde-3bf2-484e-9aba-e073b0927a63",
   "metadata": {},
   "outputs": [
    {
     "data": {
      "text/plain": [
       "[['S'],\n",
       " ['DP', 'VP'],\n",
       " ['Name', 'VP'],\n",
       " ['Maria', 'VP'],\n",
       " ['Maria', 'V', 'DP'],\n",
       " ['Maria', 'criticizes', 'DP'],\n",
       " ['Maria', 'criticizes', 'Name'],\n",
       " ['Maria', 'criticizes', 'Bill']]"
      ]
     },
     "execution_count": 48,
     "metadata": {},
     "output_type": "execute_result"
    }
   ],
   "source": [
    "ld = [x[0] + x[2] for x in ld0 if x[3] == 'init' or x[3] == 'expand']\n",
    "ld"
   ]
  },
  {
   "cell_type": "markdown",
   "id": "79a9bec8-557b-4988-a1d5-86b271ac9ec9",
   "metadata": {},
   "source": [
    "### Definition of `tdstep`\n",
    "```\n",
    "def tdstep(g, y): # compute all possible next steps from (i,cs)\n",
    "    (i,cs) = y\n",
    "    if len(cs)>0:\n",
    "        cs1=cs[1:] # copy of predicted categories except cs[0]\n",
    "        nextsteps=[]\n",
    "        for (lhs,rhs) in g:\n",
    "            if lhs == cs[0]:\n",
    "                print('expand',lhs,'->',rhs) # for trace\n",
    "                nextsteps.append((i,rhs+cs1))\n",
    "        if len(i)>0 and i[0] == cs[0]:\n",
    "            print('scan',i[0]) # for trace\n",
    "            nextsteps.append((i[1:],cs1))\n",
    "        return nextsteps\n",
    "    else:\n",
    "        return []\n",
    "```"
   ]
  },
  {
   "cell_type": "markdown",
   "id": "9e2a72c6-2829-46c0-bdd2-4a6b0d662ac5",
   "metadata": {},
   "source": [
    "### Definition of `recognize`\n",
    "```\n",
    "def recognize(g,i):\n",
    "    ds = [(i,['S'])]\n",
    "    while ds != [] and ds[-1] != ([],[]):\n",
    "        showDerivations(ds) # for trace\n",
    "        d = ds.pop()\n",
    "        ds.extend(tdstep(g,d))\n",
    "    if ds==[]:\n",
    "        return False\n",
    "    else:\n",
    "        showDerivations(ds) # for trace\n",
    "        return True\n",
    "```"
   ]
  },
  {
   "cell_type": "code",
   "execution_count": 56,
   "id": "34516c97-a9ea-4122-bdb1-5b2fc2f88835",
   "metadata": {},
   "outputs": [
    {
     "name": "stdout",
     "output_type": "stream",
     "text": [
      "[1, 2, 3, 4, 5]\n"
     ]
    },
    {
     "data": {
      "text/plain": [
       "5"
      ]
     },
     "execution_count": 56,
     "metadata": {},
     "output_type": "execute_result"
    }
   ],
   "source": [
    "x = [1,2,3]\n",
    "x.extend([4,5])\n",
    "print(x)\n",
    "x.pop()"
   ]
  },
  {
   "cell_type": "code",
   "execution_count": 57,
   "id": "aae846ee-a531-4b96-a280-53c2dc430306",
   "metadata": {},
   "outputs": [
    {
     "data": {
      "text/plain": [
       "[1, 2, 3, 4]"
      ]
     },
     "execution_count": 57,
     "metadata": {},
     "output_type": "execute_result"
    }
   ],
   "source": [
    "x"
   ]
  },
  {
   "cell_type": "markdown",
   "id": "8e61b05e-cb37-424e-8631-82e75245b449",
   "metadata": {},
   "source": [
    "### Run and trace"
   ]
  },
  {
   "cell_type": "code",
   "execution_count": 58,
   "id": "257b57f1-4862-4b49-be48-bb5da7221488",
   "metadata": {},
   "outputs": [
    {
     "name": "stdout",
     "output_type": "stream",
     "text": [
      "0 ( Maria criticizes Bill , S )\n",
      "---------\n",
      "expand S -> ['DP', 'VP']\n",
      "0 ( Maria criticizes Bill , DP VP )\n",
      "---------\n",
      "expand DP -> ['D', 'NP']\n",
      "expand DP -> ['NP']\n",
      "expand DP -> ['Name']\n",
      "expand DP -> ['Pronoun']\n",
      "0 ( Maria criticizes Bill , Pronoun VP )\n",
      "1 ( Maria criticizes Bill , Name VP )\n",
      "2 ( Maria criticizes Bill , NP VP )\n",
      "3 ( Maria criticizes Bill , D NP VP )\n",
      "---------\n",
      "expand Pronoun -> ['he']\n",
      "expand Pronoun -> ['she']\n",
      "expand Pronoun -> ['it']\n",
      "expand Pronoun -> ['him']\n",
      "expand Pronoun -> ['her']\n",
      "0 ( Maria criticizes Bill , her VP )\n",
      "1 ( Maria criticizes Bill , him VP )\n",
      "2 ( Maria criticizes Bill , it VP )\n",
      "3 ( Maria criticizes Bill , she VP )\n",
      "4 ( Maria criticizes Bill , he VP )\n",
      "5 ( Maria criticizes Bill , Name VP )\n",
      "6 ( Maria criticizes Bill , NP VP )\n",
      "7 ( Maria criticizes Bill , D NP VP )\n",
      "---------\n",
      "0 ( Maria criticizes Bill , him VP )\n",
      "1 ( Maria criticizes Bill , it VP )\n",
      "2 ( Maria criticizes Bill , she VP )\n",
      "3 ( Maria criticizes Bill , he VP )\n",
      "4 ( Maria criticizes Bill , Name VP )\n",
      "5 ( Maria criticizes Bill , NP VP )\n",
      "6 ( Maria criticizes Bill , D NP VP )\n",
      "---------\n",
      "0 ( Maria criticizes Bill , it VP )\n",
      "1 ( Maria criticizes Bill , she VP )\n",
      "2 ( Maria criticizes Bill , he VP )\n",
      "3 ( Maria criticizes Bill , Name VP )\n",
      "4 ( Maria criticizes Bill , NP VP )\n",
      "5 ( Maria criticizes Bill , D NP VP )\n",
      "---------\n",
      "0 ( Maria criticizes Bill , she VP )\n",
      "1 ( Maria criticizes Bill , he VP )\n",
      "2 ( Maria criticizes Bill , Name VP )\n",
      "3 ( Maria criticizes Bill , NP VP )\n",
      "4 ( Maria criticizes Bill , D NP VP )\n",
      "---------\n",
      "0 ( Maria criticizes Bill , he VP )\n",
      "1 ( Maria criticizes Bill , Name VP )\n",
      "2 ( Maria criticizes Bill , NP VP )\n",
      "3 ( Maria criticizes Bill , D NP VP )\n",
      "---------\n",
      "0 ( Maria criticizes Bill , Name VP )\n",
      "1 ( Maria criticizes Bill , NP VP )\n",
      "2 ( Maria criticizes Bill , D NP VP )\n",
      "---------\n",
      "expand Name -> ['Bill']\n",
      "expand Name -> ['Sue']\n",
      "expand Name -> ['Jose']\n",
      "expand Name -> ['Maria']\n",
      "expand Name -> ['Presidents', 'Day']\n",
      "expand Name -> ['Tuesday']\n",
      "0 ( Maria criticizes Bill , Tuesday VP )\n",
      "1 ( Maria criticizes Bill , Presidents Day VP )\n",
      "2 ( Maria criticizes Bill , Maria VP )\n",
      "3 ( Maria criticizes Bill , Jose VP )\n",
      "4 ( Maria criticizes Bill , Sue VP )\n",
      "5 ( Maria criticizes Bill , Bill VP )\n",
      "6 ( Maria criticizes Bill , NP VP )\n",
      "7 ( Maria criticizes Bill , D NP VP )\n",
      "---------\n",
      "0 ( Maria criticizes Bill , Presidents Day VP )\n",
      "1 ( Maria criticizes Bill , Maria VP )\n",
      "2 ( Maria criticizes Bill , Jose VP )\n",
      "3 ( Maria criticizes Bill , Sue VP )\n",
      "4 ( Maria criticizes Bill , Bill VP )\n",
      "5 ( Maria criticizes Bill , NP VP )\n",
      "6 ( Maria criticizes Bill , D NP VP )\n",
      "---------\n",
      "0 ( Maria criticizes Bill , Maria VP )\n",
      "1 ( Maria criticizes Bill , Jose VP )\n",
      "2 ( Maria criticizes Bill , Sue VP )\n",
      "3 ( Maria criticizes Bill , Bill VP )\n",
      "4 ( Maria criticizes Bill , NP VP )\n",
      "5 ( Maria criticizes Bill , D NP VP )\n",
      "---------\n",
      "scan Maria\n",
      "0 ( criticizes Bill , VP )\n",
      "1 ( Maria criticizes Bill , Jose VP )\n",
      "2 ( Maria criticizes Bill , Sue VP )\n",
      "3 ( Maria criticizes Bill , Bill VP )\n",
      "4 ( Maria criticizes Bill , NP VP )\n",
      "5 ( Maria criticizes Bill , D NP VP )\n",
      "---------\n",
      "expand VP -> ['V']\n",
      "expand VP -> ['V', 'PP']\n",
      "expand VP -> ['V', 'CP']\n",
      "expand VP -> ['V', 'VP']\n",
      "expand VP -> ['V', 'DP', 'PP']\n",
      "expand VP -> ['V', 'DP', 'CP']\n",
      "expand VP -> ['V', 'DP', 'VP']\n",
      "expand VP -> ['V', 'DP']\n",
      "expand VP -> ['AdvP', 'VP']\n",
      "0 ( criticizes Bill , AdvP VP )\n",
      "1 ( criticizes Bill , V DP )\n",
      "2 ( criticizes Bill , V DP VP )\n",
      "3 ( criticizes Bill , V DP CP )\n",
      "4 ( criticizes Bill , V DP PP )\n",
      "5 ( criticizes Bill , V VP )\n",
      "6 ( criticizes Bill , V CP )\n",
      "7 ( criticizes Bill , V PP )\n",
      "8 ( criticizes Bill , V )\n",
      "9 ( Maria criticizes Bill , Jose VP )\n",
      "10 ( Maria criticizes Bill , Sue VP )\n",
      "11 ( Maria criticizes Bill , Bill VP )\n",
      "12 ( Maria criticizes Bill , NP VP )\n",
      "13 ( Maria criticizes Bill , D NP VP )\n",
      "---------\n",
      "expand AdvP -> ['Adv']\n",
      "0 ( criticizes Bill , Adv VP )\n",
      "1 ( criticizes Bill , V DP )\n",
      "2 ( criticizes Bill , V DP VP )\n",
      "3 ( criticizes Bill , V DP CP )\n",
      "4 ( criticizes Bill , V DP PP )\n",
      "5 ( criticizes Bill , V VP )\n",
      "6 ( criticizes Bill , V CP )\n",
      "7 ( criticizes Bill , V PP )\n",
      "8 ( criticizes Bill , V )\n",
      "9 ( Maria criticizes Bill , Jose VP )\n",
      "10 ( Maria criticizes Bill , Sue VP )\n",
      "11 ( Maria criticizes Bill , Bill VP )\n",
      "12 ( Maria criticizes Bill , NP VP )\n",
      "13 ( Maria criticizes Bill , D NP VP )\n",
      "---------\n",
      "expand Adv -> ['happily']\n",
      "expand Adv -> ['sadly']\n",
      "expand Adv -> ['impartially']\n",
      "expand Adv -> ['generously']\n",
      "0 ( criticizes Bill , generously VP )\n",
      "1 ( criticizes Bill , impartially VP )\n",
      "2 ( criticizes Bill , sadly VP )\n",
      "3 ( criticizes Bill , happily VP )\n",
      "4 ( criticizes Bill , V DP )\n",
      "5 ( criticizes Bill , V DP VP )\n",
      "6 ( criticizes Bill , V DP CP )\n",
      "7 ( criticizes Bill , V DP PP )\n",
      "8 ( criticizes Bill , V VP )\n",
      "9 ( criticizes Bill , V CP )\n",
      "10 ( criticizes Bill , V PP )\n",
      "11 ( criticizes Bill , V )\n",
      "12 ( Maria criticizes Bill , Jose VP )\n",
      "13 ( Maria criticizes Bill , Sue VP )\n",
      "14 ( Maria criticizes Bill , Bill VP )\n",
      "15 ( Maria criticizes Bill , NP VP )\n",
      "16 ( Maria criticizes Bill , D NP VP )\n",
      "---------\n",
      "0 ( criticizes Bill , impartially VP )\n",
      "1 ( criticizes Bill , sadly VP )\n",
      "2 ( criticizes Bill , happily VP )\n",
      "3 ( criticizes Bill , V DP )\n",
      "4 ( criticizes Bill , V DP VP )\n",
      "5 ( criticizes Bill , V DP CP )\n",
      "6 ( criticizes Bill , V DP PP )\n",
      "7 ( criticizes Bill , V VP )\n",
      "8 ( criticizes Bill , V CP )\n",
      "9 ( criticizes Bill , V PP )\n",
      "10 ( criticizes Bill , V )\n",
      "11 ( Maria criticizes Bill , Jose VP )\n",
      "12 ( Maria criticizes Bill , Sue VP )\n",
      "13 ( Maria criticizes Bill , Bill VP )\n",
      "14 ( Maria criticizes Bill , NP VP )\n",
      "15 ( Maria criticizes Bill , D NP VP )\n",
      "---------\n",
      "0 ( criticizes Bill , sadly VP )\n",
      "1 ( criticizes Bill , happily VP )\n",
      "2 ( criticizes Bill , V DP )\n",
      "3 ( criticizes Bill , V DP VP )\n",
      "4 ( criticizes Bill , V DP CP )\n",
      "5 ( criticizes Bill , V DP PP )\n",
      "6 ( criticizes Bill , V VP )\n",
      "7 ( criticizes Bill , V CP )\n",
      "8 ( criticizes Bill , V PP )\n",
      "9 ( criticizes Bill , V )\n",
      "10 ( Maria criticizes Bill , Jose VP )\n",
      "11 ( Maria criticizes Bill , Sue VP )\n",
      "12 ( Maria criticizes Bill , Bill VP )\n",
      "13 ( Maria criticizes Bill , NP VP )\n",
      "14 ( Maria criticizes Bill , D NP VP )\n",
      "---------\n",
      "0 ( criticizes Bill , happily VP )\n",
      "1 ( criticizes Bill , V DP )\n",
      "2 ( criticizes Bill , V DP VP )\n",
      "3 ( criticizes Bill , V DP CP )\n",
      "4 ( criticizes Bill , V DP PP )\n",
      "5 ( criticizes Bill , V VP )\n",
      "6 ( criticizes Bill , V CP )\n",
      "7 ( criticizes Bill , V PP )\n",
      "8 ( criticizes Bill , V )\n",
      "9 ( Maria criticizes Bill , Jose VP )\n",
      "10 ( Maria criticizes Bill , Sue VP )\n",
      "11 ( Maria criticizes Bill , Bill VP )\n",
      "12 ( Maria criticizes Bill , NP VP )\n",
      "13 ( Maria criticizes Bill , D NP VP )\n",
      "---------\n",
      "0 ( criticizes Bill , V DP )\n",
      "1 ( criticizes Bill , V DP VP )\n",
      "2 ( criticizes Bill , V DP CP )\n",
      "3 ( criticizes Bill , V DP PP )\n",
      "4 ( criticizes Bill , V VP )\n",
      "5 ( criticizes Bill , V CP )\n",
      "6 ( criticizes Bill , V PP )\n",
      "7 ( criticizes Bill , V )\n",
      "8 ( Maria criticizes Bill , Jose VP )\n",
      "9 ( Maria criticizes Bill , Sue VP )\n",
      "10 ( Maria criticizes Bill , Bill VP )\n",
      "11 ( Maria criticizes Bill , NP VP )\n",
      "12 ( Maria criticizes Bill , D NP VP )\n",
      "---------\n",
      "expand V -> ['laughs']\n",
      "expand V -> ['cries']\n",
      "expand V -> ['praises']\n",
      "expand V -> ['criticizes']\n",
      "expand V -> ['says']\n",
      "expand V -> ['knows']\n",
      "0 ( criticizes Bill , knows DP )\n",
      "1 ( criticizes Bill , says DP )\n",
      "2 ( criticizes Bill , criticizes DP )\n",
      "3 ( criticizes Bill , praises DP )\n",
      "4 ( criticizes Bill , cries DP )\n",
      "5 ( criticizes Bill , laughs DP )\n",
      "6 ( criticizes Bill , V DP VP )\n",
      "7 ( criticizes Bill , V DP CP )\n",
      "8 ( criticizes Bill , V DP PP )\n",
      "9 ( criticizes Bill , V VP )\n",
      "10 ( criticizes Bill , V CP )\n",
      "11 ( criticizes Bill , V PP )\n",
      "12 ( criticizes Bill , V )\n",
      "13 ( Maria criticizes Bill , Jose VP )\n",
      "14 ( Maria criticizes Bill , Sue VP )\n",
      "15 ( Maria criticizes Bill , Bill VP )\n",
      "16 ( Maria criticizes Bill , NP VP )\n",
      "17 ( Maria criticizes Bill , D NP VP )\n",
      "---------\n",
      "0 ( criticizes Bill , says DP )\n",
      "1 ( criticizes Bill , criticizes DP )\n",
      "2 ( criticizes Bill , praises DP )\n",
      "3 ( criticizes Bill , cries DP )\n",
      "4 ( criticizes Bill , laughs DP )\n",
      "5 ( criticizes Bill , V DP VP )\n",
      "6 ( criticizes Bill , V DP CP )\n",
      "7 ( criticizes Bill , V DP PP )\n",
      "8 ( criticizes Bill , V VP )\n",
      "9 ( criticizes Bill , V CP )\n",
      "10 ( criticizes Bill , V PP )\n",
      "11 ( criticizes Bill , V )\n",
      "12 ( Maria criticizes Bill , Jose VP )\n",
      "13 ( Maria criticizes Bill , Sue VP )\n",
      "14 ( Maria criticizes Bill , Bill VP )\n",
      "15 ( Maria criticizes Bill , NP VP )\n",
      "16 ( Maria criticizes Bill , D NP VP )\n",
      "---------\n",
      "0 ( criticizes Bill , criticizes DP )\n",
      "1 ( criticizes Bill , praises DP )\n",
      "2 ( criticizes Bill , cries DP )\n",
      "3 ( criticizes Bill , laughs DP )\n",
      "4 ( criticizes Bill , V DP VP )\n",
      "5 ( criticizes Bill , V DP CP )\n",
      "6 ( criticizes Bill , V DP PP )\n",
      "7 ( criticizes Bill , V VP )\n",
      "8 ( criticizes Bill , V CP )\n",
      "9 ( criticizes Bill , V PP )\n",
      "10 ( criticizes Bill , V )\n",
      "11 ( Maria criticizes Bill , Jose VP )\n",
      "12 ( Maria criticizes Bill , Sue VP )\n",
      "13 ( Maria criticizes Bill , Bill VP )\n",
      "14 ( Maria criticizes Bill , NP VP )\n",
      "15 ( Maria criticizes Bill , D NP VP )\n",
      "---------\n",
      "scan criticizes\n",
      "0 ( Bill , DP )\n",
      "1 ( criticizes Bill , praises DP )\n",
      "2 ( criticizes Bill , cries DP )\n",
      "3 ( criticizes Bill , laughs DP )\n",
      "4 ( criticizes Bill , V DP VP )\n",
      "5 ( criticizes Bill , V DP CP )\n",
      "6 ( criticizes Bill , V DP PP )\n",
      "7 ( criticizes Bill , V VP )\n",
      "8 ( criticizes Bill , V CP )\n",
      "9 ( criticizes Bill , V PP )\n",
      "10 ( criticizes Bill , V )\n",
      "11 ( Maria criticizes Bill , Jose VP )\n",
      "12 ( Maria criticizes Bill , Sue VP )\n",
      "13 ( Maria criticizes Bill , Bill VP )\n",
      "14 ( Maria criticizes Bill , NP VP )\n",
      "15 ( Maria criticizes Bill , D NP VP )\n",
      "---------\n",
      "expand DP -> ['D', 'NP']\n",
      "expand DP -> ['NP']\n",
      "expand DP -> ['Name']\n",
      "expand DP -> ['Pronoun']\n",
      "0 ( Bill , Pronoun )\n",
      "1 ( Bill , Name )\n",
      "2 ( Bill , NP )\n",
      "3 ( Bill , D NP )\n",
      "4 ( criticizes Bill , praises DP )\n",
      "5 ( criticizes Bill , cries DP )\n",
      "6 ( criticizes Bill , laughs DP )\n",
      "7 ( criticizes Bill , V DP VP )\n",
      "8 ( criticizes Bill , V DP CP )\n",
      "9 ( criticizes Bill , V DP PP )\n",
      "10 ( criticizes Bill , V VP )\n",
      "11 ( criticizes Bill , V CP )\n",
      "12 ( criticizes Bill , V PP )\n",
      "13 ( criticizes Bill , V )\n",
      "14 ( Maria criticizes Bill , Jose VP )\n",
      "15 ( Maria criticizes Bill , Sue VP )\n",
      "16 ( Maria criticizes Bill , Bill VP )\n",
      "17 ( Maria criticizes Bill , NP VP )\n",
      "18 ( Maria criticizes Bill , D NP VP )\n",
      "---------\n",
      "expand Pronoun -> ['he']\n",
      "expand Pronoun -> ['she']\n",
      "expand Pronoun -> ['it']\n",
      "expand Pronoun -> ['him']\n",
      "expand Pronoun -> ['her']\n",
      "0 ( Bill , her )\n",
      "1 ( Bill , him )\n",
      "2 ( Bill , it )\n",
      "3 ( Bill , she )\n",
      "4 ( Bill , he )\n",
      "5 ( Bill , Name )\n",
      "6 ( Bill , NP )\n",
      "7 ( Bill , D NP )\n",
      "8 ( criticizes Bill , praises DP )\n",
      "9 ( criticizes Bill , cries DP )\n",
      "10 ( criticizes Bill , laughs DP )\n",
      "11 ( criticizes Bill , V DP VP )\n",
      "12 ( criticizes Bill , V DP CP )\n",
      "13 ( criticizes Bill , V DP PP )\n",
      "14 ( criticizes Bill , V VP )\n",
      "15 ( criticizes Bill , V CP )\n",
      "16 ( criticizes Bill , V PP )\n",
      "17 ( criticizes Bill , V )\n",
      "18 ( Maria criticizes Bill , Jose VP )\n",
      "19 ( Maria criticizes Bill , Sue VP )\n",
      "20 ( Maria criticizes Bill , Bill VP )\n",
      "21 ( Maria criticizes Bill , NP VP )\n",
      "22 ( Maria criticizes Bill , D NP VP )\n",
      "---------\n",
      "0 ( Bill , him )\n",
      "1 ( Bill , it )\n",
      "2 ( Bill , she )\n",
      "3 ( Bill , he )\n",
      "4 ( Bill , Name )\n",
      "5 ( Bill , NP )\n",
      "6 ( Bill , D NP )\n",
      "7 ( criticizes Bill , praises DP )\n",
      "8 ( criticizes Bill , cries DP )\n",
      "9 ( criticizes Bill , laughs DP )\n",
      "10 ( criticizes Bill , V DP VP )\n",
      "11 ( criticizes Bill , V DP CP )\n",
      "12 ( criticizes Bill , V DP PP )\n",
      "13 ( criticizes Bill , V VP )\n",
      "14 ( criticizes Bill , V CP )\n",
      "15 ( criticizes Bill , V PP )\n",
      "16 ( criticizes Bill , V )\n",
      "17 ( Maria criticizes Bill , Jose VP )\n",
      "18 ( Maria criticizes Bill , Sue VP )\n",
      "19 ( Maria criticizes Bill , Bill VP )\n",
      "20 ( Maria criticizes Bill , NP VP )\n",
      "21 ( Maria criticizes Bill , D NP VP )\n",
      "---------\n",
      "0 ( Bill , it )\n",
      "1 ( Bill , she )\n",
      "2 ( Bill , he )\n",
      "3 ( Bill , Name )\n",
      "4 ( Bill , NP )\n",
      "5 ( Bill , D NP )\n",
      "6 ( criticizes Bill , praises DP )\n",
      "7 ( criticizes Bill , cries DP )\n",
      "8 ( criticizes Bill , laughs DP )\n",
      "9 ( criticizes Bill , V DP VP )\n",
      "10 ( criticizes Bill , V DP CP )\n",
      "11 ( criticizes Bill , V DP PP )\n",
      "12 ( criticizes Bill , V VP )\n",
      "13 ( criticizes Bill , V CP )\n",
      "14 ( criticizes Bill , V PP )\n",
      "15 ( criticizes Bill , V )\n",
      "16 ( Maria criticizes Bill , Jose VP )\n",
      "17 ( Maria criticizes Bill , Sue VP )\n",
      "18 ( Maria criticizes Bill , Bill VP )\n",
      "19 ( Maria criticizes Bill , NP VP )\n",
      "20 ( Maria criticizes Bill , D NP VP )\n",
      "---------\n",
      "0 ( Bill , she )\n",
      "1 ( Bill , he )\n",
      "2 ( Bill , Name )\n",
      "3 ( Bill , NP )\n",
      "4 ( Bill , D NP )\n",
      "5 ( criticizes Bill , praises DP )\n",
      "6 ( criticizes Bill , cries DP )\n",
      "7 ( criticizes Bill , laughs DP )\n",
      "8 ( criticizes Bill , V DP VP )\n",
      "9 ( criticizes Bill , V DP CP )\n",
      "10 ( criticizes Bill , V DP PP )\n",
      "11 ( criticizes Bill , V VP )\n",
      "12 ( criticizes Bill , V CP )\n",
      "13 ( criticizes Bill , V PP )\n",
      "14 ( criticizes Bill , V )\n",
      "15 ( Maria criticizes Bill , Jose VP )\n",
      "16 ( Maria criticizes Bill , Sue VP )\n",
      "17 ( Maria criticizes Bill , Bill VP )\n",
      "18 ( Maria criticizes Bill , NP VP )\n",
      "19 ( Maria criticizes Bill , D NP VP )\n",
      "---------\n",
      "0 ( Bill , he )\n",
      "1 ( Bill , Name )\n",
      "2 ( Bill , NP )\n",
      "3 ( Bill , D NP )\n",
      "4 ( criticizes Bill , praises DP )\n",
      "5 ( criticizes Bill , cries DP )\n",
      "6 ( criticizes Bill , laughs DP )\n",
      "7 ( criticizes Bill , V DP VP )\n",
      "8 ( criticizes Bill , V DP CP )\n",
      "9 ( criticizes Bill , V DP PP )\n",
      "10 ( criticizes Bill , V VP )\n",
      "11 ( criticizes Bill , V CP )\n",
      "12 ( criticizes Bill , V PP )\n",
      "13 ( criticizes Bill , V )\n",
      "14 ( Maria criticizes Bill , Jose VP )\n",
      "15 ( Maria criticizes Bill , Sue VP )\n",
      "16 ( Maria criticizes Bill , Bill VP )\n",
      "17 ( Maria criticizes Bill , NP VP )\n",
      "18 ( Maria criticizes Bill , D NP VP )\n",
      "---------\n",
      "0 ( Bill , Name )\n",
      "1 ( Bill , NP )\n",
      "2 ( Bill , D NP )\n",
      "3 ( criticizes Bill , praises DP )\n",
      "4 ( criticizes Bill , cries DP )\n",
      "5 ( criticizes Bill , laughs DP )\n",
      "6 ( criticizes Bill , V DP VP )\n",
      "7 ( criticizes Bill , V DP CP )\n",
      "8 ( criticizes Bill , V DP PP )\n",
      "9 ( criticizes Bill , V VP )\n",
      "10 ( criticizes Bill , V CP )\n",
      "11 ( criticizes Bill , V PP )\n",
      "12 ( criticizes Bill , V )\n",
      "13 ( Maria criticizes Bill , Jose VP )\n",
      "14 ( Maria criticizes Bill , Sue VP )\n",
      "15 ( Maria criticizes Bill , Bill VP )\n",
      "16 ( Maria criticizes Bill , NP VP )\n",
      "17 ( Maria criticizes Bill , D NP VP )\n",
      "---------\n",
      "expand Name -> ['Bill']\n",
      "expand Name -> ['Sue']\n",
      "expand Name -> ['Jose']\n",
      "expand Name -> ['Maria']\n",
      "expand Name -> ['Presidents', 'Day']\n",
      "expand Name -> ['Tuesday']\n",
      "0 ( Bill , Tuesday )\n",
      "1 ( Bill , Presidents Day )\n",
      "2 ( Bill , Maria )\n",
      "3 ( Bill , Jose )\n",
      "4 ( Bill , Sue )\n",
      "5 ( Bill , Bill )\n",
      "6 ( Bill , NP )\n",
      "7 ( Bill , D NP )\n",
      "8 ( criticizes Bill , praises DP )\n",
      "9 ( criticizes Bill , cries DP )\n",
      "10 ( criticizes Bill , laughs DP )\n",
      "11 ( criticizes Bill , V DP VP )\n",
      "12 ( criticizes Bill , V DP CP )\n",
      "13 ( criticizes Bill , V DP PP )\n",
      "14 ( criticizes Bill , V VP )\n",
      "15 ( criticizes Bill , V CP )\n",
      "16 ( criticizes Bill , V PP )\n",
      "17 ( criticizes Bill , V )\n",
      "18 ( Maria criticizes Bill , Jose VP )\n",
      "19 ( Maria criticizes Bill , Sue VP )\n",
      "20 ( Maria criticizes Bill , Bill VP )\n",
      "21 ( Maria criticizes Bill , NP VP )\n",
      "22 ( Maria criticizes Bill , D NP VP )\n",
      "---------\n",
      "0 ( Bill , Presidents Day )\n",
      "1 ( Bill , Maria )\n",
      "2 ( Bill , Jose )\n",
      "3 ( Bill , Sue )\n",
      "4 ( Bill , Bill )\n",
      "5 ( Bill , NP )\n",
      "6 ( Bill , D NP )\n",
      "7 ( criticizes Bill , praises DP )\n",
      "8 ( criticizes Bill , cries DP )\n",
      "9 ( criticizes Bill , laughs DP )\n",
      "10 ( criticizes Bill , V DP VP )\n",
      "11 ( criticizes Bill , V DP CP )\n",
      "12 ( criticizes Bill , V DP PP )\n",
      "13 ( criticizes Bill , V VP )\n",
      "14 ( criticizes Bill , V CP )\n",
      "15 ( criticizes Bill , V PP )\n",
      "16 ( criticizes Bill , V )\n",
      "17 ( Maria criticizes Bill , Jose VP )\n",
      "18 ( Maria criticizes Bill , Sue VP )\n",
      "19 ( Maria criticizes Bill , Bill VP )\n",
      "20 ( Maria criticizes Bill , NP VP )\n",
      "21 ( Maria criticizes Bill , D NP VP )\n",
      "---------\n",
      "0 ( Bill , Maria )\n",
      "1 ( Bill , Jose )\n",
      "2 ( Bill , Sue )\n",
      "3 ( Bill , Bill )\n",
      "4 ( Bill , NP )\n",
      "5 ( Bill , D NP )\n",
      "6 ( criticizes Bill , praises DP )\n",
      "7 ( criticizes Bill , cries DP )\n",
      "8 ( criticizes Bill , laughs DP )\n",
      "9 ( criticizes Bill , V DP VP )\n",
      "10 ( criticizes Bill , V DP CP )\n",
      "11 ( criticizes Bill , V DP PP )\n",
      "12 ( criticizes Bill , V VP )\n",
      "13 ( criticizes Bill , V CP )\n",
      "14 ( criticizes Bill , V PP )\n",
      "15 ( criticizes Bill , V )\n",
      "16 ( Maria criticizes Bill , Jose VP )\n",
      "17 ( Maria criticizes Bill , Sue VP )\n",
      "18 ( Maria criticizes Bill , Bill VP )\n",
      "19 ( Maria criticizes Bill , NP VP )\n",
      "20 ( Maria criticizes Bill , D NP VP )\n",
      "---------\n",
      "0 ( Bill , Jose )\n",
      "1 ( Bill , Sue )\n",
      "2 ( Bill , Bill )\n",
      "3 ( Bill , NP )\n",
      "4 ( Bill , D NP )\n",
      "5 ( criticizes Bill , praises DP )\n",
      "6 ( criticizes Bill , cries DP )\n",
      "7 ( criticizes Bill , laughs DP )\n",
      "8 ( criticizes Bill , V DP VP )\n",
      "9 ( criticizes Bill , V DP CP )\n",
      "10 ( criticizes Bill , V DP PP )\n",
      "11 ( criticizes Bill , V VP )\n",
      "12 ( criticizes Bill , V CP )\n",
      "13 ( criticizes Bill , V PP )\n",
      "14 ( criticizes Bill , V )\n",
      "15 ( Maria criticizes Bill , Jose VP )\n",
      "16 ( Maria criticizes Bill , Sue VP )\n",
      "17 ( Maria criticizes Bill , Bill VP )\n",
      "18 ( Maria criticizes Bill , NP VP )\n",
      "19 ( Maria criticizes Bill , D NP VP )\n",
      "---------\n",
      "0 ( Bill , Sue )\n",
      "1 ( Bill , Bill )\n",
      "2 ( Bill , NP )\n",
      "3 ( Bill , D NP )\n",
      "4 ( criticizes Bill , praises DP )\n",
      "5 ( criticizes Bill , cries DP )\n",
      "6 ( criticizes Bill , laughs DP )\n",
      "7 ( criticizes Bill , V DP VP )\n",
      "8 ( criticizes Bill , V DP CP )\n",
      "9 ( criticizes Bill , V DP PP )\n",
      "10 ( criticizes Bill , V VP )\n",
      "11 ( criticizes Bill , V CP )\n",
      "12 ( criticizes Bill , V PP )\n",
      "13 ( criticizes Bill , V )\n",
      "14 ( Maria criticizes Bill , Jose VP )\n",
      "15 ( Maria criticizes Bill , Sue VP )\n",
      "16 ( Maria criticizes Bill , Bill VP )\n",
      "17 ( Maria criticizes Bill , NP VP )\n",
      "18 ( Maria criticizes Bill , D NP VP )\n",
      "---------\n",
      "0 ( Bill , Bill )\n",
      "1 ( Bill , NP )\n",
      "2 ( Bill , D NP )\n",
      "3 ( criticizes Bill , praises DP )\n",
      "4 ( criticizes Bill , cries DP )\n",
      "5 ( criticizes Bill , laughs DP )\n",
      "6 ( criticizes Bill , V DP VP )\n",
      "7 ( criticizes Bill , V DP CP )\n",
      "8 ( criticizes Bill , V DP PP )\n",
      "9 ( criticizes Bill , V VP )\n",
      "10 ( criticizes Bill , V CP )\n",
      "11 ( criticizes Bill , V PP )\n",
      "12 ( criticizes Bill , V )\n",
      "13 ( Maria criticizes Bill , Jose VP )\n",
      "14 ( Maria criticizes Bill , Sue VP )\n",
      "15 ( Maria criticizes Bill , Bill VP )\n",
      "16 ( Maria criticizes Bill , NP VP )\n",
      "17 ( Maria criticizes Bill , D NP VP )\n",
      "---------\n",
      "scan Bill\n",
      "0 ( , )\n",
      "1 ( Bill , NP )\n",
      "2 ( Bill , D NP )\n",
      "3 ( criticizes Bill , praises DP )\n",
      "4 ( criticizes Bill , cries DP )\n",
      "5 ( criticizes Bill , laughs DP )\n",
      "6 ( criticizes Bill , V DP VP )\n",
      "7 ( criticizes Bill , V DP CP )\n",
      "8 ( criticizes Bill , V DP PP )\n",
      "9 ( criticizes Bill , V VP )\n",
      "10 ( criticizes Bill , V CP )\n",
      "11 ( criticizes Bill , V PP )\n",
      "12 ( criticizes Bill , V )\n",
      "13 ( Maria criticizes Bill , Jose VP )\n",
      "14 ( Maria criticizes Bill , Sue VP )\n",
      "15 ( Maria criticizes Bill , Bill VP )\n",
      "16 ( Maria criticizes Bill , NP VP )\n",
      "17 ( Maria criticizes Bill , D NP VP )\n",
      "---------\n"
     ]
    },
    {
     "data": {
      "text/plain": [
       "True"
      ]
     },
     "execution_count": 58,
     "metadata": {},
     "output_type": "execute_result"
    }
   ],
   "source": [
    "recognize(g1,['Maria', 'criticizes', 'Bill'])"
   ]
  },
  {
   "cell_type": "markdown",
   "id": "ffc786ba-b35d-44bd-b774-3b31e5c39031",
   "metadata": {},
   "source": [
    "## Examples of tdstep\n",
    "`tdstep` maps a parser state to a list of parser states.  A parser state is a pair of a list of input strings, and a list of symbols that are the target for parsing."
   ]
  },
  {
   "cell_type": "markdown",
   "id": "e14a0579-5c82-4ea7-8ae8-2ba657423f12",
   "metadata": {},
   "source": [
    "### Scan step"
   ]
  },
  {
   "cell_type": "code",
   "execution_count": 8,
   "id": "76f889dc-d5fa-4fab-b888-0f0620744d06",
   "metadata": {},
   "outputs": [
    {
     "name": "stdout",
     "output_type": "stream",
     "text": [
      "scan Maria\n"
     ]
    },
    {
     "data": {
      "text/plain": [
       "[(['criticises', 'Bill'], ['VP'])]"
      ]
     },
     "execution_count": 8,
     "metadata": {},
     "output_type": "execute_result"
    }
   ],
   "source": [
    "tdstep(g1,(['Maria','criticises','Bill'],['Maria','VP']))"
   ]
  },
  {
   "cell_type": "markdown",
   "id": "b4654eac-30b3-4b6f-9d9a-1077df388fee",
   "metadata": {},
   "source": [
    "### Expand step"
   ]
  },
  {
   "cell_type": "code",
   "execution_count": 9,
   "id": "32fa3a7b-0374-4ee1-b2b3-2d985749ddce",
   "metadata": {},
   "outputs": [
    {
     "name": "stdout",
     "output_type": "stream",
     "text": [
      "expand S -> ['DP', 'VP']\n"
     ]
    },
    {
     "data": {
      "text/plain": [
       "[(['Maria', 'criticises', 'Bill'], ['DP', 'VP'])]"
      ]
     },
     "execution_count": 9,
     "metadata": {},
     "output_type": "execute_result"
    }
   ],
   "source": [
    "tdstep(g1,(['Maria','criticises','Bill'],['S']))"
   ]
  },
  {
   "cell_type": "code",
   "execution_count": 10,
   "id": "c666d656-58ff-431e-b27a-4c0894e3c8a7",
   "metadata": {},
   "outputs": [
    {
     "name": "stdout",
     "output_type": "stream",
     "text": [
      "expand DP -> ['D', 'NP']\n",
      "expand DP -> ['NP']\n",
      "expand DP -> ['Name']\n",
      "expand DP -> ['Pronoun']\n"
     ]
    },
    {
     "data": {
      "text/plain": [
       "[(['Maria', 'criticizes', 'Bill'], ['D', 'NP', 'VP']),\n",
       " (['Maria', 'criticizes', 'Bill'], ['NP', 'VP']),\n",
       " (['Maria', 'criticizes', 'Bill'], ['Name', 'VP']),\n",
       " (['Maria', 'criticizes', 'Bill'], ['Pronoun', 'VP'])]"
      ]
     },
     "execution_count": 10,
     "metadata": {},
     "output_type": "execute_result"
    }
   ],
   "source": [
    "tdstep(g1,(['Maria','criticizes','Bill'],['DP','VP']))"
   ]
  },
  {
   "cell_type": "code",
   "execution_count": 11,
   "id": "e6b51318-44e5-44bc-9193-8ea504eff0de",
   "metadata": {},
   "outputs": [
    {
     "name": "stdout",
     "output_type": "stream",
     "text": [
      "expand DP -> ['D', 'NP']\n",
      "expand DP -> ['NP']\n",
      "expand DP -> ['Name']\n",
      "expand DP -> ['Pronoun']\n"
     ]
    },
    {
     "data": {
      "text/plain": [
       "[(['criticizes', 'Bill'], ['D', 'NP', 'VP']),\n",
       " (['criticizes', 'Bill'], ['NP', 'VP']),\n",
       " (['criticizes', 'Bill'], ['Name', 'VP']),\n",
       " (['criticizes', 'Bill'], ['Pronoun', 'VP'])]"
      ]
     },
     "execution_count": 11,
     "metadata": {},
     "output_type": "execute_result"
    }
   ],
   "source": [
    "tdstep(g1,(['criticizes','Bill'],['DP','VP']))"
   ]
  },
  {
   "cell_type": "markdown",
   "id": "7c78cd62-efff-4cde-b55f-c93c252fca8d",
   "metadata": {},
   "source": [
    "## Parsing\n",
    "Return a representation of the tree, instead of True"
   ]
  },
  {
   "cell_type": "code",
   "execution_count": 59,
   "id": "0e7a37f3-bf58-4b99-b0c1-f855af0369ed",
   "metadata": {},
   "outputs": [],
   "source": [
    "from tdp import *"
   ]
  },
  {
   "cell_type": "code",
   "execution_count": 60,
   "id": "adc1685e-49d9-47ae-9894-9d31fef235e5",
   "metadata": {},
   "outputs": [
    {
     "name": "stdout",
     "output_type": "stream",
     "text": [
      "ll= [['S', 'DP', 'VP'], ['DP', 'D', 'NP'], ['D', 'the'], ['NP', 'N'], ['N', 'student'], ['VP', 'V', 'DP'], ['V', 'praises'], ['DP', 'D', 'NP'], ['D', 'the'], ['NP', 'N'], ['N', 'beer']]\n"
     ]
    },
    {
     "name": "stdout",
     "output_type": "stream",
     "text": [
      "another?  y\n"
     ]
    },
    {
     "data": {
      "text/plain": [
       "'False'"
      ]
     },
     "execution_count": 60,
     "metadata": {},
     "output_type": "execute_result"
    }
   ],
   "source": [
    "parse(g1,['the','student','praises','the','beer'])"
   ]
  },
  {
   "cell_type": "code",
   "execution_count": null,
   "id": "f61413f4-2fce-4164-a0b6-6db5c0b89a10",
   "metadata": {},
   "outputs": [],
   "source": []
  }
 ],
 "metadata": {
  "kernelspec": {
   "display_name": "CompLing",
   "language": "python",
   "name": "python3"
  },
  "language_info": {
   "codemirror_mode": {
    "name": "ipython",
    "version": 3
   },
   "file_extension": ".py",
   "mimetype": "text/x-python",
   "name": "python",
   "nbconvert_exporter": "python",
   "pygments_lexer": "ipython3",
   "version": "3.10.9"
  },
  "vscode": {
   "interpreter": {
    "hash": "6efd08fb7d61c09f4aaea9e8ceb0bf572fefe064d17a4cedc1b735c081f854a6"
   }
  }
 },
 "nbformat": 4,
 "nbformat_minor": 5
}
