{
 "cells": [
  {
   "attachments": {},
   "cell_type": "markdown",
   "metadata": {},
   "source": [
    "Problem set 1b\n",
    "Computational Linguistics\n",
    "Fall 2023\n",
    "\n",
    "This problem set involves working concretely with grammars, parsing, and the associated data structures in NLTK.\n"
   ]
  },
  {
   "cell_type": "code",
   "execution_count": 1,
   "metadata": {},
   "outputs": [],
   "source": [
    "import nltk\n",
    "from nltk.tree import Tree"
   ]
  },
  {
   "cell_type": "markdown",
   "metadata": {},
   "source": [
    "\n",
    "1. In NLTK, create and display graphically Xbar trees in the style of Lecture 1\n",
    "and Lecture Note 1 for the following three sentences.  Define the trees ta, tb,\n",
    "and t3 and display them inline in your notebook.  In case of ambiguity, choose\n",
    "the semantically plausible tree shape.\n",
    "\n",
    "a. the title on every book under the table will have faded\n",
    "\n",
    "b. she wondered whether he knew that they believed they admired Keisha\n",
    "\n",
    "c. every eligeble candidate told a presiding supervisor about it "
   ]
  },
  {
   "cell_type": "code",
   "execution_count": 2,
   "metadata": {},
   "outputs": [],
   "source": [
    "t1 = Tree.fromstring(\"\\\n",
    "    (S (NP \\\n",
    "        (NP (DT the) (NN title))\\\n",
    "        (PP (IN on) (NP\\\n",
    "            (DT every)\\\n",
    "            (NP (NN book) (PP\\\n",
    "                (IN under) (NP (DT the) (NN table))))))) \\\n",
    "       (VP (MD will) (VP (VB have) (VBN faded) )))\\\n",
    "    \")"
   ]
  },
  {
   "cell_type": "code",
   "execution_count": 3,
   "metadata": {},
   "outputs": [
    {
     "name": "stdout",
     "output_type": "stream",
     "text": [
      "(S\n",
      "  (NP\n",
      "    (NP (DT the) (NN title))\n",
      "    (PP\n",
      "      (IN on)\n",
      "      (NP\n",
      "        (DT every)\n",
      "        (NP (NN book) (PP (IN under) (NP (DT the) (NN table)))))))\n",
      "  (VP (MD will) (VP (VB have) (VBN faded))))\n"
     ]
    }
   ],
   "source": [
    "print(t1)\n",
    "t1.draw()"
   ]
  },
  {
   "attachments": {},
   "cell_type": "markdown",
   "metadata": {},
   "source": [
    "![t1](t1.png)"
   ]
  },
  {
   "cell_type": "code",
   "execution_count": 4,
   "metadata": {},
   "outputs": [],
   "source": [
    "t2_s1 = Tree.fromstring(\"\\\n",
    "    (S (NP (PRP they))\\\n",
    "         (VP (VBD admired) (NP (NNP Keisha) )))\")\n",
    "t2_s2 = Tree.fromstring(f\"\\\n",
    "    (S (NP (PRP they))\\\n",
    "         (VP (VBD believed) (SBAR {t2_s1} )))\")\n",
    "t2_s3 = Tree.fromstring(f\"\\\n",
    "    (S (NP (PRP he))\\\n",
    "            (VP (VBD knew) (SBAR (IN that) {t2_s2} )))\")\n",
    "t2 = Tree.fromstring(f\"\\\n",
    "    (S (NP (PRP She))\\\n",
    "            (VP (VBD wondered) (SBAR (IN whether) {t2_s3} )))\")"
   ]
  },
  {
   "cell_type": "code",
   "execution_count": 5,
   "metadata": {},
   "outputs": [
    {
     "name": "stdout",
     "output_type": "stream",
     "text": [
      "(S\n",
      "  (NP (PRP She))\n",
      "  (VP\n",
      "    (VBD wondered)\n",
      "    (SBAR\n",
      "      (IN whether)\n",
      "      (S\n",
      "        (NP (PRP he))\n",
      "        (VP\n",
      "          (VBD knew)\n",
      "          (SBAR\n",
      "            (IN that)\n",
      "            (S\n",
      "              (NP (PRP they))\n",
      "              (VP\n",
      "                (VBD believed)\n",
      "                (SBAR\n",
      "                  (S\n",
      "                    (NP (PRP they))\n",
      "                    (VP (VBD admired) (NP (NNP Keisha)))))))))))))\n"
     ]
    }
   ],
   "source": [
    "print(t2)\n",
    "t2.draw()"
   ]
  },
  {
   "attachments": {},
   "cell_type": "markdown",
   "metadata": {},
   "source": [
    "![t2](t2.png)"
   ]
  },
  {
   "cell_type": "code",
   "execution_count": 6,
   "metadata": {},
   "outputs": [],
   "source": [
    "np = Tree.fromstring(\"\\\n",
    "    (NP (DT every) (JJ eligible) (NN candidate))\")\n",
    "vp = Tree.fromstring(\"\\\n",
    "    (VP (VBD told) \\\n",
    "        (NP (DT a) (JJ presiding) (NN supervisor))\\\n",
    "        (PP (IN about) (NP (PRN it)) ))\")\n",
    "t3 = Tree.fromstring(f\"\\\n",
    "    (S {np} {vp} )\")"
   ]
  },
  {
   "cell_type": "code",
   "execution_count": 7,
   "metadata": {},
   "outputs": [
    {
     "name": "stdout",
     "output_type": "stream",
     "text": [
      "(S\n",
      "  (NP (DT every) (JJ eligible) (NN candidate))\n",
      "  (VP\n",
      "    (VBD told)\n",
      "    (NP (DT a) (JJ presiding) (NN supervisor))\n",
      "    (PP (IN about) (NP (PRN it)))))\n"
     ]
    }
   ],
   "source": [
    "print(t3)\n",
    "t3.draw()"
   ]
  },
  {
   "attachments": {},
   "cell_type": "markdown",
   "metadata": {},
   "source": [
    "![t3](t3.png)"
   ]
  },
  {
   "attachments": {},
   "cell_type": "markdown",
   "metadata": {},
   "source": [
    "\n",
    "2. Grammar of transitive verbs and relative clauses.\n",
    "\n",
    "The following are transitive sentences.\n",
    "\n",
    "the electrician repaired the router\n",
    "\n",
    "the plumber damaged the sink\n",
    "\n",
    "the plumber admired the electrician\n",
    "\n",
    "In the following, what are called subject relative clauses have been added to one of the NPs.\n",
    "This means that the relative pronoun \"who\" or \"that\" fills the subject position of\n",
    "the embedded verb.\n",
    "\n",
    "the electrician who admired the plumber repaired the router\n",
    "\n",
    "the plumber admired the electrician who damaged the sink\n",
    "\n",
    "the plumber repaired the sink that admired the router\n",
    "\n",
    "In the following, what are called object relative clauses have been added to one of the NPs.\n",
    "This means that the relative pronoun fills the object position of the embedded transitive verb.\n",
    "\n",
    "the plumber who the electrician admires damaged the sink\n",
    "\n",
    "the plumber damaged the sink that the electrician repaired.\n",
    "\n",
    "More relative clauses can be added.  In the second example, there are two relative\n",
    "on the noun \"electrician\".\n",
    "\n",
    "the plumber who the electrician admires damaged the sink that the plumber repaired\n",
    "\n",
    "the plumber admires the electrician who repaired the sink who the plumber admires"
   ]
  },
  {
   "cell_type": "markdown",
   "metadata": {},
   "source": [
    "\n",
    "a. In NLTK, write a CFG in ***Chomsky normal form*** for sentences with this pattern. The terminal words should be the ones\n",
    "that are seen above. Name the grammar g2.\n",
    "\n",
    "Start with the following grammar, and add productions. In the symbols, the character 'a' indicates animate,\n",
    "and the character 'i' indicates inanimate.\n",
    "\n",
    "S -> NPa VP\n",
    "S -> NPi VP\n",
    "V -> 'admired' | 'envied'\n",
    "V -> 'damaged' | 'repaired'\n",
    "Na -> 'plumber' | 'electrician' \n",
    "Ni -> 'router' | 'sink' \n",
    "THE -> 'the'\n",
    "NPa -> THE Na\n",
    "NPi -> THE Ni\n",
    "VP -> V NPa\n",
    "VP -> V NPi\n",
    "WHO -> 'who'\n",
    "THAT -> 'that'\n",
    "\n",
    "\n",
    "The grammar should impose the constraint that \"electrician\" and \"plumber\" go with the relative pronoun \"who\" and\n",
    "not the relative pronoun \"that\", while \"sink\" and \"router\" go with the relative pronoun \"that\" and not the\n",
    "relative pronoun \"who\". Use the distinction between 'a' and 'i' to impose this.\n",
    "As came up in class, this contraint is arguably not really valid, but assume it.\n",
    "\n",
    "*[NP the sink who the electrician damaged]\n",
    "*[NP the electrician that damaged the sink]\n",
    "\n",
    "Assume that semantically odd sentences like the following are ok.\n",
    "\n",
    "the sink admires the router\n",
    "the router repaired the plumber\n",
    "the plumber repaired the electrician\n"
   ]
  },
  {
   "cell_type": "code",
   "execution_count": 9,
   "metadata": {},
   "outputs": [],
   "source": [
    "x0 = \"\"\" S -> NPa VP\n",
    "S -> NPi VP\n",
    "V -> 'admired' | 'envied'\n",
    "V -> 'damaged' | 'repaired'\n",
    "Na -> 'plumber' | 'electrician' \n",
    "Ni -> 'router' | 'sink' \n",
    "THE -> 'the'\n",
    "NPa -> THE Na\n",
    "NPi -> THE Ni\n",
    "VP -> V NPa\n",
    "VP -> V NPi\n",
    "WHO -> 'who'\n",
    "THAT -> 'that'\n",
    "\"\"\""
   ]
  },
  {
   "cell_type": "code",
   "execution_count": 51,
   "metadata": {},
   "outputs": [
    {
     "name": "stdout",
     "output_type": "stream",
     "text": [
      "Grammar with 25 productions (start state = S)\n",
      "    S -> NPa VP\n",
      "    S -> NPi VP\n",
      "    V -> 'admired'\n",
      "    V -> 'envied'\n",
      "    V -> 'damaged'\n",
      "    V -> 'repaired'\n",
      "    Na -> 'plumber'\n",
      "    Na -> 'electrician'\n",
      "    Ni -> 'router'\n",
      "    Ni -> 'sink'\n",
      "    THE -> 'the'\n",
      "    NPa -> THE Na\n",
      "    NPi -> THE Ni\n",
      "    VP -> V NPa\n",
      "    VP -> V NPi\n",
      "    WHO -> 'who'\n",
      "    THAT -> 'that'\n",
      "    NPa -> NPa WHO VP\n",
      "    NPi -> NPi THAT VP\n",
      "    V -> 'admires'\n",
      "    V -> 'envies'\n",
      "    V -> 'damages'\n",
      "    V -> 'repairs'\n",
      "    NPa -> NPa WHO NP V\n",
      "    NPi -> NPi THAT NP V\n"
     ]
    }
   ],
   "source": [
    "x2 = x0 + \"\"\"\n",
    "NPa -> NPa WHO VP\n",
    "NPi -> NPi THAT VP\n",
    "\n",
    "V -> 'admires' | 'envies'\n",
    "V -> 'damages' | 'repairs'\n",
    "\n",
    "NPa -> NPa WHO NP V\n",
    "NPi -> NPi THAT NP V\n",
    "\"\"\"\n",
    "g2 = nltk.CFG.fromstring(x2)\n",
    "print(g2)"
   ]
  },
  {
   "attachments": {},
   "cell_type": "markdown",
   "metadata": {},
   "source": [
    "\n",
    "3. Consider this sentence. Don't worry about the semantic implausibility.\n",
    "\n",
    "the the router that repaired the sink that the plumber admired damaged the router that the plumber repaired\n",
    "\n",
    "Using your grammar g2, define the following in Python.\n",
    "\n",
    " a list of strings sb that corresponds to the sentence above\n",
    "\n",
    " a parser p2 based on grammar g2\n",
    "\n",
    " a generator gb optained with p2 operating on sb\n",
    "\n",
    " a list of trees lb corresponding to gb (if you exhaust the generator gb in defining lb, redefine gb).\n",
    "  The elements should be NLTK trees.\n",
    "\n",
    " the number nb of trees in lb\n"
   ]
  },
  {
   "cell_type": "code",
   "execution_count": 56,
   "metadata": {},
   "outputs": [],
   "source": [
    "sent = \"the sink that the electrician repaired\"\n",
    "s1 = sent.split()\n",
    "parser = nltk.ChartParser(g2)\n",
    "gen1 = parser.parse(s1)\n",
    "for t in gen1: print(t)"
   ]
  },
  {
   "cell_type": "markdown",
   "metadata": {},
   "source": [
    "\n",
    "4.  sent9.txt (supplied) is our list of sentences of lenght 9 that are in the\n",
    "relative clause pattern.\n",
    "\n",
    "Verify that your grammar g2 finds a tree for each of the sentences\n"
   ]
  },
  {
   "cell_type": "markdown",
   "metadata": {},
   "source": [
    "\n",
    "5. Call a grammar symbol x nullable in grammar g if there some tree licensed by\n",
    "g that has the terminal string [] (the empty list) and has the root label x.\n",
    "\n",
    "a. In Stabler's grammar g1 (see g1.py, supplied), the symbol 'C' is nullable.\n",
    "Show the tree that verifies nullability.\n",
    "\n",
    "b. What are the nullable symbols in grammar gn (supplied)?\n",
    "Show the trees that verify nullability.\n",
    "\n",
    "c. Describe in words a definition of 'nullable in g' along these lines:\n",
    "\n",
    "    symbol x is nullable in g iff there is a production x -> rhs in g such that ...\n",
    "\n",
    "d. Define in python a function 'nullable' which when appled to a grammar in NLTK\n",
    "format returns the set of nullable symbols.\n",
    "\n",
    "Hint: start with the assumption that no symbols are nullable, then iteratively\n",
    "search for nullable symbols by looking at the productions. A skeleton that does\n",
    "something silly is supplied.\n",
    "\n",
    "e. Test your function on some sample grammars including gn."
   ]
  },
  {
   "cell_type": "code",
   "execution_count": null,
   "metadata": {},
   "outputs": [],
   "source": []
  }
 ],
 "metadata": {
  "kernelspec": {
   "display_name": "CompLing",
   "language": "python",
   "name": "python3"
  },
  "language_info": {
   "codemirror_mode": {
    "name": "ipython",
    "version": 3
   },
   "file_extension": ".py",
   "mimetype": "text/x-python",
   "name": "python",
   "nbconvert_exporter": "python",
   "pygments_lexer": "ipython3",
   "version": "3.10.9"
  },
  "orig_nbformat": 4,
  "vscode": {
   "interpreter": {
    "hash": "6efd08fb7d61c09f4aaea9e8ceb0bf572fefe064d17a4cedc1b735c081f854a6"
   }
  }
 },
 "nbformat": 4,
 "nbformat_minor": 2
}
