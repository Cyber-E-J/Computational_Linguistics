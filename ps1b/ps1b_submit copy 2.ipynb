{
 "cells": [
  {
   "attachments": {},
   "cell_type": "markdown",
   "metadata": {},
   "source": [
    "Problem set 1b\n",
    "Computational Linguistics\n",
    "Fall 2023\n",
    "\n",
    "This problem set involves working concretely with grammars, parsing, and the associated data structures in NLTK.\n"
   ]
  },
  {
   "cell_type": "code",
   "execution_count": 1,
   "metadata": {},
   "outputs": [],
   "source": [
    "import nltk\n",
    "from nltk.tree import Tree"
   ]
  },
  {
   "cell_type": "markdown",
   "metadata": {},
   "source": [
    "\n",
    "1. In NLTK, create and display graphically Xbar trees in the style of Lecture 1\n",
    "and Lecture Note 1 for the following three sentences.  Define the trees ta, tb,\n",
    "and t3 and display them inline in your notebook.  In case of ambiguity, choose\n",
    "the semantically plausible tree shape.\n",
    "\n",
    "a. the title on every book under the table will have faded\n",
    "\n",
    "b. she wondered whether he knew that they believed they admired Keisha\n",
    "\n",
    "c. every eligeble candidate told a presiding supervisor about it "
   ]
  },
  {
   "cell_type": "code",
   "execution_count": 2,
   "metadata": {},
   "outputs": [],
   "source": [
    "t1 = Tree.fromstring(\"\\\n",
    "    (S (NP \\\n",
    "        (NP (DT the) (NN title))\\\n",
    "        (PP (IN on) (NP\\\n",
    "            (DT every)\\\n",
    "            (NP (NN book) (PP\\\n",
    "                (IN under) (NP (DT the) (NN table))))))) \\\n",
    "       (VP (MD will) (VP (VB have) (VBN faded) )))\\\n",
    "    \")"
   ]
  },
  {
   "cell_type": "code",
   "execution_count": 3,
   "metadata": {},
   "outputs": [
    {
     "name": "stdout",
     "output_type": "stream",
     "text": [
      "(S\n",
      "  (NP\n",
      "    (NP (DT the) (NN title))\n",
      "    (PP\n",
      "      (IN on)\n",
      "      (NP\n",
      "        (DT every)\n",
      "        (NP (NN book) (PP (IN under) (NP (DT the) (NN table)))))))\n",
      "  (VP (MD will) (VP (VB have) (VBN faded))))\n"
     ]
    }
   ],
   "source": [
    "print(t1)\n",
    "t1.draw()"
   ]
  },
  {
   "attachments": {},
   "cell_type": "markdown",
   "metadata": {},
   "source": [
    "![t1](t1.png)"
   ]
  },
  {
   "cell_type": "code",
   "execution_count": 4,
   "metadata": {},
   "outputs": [],
   "source": [
    "t2_s1 = Tree.fromstring(\"\\\n",
    "    (S (NP (PRP they))\\\n",
    "         (VP (VBD admired) (NP (NNP Keisha) )))\")\n",
    "t2_s2 = Tree.fromstring(f\"\\\n",
    "    (S (NP (PRP they))\\\n",
    "         (VP (VBD believed) (SBAR {t2_s1} )))\")\n",
    "t2_s3 = Tree.fromstring(f\"\\\n",
    "    (S (NP (PRP he))\\\n",
    "            (VP (VBD knew) (SBAR (IN that) {t2_s2} )))\")\n",
    "t2 = Tree.fromstring(f\"\\\n",
    "    (S (NP (PRP She))\\\n",
    "            (VP (VBD wondered) (SBAR (IN whether) {t2_s3} )))\")"
   ]
  },
  {
   "cell_type": "code",
   "execution_count": 5,
   "metadata": {},
   "outputs": [
    {
     "name": "stdout",
     "output_type": "stream",
     "text": [
      "(S\n",
      "  (NP (PRP She))\n",
      "  (VP\n",
      "    (VBD wondered)\n",
      "    (SBAR\n",
      "      (IN whether)\n",
      "      (S\n",
      "        (NP (PRP he))\n",
      "        (VP\n",
      "          (VBD knew)\n",
      "          (SBAR\n",
      "            (IN that)\n",
      "            (S\n",
      "              (NP (PRP they))\n",
      "              (VP\n",
      "                (VBD believed)\n",
      "                (SBAR\n",
      "                  (S\n",
      "                    (NP (PRP they))\n",
      "                    (VP (VBD admired) (NP (NNP Keisha)))))))))))))\n"
     ]
    }
   ],
   "source": [
    "print(t2)\n",
    "t2.draw()"
   ]
  },
  {
   "attachments": {},
   "cell_type": "markdown",
   "metadata": {},
   "source": [
    "![t2](t2.png)"
   ]
  },
  {
   "cell_type": "code",
   "execution_count": 6,
   "metadata": {},
   "outputs": [],
   "source": [
    "np = Tree.fromstring(\"\\\n",
    "    (NP (DT every) (JJ eligible) (NN candidate))\")\n",
    "vp = Tree.fromstring(\"\\\n",
    "    (VP (VBD told) \\\n",
    "        (NP (DT a) (JJ presiding) (NN supervisor))\\\n",
    "        (PP (IN about) (NP (PRN it)) ))\")\n",
    "t3 = Tree.fromstring(f\"\\\n",
    "    (S {np} {vp} )\")"
   ]
  },
  {
   "cell_type": "code",
   "execution_count": 7,
   "metadata": {},
   "outputs": [
    {
     "name": "stdout",
     "output_type": "stream",
     "text": [
      "(S\n",
      "  (NP (DT every) (JJ eligible) (NN candidate))\n",
      "  (VP\n",
      "    (VBD told)\n",
      "    (NP (DT a) (JJ presiding) (NN supervisor))\n",
      "    (PP (IN about) (NP (PRN it)))))\n"
     ]
    }
   ],
   "source": [
    "print(t3)\n",
    "t3.draw()"
   ]
  },
  {
   "attachments": {},
   "cell_type": "markdown",
   "metadata": {},
   "source": [
    "![t3](t3.png)"
   ]
  },
  {
   "attachments": {},
   "cell_type": "markdown",
   "metadata": {},
   "source": [
    "\n",
    "2. Grammar of transitive verbs and relative clauses.\n",
    "\n",
    "The following are transitive sentences.\n",
    "\n",
    "the electrician repaired the router\n",
    "\n",
    "the plumber damaged the sink\n",
    "\n",
    "the plumber admired the electrician\n",
    "\n",
    "In the following, what are called subject relative clauses have been added to one of the NPs.\n",
    "This means that the relative pronoun \"who\" or \"that\" fills the subject position of\n",
    "the embedded verb.\n",
    "\n",
    "the electrician who admired the plumber repaired the router\n",
    "\n",
    "the plumber admired the electrician who damaged the sink\n",
    "\n",
    "the plumber repaired the sink that admired the router\n",
    "\n",
    "In the following, what are called object relative clauses have been added to one of the NPs.\n",
    "This means that the relative pronoun fills the object position of the embedded transitive verb.\n",
    "\n",
    "the plumber who the electrician admires damaged the sink\n",
    "\n",
    "the plumber damaged the sink that the electrician repaired.\n",
    "\n",
    "More relative clauses can be added.  In the second example, there are two relative\n",
    "on the noun \"electrician\".\n",
    "\n",
    "the plumber who the electrician admires damaged the sink that the plumber repaired\n",
    "\n",
    "the plumber admires the electrician who repaired the sink who the plumber admires"
   ]
  },
  {
   "cell_type": "markdown",
   "metadata": {},
   "source": [
    "\n",
    "a. In NLTK, write a CFG in ***Chomsky normal form*** for sentences with this pattern. The terminal words should be the ones\n",
    "that are seen above. Name the grammar g2.\n",
    "\n",
    "Start with the following grammar, and add productions. In the symbols, the character 'a' indicates animate,\n",
    "and the character 'i' indicates inanimate.\n",
    "\n",
    "S -> NPa VP\n",
    "S -> NPi VP\n",
    "V -> 'admired' | 'envied'\n",
    "V -> 'damaged' | 'repaired'\n",
    "Na -> 'plumber' | 'electrician' \n",
    "Ni -> 'router' | 'sink' \n",
    "THE -> 'the'\n",
    "NPa -> THE Na\n",
    "NPi -> THE Ni\n",
    "VP -> V NPa\n",
    "VP -> V NPi\n",
    "WHO -> 'who'\n",
    "THAT -> 'that'\n",
    "\n",
    "\n",
    "The grammar should impose the constraint that \"electrician\" and \"plumber\" go with the relative pronoun \"who\" and\n",
    "not the relative pronoun \"that\", while \"sink\" and \"router\" go with the relative pronoun \"that\" and not the\n",
    "relative pronoun \"who\". Use the distinction between 'a' and 'i' to impose this.\n",
    "As came up in class, this contraint is arguably not really valid, but assume it.\n",
    "\n",
    "*[NP the sink who the electrician damaged]\n",
    "*[NP the electrician that damaged the sink]\n",
    "\n",
    "Assume that semantically odd sentences like the following are ok.\n",
    "\n",
    "the sink admires the router\n",
    "the router repaired the plumber\n",
    "the plumber repaired the electrician\n"
   ]
  },
  {
   "cell_type": "code",
   "execution_count": 8,
   "metadata": {},
   "outputs": [],
   "source": [
    "x0 = \"\"\" S -> NPa VP\n",
    "S -> NPi VP\n",
    "V -> 'admired' | 'envied'\n",
    "V -> 'damaged' | 'repaired'\n",
    "Na -> 'plumber' | 'electrician' \n",
    "Ni -> 'router' | 'sink' \n",
    "THE -> 'the'\n",
    "NPa -> THE Na\n",
    "NPi -> THE Ni\n",
    "VP -> V NPa\n",
    "VP -> V NPi\n",
    "WHO -> 'who'\n",
    "THAT -> 'that'\n",
    "\"\"\""
   ]
  },
  {
   "cell_type": "code",
   "execution_count": 9,
   "metadata": {},
   "outputs": [
    {
     "name": "stdout",
     "output_type": "stream",
     "text": [
      "Grammar with 25 productions (start state = S)\n",
      "    S -> NPa VP\n",
      "    S -> NPi VP\n",
      "    V -> 'admired'\n",
      "    V -> 'envied'\n",
      "    V -> 'damaged'\n",
      "    V -> 'repaired'\n",
      "    Na -> 'plumber'\n",
      "    Na -> 'electrician'\n",
      "    Ni -> 'router'\n",
      "    Ni -> 'sink'\n",
      "    THE -> 'the'\n",
      "    NPa -> THE Na\n",
      "    NPi -> THE Ni\n",
      "    VP -> V NPa\n",
      "    VP -> V NPi\n",
      "    WHO -> 'who'\n",
      "    THAT -> 'that'\n",
      "    NPa -> NPa WHO VP\n",
      "    NPi -> NPi THAT VP\n",
      "    V -> 'admires'\n",
      "    V -> 'envies'\n",
      "    V -> 'damages'\n",
      "    V -> 'repairs'\n",
      "    NPa -> NPa WHO NPa V\n",
      "    NPi -> NPi THAT NPa V\n"
     ]
    }
   ],
   "source": [
    "x2 = x0 + \"\"\"\n",
    "NPa -> NPa WHO VP\n",
    "NPi -> NPi THAT VP\n",
    "\n",
    "V -> 'admires' | 'envies'\n",
    "V -> 'damages' | 'repairs'\n",
    "\n",
    "NPa -> NPa WHO NPa V\n",
    "NPi -> NPi THAT NPa V\n",
    "\"\"\"\n",
    "g2 = nltk.CFG.fromstring(x2)\n",
    "print(g2)"
   ]
  },
  {
   "attachments": {},
   "cell_type": "markdown",
   "metadata": {},
   "source": [
    "\n",
    "3. Consider this sentence. Don't worry about the semantic implausibility.\n",
    "\n",
    "the the router that repaired the sink that the plumber admired damaged the router that the plumber repaired\n",
    "\n",
    "Using your grammar g2, define the following in Python.\n",
    "\n",
    " a list of strings sb that corresponds to the sentence above\n",
    "\n",
    " a parser p2 based on grammar g2\n",
    "\n",
    " a generator gb optained with p2 operating on sb\n",
    "\n",
    " a list of trees lb corresponding to gb (if you exhaust the generator gb in defining lb, redefine gb).\n",
    "  The elements should be NLTK trees.\n",
    "\n",
    " the number nb of trees in lb\n"
   ]
  },
  {
   "cell_type": "code",
   "execution_count": 10,
   "metadata": {},
   "outputs": [],
   "source": [
    "parser = nltk.ChartParser(g2)"
   ]
  },
  {
   "cell_type": "code",
   "execution_count": 11,
   "metadata": {},
   "outputs": [
    {
     "name": "stdout",
     "output_type": "stream",
     "text": [
      "(S\n",
      "  (NPa (THE the) (Na plumber))\n",
      "  (VP\n",
      "    (V admires)\n",
      "    (NPa\n",
      "      (NPa\n",
      "        (NPa (THE the) (Na electrician))\n",
      "        (WHO who)\n",
      "        (VP (V repaired) (NPi (THE the) (Ni sink))))\n",
      "      (WHO who)\n",
      "      (NPa (THE the) (Na plumber))\n",
      "      (V admires))))\n"
     ]
    }
   ],
   "source": [
    "sent = \"the plumber admires the electrician who repaired the sink who the plumber admires\"\n",
    "s1 = sent.split()\n",
    "gen1 = parser.parse(s1)\n",
    "for t in gen1: print(t)"
   ]
  },
  {
   "cell_type": "markdown",
   "metadata": {},
   "source": [
    "\n",
    "4.  sent9.txt (supplied) is our list of sentences of lenght 9 that are in the\n",
    "relative clause pattern.\n",
    "\n",
    "Verify that your grammar g2 finds a tree for each of the sentences\n"
   ]
  },
  {
   "cell_type": "code",
   "execution_count": 12,
   "metadata": {},
   "outputs": [
    {
     "name": "stdout",
     "output_type": "stream",
     "text": [
      "All sentences parsed successfully\n"
     ]
    }
   ],
   "source": [
    "sents = open(\"sent9.txt\", \"r\").read().splitlines()\n",
    "try:\n",
    "    for sent in sents:\n",
    "        s1 = sent.split()\n",
    "        gen1 = parser.parse(s1)     \n",
    "except:\n",
    "    print(f\"Error in sentence: {sent}\")\n",
    "else:\n",
    "    print(\"All sentences parsed successfully\")\n",
    "    "
   ]
  },
  {
   "attachments": {},
   "cell_type": "markdown",
   "metadata": {},
   "source": [
    "\n",
    "5. Call a grammar symbol x nullable in grammar g if there some tree licensed by\n",
    "g that has the terminal string [] (the empty list) and has the root label x.\n"
   ]
  },
  {
   "cell_type": "code",
   "execution_count": 13,
   "metadata": {},
   "outputs": [],
   "source": [
    "g1_list = [('S',['DP','VP']), # categorial rules\n",
    "      ('DP',['D','NP']),\n",
    "      ('DP',['NP']),\n",
    "      ('DP',['Name']),\n",
    "      ('DP',['Pronoun']),\n",
    "      ('NP',['N']),\n",
    "      ('NP',['N','PP']),\n",
    "      ('VP',['V']),\n",
    "      ('VP',['V','PP']),\n",
    "      ('VP',['V','CP']),\n",
    "      ('VP',['V','VP']),\n",
    "      ('VP',['V','DP','PP']),\n",
    "      ('VP',['V','DP','CP']),\n",
    "      ('VP',['V','DP','VP']),\n",
    "      ('VP',['V','DP']),\n",
    "      ('VP',['AdvP','VP']),\n",
    "      ('PP',['P']),\n",
    "      ('PP',['P','DP']),\n",
    "      ('AP',['A']),\n",
    "      ('AP',['A','PP']),\n",
    "      ('CP',['C','S']),\n",
    "      ('AdvP',['Adv']),\n",
    "      ('NP',['AP','NP']),\n",
    "      ('AP',['AdvP','AP']),\n",
    "      ('D',['the']), # now the lexical rules\n",
    "      ('D',['a']),\n",
    "      ('D',['some']),\n",
    "      ('D',['every']),\n",
    "      ('D',['one']),\n",
    "      ('D',['two']),\n",
    "      ('A',['gentle']),\n",
    "      ('A',['clear']),\n",
    "      ('A',['honest']),\n",
    "      ('A',['compassionate']),\n",
    "      ('A',['brave']),\n",
    "      ('A',['kind']),\n",
    "      ('N',['student']),\n",
    "      ('N',['teacher']),\n",
    "      ('N',['city']),\n",
    "      ('N',['university']),\n",
    "      ('N',['beer']),\n",
    "      ('N',['wine']),\n",
    "      ('V',['laughs']),\n",
    "      ('V',['cries']),\n",
    "      ('V',['praises']),\n",
    "      ('V',['criticizes']),\n",
    "      ('V',['says']),\n",
    "      ('V',['knows']),\n",
    "      ('Adv',['happily']),\n",
    "      ('Adv',['sadly']),\n",
    "      ('Adv',['impartially']),\n",
    "      ('Adv',['generously']),\n",
    "      ('Name',['Bill']),\n",
    "      ('Name',['Sue']),\n",
    "      ('Name',['Jose']),\n",
    "      ('Name',['Maria']),\n",
    "      ('Name',['Presidents','Day']),\n",
    "      ('Name',['Tuesday']),\n",
    "      ('Pronoun',['he']),\n",
    "      ('Pronoun',['she']),\n",
    "      ('Pronoun',['it']),\n",
    "      ('Pronoun',['him']),\n",
    "      ('Pronoun',['her']),\n",
    "      ('P',['in']),\n",
    "      ('P',['on']),\n",
    "      ('P',['with']),\n",
    "      ('P',['by']),\n",
    "      ('P',['to']),\n",
    "      ('P',['from']),\n",
    "      ('C',['that']),\n",
    "      ('C',[]),\n",
    "      ('C',['whether']),\n",
    "      ('Coord',['and']),\n",
    "      ('Coord',['or']),\n",
    "      ('Coord',['but'])]\n",
    "\n",
    "import td"
   ]
  },
  {
   "attachments": {},
   "cell_type": "markdown",
   "metadata": {},
   "source": [
    "\n",
    "a. In Stabler's grammar g1 (see g1.py, supplied), the symbol 'C' is nullable.\n",
    "Show the tree that verifies nullability.\n"
   ]
  },
  {
   "cell_type": "code",
   "execution_count": 14,
   "metadata": {},
   "outputs": [
    {
     "name": "stdout",
     "output_type": "stream",
     "text": [
      "(S\n",
      "  (DP (Name Bill))\n",
      "  (VP (V knows) (CP (C ) (S (DP (Name Sue)) (VP (V cries))))))\n"
     ]
    }
   ],
   "source": [
    "t5a_s = Tree.fromstring(\"\\\n",
    "    (S (DP (Name Sue)) (VP (V cries)))\")\n",
    "t5a = Tree.fromstring(f\"\\\n",
    "    (S (DP (Name Bill)) (VP (V knows) (CP (C) {t5a_s} )))\")\n",
    "print(t5a)\n",
    "t5a.draw()"
   ]
  },
  {
   "attachments": {},
   "cell_type": "markdown",
   "metadata": {},
   "source": [
    "![t5a](t5a.png)"
   ]
  },
  {
   "attachments": {},
   "cell_type": "markdown",
   "metadata": {},
   "source": [
    "\n",
    "b. What are the nullable symbols in grammar gn (supplied)?\n",
    "Show the trees that verify nullability.\n"
   ]
  },
  {
   "cell_type": "code",
   "execution_count": 15,
   "metadata": {},
   "outputs": [],
   "source": [
    "xn = \"\"\" \n",
    "S -> A S\n",
    "S -> B S\n",
    "S -> C S\n",
    "S -> C\n",
    "A -> 'a'\n",
    "A ->\n",
    "B -> 'b'\n",
    "C -> 'c'\n",
    "B -> A A\n",
    "\"\"\""
   ]
  },
  {
   "attachments": {},
   "cell_type": "markdown",
   "metadata": {},
   "source": [
    "symbol A, B are nullable"
   ]
  },
  {
   "cell_type": "code",
   "execution_count": 16,
   "metadata": {},
   "outputs": [
    {
     "name": "stdout",
     "output_type": "stream",
     "text": [
      "(S (A ) (S (C c)))\n",
      "(S (B (A ) (A )) (S (C c)))\n"
     ]
    }
   ],
   "source": [
    "t5b_1 = Tree.fromstring(\"\\\n",
    "    (S (A ) (S (C c)))\")\n",
    "print(t5b_1)\n",
    "t5b_1.draw()\n",
    "\n",
    "t5b_2 = Tree.fromstring(\"\\\n",
    "    (S (B (A ) (A )) (S (C c)))\")\n",
    "print(t5b_2)\n",
    "t5b_2.draw()"
   ]
  },
  {
   "attachments": {},
   "cell_type": "markdown",
   "metadata": {},
   "source": [
    "\n",
    "c. Describe in words a definition of 'nullable in g' along these lines:\n",
    "\n",
    "    symbol x is nullable in g iff there is a production x -> rhs in g such that one of the following conditions are met\n",
    "        1. rhs is [] (empty)\n",
    "        2. every element in rhs is nullable\n",
    "\n",
    "(mathematical induction)"
   ]
  },
  {
   "attachments": {},
   "cell_type": "markdown",
   "metadata": {},
   "source": [
    "\n",
    "d. Define in python a function 'nullable' which when appled to a grammar in NLTK\n",
    "format returns the set of nullable symbols.\n",
    "\n",
    "Hint: start with the assumption that no symbols are nullable, then iteratively\n",
    "search for nullable symbols by looking at the productions. A skeleton that does\n",
    "something silly is supplied.\n"
   ]
  },
  {
   "cell_type": "code",
   "execution_count": 51,
   "metadata": {},
   "outputs": [
    {
     "data": {
      "text/plain": [
       "[S -> A S,\n",
       " S -> B S,\n",
       " S -> C S,\n",
       " S -> C,\n",
       " A -> 'a',\n",
       " A -> ,\n",
       " B -> 'b',\n",
       " C -> 'c',\n",
       " B -> A A]"
      ]
     },
     "execution_count": 51,
     "metadata": {},
     "output_type": "execute_result"
    }
   ],
   "source": [
    "gn = nltk.CFG.fromstring(xn)\n",
    "gn.productions()"
   ]
  },
  {
   "cell_type": "code",
   "execution_count": 46,
   "metadata": {},
   "outputs": [],
   "source": [
    "def nullable(g):\n",
    "    set = {p.lhs() for p in g.productions() if p.rhs() == ()}\n",
    "\n",
    "    # repeat \n",
    "    while(True):\n",
    "        initial_len = len(set)\n",
    "        for p in g.productions():\n",
    "            flag = True\n",
    "            # print(p)\n",
    "            for r in p.rhs():\n",
    "                # print(r)\n",
    "                if(r not in set):\n",
    "                    # print(f\"not in list: {r}\")\n",
    "                    flag = False\n",
    "                    break\n",
    "            if(flag): set.add(p.lhs())\n",
    "\n",
    "        # until no new elements are added to the set\n",
    "        if len(set) == initial_len:\n",
    "            break\n",
    "    \n",
    "    return set\n"
   ]
  },
  {
   "cell_type": "markdown",
   "metadata": {},
   "source": [
    "\n",
    "e. Test your function on some sample grammars including gn."
   ]
  },
  {
   "cell_type": "code",
   "execution_count": 47,
   "metadata": {},
   "outputs": [
    {
     "data": {
      "text/plain": [
       "{A, B}"
      ]
     },
     "execution_count": 47,
     "metadata": {},
     "output_type": "execute_result"
    }
   ],
   "source": [
    "nullable(gn)"
   ]
  },
  {
   "cell_type": "code",
   "execution_count": 56,
   "metadata": {},
   "outputs": [
    {
     "data": {
      "text/plain": [
       "{A, B, D}"
      ]
     },
     "execution_count": 56,
     "metadata": {},
     "output_type": "execute_result"
    }
   ],
   "source": [
    "x1 = \"\"\" \n",
    "S -> A S\n",
    "S -> B S\n",
    "S -> C S\n",
    "S -> C\n",
    "A -> 'a'\n",
    "A ->\n",
    "B -> 'b'\n",
    "C -> 'c'\n",
    "B -> A A\n",
    "S -> D S\n",
    "D -> B\n",
    "\"\"\"\n",
    "g1 = nltk.CFG.fromstring(x1)\n",
    "g1.productions()\n",
    "nullable(g1)"
   ]
  }
 ],
 "metadata": {
  "kernelspec": {
   "display_name": "CompLing",
   "language": "python",
   "name": "python3"
  },
  "language_info": {
   "codemirror_mode": {
    "name": "ipython",
    "version": 3
   },
   "file_extension": ".py",
   "mimetype": "text/x-python",
   "name": "python",
   "nbconvert_exporter": "python",
   "pygments_lexer": "ipython3",
   "version": "3.10.9"
  },
  "orig_nbformat": 4,
  "vscode": {
   "interpreter": {
    "hash": "6efd08fb7d61c09f4aaea9e8ceb0bf572fefe064d17a4cedc1b735c081f854a6"
   }
  }
 },
 "nbformat": 4,
 "nbformat_minor": 2
}
